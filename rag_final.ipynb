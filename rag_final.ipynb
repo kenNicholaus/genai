{
 "cells": [
  {
   "cell_type": "code",
   "execution_count": 1,
   "id": "xQy87kyvoCYMJjmgVjNeVIrZ",
   "metadata": {
    "colab": {
     "base_uri": "https://localhost:8080/",
     "height": 1000
    },
    "executionInfo": {
     "elapsed": 102195,
     "status": "ok",
     "timestamp": 1713459090440,
     "user": {
      "displayName": "",
      "userId": ""
     },
     "user_tz": 240
    },
    "id": "xQy87kyvoCYMJjmgVjNeVIrZ",
    "outputId": "c52a93ea-b210-4923-a401-945f209a1bbb",
    "tags": []
   },
   "outputs": [
    {
     "name": "stdout",
     "output_type": "stream",
     "text": [
      "Requirement already satisfied: google-cloud-aiplatform in /usr/local/lib/python3.10/dist-packages (1.44.0)\n",
      "Collecting google-cloud-aiplatform\n",
      "  Downloading google_cloud_aiplatform-1.48.0-py2.py3-none-any.whl (4.8 MB)\n",
      "\u001b[2K     \u001b[90m━━━━━━━━━━━━━━━━━━━━━━━━━━━━━━━━━━━━━━━━\u001b[0m \u001b[32m4.8/4.8 MB\u001b[0m \u001b[31m15.6 MB/s\u001b[0m eta \u001b[36m0:00:00\u001b[0m\n",
      "\u001b[?25hRequirement already satisfied: google-cloud-storage in /usr/local/lib/python3.10/dist-packages (2.8.0)\n",
      "Collecting google-cloud-storage\n",
      "  Downloading google_cloud_storage-2.16.0-py2.py3-none-any.whl (125 kB)\n",
      "\u001b[2K     \u001b[90m━━━━━━━━━━━━━━━━━━━━━━━━━━━━━━━━━━━━━━━━\u001b[0m \u001b[32m125.6/125.6 kB\u001b[0m \u001b[31m16.4 MB/s\u001b[0m eta \u001b[36m0:00:00\u001b[0m\n",
      "\u001b[?25hRequirement already satisfied: google-api-core[grpc]!=2.0.*,!=2.1.*,!=2.2.*,!=2.3.*,!=2.4.*,!=2.5.*,!=2.6.*,!=2.7.*,<3.0.0dev,>=1.34.1 in /usr/local/lib/python3.10/dist-packages (from google-cloud-aiplatform) (2.11.1)\n",
      "Requirement already satisfied: google-auth<3.0.0dev,>=2.14.1 in /usr/local/lib/python3.10/dist-packages (from google-cloud-aiplatform) (2.27.0)\n",
      "Requirement already satisfied: proto-plus<2.0.0dev,>=1.22.0 in /usr/local/lib/python3.10/dist-packages (from google-cloud-aiplatform) (1.23.0)\n",
      "Requirement already satisfied: protobuf!=3.20.0,!=3.20.1,!=4.21.0,!=4.21.1,!=4.21.2,!=4.21.3,!=4.21.4,!=4.21.5,<5.0.0dev,>=3.19.5 in /usr/local/lib/python3.10/dist-packages (from google-cloud-aiplatform) (3.20.3)\n",
      "Requirement already satisfied: packaging>=14.3 in /usr/local/lib/python3.10/dist-packages (from google-cloud-aiplatform) (24.0)\n",
      "Requirement already satisfied: google-cloud-bigquery!=3.20.0,<4.0.0dev,>=1.15.0 in /usr/local/lib/python3.10/dist-packages (from google-cloud-aiplatform) (3.12.0)\n",
      "Requirement already satisfied: google-cloud-resource-manager<3.0.0dev,>=1.3.3 in /usr/local/lib/python3.10/dist-packages (from google-cloud-aiplatform) (1.12.3)\n",
      "Requirement already satisfied: shapely<3.0.0dev in /usr/local/lib/python3.10/dist-packages (from google-cloud-aiplatform) (2.0.3)\n",
      "Requirement already satisfied: pydantic<3 in /usr/local/lib/python3.10/dist-packages (from google-cloud-aiplatform) (1.10.14)\n",
      "Collecting docstring-parser<1 (from google-cloud-aiplatform)\n",
      "  Downloading docstring_parser-0.16-py3-none-any.whl (36 kB)\n",
      "Collecting google-api-core<3.0.0dev,>=2.15.0 (from google-cloud-storage)\n",
      "  Downloading google_api_core-2.18.0-py3-none-any.whl (138 kB)\n",
      "\u001b[2K     \u001b[90m━━━━━━━━━━━━━━━━━━━━━━━━━━━━━━━━━━━━━━━━\u001b[0m \u001b[32m138.3/138.3 kB\u001b[0m \u001b[31m18.7 MB/s\u001b[0m eta \u001b[36m0:00:00\u001b[0m\n",
      "\u001b[?25hRequirement already satisfied: google-cloud-core<3.0dev,>=2.3.0 in /usr/local/lib/python3.10/dist-packages (from google-cloud-storage) (2.3.3)\n",
      "Requirement already satisfied: google-resumable-media>=2.6.0 in /usr/local/lib/python3.10/dist-packages (from google-cloud-storage) (2.7.0)\n",
      "Requirement already satisfied: requests<3.0.0dev,>=2.18.0 in /usr/local/lib/python3.10/dist-packages (from google-cloud-storage) (2.31.0)\n",
      "Requirement already satisfied: google-crc32c<2.0dev,>=1.0 in /usr/local/lib/python3.10/dist-packages (from google-cloud-storage) (1.5.0)\n",
      "Requirement already satisfied: googleapis-common-protos<2.0.dev0,>=1.56.2 in /usr/local/lib/python3.10/dist-packages (from google-api-core<3.0.0dev,>=2.15.0->google-cloud-storage) (1.63.0)\n",
      "INFO: pip is looking at multiple versions of google-api-core[grpc] to determine which version is compatible with other requirements. This could take a while.\n",
      "Requirement already satisfied: grpcio<2.0dev,>=1.33.2 in /usr/local/lib/python3.10/dist-packages (from google-api-core<3.0.0dev,>=2.15.0->google-cloud-storage) (1.62.1)\n",
      "Requirement already satisfied: grpcio-status<2.0.dev0,>=1.33.2 in /usr/local/lib/python3.10/dist-packages (from google-api-core<3.0.0dev,>=2.15.0->google-cloud-storage) (1.48.2)\n",
      "Requirement already satisfied: cachetools<6.0,>=2.0.0 in /usr/local/lib/python3.10/dist-packages (from google-auth<3.0.0dev,>=2.14.1->google-cloud-aiplatform) (5.3.3)\n",
      "Requirement already satisfied: pyasn1-modules>=0.2.1 in /usr/local/lib/python3.10/dist-packages (from google-auth<3.0.0dev,>=2.14.1->google-cloud-aiplatform) (0.3.0)\n",
      "Requirement already satisfied: rsa<5,>=3.1.4 in /usr/local/lib/python3.10/dist-packages (from google-auth<3.0.0dev,>=2.14.1->google-cloud-aiplatform) (4.9)\n",
      "Requirement already satisfied: python-dateutil<3.0dev,>=2.7.2 in /usr/local/lib/python3.10/dist-packages (from google-cloud-bigquery!=3.20.0,<4.0.0dev,>=1.15.0->google-cloud-aiplatform) (2.8.2)\n",
      "Requirement already satisfied: grpc-google-iam-v1<1.0.0dev,>=0.12.4 in /usr/local/lib/python3.10/dist-packages (from google-cloud-resource-manager<3.0.0dev,>=1.3.3->google-cloud-aiplatform) (0.13.0)\n",
      "Requirement already satisfied: typing-extensions>=4.2.0 in /usr/local/lib/python3.10/dist-packages (from pydantic<3->google-cloud-aiplatform) (4.10.0)\n",
      "Requirement already satisfied: charset-normalizer<4,>=2 in /usr/local/lib/python3.10/dist-packages (from requests<3.0.0dev,>=2.18.0->google-cloud-storage) (3.3.2)\n",
      "Requirement already satisfied: idna<4,>=2.5 in /usr/local/lib/python3.10/dist-packages (from requests<3.0.0dev,>=2.18.0->google-cloud-storage) (3.6)\n",
      "Requirement already satisfied: urllib3<3,>=1.21.1 in /usr/local/lib/python3.10/dist-packages (from requests<3.0.0dev,>=2.18.0->google-cloud-storage) (2.0.7)\n",
      "Requirement already satisfied: certifi>=2017.4.17 in /usr/local/lib/python3.10/dist-packages (from requests<3.0.0dev,>=2.18.0->google-cloud-storage) (2024.2.2)\n",
      "Requirement already satisfied: numpy<2,>=1.14 in /usr/local/lib/python3.10/dist-packages (from shapely<3.0.0dev->google-cloud-aiplatform) (1.25.2)\n",
      "Requirement already satisfied: pyasn1<0.6.0,>=0.4.6 in /usr/local/lib/python3.10/dist-packages (from pyasn1-modules>=0.2.1->google-auth<3.0.0dev,>=2.14.1->google-cloud-aiplatform) (0.5.1)\n",
      "Requirement already satisfied: six>=1.5 in /usr/local/lib/python3.10/dist-packages (from python-dateutil<3.0dev,>=2.7.2->google-cloud-bigquery!=3.20.0,<4.0.0dev,>=1.15.0->google-cloud-aiplatform) (1.16.0)\n",
      "Installing collected packages: docstring-parser, google-api-core, google-cloud-storage, google-cloud-aiplatform\n",
      "\u001b[33m  WARNING: The script tb-gcp-uploader is installed in '/root/.local/bin' which is not on PATH.\n",
      "  Consider adding this directory to PATH or, if you prefer to suppress this warning, use --no-warn-script-location.\u001b[0m\u001b[33m\n",
      "\u001b[0mSuccessfully installed docstring-parser-0.16 google-api-core-2.18.0 google-cloud-aiplatform-1.48.0 google-cloud-storage-2.16.0\n"
     ]
    },
    {
     "data": {
      "application/vnd.colab-display-data+json": {
       "id": "a7dea7fb4b504e2cb71d606413345393",
       "pip_warning": {
        "packages": [
         "google"
        ]
       }
      }
     },
     "metadata": {},
     "output_type": "display_data"
    },
    {
     "name": "stdout",
     "output_type": "stream",
     "text": [
      "Collecting langchain_community\n",
      "  Downloading langchain_community-0.0.33-py3-none-any.whl (1.9 MB)\n",
      "\u001b[2K     \u001b[90m━━━━━━━━━━━━━━━━━━━━━━━━━━━━━━━━━━━━━━━━\u001b[0m \u001b[32m1.9/1.9 MB\u001b[0m \u001b[31m8.4 MB/s\u001b[0m eta \u001b[36m0:00:00\u001b[0m\n",
      "\u001b[?25hRequirement already satisfied: PyYAML>=5.3 in /usr/local/lib/python3.10/dist-packages (from langchain_community) (6.0.1)\n",
      "Requirement already satisfied: SQLAlchemy<3,>=1.4 in /usr/local/lib/python3.10/dist-packages (from langchain_community) (2.0.29)\n",
      "Requirement already satisfied: aiohttp<4.0.0,>=3.8.3 in /usr/local/lib/python3.10/dist-packages (from langchain_community) (3.9.3)\n",
      "Collecting dataclasses-json<0.7,>=0.5.7 (from langchain_community)\n",
      "  Downloading dataclasses_json-0.6.4-py3-none-any.whl (28 kB)\n",
      "Collecting langchain-core<0.2.0,>=0.1.43 (from langchain_community)\n",
      "  Downloading langchain_core-0.1.44-py3-none-any.whl (290 kB)\n",
      "\u001b[2K     \u001b[90m━━━━━━━━━━━━━━━━━━━━━━━━━━━━━━━━━━━━━━━━\u001b[0m \u001b[32m290.2/290.2 kB\u001b[0m \u001b[31m16.0 MB/s\u001b[0m eta \u001b[36m0:00:00\u001b[0m\n",
      "\u001b[?25hCollecting langsmith<0.2.0,>=0.1.0 (from langchain_community)\n",
      "  Downloading langsmith-0.1.48-py3-none-any.whl (113 kB)\n",
      "\u001b[2K     \u001b[90m━━━━━━━━━━━━━━━━━━━━━━━━━━━━━━━━━━━━━━━━\u001b[0m \u001b[32m113.7/113.7 kB\u001b[0m \u001b[31m14.4 MB/s\u001b[0m eta \u001b[36m0:00:00\u001b[0m\n",
      "\u001b[?25hRequirement already satisfied: numpy<2,>=1 in /usr/local/lib/python3.10/dist-packages (from langchain_community) (1.25.2)\n",
      "Requirement already satisfied: requests<3,>=2 in /usr/local/lib/python3.10/dist-packages (from langchain_community) (2.31.0)\n",
      "Requirement already satisfied: tenacity<9.0.0,>=8.1.0 in /usr/local/lib/python3.10/dist-packages (from langchain_community) (8.2.3)\n",
      "Requirement already satisfied: aiosignal>=1.1.2 in /usr/local/lib/python3.10/dist-packages (from aiohttp<4.0.0,>=3.8.3->langchain_community) (1.3.1)\n",
      "Requirement already satisfied: attrs>=17.3.0 in /usr/local/lib/python3.10/dist-packages (from aiohttp<4.0.0,>=3.8.3->langchain_community) (23.2.0)\n",
      "Requirement already satisfied: frozenlist>=1.1.1 in /usr/local/lib/python3.10/dist-packages (from aiohttp<4.0.0,>=3.8.3->langchain_community) (1.4.1)\n",
      "Requirement already satisfied: multidict<7.0,>=4.5 in /usr/local/lib/python3.10/dist-packages (from aiohttp<4.0.0,>=3.8.3->langchain_community) (6.0.5)\n",
      "Requirement already satisfied: yarl<2.0,>=1.0 in /usr/local/lib/python3.10/dist-packages (from aiohttp<4.0.0,>=3.8.3->langchain_community) (1.9.4)\n",
      "Requirement already satisfied: async-timeout<5.0,>=4.0 in /usr/local/lib/python3.10/dist-packages (from aiohttp<4.0.0,>=3.8.3->langchain_community) (4.0.3)\n",
      "Collecting marshmallow<4.0.0,>=3.18.0 (from dataclasses-json<0.7,>=0.5.7->langchain_community)\n",
      "  Downloading marshmallow-3.21.1-py3-none-any.whl (49 kB)\n",
      "\u001b[2K     \u001b[90m━━━━━━━━━━━━━━━━━━━━━━━━━━━━━━━━━━━━━━━━\u001b[0m \u001b[32m49.4/49.4 kB\u001b[0m \u001b[31m6.9 MB/s\u001b[0m eta \u001b[36m0:00:00\u001b[0m\n",
      "\u001b[?25hCollecting typing-inspect<1,>=0.4.0 (from dataclasses-json<0.7,>=0.5.7->langchain_community)\n",
      "  Downloading typing_inspect-0.9.0-py3-none-any.whl (8.8 kB)\n",
      "Collecting jsonpatch<2.0,>=1.33 (from langchain-core<0.2.0,>=0.1.43->langchain_community)\n",
      "  Downloading jsonpatch-1.33-py2.py3-none-any.whl (12 kB)\n",
      "Collecting packaging<24.0,>=23.2 (from langchain-core<0.2.0,>=0.1.43->langchain_community)\n",
      "  Downloading packaging-23.2-py3-none-any.whl (53 kB)\n",
      "\u001b[2K     \u001b[90m━━━━━━━━━━━━━━━━━━━━━━━━━━━━━━━━━━━━━━━━\u001b[0m \u001b[32m53.0/53.0 kB\u001b[0m \u001b[31m8.0 MB/s\u001b[0m eta \u001b[36m0:00:00\u001b[0m\n",
      "\u001b[?25hRequirement already satisfied: pydantic<3,>=1 in /usr/local/lib/python3.10/dist-packages (from langchain-core<0.2.0,>=0.1.43->langchain_community) (1.10.14)\n",
      "Collecting orjson<4.0.0,>=3.9.14 (from langsmith<0.2.0,>=0.1.0->langchain_community)\n",
      "  Downloading orjson-3.10.1-cp310-cp310-manylinux_2_17_x86_64.manylinux2014_x86_64.whl (141 kB)\n",
      "\u001b[2K     \u001b[90m━━━━━━━━━━━━━━━━━━━━━━━━━━━━━━━━━━━━━━━━\u001b[0m \u001b[32m141.1/141.1 kB\u001b[0m \u001b[31m16.6 MB/s\u001b[0m eta \u001b[36m0:00:00\u001b[0m\n",
      "\u001b[?25hRequirement already satisfied: charset-normalizer<4,>=2 in /usr/local/lib/python3.10/dist-packages (from requests<3,>=2->langchain_community) (3.3.2)\n",
      "Requirement already satisfied: idna<4,>=2.5 in /usr/local/lib/python3.10/dist-packages (from requests<3,>=2->langchain_community) (3.6)\n",
      "Requirement already satisfied: urllib3<3,>=1.21.1 in /usr/local/lib/python3.10/dist-packages (from requests<3,>=2->langchain_community) (2.0.7)\n",
      "Requirement already satisfied: certifi>=2017.4.17 in /usr/local/lib/python3.10/dist-packages (from requests<3,>=2->langchain_community) (2024.2.2)\n",
      "Requirement already satisfied: typing-extensions>=4.6.0 in /usr/local/lib/python3.10/dist-packages (from SQLAlchemy<3,>=1.4->langchain_community) (4.10.0)\n",
      "Requirement already satisfied: greenlet!=0.4.17 in /usr/local/lib/python3.10/dist-packages (from SQLAlchemy<3,>=1.4->langchain_community) (3.0.3)\n",
      "Collecting jsonpointer>=1.9 (from jsonpatch<2.0,>=1.33->langchain-core<0.2.0,>=0.1.43->langchain_community)\n",
      "  Downloading jsonpointer-2.4-py2.py3-none-any.whl (7.8 kB)\n",
      "Collecting mypy-extensions>=0.3.0 (from typing-inspect<1,>=0.4.0->dataclasses-json<0.7,>=0.5.7->langchain_community)\n",
      "  Downloading mypy_extensions-1.0.0-py3-none-any.whl (4.7 kB)\n",
      "Installing collected packages: packaging, orjson, mypy-extensions, jsonpointer, typing-inspect, marshmallow, langsmith, jsonpatch, langchain-core, dataclasses-json, langchain_community\n",
      "  Attempting uninstall: packaging\n",
      "    Found existing installation: packaging 24.0\n",
      "    Uninstalling packaging-24.0:\n",
      "      Successfully uninstalled packaging-24.0\n",
      "Successfully installed dataclasses-json-0.6.4 jsonpatch-1.33 jsonpointer-2.4 langchain-core-0.1.44 langchain_community-0.0.33 langsmith-0.1.48 marshmallow-3.21.1 mypy-extensions-1.0.0 orjson-3.10.1 packaging-23.2 typing-inspect-0.9.0\n",
      "Requirement already satisfied: google-cloud-aiplatform in /root/.local/lib/python3.10/site-packages (1.48.0)\n",
      "Requirement already satisfied: google-api-core[grpc]!=2.0.*,!=2.1.*,!=2.2.*,!=2.3.*,!=2.4.*,!=2.5.*,!=2.6.*,!=2.7.*,<3.0.0dev,>=1.34.1 in /root/.local/lib/python3.10/site-packages (from google-cloud-aiplatform) (2.18.0)\n",
      "Requirement already satisfied: google-auth<3.0.0dev,>=2.14.1 in /usr/local/lib/python3.10/dist-packages (from google-cloud-aiplatform) (2.27.0)\n",
      "Requirement already satisfied: proto-plus<2.0.0dev,>=1.22.0 in /usr/local/lib/python3.10/dist-packages (from google-cloud-aiplatform) (1.23.0)\n",
      "Requirement already satisfied: protobuf!=3.20.0,!=3.20.1,!=4.21.0,!=4.21.1,!=4.21.2,!=4.21.3,!=4.21.4,!=4.21.5,<5.0.0dev,>=3.19.5 in /usr/local/lib/python3.10/dist-packages (from google-cloud-aiplatform) (3.20.3)\n",
      "Requirement already satisfied: packaging>=14.3 in /usr/local/lib/python3.10/dist-packages (from google-cloud-aiplatform) (23.2)\n",
      "Requirement already satisfied: google-cloud-storage<3.0.0dev,>=1.32.0 in /root/.local/lib/python3.10/site-packages (from google-cloud-aiplatform) (2.16.0)\n",
      "Requirement already satisfied: google-cloud-bigquery!=3.20.0,<4.0.0dev,>=1.15.0 in /usr/local/lib/python3.10/dist-packages (from google-cloud-aiplatform) (3.12.0)\n",
      "Requirement already satisfied: google-cloud-resource-manager<3.0.0dev,>=1.3.3 in /usr/local/lib/python3.10/dist-packages (from google-cloud-aiplatform) (1.12.3)\n",
      "Requirement already satisfied: shapely<3.0.0dev in /usr/local/lib/python3.10/dist-packages (from google-cloud-aiplatform) (2.0.3)\n",
      "Requirement already satisfied: pydantic<3 in /usr/local/lib/python3.10/dist-packages (from google-cloud-aiplatform) (1.10.14)\n",
      "Requirement already satisfied: docstring-parser<1 in /root/.local/lib/python3.10/site-packages (from google-cloud-aiplatform) (0.16)\n",
      "Requirement already satisfied: googleapis-common-protos<2.0.dev0,>=1.56.2 in /usr/local/lib/python3.10/dist-packages (from google-api-core[grpc]!=2.0.*,!=2.1.*,!=2.2.*,!=2.3.*,!=2.4.*,!=2.5.*,!=2.6.*,!=2.7.*,<3.0.0dev,>=1.34.1->google-cloud-aiplatform) (1.63.0)\n",
      "Requirement already satisfied: requests<3.0.0.dev0,>=2.18.0 in /usr/local/lib/python3.10/dist-packages (from google-api-core[grpc]!=2.0.*,!=2.1.*,!=2.2.*,!=2.3.*,!=2.4.*,!=2.5.*,!=2.6.*,!=2.7.*,<3.0.0dev,>=1.34.1->google-cloud-aiplatform) (2.31.0)\n",
      "Requirement already satisfied: grpcio<2.0dev,>=1.33.2 in /usr/local/lib/python3.10/dist-packages (from google-api-core[grpc]!=2.0.*,!=2.1.*,!=2.2.*,!=2.3.*,!=2.4.*,!=2.5.*,!=2.6.*,!=2.7.*,<3.0.0dev,>=1.34.1->google-cloud-aiplatform) (1.62.1)\n",
      "Requirement already satisfied: grpcio-status<2.0.dev0,>=1.33.2 in /usr/local/lib/python3.10/dist-packages (from google-api-core[grpc]!=2.0.*,!=2.1.*,!=2.2.*,!=2.3.*,!=2.4.*,!=2.5.*,!=2.6.*,!=2.7.*,<3.0.0dev,>=1.34.1->google-cloud-aiplatform) (1.48.2)\n",
      "Requirement already satisfied: cachetools<6.0,>=2.0.0 in /usr/local/lib/python3.10/dist-packages (from google-auth<3.0.0dev,>=2.14.1->google-cloud-aiplatform) (5.3.3)\n",
      "Requirement already satisfied: pyasn1-modules>=0.2.1 in /usr/local/lib/python3.10/dist-packages (from google-auth<3.0.0dev,>=2.14.1->google-cloud-aiplatform) (0.3.0)\n",
      "Requirement already satisfied: rsa<5,>=3.1.4 in /usr/local/lib/python3.10/dist-packages (from google-auth<3.0.0dev,>=2.14.1->google-cloud-aiplatform) (4.9)\n",
      "Requirement already satisfied: google-cloud-core<3.0.0dev,>=1.6.0 in /usr/local/lib/python3.10/dist-packages (from google-cloud-bigquery!=3.20.0,<4.0.0dev,>=1.15.0->google-cloud-aiplatform) (2.3.3)\n",
      "Requirement already satisfied: google-resumable-media<3.0dev,>=0.6.0 in /usr/local/lib/python3.10/dist-packages (from google-cloud-bigquery!=3.20.0,<4.0.0dev,>=1.15.0->google-cloud-aiplatform) (2.7.0)\n",
      "Requirement already satisfied: python-dateutil<3.0dev,>=2.7.2 in /usr/local/lib/python3.10/dist-packages (from google-cloud-bigquery!=3.20.0,<4.0.0dev,>=1.15.0->google-cloud-aiplatform) (2.8.2)\n",
      "Requirement already satisfied: grpc-google-iam-v1<1.0.0dev,>=0.12.4 in /usr/local/lib/python3.10/dist-packages (from google-cloud-resource-manager<3.0.0dev,>=1.3.3->google-cloud-aiplatform) (0.13.0)\n",
      "Requirement already satisfied: google-crc32c<2.0dev,>=1.0 in /usr/local/lib/python3.10/dist-packages (from google-cloud-storage<3.0.0dev,>=1.32.0->google-cloud-aiplatform) (1.5.0)\n",
      "Requirement already satisfied: typing-extensions>=4.2.0 in /usr/local/lib/python3.10/dist-packages (from pydantic<3->google-cloud-aiplatform) (4.10.0)\n",
      "Requirement already satisfied: numpy<2,>=1.14 in /usr/local/lib/python3.10/dist-packages (from shapely<3.0.0dev->google-cloud-aiplatform) (1.25.2)\n",
      "Requirement already satisfied: pyasn1<0.6.0,>=0.4.6 in /usr/local/lib/python3.10/dist-packages (from pyasn1-modules>=0.2.1->google-auth<3.0.0dev,>=2.14.1->google-cloud-aiplatform) (0.5.1)\n",
      "Requirement already satisfied: six>=1.5 in /usr/local/lib/python3.10/dist-packages (from python-dateutil<3.0dev,>=2.7.2->google-cloud-bigquery!=3.20.0,<4.0.0dev,>=1.15.0->google-cloud-aiplatform) (1.16.0)\n",
      "Requirement already satisfied: charset-normalizer<4,>=2 in /usr/local/lib/python3.10/dist-packages (from requests<3.0.0.dev0,>=2.18.0->google-api-core[grpc]!=2.0.*,!=2.1.*,!=2.2.*,!=2.3.*,!=2.4.*,!=2.5.*,!=2.6.*,!=2.7.*,<3.0.0dev,>=1.34.1->google-cloud-aiplatform) (3.3.2)\n",
      "Requirement already satisfied: idna<4,>=2.5 in /usr/local/lib/python3.10/dist-packages (from requests<3.0.0.dev0,>=2.18.0->google-api-core[grpc]!=2.0.*,!=2.1.*,!=2.2.*,!=2.3.*,!=2.4.*,!=2.5.*,!=2.6.*,!=2.7.*,<3.0.0dev,>=1.34.1->google-cloud-aiplatform) (3.6)\n",
      "Requirement already satisfied: urllib3<3,>=1.21.1 in /usr/local/lib/python3.10/dist-packages (from requests<3.0.0.dev0,>=2.18.0->google-api-core[grpc]!=2.0.*,!=2.1.*,!=2.2.*,!=2.3.*,!=2.4.*,!=2.5.*,!=2.6.*,!=2.7.*,<3.0.0dev,>=1.34.1->google-cloud-aiplatform) (2.0.7)\n",
      "Requirement already satisfied: certifi>=2017.4.17 in /usr/local/lib/python3.10/dist-packages (from requests<3.0.0.dev0,>=2.18.0->google-api-core[grpc]!=2.0.*,!=2.1.*,!=2.2.*,!=2.3.*,!=2.4.*,!=2.5.*,!=2.6.*,!=2.7.*,<3.0.0dev,>=1.34.1->google-cloud-aiplatform) (2024.2.2)\n",
      "Requirement already satisfied: google-cloud-storage in /root/.local/lib/python3.10/site-packages (2.16.0)\n",
      "Requirement already satisfied: google-auth<3.0dev,>=2.26.1 in /usr/local/lib/python3.10/dist-packages (from google-cloud-storage) (2.27.0)\n",
      "Requirement already satisfied: google-api-core<3.0.0dev,>=2.15.0 in /root/.local/lib/python3.10/site-packages (from google-cloud-storage) (2.18.0)\n",
      "Requirement already satisfied: google-cloud-core<3.0dev,>=2.3.0 in /usr/local/lib/python3.10/dist-packages (from google-cloud-storage) (2.3.3)\n",
      "Requirement already satisfied: google-resumable-media>=2.6.0 in /usr/local/lib/python3.10/dist-packages (from google-cloud-storage) (2.7.0)\n",
      "Requirement already satisfied: requests<3.0.0dev,>=2.18.0 in /usr/local/lib/python3.10/dist-packages (from google-cloud-storage) (2.31.0)\n",
      "Requirement already satisfied: google-crc32c<2.0dev,>=1.0 in /usr/local/lib/python3.10/dist-packages (from google-cloud-storage) (1.5.0)\n",
      "Requirement already satisfied: googleapis-common-protos<2.0.dev0,>=1.56.2 in /usr/local/lib/python3.10/dist-packages (from google-api-core<3.0.0dev,>=2.15.0->google-cloud-storage) (1.63.0)\n",
      "Requirement already satisfied: protobuf!=3.20.0,!=3.20.1,!=4.21.0,!=4.21.1,!=4.21.2,!=4.21.3,!=4.21.4,!=4.21.5,<5.0.0.dev0,>=3.19.5 in /usr/local/lib/python3.10/dist-packages (from google-api-core<3.0.0dev,>=2.15.0->google-cloud-storage) (3.20.3)\n",
      "Requirement already satisfied: proto-plus<2.0.0dev,>=1.22.3 in /usr/local/lib/python3.10/dist-packages (from google-api-core<3.0.0dev,>=2.15.0->google-cloud-storage) (1.23.0)\n",
      "Requirement already satisfied: cachetools<6.0,>=2.0.0 in /usr/local/lib/python3.10/dist-packages (from google-auth<3.0dev,>=2.26.1->google-cloud-storage) (5.3.3)\n",
      "Requirement already satisfied: pyasn1-modules>=0.2.1 in /usr/local/lib/python3.10/dist-packages (from google-auth<3.0dev,>=2.26.1->google-cloud-storage) (0.3.0)\n",
      "Requirement already satisfied: rsa<5,>=3.1.4 in /usr/local/lib/python3.10/dist-packages (from google-auth<3.0dev,>=2.26.1->google-cloud-storage) (4.9)\n",
      "Requirement already satisfied: charset-normalizer<4,>=2 in /usr/local/lib/python3.10/dist-packages (from requests<3.0.0dev,>=2.18.0->google-cloud-storage) (3.3.2)\n",
      "Requirement already satisfied: idna<4,>=2.5 in /usr/local/lib/python3.10/dist-packages (from requests<3.0.0dev,>=2.18.0->google-cloud-storage) (3.6)\n",
      "Requirement already satisfied: urllib3<3,>=1.21.1 in /usr/local/lib/python3.10/dist-packages (from requests<3.0.0dev,>=2.18.0->google-cloud-storage) (2.0.7)\n",
      "Requirement already satisfied: certifi>=2017.4.17 in /usr/local/lib/python3.10/dist-packages (from requests<3.0.0dev,>=2.18.0->google-cloud-storage) (2024.2.2)\n",
      "Requirement already satisfied: pyasn1<0.6.0,>=0.4.6 in /usr/local/lib/python3.10/dist-packages (from pyasn1-modules>=0.2.1->google-auth<3.0dev,>=2.26.1->google-cloud-storage) (0.5.1)\n",
      "Requirement already satisfied: langchain_community in /usr/local/lib/python3.10/dist-packages (0.0.33)\n",
      "Requirement already satisfied: PyYAML>=5.3 in /usr/local/lib/python3.10/dist-packages (from langchain_community) (6.0.1)\n",
      "Requirement already satisfied: SQLAlchemy<3,>=1.4 in /usr/local/lib/python3.10/dist-packages (from langchain_community) (2.0.29)\n",
      "Requirement already satisfied: aiohttp<4.0.0,>=3.8.3 in /usr/local/lib/python3.10/dist-packages (from langchain_community) (3.9.3)\n",
      "Requirement already satisfied: dataclasses-json<0.7,>=0.5.7 in /usr/local/lib/python3.10/dist-packages (from langchain_community) (0.6.4)\n",
      "Requirement already satisfied: langchain-core<0.2.0,>=0.1.43 in /usr/local/lib/python3.10/dist-packages (from langchain_community) (0.1.44)\n",
      "Requirement already satisfied: langsmith<0.2.0,>=0.1.0 in /usr/local/lib/python3.10/dist-packages (from langchain_community) (0.1.48)\n",
      "Requirement already satisfied: numpy<2,>=1 in /usr/local/lib/python3.10/dist-packages (from langchain_community) (1.25.2)\n",
      "Requirement already satisfied: requests<3,>=2 in /usr/local/lib/python3.10/dist-packages (from langchain_community) (2.31.0)\n",
      "Requirement already satisfied: tenacity<9.0.0,>=8.1.0 in /usr/local/lib/python3.10/dist-packages (from langchain_community) (8.2.3)\n",
      "Requirement already satisfied: aiosignal>=1.1.2 in /usr/local/lib/python3.10/dist-packages (from aiohttp<4.0.0,>=3.8.3->langchain_community) (1.3.1)\n",
      "Requirement already satisfied: attrs>=17.3.0 in /usr/local/lib/python3.10/dist-packages (from aiohttp<4.0.0,>=3.8.3->langchain_community) (23.2.0)\n",
      "Requirement already satisfied: frozenlist>=1.1.1 in /usr/local/lib/python3.10/dist-packages (from aiohttp<4.0.0,>=3.8.3->langchain_community) (1.4.1)\n",
      "Requirement already satisfied: multidict<7.0,>=4.5 in /usr/local/lib/python3.10/dist-packages (from aiohttp<4.0.0,>=3.8.3->langchain_community) (6.0.5)\n",
      "Requirement already satisfied: yarl<2.0,>=1.0 in /usr/local/lib/python3.10/dist-packages (from aiohttp<4.0.0,>=3.8.3->langchain_community) (1.9.4)\n",
      "Requirement already satisfied: async-timeout<5.0,>=4.0 in /usr/local/lib/python3.10/dist-packages (from aiohttp<4.0.0,>=3.8.3->langchain_community) (4.0.3)\n",
      "Requirement already satisfied: marshmallow<4.0.0,>=3.18.0 in /usr/local/lib/python3.10/dist-packages (from dataclasses-json<0.7,>=0.5.7->langchain_community) (3.21.1)\n",
      "Requirement already satisfied: typing-inspect<1,>=0.4.0 in /usr/local/lib/python3.10/dist-packages (from dataclasses-json<0.7,>=0.5.7->langchain_community) (0.9.0)\n",
      "Requirement already satisfied: jsonpatch<2.0,>=1.33 in /usr/local/lib/python3.10/dist-packages (from langchain-core<0.2.0,>=0.1.43->langchain_community) (1.33)\n",
      "Requirement already satisfied: packaging<24.0,>=23.2 in /usr/local/lib/python3.10/dist-packages (from langchain-core<0.2.0,>=0.1.43->langchain_community) (23.2)\n",
      "Requirement already satisfied: pydantic<3,>=1 in /usr/local/lib/python3.10/dist-packages (from langchain-core<0.2.0,>=0.1.43->langchain_community) (1.10.14)\n",
      "Requirement already satisfied: orjson<4.0.0,>=3.9.14 in /usr/local/lib/python3.10/dist-packages (from langsmith<0.2.0,>=0.1.0->langchain_community) (3.10.1)\n",
      "Requirement already satisfied: charset-normalizer<4,>=2 in /usr/local/lib/python3.10/dist-packages (from requests<3,>=2->langchain_community) (3.3.2)\n",
      "Requirement already satisfied: idna<4,>=2.5 in /usr/local/lib/python3.10/dist-packages (from requests<3,>=2->langchain_community) (3.6)\n",
      "Requirement already satisfied: urllib3<3,>=1.21.1 in /usr/local/lib/python3.10/dist-packages (from requests<3,>=2->langchain_community) (2.0.7)\n",
      "Requirement already satisfied: certifi>=2017.4.17 in /usr/local/lib/python3.10/dist-packages (from requests<3,>=2->langchain_community) (2024.2.2)\n",
      "Requirement already satisfied: typing-extensions>=4.6.0 in /usr/local/lib/python3.10/dist-packages (from SQLAlchemy<3,>=1.4->langchain_community) (4.10.0)\n",
      "Requirement already satisfied: greenlet!=0.4.17 in /usr/local/lib/python3.10/dist-packages (from SQLAlchemy<3,>=1.4->langchain_community) (3.0.3)\n",
      "Requirement already satisfied: jsonpointer>=1.9 in /usr/local/lib/python3.10/dist-packages (from jsonpatch<2.0,>=1.33->langchain-core<0.2.0,>=0.1.43->langchain_community) (2.4)\n",
      "Requirement already satisfied: mypy-extensions>=0.3.0 in /usr/local/lib/python3.10/dist-packages (from typing-inspect<1,>=0.4.0->dataclasses-json<0.7,>=0.5.7->langchain_community) (1.0.0)\n",
      "Collecting langchain\n",
      "  Downloading langchain-0.1.16-py3-none-any.whl (817 kB)\n",
      "\u001b[2K     \u001b[90m━━━━━━━━━━━━━━━━━━━━━━━━━━━━━━━━━━━━━━━━\u001b[0m \u001b[32m817.7/817.7 kB\u001b[0m \u001b[31m4.5 MB/s\u001b[0m eta \u001b[36m0:00:00\u001b[0m\n",
      "\u001b[?25hRequirement already satisfied: PyYAML>=5.3 in /usr/local/lib/python3.10/dist-packages (from langchain) (6.0.1)\n",
      "Requirement already satisfied: SQLAlchemy<3,>=1.4 in /usr/local/lib/python3.10/dist-packages (from langchain) (2.0.29)\n",
      "Requirement already satisfied: aiohttp<4.0.0,>=3.8.3 in /usr/local/lib/python3.10/dist-packages (from langchain) (3.9.3)\n",
      "Requirement already satisfied: async-timeout<5.0.0,>=4.0.0 in /usr/local/lib/python3.10/dist-packages (from langchain) (4.0.3)\n",
      "Requirement already satisfied: dataclasses-json<0.7,>=0.5.7 in /usr/local/lib/python3.10/dist-packages (from langchain) (0.6.4)\n",
      "Requirement already satisfied: jsonpatch<2.0,>=1.33 in /usr/local/lib/python3.10/dist-packages (from langchain) (1.33)\n",
      "Requirement already satisfied: langchain-community<0.1,>=0.0.32 in /usr/local/lib/python3.10/dist-packages (from langchain) (0.0.33)\n",
      "Requirement already satisfied: langchain-core<0.2.0,>=0.1.42 in /usr/local/lib/python3.10/dist-packages (from langchain) (0.1.44)\n",
      "Collecting langchain-text-splitters<0.1,>=0.0.1 (from langchain)\n",
      "  Downloading langchain_text_splitters-0.0.1-py3-none-any.whl (21 kB)\n",
      "Requirement already satisfied: langsmith<0.2.0,>=0.1.17 in /usr/local/lib/python3.10/dist-packages (from langchain) (0.1.48)\n",
      "Requirement already satisfied: numpy<2,>=1 in /usr/local/lib/python3.10/dist-packages (from langchain) (1.25.2)\n",
      "Requirement already satisfied: pydantic<3,>=1 in /usr/local/lib/python3.10/dist-packages (from langchain) (1.10.14)\n",
      "Requirement already satisfied: requests<3,>=2 in /usr/local/lib/python3.10/dist-packages (from langchain) (2.31.0)\n",
      "Requirement already satisfied: tenacity<9.0.0,>=8.1.0 in /usr/local/lib/python3.10/dist-packages (from langchain) (8.2.3)\n",
      "Requirement already satisfied: aiosignal>=1.1.2 in /usr/local/lib/python3.10/dist-packages (from aiohttp<4.0.0,>=3.8.3->langchain) (1.3.1)\n",
      "Requirement already satisfied: attrs>=17.3.0 in /usr/local/lib/python3.10/dist-packages (from aiohttp<4.0.0,>=3.8.3->langchain) (23.2.0)\n",
      "Requirement already satisfied: frozenlist>=1.1.1 in /usr/local/lib/python3.10/dist-packages (from aiohttp<4.0.0,>=3.8.3->langchain) (1.4.1)\n",
      "Requirement already satisfied: multidict<7.0,>=4.5 in /usr/local/lib/python3.10/dist-packages (from aiohttp<4.0.0,>=3.8.3->langchain) (6.0.5)\n",
      "Requirement already satisfied: yarl<2.0,>=1.0 in /usr/local/lib/python3.10/dist-packages (from aiohttp<4.0.0,>=3.8.3->langchain) (1.9.4)\n",
      "Requirement already satisfied: marshmallow<4.0.0,>=3.18.0 in /usr/local/lib/python3.10/dist-packages (from dataclasses-json<0.7,>=0.5.7->langchain) (3.21.1)\n",
      "Requirement already satisfied: typing-inspect<1,>=0.4.0 in /usr/local/lib/python3.10/dist-packages (from dataclasses-json<0.7,>=0.5.7->langchain) (0.9.0)\n",
      "Requirement already satisfied: jsonpointer>=1.9 in /usr/local/lib/python3.10/dist-packages (from jsonpatch<2.0,>=1.33->langchain) (2.4)\n",
      "Requirement already satisfied: packaging<24.0,>=23.2 in /usr/local/lib/python3.10/dist-packages (from langchain-core<0.2.0,>=0.1.42->langchain) (23.2)\n",
      "Requirement already satisfied: orjson<4.0.0,>=3.9.14 in /usr/local/lib/python3.10/dist-packages (from langsmith<0.2.0,>=0.1.17->langchain) (3.10.1)\n",
      "Requirement already satisfied: typing-extensions>=4.2.0 in /usr/local/lib/python3.10/dist-packages (from pydantic<3,>=1->langchain) (4.10.0)\n",
      "Requirement already satisfied: charset-normalizer<4,>=2 in /usr/local/lib/python3.10/dist-packages (from requests<3,>=2->langchain) (3.3.2)\n",
      "Requirement already satisfied: idna<4,>=2.5 in /usr/local/lib/python3.10/dist-packages (from requests<3,>=2->langchain) (3.6)\n",
      "Requirement already satisfied: urllib3<3,>=1.21.1 in /usr/local/lib/python3.10/dist-packages (from requests<3,>=2->langchain) (2.0.7)\n",
      "Requirement already satisfied: certifi>=2017.4.17 in /usr/local/lib/python3.10/dist-packages (from requests<3,>=2->langchain) (2024.2.2)\n",
      "Requirement already satisfied: greenlet!=0.4.17 in /usr/local/lib/python3.10/dist-packages (from SQLAlchemy<3,>=1.4->langchain) (3.0.3)\n",
      "Requirement already satisfied: mypy-extensions>=0.3.0 in /usr/local/lib/python3.10/dist-packages (from typing-inspect<1,>=0.4.0->dataclasses-json<0.7,>=0.5.7->langchain) (1.0.0)\n",
      "Installing collected packages: langchain-text-splitters, langchain\n",
      "Successfully installed langchain-0.1.16 langchain-text-splitters-0.0.1\n",
      "Collecting pypdf\n",
      "  Downloading pypdf-4.2.0-py3-none-any.whl (290 kB)\n",
      "\u001b[2K     \u001b[90m━━━━━━━━━━━━━━━━━━━━━━━━━━━━━━━━━━━━━━━━\u001b[0m \u001b[32m290.4/290.4 kB\u001b[0m \u001b[31m2.1 MB/s\u001b[0m eta \u001b[36m0:00:00\u001b[0m\n",
      "\u001b[?25hRequirement already satisfied: typing_extensions>=4.0 in /usr/local/lib/python3.10/dist-packages (from pypdf) (4.10.0)\n",
      "Installing collected packages: pypdf\n",
      "Successfully installed pypdf-4.2.0\n",
      "Requirement already satisfied: google-cloud-firestore in /usr/local/lib/python3.10/dist-packages (2.11.1)\n",
      "Requirement already satisfied: google-api-core[grpc]!=2.0.*,!=2.1.*,!=2.10.*,!=2.2.*,!=2.3.*,!=2.4.*,!=2.5.*,!=2.6.*,!=2.7.*,!=2.8.*,!=2.9.*,<3.0.0dev,>=1.34.0 in /root/.local/lib/python3.10/site-packages (from google-cloud-firestore) (2.18.0)\n",
      "Requirement already satisfied: google-cloud-core<3.0.0dev,>=1.4.1 in /usr/local/lib/python3.10/dist-packages (from google-cloud-firestore) (2.3.3)\n",
      "Requirement already satisfied: proto-plus<2.0.0dev,>=1.22.0 in /usr/local/lib/python3.10/dist-packages (from google-cloud-firestore) (1.23.0)\n",
      "Requirement already satisfied: protobuf!=3.20.0,!=3.20.1,!=4.21.0,!=4.21.1,!=4.21.2,!=4.21.3,!=4.21.4,!=4.21.5,<5.0.0dev,>=3.19.5 in /usr/local/lib/python3.10/dist-packages (from google-cloud-firestore) (3.20.3)\n",
      "Requirement already satisfied: googleapis-common-protos<2.0.dev0,>=1.56.2 in /usr/local/lib/python3.10/dist-packages (from google-api-core[grpc]!=2.0.*,!=2.1.*,!=2.10.*,!=2.2.*,!=2.3.*,!=2.4.*,!=2.5.*,!=2.6.*,!=2.7.*,!=2.8.*,!=2.9.*,<3.0.0dev,>=1.34.0->google-cloud-firestore) (1.63.0)\n",
      "Requirement already satisfied: google-auth<3.0.dev0,>=2.14.1 in /usr/local/lib/python3.10/dist-packages (from google-api-core[grpc]!=2.0.*,!=2.1.*,!=2.10.*,!=2.2.*,!=2.3.*,!=2.4.*,!=2.5.*,!=2.6.*,!=2.7.*,!=2.8.*,!=2.9.*,<3.0.0dev,>=1.34.0->google-cloud-firestore) (2.27.0)\n",
      "Requirement already satisfied: requests<3.0.0.dev0,>=2.18.0 in /usr/local/lib/python3.10/dist-packages (from google-api-core[grpc]!=2.0.*,!=2.1.*,!=2.10.*,!=2.2.*,!=2.3.*,!=2.4.*,!=2.5.*,!=2.6.*,!=2.7.*,!=2.8.*,!=2.9.*,<3.0.0dev,>=1.34.0->google-cloud-firestore) (2.31.0)\n",
      "Requirement already satisfied: grpcio<2.0dev,>=1.33.2 in /usr/local/lib/python3.10/dist-packages (from google-api-core[grpc]!=2.0.*,!=2.1.*,!=2.10.*,!=2.2.*,!=2.3.*,!=2.4.*,!=2.5.*,!=2.6.*,!=2.7.*,!=2.8.*,!=2.9.*,<3.0.0dev,>=1.34.0->google-cloud-firestore) (1.62.1)\n",
      "Requirement already satisfied: grpcio-status<2.0.dev0,>=1.33.2 in /usr/local/lib/python3.10/dist-packages (from google-api-core[grpc]!=2.0.*,!=2.1.*,!=2.10.*,!=2.2.*,!=2.3.*,!=2.4.*,!=2.5.*,!=2.6.*,!=2.7.*,!=2.8.*,!=2.9.*,<3.0.0dev,>=1.34.0->google-cloud-firestore) (1.48.2)\n",
      "Requirement already satisfied: cachetools<6.0,>=2.0.0 in /usr/local/lib/python3.10/dist-packages (from google-auth<3.0.dev0,>=2.14.1->google-api-core[grpc]!=2.0.*,!=2.1.*,!=2.10.*,!=2.2.*,!=2.3.*,!=2.4.*,!=2.5.*,!=2.6.*,!=2.7.*,!=2.8.*,!=2.9.*,<3.0.0dev,>=1.34.0->google-cloud-firestore) (5.3.3)\n",
      "Requirement already satisfied: pyasn1-modules>=0.2.1 in /usr/local/lib/python3.10/dist-packages (from google-auth<3.0.dev0,>=2.14.1->google-api-core[grpc]!=2.0.*,!=2.1.*,!=2.10.*,!=2.2.*,!=2.3.*,!=2.4.*,!=2.5.*,!=2.6.*,!=2.7.*,!=2.8.*,!=2.9.*,<3.0.0dev,>=1.34.0->google-cloud-firestore) (0.3.0)\n",
      "Requirement already satisfied: rsa<5,>=3.1.4 in /usr/local/lib/python3.10/dist-packages (from google-auth<3.0.dev0,>=2.14.1->google-api-core[grpc]!=2.0.*,!=2.1.*,!=2.10.*,!=2.2.*,!=2.3.*,!=2.4.*,!=2.5.*,!=2.6.*,!=2.7.*,!=2.8.*,!=2.9.*,<3.0.0dev,>=1.34.0->google-cloud-firestore) (4.9)\n",
      "Requirement already satisfied: charset-normalizer<4,>=2 in /usr/local/lib/python3.10/dist-packages (from requests<3.0.0.dev0,>=2.18.0->google-api-core[grpc]!=2.0.*,!=2.1.*,!=2.10.*,!=2.2.*,!=2.3.*,!=2.4.*,!=2.5.*,!=2.6.*,!=2.7.*,!=2.8.*,!=2.9.*,<3.0.0dev,>=1.34.0->google-cloud-firestore) (3.3.2)\n",
      "Requirement already satisfied: idna<4,>=2.5 in /usr/local/lib/python3.10/dist-packages (from requests<3.0.0.dev0,>=2.18.0->google-api-core[grpc]!=2.0.*,!=2.1.*,!=2.10.*,!=2.2.*,!=2.3.*,!=2.4.*,!=2.5.*,!=2.6.*,!=2.7.*,!=2.8.*,!=2.9.*,<3.0.0dev,>=1.34.0->google-cloud-firestore) (3.6)\n",
      "Requirement already satisfied: urllib3<3,>=1.21.1 in /usr/local/lib/python3.10/dist-packages (from requests<3.0.0.dev0,>=2.18.0->google-api-core[grpc]!=2.0.*,!=2.1.*,!=2.10.*,!=2.2.*,!=2.3.*,!=2.4.*,!=2.5.*,!=2.6.*,!=2.7.*,!=2.8.*,!=2.9.*,<3.0.0dev,>=1.34.0->google-cloud-firestore) (2.0.7)\n",
      "Requirement already satisfied: certifi>=2017.4.17 in /usr/local/lib/python3.10/dist-packages (from requests<3.0.0.dev0,>=2.18.0->google-api-core[grpc]!=2.0.*,!=2.1.*,!=2.10.*,!=2.2.*,!=2.3.*,!=2.4.*,!=2.5.*,!=2.6.*,!=2.7.*,!=2.8.*,!=2.9.*,<3.0.0dev,>=1.34.0->google-cloud-firestore) (2024.2.2)\n",
      "Requirement already satisfied: pyasn1<0.6.0,>=0.4.6 in /usr/local/lib/python3.10/dist-packages (from pyasn1-modules>=0.2.1->google-auth<3.0.dev0,>=2.14.1->google-api-core[grpc]!=2.0.*,!=2.1.*,!=2.10.*,!=2.2.*,!=2.3.*,!=2.4.*,!=2.5.*,!=2.6.*,!=2.7.*,!=2.8.*,!=2.9.*,<3.0.0dev,>=1.34.0->google-cloud-firestore) (0.5.1)\n"
     ]
    }
   ],
   "source": [
    "!pip install --upgrade --user google-cloud-aiplatform google-cloud-storage\n",
    "!pip install langchain_community\n",
    "!pip install google-cloud-aiplatform\n",
    "!pip install google-cloud-storage\n",
    "!pip install langchain_community\n",
    "!pip install langchain\n",
    "!pip install pypdf\n",
    "!pip install google-cloud-firestore"
   ]
  },
  {
   "cell_type": "code",
   "execution_count": 1,
   "id": "2fmi2iRyGXbA",
   "metadata": {
    "colab": {
     "base_uri": "https://localhost:8080/"
    },
    "executionInfo": {
     "elapsed": 2,
     "status": "ok",
     "timestamp": 1713459469571,
     "user": {
      "displayName": "",
      "userId": ""
     },
     "user_tz": 240
    },
    "id": "2fmi2iRyGXbA",
    "outputId": "14349e36-b05d-4bee-f4aa-aca783c11f01"
   },
   "outputs": [
    {
     "data": {
      "text/plain": [
       "{'status': 'ok', 'restart': True}"
      ]
     },
     "execution_count": 1,
     "metadata": {},
     "output_type": "execute_result"
    }
   ],
   "source": [
    "import IPython\n",
    "from IPython.display import Markdown, display\n",
    "import time\n",
    "\n",
    "app = IPython.Application.instance()\n",
    "app.kernel.do_shutdown(True)"
   ]
  },
  {
   "cell_type": "code",
   "execution_count": 1,
   "id": "_VCmYwLxJKXR",
   "metadata": {
    "executionInfo": {
     "elapsed": 5896,
     "status": "ok",
     "timestamp": 1713459492426,
     "user": {
      "displayName": "",
      "userId": ""
     },
     "user_tz": 240
    },
    "id": "_VCmYwLxJKXR"
   },
   "outputs": [],
   "source": [
    "# get project ID\n",
    "PROJECT_ID = ! gcloud config get project\n",
    "PROJECT_ID = PROJECT_ID[0]\n",
    "LOCATION = \"us-central1\"\n",
    "\n",
    "# generate an unique id for this session\n",
    "from datetime import datetime\n",
    "\n",
    "UID = datetime.now().strftime(\"%m%d%H%M\")"
   ]
  },
  {
   "cell_type": "code",
   "execution_count": 4,
   "id": "j6arYwkwJN2y",
   "metadata": {
    "colab": {
     "base_uri": "https://localhost:8080/"
    },
    "executionInfo": {
     "elapsed": 8284,
     "status": "ok",
     "timestamp": 1713459829371,
     "user": {
      "displayName": "",
      "userId": ""
     },
     "user_tz": 240
    },
    "id": "j6arYwkwJN2y",
    "outputId": "0fe802ee-29c9-4bf9-a08c-bb132761ab38"
   },
   "outputs": [
    {
     "name": "stdout",
     "output_type": "stream",
     "text": [
      "Operation \"operations/acf.p2-619606649119-aa15bfa9-3b61-4fee-921c-645dadf58fa6\" finished successfully.\n"
     ]
    }
   ],
   "source": [
    "!gcloud services enable \\\n",
    "  aiplatform.googleapis.com \\\n",
    "  storage.googleapis.com \\\n",
    "  run.googleapis.com \\\n",
    "  compute.googleapis.com\n",
    "\n"
   ]
  },
  {
   "cell_type": "code",
   "execution_count": 8,
   "id": "w4bLihW3KTpa",
   "metadata": {
    "colab": {
     "base_uri": "https://localhost:8080/"
    },
    "executionInfo": {
     "elapsed": 9075,
     "status": "ok",
     "timestamp": 1713460083286,
     "user": {
      "displayName": "",
      "userId": ""
     },
     "user_tz": 240
    },
    "id": "w4bLihW3KTpa",
    "outputId": "54dca536-2ae4-4001-bb7a-7c0c48f25cf2"
   },
   "outputs": [
    {
     "name": "stdout",
     "output_type": "stream",
     "text": [
      "Updated property [core/project].\n",
      "metadata:\n",
      "  '@type': type.googleapis.com/google.firestore.admin.v1.CreateDatabaseMetadata\n",
      "name: projects/qwiklabs-gcp-00-c908ca7e2977/databases/(default)/operations/WA5mIlQVzpKtRecoWbwUlBAqNW1hbgQiBRBbmJ7wEAaxhabyCAsKJxo\n",
      "response:\n",
      "  '@type': type.googleapis.com/google.firestore.admin.v1.Database\n",
      "  appEngineIntegrationMode: DISABLED\n",
      "  concurrencyMode: PESSIMISTIC\n",
      "  createTime: '2024-04-18T17:08:02.191238Z'\n",
      "  deleteProtectionState: DELETE_PROTECTION_DISABLED\n",
      "  earliestVersionTime: '2024-04-18T17:08:02.191238Z'\n",
      "  etag: IPmDppygzIUDMIbXpJygzIUD\n",
      "  keyPrefix: s\n",
      "  locationId: nam5\n",
      "  name: projects/qwiklabs-gcp-00-c908ca7e2977/databases/(default)\n",
      "  pointInTimeRecoveryEnablement: POINT_IN_TIME_RECOVERY_DISABLED\n",
      "  type: FIRESTORE_NATIVE\n",
      "  uid: 9414bc59-28e7-45ad-92ce-155422660e58\n",
      "  updateTime: '2024-04-18T17:08:02.191238Z'\n",
      "  versionRetentionPeriod: 3600s\n"
     ]
    }
   ],
   "source": [
    "!gcloud config set project qwiklabs-gcp-00-c908ca7e2977\n",
    "!gcloud firestore databases create \\\n",
    "  --project=qwiklabs-gcp-00-c908ca7e2977 \\\n",
    "  --location=nam5 \\\n",
    "  --type=firestore-native\n"
   ]
  },
  {
   "cell_type": "code",
   "execution_count": 70,
   "id": "WeMM1IDDOPWU",
   "metadata": {
    "executionInfo": {
     "elapsed": 232,
     "status": "ok",
     "timestamp": 1713467104768,
     "user": {
      "displayName": "",
      "userId": ""
     },
     "user_tz": 240
    },
    "id": "WeMM1IDDOPWU"
   },
   "outputs": [],
   "source": [
    "def create_data_packet(file_name, file_type, page_number, file_content):\n",
    "    \"\"\"Creating a simple dictionary to store all information (content and metadata)\n",
    "    extracted from the document\"\"\"\n",
    "    data_packet = {}\n",
    "    data_packet[\"file_name\"] = file_name\n",
    "    data_packet[\"file_type\"] = file_type\n",
    "    data_packet[\"page_number\"] = page_number\n",
    "    data_packet[\"content\"] = file_content\n",
    "    return data_packet"
   ]
  },
  {
   "cell_type": "code",
   "execution_count": 63,
   "id": "DNfevJU7kiEU",
   "metadata": {
    "colab": {
     "base_uri": "https://localhost:8080/"
    },
    "executionInfo": {
     "elapsed": 2944,
     "status": "ok",
     "timestamp": 1713466737392,
     "user": {
      "displayName": "",
      "userId": ""
     },
     "user_tz": 240
    },
    "id": "DNfevJU7kiEU",
    "outputId": "b968ce06-121b-4dc6-d7d6-73896930ad07"
   },
   "outputs": [
    {
     "name": "stdout",
     "output_type": "stream",
     "text": [
      "mkdir: cannot create directory ‘test’: File exists\n",
      "Copying gs://qwiklabs-gcp-00-c908ca7e2977/fpc-manual.pdf...\n",
      "/ [1/1 files][  8.5 MiB/  8.5 MiB] 100% Done                                    \n",
      "Operation completed over 1 objects/8.5 MiB.                                      \n"
     ]
    }
   ],
   "source": [
    "!mkdir test\n",
    "!gsutil -m cp -r gs://qwiklabs-gcp-00-c908ca7e2977/fpc-manual.pdf ."
   ]
  },
  {
   "cell_type": "code",
   "execution_count": 69,
   "id": "bFmlDvCpRp93",
   "metadata": {
    "colab": {
     "base_uri": "https://localhost:8080/"
    },
    "executionInfo": {
     "elapsed": 6511,
     "status": "ok",
     "timestamp": 1713467066776,
     "user": {
      "displayName": "",
      "userId": ""
     },
     "user_tz": 240
    },
    "id": "bFmlDvCpRp93",
    "outputId": "3878530a-8aef-4e86-8130-eb9a0fd8cb7b"
   },
   "outputs": [
    {
     "name": "stdout",
     "output_type": "stream",
     "text": [
      "0 {'/BleedBox': [0, 0, 612, 792], '/Contents': [IndirectObject(1675, 0, 137129270400800), IndirectObject(1676, 0, 137129270400800), IndirectObject(1677, 0, 137129270400800), IndirectObject(1678, 0, 137129270400800), IndirectObject(1679, 0, 137129270400800), IndirectObject(1680, 0, 137129270400800), IndirectObject(1683, 0, 137129270400800), IndirectObject(1684, 0, 137129270400800)], '/CropBox': [0, 0, 612, 792], '/MediaBox': [0, 0, 612, 792], '/Parent': IndirectObject(1650, 0, 137129270400800), '/Resources': IndirectObject(1704, 0, 137129270400800), '/Rotate': 0, '/Thumb': IndirectObject(1087, 0, 137129270400800), '/TrimBox': [0, 0, 612, 792], '/Type': '/Page', '/u2pMat': [1, 0, 0, -1, 0, 792], '/xb1': 0, '/xb2': 612, '/xt1': 0, '/xt2': 612, '/yb1': 0, '/yb2': 792, '/yt1': 0, '/yt2': 792}\n",
      "1 {'/BleedBox': [0, 0, 612, 792], '/Contents': IndirectObject(2, 0, 137129270400800), '/CropBox': [0, 0, 612, 792], '/MediaBox': [0, 0, 612, 792], '/Parent': IndirectObject(1650, 0, 137129270400800), '/Resources': {'/ColorSpace': {'/CS0': IndirectObject(1705, 0, 137129270400800)}, '/ExtGState': {'/GS0': IndirectObject(1706, 0, 137129270400800), '/GS1': IndirectObject(1707, 0, 137129270400800), '/GS2': IndirectObject(1708, 0, 137129270400800)}, '/Font': {'/T1_0': IndirectObject(1732, 0, 137129270400800), '/T1_1': IndirectObject(1357, 0, 137129270400800), '/T1_2': IndirectObject(1724, 0, 137129270400800), '/T1_3': IndirectObject(1736, 0, 137129270400800), '/T1_4': IndirectObject(1718, 0, 137129270400800), '/T1_5': IndirectObject(1720, 0, 137129270400800), '/T1_6': IndirectObject(1722, 0, 137129270400800)}, '/ProcSet': ['/PDF', '/Text', '/ImageC'], '/XObject': {'/Im0': IndirectObject(1045, 0, 137129270400800), '/Im1': IndirectObject(3, 0, 137129270400800)}}, '/Rotate': 0, '/Thumb': IndirectObject(1088, 0, 137129270400800), '/TrimBox': [0, 0, 612, 792], '/Type': '/Page', '/u2pMat': [1, 0, 0, -1, 0, 792], '/xb1': 0, '/xb2': 612, '/xt1': 0, '/xt2': 612, '/yb1': 0, '/yb2': 792, '/yt1': 0, '/yt2': 792}\n",
      "2 {'/BleedBox': [0, 0, 612, 792], '/Contents': IndirectObject(5, 0, 137129270400800), '/CropBox': [0, 0, 612, 792], '/MediaBox': [0, 0, 612, 792], '/Parent': IndirectObject(1650, 0, 137129270400800), '/Resources': IndirectObject(1186, 0, 137129270400800), '/Rotate': 0, '/Thumb': IndirectObject(1089, 0, 137129270400800), '/TrimBox': [0, 0, 612, 792], '/Type': '/Page', '/u2pMat': [1, 0, 0, -1, 0, 792], '/xb1': 0, '/xb2': 612, '/xt1': 0, '/xt2': 612, '/yb1': 0, '/yb2': 792, '/yt1': 0, '/yt2': 792}\n",
      "3 {'/BleedBox': [0, 0, 612, 792], '/Contents': IndirectObject(15, 0, 137129270400800), '/CropBox': [0, 0, 612, 792], '/MediaBox': [0, 0, 612, 792], '/Parent': IndirectObject(1650, 0, 137129270400800), '/Resources': IndirectObject(1190, 0, 137129270400800), '/Rotate': 0, '/Thumb': IndirectObject(1090, 0, 137129270400800), '/TrimBox': [0, 0, 612, 792], '/Type': '/Page', '/u2pMat': [1, 0, 0, -1, 0, 792], '/xb1': 0, '/xb2': 612, '/xt1': 0, '/xt2': 612, '/yb1': 0, '/yb2': 792, '/yt1': 0, '/yt2': 792}\n",
      "4 {'/BleedBox': [0, 0, 612, 792], '/Contents': IndirectObject(27, 0, 137129270400800), '/CropBox': [0, 0, 612, 792], '/MediaBox': [0, 0, 612, 792], '/Parent': IndirectObject(1650, 0, 137129270400800), '/Resources': IndirectObject(1191, 0, 137129270400800), '/Rotate': 0, '/Thumb': IndirectObject(1091, 0, 137129270400800), '/TrimBox': [0, 0, 612, 792], '/Type': '/Page', '/u2pMat': [1, 0, 0, -1, 0, 792], '/xb1': 0, '/xb2': 612, '/xt1': 0, '/xt2': 612, '/yb1': 0, '/yb2': 792, '/yt1': 0, '/yt2': 792}\n",
      "5 {'/BleedBox': [0, 0, 612, 792], '/Contents': IndirectObject(37, 0, 137129270400800), '/CropBox': [0, 0, 612, 792], '/MediaBox': [0, 0, 612, 792], '/Parent': IndirectObject(1650, 0, 137129270400800), '/Resources': IndirectObject(1192, 0, 137129270400800), '/Rotate': 0, '/Thumb': IndirectObject(1092, 0, 137129270400800), '/TrimBox': [0, 0, 612, 792], '/Type': '/Page', '/u2pMat': [1, 0, 0, -1, 0, 792], '/xb1': 0, '/xb2': 612, '/xt1': 0, '/xt2': 612, '/yb1': 0, '/yb2': 792, '/yt1': 0, '/yt2': 792}\n",
      "6 {'/BleedBox': [0, 0, 612, 792], '/Contents': IndirectObject(45, 0, 137129270400800), '/CropBox': [0, 0, 612, 792], '/MediaBox': [0, 0, 612, 792], '/Parent': IndirectObject(1650, 0, 137129270400800), '/Resources': {'/ColorSpace': {'/CS0': IndirectObject(1373, 0, 137129270400800)}, '/ExtGState': {'/GS0': IndirectObject(1706, 0, 137129270400800), '/GS1': IndirectObject(1707, 0, 137129270400800), '/GS2': IndirectObject(1708, 0, 137129270400800)}, '/Font': {'/T1_0': IndirectObject(1724, 0, 137129270400800), '/T1_1': IndirectObject(1732, 0, 137129270400800), '/T1_2': IndirectObject(1357, 0, 137129270400800), '/T1_3': IndirectObject(1734, 0, 137129270400800), '/T1_4': IndirectObject(1736, 0, 137129270400800), '/T1_5': IndirectObject(1720, 0, 137129270400800), '/T1_6': IndirectObject(1722, 0, 137129270400800)}, '/ProcSet': ['/PDF', '/Text', '/ImageC', '/ImageI'], '/XObject': {'/Im0': IndirectObject(46, 0, 137129270400800), '/Im1': IndirectObject(47, 0, 137129270400800)}}, '/Rotate': 0, '/Thumb': IndirectObject(1093, 0, 137129270400800), '/TrimBox': [0, 0, 612, 792], '/Type': '/Page', '/u2pMat': [1, 0, 0, -1, 0, 792], '/xb1': 0, '/xb2': 612, '/xt1': 0, '/xt2': 612, '/yb1': 0, '/yb2': 792, '/yt1': 0, '/yt2': 792}\n",
      "7 {'/BleedBox': [0, 0, 612, 792], '/Contents': IndirectObject(49, 0, 137129270400800), '/CropBox': [0, 0, 612, 792], '/MediaBox': [0, 0, 612, 792], '/Parent': IndirectObject(1650, 0, 137129270400800), '/Resources': IndirectObject(1193, 0, 137129270400800), '/Rotate': 0, '/Thumb': IndirectObject(1094, 0, 137129270400800), '/TrimBox': [0, 0, 612, 792], '/Type': '/Page', '/u2pMat': [1, 0, 0, -1, 0, 792], '/xb1': 0, '/xb2': 612, '/xt1': 0, '/xt2': 612, '/yb1': 0, '/yb2': 792, '/yt1': 0, '/yt2': 792}\n",
      "8 {'/BleedBox': [0, 0, 612, 792], '/Contents': IndirectObject(52, 0, 137129270400800), '/CropBox': [0, 0, 612, 792], '/MediaBox': [0, 0, 612, 792], '/Parent': IndirectObject(1650, 0, 137129270400800), '/Resources': IndirectObject(1194, 0, 137129270400800), '/Rotate': 0, '/Thumb': IndirectObject(1095, 0, 137129270400800), '/TrimBox': [0, 0, 612, 792], '/Type': '/Page', '/u2pMat': [1, 0, 0, -1, 0, 792], '/xb1': 0, '/xb2': 612, '/xt1': 0, '/xt2': 612, '/yb1': 0, '/yb2': 792, '/yt1': 0, '/yt2': 792}\n",
      "9 {'/BleedBox': [0, 0, 612, 792], '/Contents': IndirectObject(58, 0, 137129270400800), '/CropBox': [0, 0, 612, 792], '/MediaBox': [0, 0, 612, 792], '/Parent': IndirectObject(1650, 0, 137129270400800), '/Resources': IndirectObject(1195, 0, 137129270400800), '/Rotate': 0, '/Thumb': IndirectObject(1096, 0, 137129270400800), '/TrimBox': [0, 0, 612, 792], '/Type': '/Page', '/u2pMat': [1, 0, 0, -1, 0, 792], '/xb1': 0, '/xb2': 612, '/xt1': 0, '/xt2': 612, '/yb1': 0, '/yb2': 792, '/yt1': 0, '/yt2': 792}\n",
      "10 {'/BleedBox': [0, 0, 612, 792], '/Contents': IndirectObject(63, 0, 137129270400800), '/CropBox': [0, 0, 612, 792], '/MediaBox': [0, 0, 612, 792], '/Parent': IndirectObject(1651, 0, 137129270400800), '/Resources': {'/ColorSpace': {'/CS0': IndirectObject(1705, 0, 137129270400800)}, '/ExtGState': {'/GS0': IndirectObject(1707, 0, 137129270400800), '/GS1': IndirectObject(1706, 0, 137129270400800), '/GS2': IndirectObject(1708, 0, 137129270400800)}, '/Font': {'/T1_0': IndirectObject(1724, 0, 137129270400800), '/T1_1': IndirectObject(1732, 0, 137129270400800), '/T1_2': IndirectObject(1357, 0, 137129270400800), '/T1_3': IndirectObject(1736, 0, 137129270400800), '/T1_4': IndirectObject(1713, 0, 137129270400800), '/T1_5': IndirectObject(1734, 0, 137129270400800), '/T1_6': IndirectObject(1720, 0, 137129270400800), '/T1_7': IndirectObject(1722, 0, 137129270400800), '/T1_8': IndirectObject(1718, 0, 137129270400800)}, '/ProcSet': ['/PDF', '/Text', '/ImageC'], '/XObject': {'/Im0': IndirectObject(64, 0, 137129270400800)}}, '/Rotate': 0, '/Thumb': IndirectObject(1097, 0, 137129270400800), '/TrimBox': [0, 0, 612, 792], '/Type': '/Page', '/u2pMat': [1, 0, 0, -1, 0, 792], '/xb1': 0, '/xb2': 612, '/xt1': 0, '/xt2': 612, '/yb1': 0, '/yb2': 792, '/yt1': 0, '/yt2': 792}\n",
      "11 {'/BleedBox': [0, 0, 612, 792], '/Contents': IndirectObject(66, 0, 137129270400800), '/CropBox': [0, 0, 612, 792], '/MediaBox': [0, 0, 612, 792], '/Parent': IndirectObject(1651, 0, 137129270400800), '/Resources': {'/ColorSpace': {'/CS0': IndirectObject(1705, 0, 137129270400800)}, '/ExtGState': {'/GS0': IndirectObject(1707, 0, 137129270400800), '/GS1': IndirectObject(1706, 0, 137129270400800), '/GS2': IndirectObject(1708, 0, 137129270400800)}, '/Font': {'/C0_0': IndirectObject(1378, 0, 137129270400800), '/T1_0': IndirectObject(1718, 0, 137129270400800), '/T1_1': IndirectObject(1724, 0, 137129270400800), '/T1_2': IndirectObject(1732, 0, 137129270400800), '/T1_3': IndirectObject(1734, 0, 137129270400800), '/T1_4': IndirectObject(1713, 0, 137129270400800), '/T1_5': IndirectObject(1720, 0, 137129270400800), '/T1_6': IndirectObject(1722, 0, 137129270400800), '/T1_7': IndirectObject(1357, 0, 137129270400800), '/T1_8': IndirectObject(1736, 0, 137129270400800)}, '/ProcSet': ['/PDF', '/Text', '/ImageC'], '/XObject': {'/Im0': IndirectObject(67, 0, 137129270400800)}}, '/Rotate': 0, '/Thumb': IndirectObject(1098, 0, 137129270400800), '/TrimBox': [0, 0, 612, 792], '/Type': '/Page', '/u2pMat': [1, 0, 0, -1, 0, 792], '/xb1': 0, '/xb2': 612, '/xt1': 0, '/xt2': 612, '/yb1': 0, '/yb2': 792, '/yt1': 0, '/yt2': 792}\n",
      "12 {'/BleedBox': [0, 0, 612, 792], '/Contents': IndirectObject(69, 0, 137129270400800), '/CropBox': [0, 0, 612, 792], '/MediaBox': [0, 0, 612, 792], '/Parent': IndirectObject(1651, 0, 137129270400800), '/Resources': {'/ColorSpace': {'/CS0': IndirectObject(1705, 0, 137129270400800)}, '/ExtGState': {'/GS0': IndirectObject(1707, 0, 137129270400800), '/GS1': IndirectObject(1706, 0, 137129270400800), '/GS2': IndirectObject(1708, 0, 137129270400800)}, '/Font': {'/C0_0': IndirectObject(1378, 0, 137129270400800), '/T1_0': IndirectObject(1724, 0, 137129270400800), '/T1_1': IndirectObject(1732, 0, 137129270400800), '/T1_2': IndirectObject(1357, 0, 137129270400800), '/T1_3': IndirectObject(1740, 0, 137129270400800), '/T1_4': IndirectObject(1713, 0, 137129270400800), '/T1_5': IndirectObject(1718, 0, 137129270400800), '/T1_6': IndirectObject(1720, 0, 137129270400800), '/T1_7': IndirectObject(1722, 0, 137129270400800)}, '/ProcSet': ['/PDF', '/Text', '/ImageC'], '/XObject': {'/Im0': IndirectObject(70, 0, 137129270400800)}}, '/Rotate': 0, '/Thumb': IndirectObject(1099, 0, 137129270400800), '/TrimBox': [0, 0, 612, 792], '/Type': '/Page', '/u2pMat': [1, 0, 0, -1, 0, 792], '/xb1': 0, '/xb2': 612, '/xt1': 0, '/xt2': 612, '/yb1': 0, '/yb2': 792, '/yt1': 0, '/yt2': 792}\n",
      "13 {'/BleedBox': [0, 0, 612, 792], '/Contents': IndirectObject(72, 0, 137129270400800), '/CropBox': [0, 0, 612, 792], '/MediaBox': [0, 0, 612, 792], '/Parent': IndirectObject(1651, 0, 137129270400800), '/Resources': IndirectObject(1197, 0, 137129270400800), '/Rotate': 0, '/Thumb': IndirectObject(1100, 0, 137129270400800), '/TrimBox': [0, 0, 612, 792], '/Type': '/Page', '/u2pMat': [1, 0, 0, -1, 0, 792], '/xb1': 0, '/xb2': 612, '/xt1': 0, '/xt2': 612, '/yb1': 0, '/yb2': 792, '/yt1': 0, '/yt2': 792}\n",
      "14 {'/BleedBox': [0, 0, 612, 792], '/Contents': IndirectObject(75, 0, 137129270400800), '/CropBox': [0, 0, 612, 792], '/MediaBox': [0, 0, 612, 792], '/Parent': IndirectObject(1651, 0, 137129270400800), '/Resources': IndirectObject(1198, 0, 137129270400800), '/Rotate': 0, '/Thumb': IndirectObject(1101, 0, 137129270400800), '/TrimBox': [0, 0, 612, 792], '/Type': '/Page', '/u2pMat': [1, 0, 0, -1, 0, 792], '/xb1': 0, '/xb2': 612, '/xt1': 0, '/xt2': 612, '/yb1': 0, '/yb2': 792, '/yt1': 0, '/yt2': 792}\n",
      "15 {'/BleedBox': [0, 0, 612, 792], '/Contents': IndirectObject(78, 0, 137129270400800), '/CropBox': [0, 0, 612, 792], '/MediaBox': [0, 0, 612, 792], '/Parent': IndirectObject(1651, 0, 137129270400800), '/Resources': IndirectObject(1199, 0, 137129270400800), '/Rotate': 0, '/Thumb': IndirectObject(1102, 0, 137129270400800), '/TrimBox': [0, 0, 612, 792], '/Type': '/Page', '/u2pMat': [1, 0, 0, -1, 0, 792], '/xb1': 0, '/xb2': 612, '/xt1': 0, '/xt2': 612, '/yb1': 0, '/yb2': 792, '/yt1': 0, '/yt2': 792}\n",
      "16 {'/BleedBox': [0, 0, 612, 792], '/Contents': IndirectObject(82, 0, 137129270400800), '/CropBox': [0, 0, 612, 792], '/MediaBox': [0, 0, 612, 792], '/Parent': IndirectObject(1651, 0, 137129270400800), '/Resources': {'/ColorSpace': {'/CS0': IndirectObject(1705, 0, 137129270400800)}, '/ExtGState': {'/GS0': IndirectObject(1707, 0, 137129270400800), '/GS1': IndirectObject(1706, 0, 137129270400800), '/GS2': IndirectObject(1708, 0, 137129270400800)}, '/Font': {'/T1_0': IndirectObject(1724, 0, 137129270400800), '/T1_1': IndirectObject(1732, 0, 137129270400800), '/T1_2': IndirectObject(1736, 0, 137129270400800), '/T1_3': IndirectObject(1718, 0, 137129270400800), '/T1_4': IndirectObject(1720, 0, 137129270400800), '/T1_5': IndirectObject(1722, 0, 137129270400800), '/T1_6': IndirectObject(1357, 0, 137129270400800)}, '/ProcSet': ['/PDF', '/Text', '/ImageC'], '/XObject': {'/Im0': IndirectObject(1049, 0, 137129270400800)}}, '/Rotate': 0, '/Thumb': IndirectObject(1103, 0, 137129270400800), '/TrimBox': [0, 0, 612, 792], '/Type': '/Page', '/u2pMat': [1, 0, 0, -1, 0, 792], '/xb1': 0, '/xb2': 612, '/xt1': 0, '/xt2': 612, '/yb1': 0, '/yb2': 792, '/yt1': 0, '/yt2': 792}\n",
      "17 {'/BleedBox': [0, 0, 612, 792], '/Contents': IndirectObject(84, 0, 137129270400800), '/CropBox': [0, 0, 612, 792], '/MediaBox': [0, 0, 612, 792], '/Parent': IndirectObject(1651, 0, 137129270400800), '/Resources': IndirectObject(1200, 0, 137129270400800), '/Rotate': 0, '/Thumb': IndirectObject(1104, 0, 137129270400800), '/TrimBox': [0, 0, 612, 792], '/Type': '/Page', '/u2pMat': [1, 0, 0, -1, 0, 792], '/xb1': 0, '/xb2': 612, '/xt1': 0, '/xt2': 612, '/yb1': 0, '/yb2': 792, '/yt1': 0, '/yt2': 792}\n",
      "18 {'/BleedBox': [0, 0, 612, 792], '/Contents': IndirectObject(88, 0, 137129270400800), '/CropBox': [0, 0, 612, 792], '/MediaBox': [0, 0, 612, 792], '/Parent': IndirectObject(1651, 0, 137129270400800), '/Resources': IndirectObject(1201, 0, 137129270400800), '/Rotate': 0, '/Thumb': IndirectObject(1105, 0, 137129270400800), '/TrimBox': [0, 0, 612, 792], '/Type': '/Page', '/u2pMat': [1, 0, 0, -1, 0, 792], '/xb1': 0, '/xb2': 612, '/xt1': 0, '/xt2': 612, '/yb1': 0, '/yb2': 792, '/yt1': 0, '/yt2': 792}\n",
      "19 {'/BleedBox': [0, 0, 612, 792], '/Contents': IndirectObject(91, 0, 137129270400800), '/CropBox': [0, 0, 612, 792], '/MediaBox': [0, 0, 612, 792], '/Parent': IndirectObject(1651, 0, 137129270400800), '/Resources': IndirectObject(1202, 0, 137129270400800), '/Rotate': 0, '/Thumb': IndirectObject(1106, 0, 137129270400800), '/TrimBox': [0, 0, 612, 792], '/Type': '/Page', '/u2pMat': [1, 0, 0, -1, 0, 792], '/xb1': 0, '/xb2': 612, '/xt1': 0, '/xt2': 612, '/yb1': 0, '/yb2': 792, '/yt1': 0, '/yt2': 792}\n",
      "20 {'/BleedBox': [0, 0, 612, 792], '/Contents': IndirectObject(94, 0, 137129270400800), '/CropBox': [0, 0, 612, 792], '/MediaBox': [0, 0, 612, 792], '/Parent': IndirectObject(1652, 0, 137129270400800), '/Resources': {'/ExtGState': {'/GS0': IndirectObject(1707, 0, 137129270400800), '/GS1': IndirectObject(1706, 0, 137129270400800), '/GS2': IndirectObject(1708, 0, 137129270400800)}, '/Font': {'/C0_0': IndirectObject(1378, 0, 137129270400800), '/C2_0': IndirectObject(1385, 0, 137129270400800), '/T1_0': IndirectObject(1724, 0, 137129270400800), '/T1_1': IndirectObject(1732, 0, 137129270400800), '/T1_2': IndirectObject(1736, 0, 137129270400800), '/T1_3': IndirectObject(1713, 0, 137129270400800), '/T1_4': IndirectObject(1720, 0, 137129270400800), '/T1_5': IndirectObject(1722, 0, 137129270400800), '/T1_6': IndirectObject(1384, 0, 137129270400800), '/T1_7': IndirectObject(1357, 0, 137129270400800)}, '/ProcSet': ['/PDF', '/Text']}, '/Rotate': 0, '/Thumb': IndirectObject(1107, 0, 137129270400800), '/TrimBox': [0, 0, 612, 792], '/Type': '/Page', '/u2pMat': [1, 0, 0, -1, 0, 792], '/xb1': 0, '/xb2': 612, '/xt1': 0, '/xt2': 612, '/yb1': 0, '/yb2': 792, '/yt1': 0, '/yt2': 792}\n",
      "21 {'/BleedBox': [0, 0, 612, 792], '/Contents': IndirectObject(100, 0, 137129270400800), '/CropBox': [0, 0, 612, 792], '/MediaBox': [0, 0, 612, 792], '/Parent': IndirectObject(1652, 0, 137129270400800), '/Resources': IndirectObject(1207, 0, 137129270400800), '/Rotate': 0, '/Thumb': IndirectObject(1108, 0, 137129270400800), '/TrimBox': [0, 0, 612, 792], '/Type': '/Page', '/u2pMat': [1, 0, 0, -1, 0, 792], '/xb1': 0, '/xb2': 612, '/xt1': 0, '/xt2': 612, '/yb1': 0, '/yb2': 792, '/yt1': 0, '/yt2': 792}\n",
      "22 {'/BleedBox': [0, 0, 612, 792], '/Contents': IndirectObject(105, 0, 137129270400800), '/CropBox': [0, 0, 612, 792], '/MediaBox': [0, 0, 612, 792], '/Parent': IndirectObject(1652, 0, 137129270400800), '/Resources': {'/ExtGState': {'/GS0': IndirectObject(1707, 0, 137129270400800), '/GS1': IndirectObject(1706, 0, 137129270400800), '/GS2': IndirectObject(1708, 0, 137129270400800)}, '/Font': {'/T1_0': IndirectObject(1724, 0, 137129270400800), '/T1_1': IndirectObject(1732, 0, 137129270400800), '/T1_2': IndirectObject(1734, 0, 137129270400800), '/T1_3': IndirectObject(1713, 0, 137129270400800), '/T1_4': IndirectObject(1376, 0, 137129270400800), '/T1_5': IndirectObject(1720, 0, 137129270400800), '/T1_6': IndirectObject(1722, 0, 137129270400800), '/T1_7': IndirectObject(1357, 0, 137129270400800)}, '/ProcSet': ['/PDF', '/Text']}, '/Rotate': 0, '/Thumb': IndirectObject(1109, 0, 137129270400800), '/TrimBox': [0, 0, 612, 792], '/Type': '/Page', '/u2pMat': [1, 0, 0, -1, 0, 792], '/xb1': 0, '/xb2': 612, '/xt1': 0, '/xt2': 612, '/yb1': 0, '/yb2': 792, '/yt1': 0, '/yt2': 792}\n",
      "23 {'/BleedBox': [0, 0, 612, 792], '/Contents': IndirectObject(107, 0, 137129270400800), '/CropBox': [0, 0, 612, 792], '/MediaBox': [0, 0, 612, 792], '/Parent': IndirectObject(1652, 0, 137129270400800), '/Resources': {'/ColorSpace': {'/CS0': IndirectObject(1705, 0, 137129270400800)}, '/ExtGState': {'/GS0': IndirectObject(1707, 0, 137129270400800), '/GS1': IndirectObject(1706, 0, 137129270400800), '/GS2': IndirectObject(1708, 0, 137129270400800)}, '/Font': {'/T1_0': IndirectObject(1724, 0, 137129270400800), '/T1_1': IndirectObject(1732, 0, 137129270400800), '/T1_2': IndirectObject(1357, 0, 137129270400800), '/T1_3': IndirectObject(1718, 0, 137129270400800), '/T1_4': IndirectObject(1736, 0, 137129270400800), '/T1_5': IndirectObject(1720, 0, 137129270400800), '/T1_6': IndirectObject(1722, 0, 137129270400800)}, '/ProcSet': ['/PDF', '/Text', '/ImageB', '/ImageC'], '/XObject': {'/Im0': IndirectObject(108, 0, 137129270400800), '/Im1': IndirectObject(109, 0, 137129270400800)}}, '/Rotate': 0, '/Thumb': IndirectObject(1110, 0, 137129270400800), '/TrimBox': [0, 0, 612, 792], '/Type': '/Page', '/u2pMat': [1, 0, 0, -1, 0, 792], '/xb1': 0, '/xb2': 612, '/xt1': 0, '/xt2': 612, '/yb1': 0, '/yb2': 792, '/yt1': 0, '/yt2': 792}\n",
      "24 {'/BleedBox': [0, 0, 612, 792], '/Contents': IndirectObject(1773, 0, 137129270400800), '/CropBox': [0, 0, 612, 792], '/MediaBox': [0, 0, 612, 792], '/Parent': IndirectObject(1652, 0, 137129270400800), '/Resources': {'/ColorSpace': {'/CS0': IndirectObject(1705, 0, 137129270400800)}, '/ExtGState': {'/GS0': IndirectObject(1707, 0, 137129270400800), '/GS1': IndirectObject(1706, 0, 137129270400800), '/GS2': IndirectObject(1708, 0, 137129270400800)}, '/Font': {'/C0_0': IndirectObject(1772, 0, 137129270400800), '/C0_1': IndirectObject(1771, 0, 137129270400800), '/C2_0': IndirectObject(1386, 0, 137129270400800), '/T1_0': IndirectObject(1724, 0, 137129270400800), '/T1_1': IndirectObject(1357, 0, 137129270400800), '/T1_2': IndirectObject(1732, 0, 137129270400800), '/T1_3': IndirectObject(1740, 0, 137129270400800), '/T1_4': IndirectObject(1718, 0, 137129270400800), '/T1_5': IndirectObject(1720, 0, 137129270400800)}, '/ProcSet': ['/PDF', '/Text', '/ImageC'], '/XObject': {'/Im0': IndirectObject(1045, 0, 137129270400800)}}, '/Rotate': 0, '/Thumb': IndirectObject(1111, 0, 137129270400800), '/TrimBox': [0, 0, 612, 792], '/Type': '/Page', '/u2pMat': [1, 0, 0, -1, 0, 792], '/xb1': 0, '/xb2': 612, '/xt1': 0, '/xt2': 612, '/yb1': 0, '/yb2': 792, '/yt1': 0, '/yt2': 792}\n",
      "25 {'/BleedBox': [0, 0, 612, 792], '/Contents': IndirectObject(117, 0, 137129270400800), '/CropBox': [0, 0, 612, 792], '/MediaBox': [0, 0, 612, 792], '/Parent': IndirectObject(1652, 0, 137129270400800), '/Resources': {'/ExtGState': {'/GS0': IndirectObject(1707, 0, 137129270400800), '/GS1': IndirectObject(1706, 0, 137129270400800), '/GS2': IndirectObject(1708, 0, 137129270400800)}, '/Font': {'/C2_0': IndirectObject(1388, 0, 137129270400800), '/T1_0': IndirectObject(1724, 0, 137129270400800), '/T1_1': IndirectObject(1713, 0, 137129270400800), '/T1_2': IndirectObject(1732, 0, 137129270400800), '/T1_3': IndirectObject(1736, 0, 137129270400800), '/T1_4': IndirectObject(1387, 0, 137129270400800), '/T1_5': IndirectObject(1720, 0, 137129270400800), '/T1_6': IndirectObject(1722, 0, 137129270400800)}, '/ProcSet': ['/PDF', '/Text']}, '/Rotate': 0, '/Thumb': IndirectObject(1112, 0, 137129270400800), '/TrimBox': [0, 0, 612, 792], '/Type': '/Page', '/u2pMat': [1, 0, 0, -1, 0, 792], '/xb1': 0, '/xb2': 612, '/xt1': 0, '/xt2': 612, '/yb1': 0, '/yb2': 792, '/yt1': 0, '/yt2': 792}\n",
      "26 {'/BleedBox': [0, 0, 612, 792], '/Contents': IndirectObject(123, 0, 137129270400800), '/CropBox': [0, 0, 612, 792], '/MediaBox': [0, 0, 612, 792], '/Parent': IndirectObject(1652, 0, 137129270400800), '/Resources': {'/ExtGState': {'/GS0': IndirectObject(1707, 0, 137129270400800), '/GS1': IndirectObject(1706, 0, 137129270400800), '/GS2': IndirectObject(1708, 0, 137129270400800)}, '/Font': {'/C0_0': IndirectObject(1395, 0, 137129270400800), '/C2_0': IndirectObject(1392, 0, 137129270400800), '/C2_1': IndirectObject(1396, 0, 137129270400800), '/T1_0': IndirectObject(1724, 0, 137129270400800), '/T1_1': IndirectObject(1732, 0, 137129270400800), '/T1_2': IndirectObject(1357, 0, 137129270400800), '/T1_3': IndirectObject(1736, 0, 137129270400800), '/T1_4': IndirectObject(1713, 0, 137129270400800)}, '/ProcSet': ['/PDF', '/Text']}, '/Rotate': 0, '/Thumb': IndirectObject(1113, 0, 137129270400800), '/TrimBox': [0, 0, 612, 792], '/Type': '/Page', '/u2pMat': [1, 0, 0, -1, 0, 792], '/xb1': 0, '/xb2': 612, '/xt1': 0, '/xt2': 612, '/yb1': 0, '/yb2': 792, '/yt1': 0, '/yt2': 792}\n",
      "27 {'/BleedBox': [0, 0, 612, 792], '/Contents': IndirectObject(130, 0, 137129270400800), '/CropBox': [0, 0, 612, 792], '/MediaBox': [0, 0, 612, 792], '/Parent': IndirectObject(1652, 0, 137129270400800), '/Resources': IndirectObject(1221, 0, 137129270400800), '/Rotate': 0, '/Thumb': IndirectObject(1114, 0, 137129270400800), '/TrimBox': [0, 0, 612, 792], '/Type': '/Page', '/u2pMat': [1, 0, 0, -1, 0, 792], '/xb1': 0, '/xb2': 612, '/xt1': 0, '/xt2': 612, '/yb1': 0, '/yb2': 792, '/yt1': 0, '/yt2': 792}\n",
      "28 {'/BleedBox': [0, 0, 612, 792], '/Contents': IndirectObject(135, 0, 137129270400800), '/CropBox': [0, 0, 612, 792], '/MediaBox': [0, 0, 612, 792], '/Parent': IndirectObject(1652, 0, 137129270400800), '/Resources': IndirectObject(1224, 0, 137129270400800), '/Rotate': 0, '/Thumb': IndirectObject(1115, 0, 137129270400800), '/TrimBox': [0, 0, 612, 792], '/Type': '/Page', '/u2pMat': [1, 0, 0, -1, 0, 792], '/xb1': 0, '/xb2': 612, '/xt1': 0, '/xt2': 612, '/yb1': 0, '/yb2': 792, '/yt1': 0, '/yt2': 792}\n",
      "29 {'/BleedBox': [0, 0, 612, 792], '/Contents': IndirectObject(151, 0, 137129270400800), '/CropBox': [0, 0, 612, 792], '/MediaBox': [0, 0, 612, 792], '/Parent': IndirectObject(1652, 0, 137129270400800), '/Resources': IndirectObject(1238, 0, 137129270400800), '/Rotate': 0, '/Thumb': IndirectObject(1116, 0, 137129270400800), '/TrimBox': [0, 0, 612, 792], '/Type': '/Page', '/u2pMat': [1, 0, 0, -1, 0, 792], '/xb1': 0, '/xb2': 612, '/xt1': 0, '/xt2': 612, '/yb1': 0, '/yb2': 792, '/yt1': 0, '/yt2': 792}\n",
      "30 {'/BleedBox': [0, 0, 612, 792], '/Contents': IndirectObject(154, 0, 137129270400800), '/CropBox': [0, 0, 612, 792], '/MediaBox': [0, 0, 612, 792], '/Parent': IndirectObject(1653, 0, 137129270400800), '/Resources': IndirectObject(1239, 0, 137129270400800), '/Rotate': 0, '/Thumb': IndirectObject(1117, 0, 137129270400800), '/TrimBox': [0, 0, 612, 792], '/Type': '/Page', '/u2pMat': [1, 0, 0, -1, 0, 792], '/xb1': 0, '/xb2': 612, '/xt1': 0, '/xt2': 612, '/yb1': 0, '/yb2': 792, '/yt1': 0, '/yt2': 792}\n",
      "31 {'/BleedBox': [0, 0, 612, 792], '/Contents': IndirectObject(157, 0, 137129270400800), '/CropBox': [0, 0, 612, 792], '/MediaBox': [0, 0, 612, 792], '/Parent': IndirectObject(1653, 0, 137129270400800), '/Resources': IndirectObject(1240, 0, 137129270400800), '/Rotate': 0, '/Thumb': IndirectObject(1118, 0, 137129270400800), '/TrimBox': [0, 0, 612, 792], '/Type': '/Page', '/u2pMat': [1, 0, 0, -1, 0, 792], '/xb1': 0, '/xb2': 612, '/xt1': 0, '/xt2': 612, '/yb1': 0, '/yb2': 792, '/yt1': 0, '/yt2': 792}\n",
      "32 {'/BleedBox': [0, 0, 612, 792], '/Contents': IndirectObject(161, 0, 137129270400800), '/CropBox': [0, 0, 612, 792], '/MediaBox': [0, 0, 612, 792], '/Parent': IndirectObject(1653, 0, 137129270400800), '/Resources': IndirectObject(1245, 0, 137129270400800), '/Rotate': 0, '/Thumb': IndirectObject(1119, 0, 137129270400800), '/TrimBox': [0, 0, 612, 792], '/Type': '/Page', '/u2pMat': [1, 0, 0, -1, 0, 792], '/xb1': 0, '/xb2': 612, '/xt1': 0, '/xt2': 612, '/yb1': 0, '/yb2': 792, '/yt1': 0, '/yt2': 792}\n",
      "33 {'/BleedBox': [0, 0, 612, 792], '/Contents': IndirectObject(164, 0, 137129270400800), '/CropBox': [0, 0, 612, 792], '/MediaBox': [0, 0, 612, 792], '/Parent': IndirectObject(1653, 0, 137129270400800), '/Resources': IndirectObject(1246, 0, 137129270400800), '/Rotate': 0, '/Thumb': IndirectObject(1120, 0, 137129270400800), '/TrimBox': [0, 0, 612, 792], '/Type': '/Page', '/u2pMat': [1, 0, 0, -1, 0, 792], '/xb1': 0, '/xb2': 612, '/xt1': 0, '/xt2': 612, '/yb1': 0, '/yb2': 792, '/yt1': 0, '/yt2': 792}\n",
      "34 {'/BleedBox': [0, 0, 612, 792], '/Contents': IndirectObject(167, 0, 137129270400800), '/CropBox': [0, 0, 612, 792], '/MediaBox': [0, 0, 612, 792], '/Parent': IndirectObject(1653, 0, 137129270400800), '/Resources': IndirectObject(1247, 0, 137129270400800), '/Rotate': 0, '/Thumb': IndirectObject(1121, 0, 137129270400800), '/TrimBox': [0, 0, 612, 792], '/Type': '/Page', '/u2pMat': [1, 0, 0, -1, 0, 792], '/xb1': 0, '/xb2': 612, '/xt1': 0, '/xt2': 612, '/yb1': 0, '/yb2': 792, '/yt1': 0, '/yt2': 792}\n",
      "35 {'/BleedBox': [0, 0, 612, 792], '/Contents': IndirectObject(171, 0, 137129270400800), '/CropBox': [0, 0, 612, 792], '/MediaBox': [0, 0, 612, 792], '/Parent': IndirectObject(1653, 0, 137129270400800), '/Resources': IndirectObject(1248, 0, 137129270400800), '/Rotate': 0, '/Thumb': IndirectObject(1122, 0, 137129270400800), '/TrimBox': [0, 0, 612, 792], '/Type': '/Page', '/u2pMat': [1, 0, 0, -1, 0, 792], '/xb1': 0, '/xb2': 612, '/xt1': 0, '/xt2': 612, '/yb1': 0, '/yb2': 792, '/yt1': 0, '/yt2': 792}\n",
      "36 {'/BleedBox': [0, 0, 612, 792], '/Contents': IndirectObject(174, 0, 137129270400800), '/CropBox': [0, 0, 612, 792], '/MediaBox': [0, 0, 612, 792], '/Parent': IndirectObject(1653, 0, 137129270400800), '/Resources': IndirectObject(1249, 0, 137129270400800), '/Rotate': 0, '/Thumb': IndirectObject(1123, 0, 137129270400800), '/TrimBox': [0, 0, 612, 792], '/Type': '/Page', '/u2pMat': [1, 0, 0, -1, 0, 792], '/xb1': 0, '/xb2': 612, '/xt1': 0, '/xt2': 612, '/yb1': 0, '/yb2': 792, '/yt1': 0, '/yt2': 792}\n",
      "37 {'/BleedBox': [0, 0, 612, 792], '/Contents': IndirectObject(179, 0, 137129270400800), '/CropBox': [0, 0, 612, 792], '/MediaBox': [0, 0, 612, 792], '/Parent': IndirectObject(1653, 0, 137129270400800), '/Resources': IndirectObject(1252, 0, 137129270400800), '/Rotate': 0, '/Thumb': IndirectObject(1124, 0, 137129270400800), '/TrimBox': [0, 0, 612, 792], '/Type': '/Page', '/u2pMat': [1, 0, 0, -1, 0, 792], '/xb1': 0, '/xb2': 612, '/xt1': 0, '/xt2': 612, '/yb1': 0, '/yb2': 792, '/yt1': 0, '/yt2': 792}\n",
      "38 {'/BleedBox': [0, 0, 612, 792], '/Contents': IndirectObject(183, 0, 137129270400800), '/CropBox': [0, 0, 612, 792], '/MediaBox': [0, 0, 612, 792], '/Parent': IndirectObject(1653, 0, 137129270400800), '/Resources': IndirectObject(1253, 0, 137129270400800), '/Rotate': 0, '/Thumb': IndirectObject(1125, 0, 137129270400800), '/TrimBox': [0, 0, 612, 792], '/Type': '/Page', '/u2pMat': [1, 0, 0, -1, 0, 792], '/xb1': 0, '/xb2': 612, '/xt1': 0, '/xt2': 612, '/yb1': 0, '/yb2': 792, '/yt1': 0, '/yt2': 792}\n",
      "39 {'/BleedBox': [0, 0, 612, 792], '/Contents': IndirectObject(187, 0, 137129270400800), '/CropBox': [0, 0, 612, 792], '/MediaBox': [0, 0, 612, 792], '/Parent': IndirectObject(1653, 0, 137129270400800), '/Resources': IndirectObject(1254, 0, 137129270400800), '/Rotate': 0, '/Thumb': IndirectObject(1126, 0, 137129270400800), '/TrimBox': [0, 0, 612, 792], '/Type': '/Page', '/u2pMat': [1, 0, 0, -1, 0, 792], '/xb1': 0, '/xb2': 612, '/xt1': 0, '/xt2': 612, '/yb1': 0, '/yb2': 792, '/yt1': 0, '/yt2': 792}\n",
      "40 {'/BleedBox': [0, 0, 612, 792], '/Contents': IndirectObject(190, 0, 137129270400800), '/CropBox': [0, 0, 612, 792], '/MediaBox': [0, 0, 612, 792], '/Parent': IndirectObject(1654, 0, 137129270400800), '/Resources': IndirectObject(1255, 0, 137129270400800), '/Rotate': 0, '/Thumb': IndirectObject(1127, 0, 137129270400800), '/TrimBox': [0, 0, 612, 792], '/Type': '/Page', '/u2pMat': [1, 0, 0, -1, 0, 792], '/xb1': 0, '/xb2': 612, '/xt1': 0, '/xt2': 612, '/yb1': 0, '/yb2': 792, '/yt1': 0, '/yt2': 792}\n",
      "41 {'/BleedBox': [0, 0, 612, 792], '/Contents': IndirectObject(194, 0, 137129270400800), '/CropBox': [0, 0, 612, 792], '/MediaBox': [0, 0, 612, 792], '/Parent': IndirectObject(1654, 0, 137129270400800), '/Resources': IndirectObject(1256, 0, 137129270400800), '/Rotate': 0, '/Thumb': IndirectObject(1128, 0, 137129270400800), '/TrimBox': [0, 0, 612, 792], '/Type': '/Page', '/u2pMat': [1, 0, 0, -1, 0, 792], '/xb1': 0, '/xb2': 612, '/xt1': 0, '/xt2': 612, '/yb1': 0, '/yb2': 792, '/yt1': 0, '/yt2': 792}\n",
      "42 {'/BleedBox': [0, 0, 612, 792], '/Contents': IndirectObject(197, 0, 137129270400800), '/CropBox': [0, 0, 612, 792], '/MediaBox': [0, 0, 612, 792], '/Parent': IndirectObject(1654, 0, 137129270400800), '/Resources': IndirectObject(1257, 0, 137129270400800), '/Rotate': 0, '/Thumb': IndirectObject(1129, 0, 137129270400800), '/TrimBox': [0, 0, 612, 792], '/Type': '/Page', '/u2pMat': [1, 0, 0, -1, 0, 792], '/xb1': 0, '/xb2': 612, '/xt1': 0, '/xt2': 612, '/yb1': 0, '/yb2': 792, '/yt1': 0, '/yt2': 792}\n",
      "43 {'/BleedBox': [0, 0, 612, 792], '/Contents': IndirectObject(200, 0, 137129270400800), '/CropBox': [0, 0, 612, 792], '/MediaBox': [0, 0, 612, 792], '/Parent': IndirectObject(1654, 0, 137129270400800), '/Resources': IndirectObject(1258, 0, 137129270400800), '/Rotate': 0, '/Thumb': IndirectObject(1130, 0, 137129270400800), '/TrimBox': [0, 0, 612, 792], '/Type': '/Page', '/u2pMat': [1, 0, 0, -1, 0, 792], '/xb1': 0, '/xb2': 612, '/xt1': 0, '/xt2': 612, '/yb1': 0, '/yb2': 792, '/yt1': 0, '/yt2': 792}\n",
      "44 {'/BleedBox': [0, 0, 612, 792], '/Contents': IndirectObject(203, 0, 137129270400800), '/CropBox': [0, 0, 612, 792], '/MediaBox': [0, 0, 612, 792], '/Parent': IndirectObject(1654, 0, 137129270400800), '/Resources': IndirectObject(1259, 0, 137129270400800), '/Rotate': 0, '/Thumb': IndirectObject(1131, 0, 137129270400800), '/TrimBox': [0, 0, 612, 792], '/Type': '/Page', '/u2pMat': [1, 0, 0, -1, 0, 792], '/xb1': 0, '/xb2': 612, '/xt1': 0, '/xt2': 612, '/yb1': 0, '/yb2': 792, '/yt1': 0, '/yt2': 792}\n",
      "45 {'/BleedBox': [0, 0, 612, 792], '/Contents': IndirectObject(206, 0, 137129270400800), '/CropBox': [0, 0, 612, 792], '/MediaBox': [0, 0, 612, 792], '/Parent': IndirectObject(1654, 0, 137129270400800), '/Resources': IndirectObject(1260, 0, 137129270400800), '/Rotate': 0, '/Thumb': IndirectObject(1132, 0, 137129270400800), '/TrimBox': [0, 0, 612, 792], '/Type': '/Page', '/u2pMat': [1, 0, 0, -1, 0, 792], '/xb1': 0, '/xb2': 612, '/xt1': 0, '/xt2': 612, '/yb1': 0, '/yb2': 792, '/yt1': 0, '/yt2': 792}\n",
      "46 {'/BleedBox': [0, 0, 612, 792], '/Contents': IndirectObject(209, 0, 137129270400800), '/CropBox': [0, 0, 612, 792], '/MediaBox': [0, 0, 612, 792], '/Parent': IndirectObject(1654, 0, 137129270400800), '/Resources': IndirectObject(1261, 0, 137129270400800), '/Rotate': 0, '/Thumb': IndirectObject(1133, 0, 137129270400800), '/TrimBox': [0, 0, 612, 792], '/Type': '/Page', '/u2pMat': [1, 0, 0, -1, 0, 792], '/xb1': 0, '/xb2': 612, '/xt1': 0, '/xt2': 612, '/yb1': 0, '/yb2': 792, '/yt1': 0, '/yt2': 792}\n",
      "47 {'/BleedBox': [0, 0, 612, 792], '/Contents': IndirectObject(212, 0, 137129270400800), '/CropBox': [0, 0, 612, 792], '/MediaBox': [0, 0, 612, 792], '/Parent': IndirectObject(1654, 0, 137129270400800), '/Resources': IndirectObject(1262, 0, 137129270400800), '/Rotate': 0, '/Thumb': IndirectObject(1134, 0, 137129270400800), '/TrimBox': [0, 0, 612, 792], '/Type': '/Page', '/u2pMat': [1, 0, 0, -1, 0, 792], '/xb1': 0, '/xb2': 612, '/xt1': 0, '/xt2': 612, '/yb1': 0, '/yb2': 792, '/yt1': 0, '/yt2': 792}\n",
      "48 {'/BleedBox': [0, 0, 612, 792], '/Contents': IndirectObject(216, 0, 137129270400800), '/CropBox': [0, 0, 612, 792], '/MediaBox': [0, 0, 612, 792], '/Parent': IndirectObject(1654, 0, 137129270400800), '/Resources': IndirectObject(1263, 0, 137129270400800), '/Rotate': 0, '/Thumb': IndirectObject(1135, 0, 137129270400800), '/TrimBox': [0, 0, 612, 792], '/Type': '/Page', '/u2pMat': [1, 0, 0, -1, 0, 792], '/xb1': 0, '/xb2': 612, '/xt1': 0, '/xt2': 612, '/yb1': 0, '/yb2': 792, '/yt1': 0, '/yt2': 792}\n",
      "49 {'/BleedBox': [0, 0, 612, 792], '/Contents': IndirectObject(222, 0, 137129270400800), '/CropBox': [0, 0, 612, 792], '/MediaBox': [0, 0, 612, 792], '/Parent': IndirectObject(1654, 0, 137129270400800), '/Resources': IndirectObject(1264, 0, 137129270400800), '/Rotate': 0, '/Thumb': IndirectObject(1136, 0, 137129270400800), '/TrimBox': [0, 0, 612, 792], '/Type': '/Page', '/u2pMat': [1, 0, 0, -1, 0, 792], '/xb1': 0, '/xb2': 612, '/xt1': 0, '/xt2': 612, '/yb1': 0, '/yb2': 792, '/yt1': 0, '/yt2': 792}\n",
      "50 {'/BleedBox': [0, 0, 612, 792], '/Contents': IndirectObject(225, 0, 137129270400800), '/CropBox': [0, 0, 612, 792], '/MediaBox': [0, 0, 612, 792], '/Parent': IndirectObject(1655, 0, 137129270400800), '/Resources': IndirectObject(1265, 0, 137129270400800), '/Rotate': 0, '/Thumb': IndirectObject(1137, 0, 137129270400800), '/TrimBox': [0, 0, 612, 792], '/Type': '/Page', '/u2pMat': [1, 0, 0, -1, 0, 792], '/xb1': 0, '/xb2': 612, '/xt1': 0, '/xt2': 612, '/yb1': 0, '/yb2': 792, '/yt1': 0, '/yt2': 792}\n",
      "51 {'/BleedBox': [0, 0, 612, 792], '/Contents': IndirectObject(1761, 0, 137129270400800), '/CropBox': [0, 0, 612, 792], '/MediaBox': [0, 0, 612, 792], '/Parent': IndirectObject(1655, 0, 137129270400800), '/Resources': {'/ExtGState': {'/GS0': IndirectObject(1707, 0, 137129270400800), '/GS1': IndirectObject(1706, 0, 137129270400800), '/GS2': IndirectObject(1708, 0, 137129270400800)}, '/Font': {'/C0_0': IndirectObject(1742, 0, 137129270400800), '/C2_0': IndirectObject(1743, 0, 137129270400800), '/T1_0': IndirectObject(1724, 0, 137129270400800), '/T1_1': IndirectObject(1732, 0, 137129270400800), '/T1_2': IndirectObject(1713, 0, 137129270400800), '/T1_3': IndirectObject(1720, 0, 137129270400800)}, '/ProcSet': ['/PDF', '/Text', '/ImageB'], '/XObject': {'/Im0': IndirectObject(232, 0, 137129270400800)}}, '/Rotate': 0, '/Thumb': IndirectObject(1138, 0, 137129270400800), '/TrimBox': [0, 0, 612, 792], '/Type': '/Page', '/u2pMat': [1, 0, 0, -1, 0, 792], '/xb1': 0, '/xb2': 612, '/xt1': 0, '/xt2': 612, '/yb1': 0, '/yb2': 792, '/yt1': 0, '/yt2': 792}\n",
      "52 {'/BleedBox': [0, 0, 612, 792], '/Contents': IndirectObject(235, 0, 137129270400800), '/CropBox': [0, 0, 612, 792], '/MediaBox': [0, 0, 612, 792], '/Parent': IndirectObject(1655, 0, 137129270400800), '/Resources': IndirectObject(1268, 0, 137129270400800), '/Rotate': 0, '/Thumb': IndirectObject(1139, 0, 137129270400800), '/TrimBox': [0, 0, 612, 792], '/Type': '/Page', '/u2pMat': [1, 0, 0, -1, 0, 792], '/xb1': 0, '/xb2': 612, '/xt1': 0, '/xt2': 612, '/yb1': 0, '/yb2': 792, '/yt1': 0, '/yt2': 792}\n",
      "53 {'/BleedBox': [0, 0, 612, 792], '/Contents': IndirectObject(247, 0, 137129270400800), '/CropBox': [0, 0, 612, 792], '/MediaBox': [0, 0, 612, 792], '/Parent': IndirectObject(1655, 0, 137129270400800), '/Resources': IndirectObject(1275, 0, 137129270400800), '/Rotate': 0, '/Thumb': IndirectObject(1140, 0, 137129270400800), '/TrimBox': [0, 0, 612, 792], '/Type': '/Page', '/u2pMat': [1, 0, 0, -1, 0, 792], '/xb1': 0, '/xb2': 612, '/xt1': 0, '/xt2': 612, '/yb1': 0, '/yb2': 792, '/yt1': 0, '/yt2': 792}\n",
      "54 {'/BleedBox': [0, 0, 612, 792], '/Contents': IndirectObject(258, 0, 137129270400800), '/CropBox': [0, 0, 612, 792], '/MediaBox': [0, 0, 612, 792], '/Parent': IndirectObject(1655, 0, 137129270400800), '/Resources': IndirectObject(1282, 0, 137129270400800), '/Rotate': 0, '/Thumb': IndirectObject(1141, 0, 137129270400800), '/TrimBox': [0, 0, 612, 792], '/Type': '/Page', '/u2pMat': [1, 0, 0, -1, 0, 792], '/xb1': 0, '/xb2': 612, '/xt1': 0, '/xt2': 612, '/yb1': 0, '/yb2': 792, '/yt1': 0, '/yt2': 792}\n",
      "55 {'/BleedBox': [0, 0, 612, 792], '/Contents': IndirectObject(261, 0, 137129270400800), '/CropBox': [0, 0, 612, 792], '/MediaBox': [0, 0, 612, 792], '/Parent': IndirectObject(1655, 0, 137129270400800), '/Resources': IndirectObject(1283, 0, 137129270400800), '/Rotate': 0, '/Thumb': IndirectObject(1142, 0, 137129270400800), '/TrimBox': [0, 0, 612, 792], '/Type': '/Page', '/u2pMat': [1, 0, 0, -1, 0, 792], '/xb1': 0, '/xb2': 612, '/xt1': 0, '/xt2': 612, '/yb1': 0, '/yb2': 792, '/yt1': 0, '/yt2': 792}\n",
      "56 {'/BleedBox': [0, 0, 612, 792], '/Contents': IndirectObject(267, 0, 137129270400800), '/CropBox': [0, 0, 612, 792], '/MediaBox': [0, 0, 612, 792], '/Parent': IndirectObject(1655, 0, 137129270400800), '/Resources': IndirectObject(1284, 0, 137129270400800), '/Rotate': 0, '/Thumb': IndirectObject(1143, 0, 137129270400800), '/TrimBox': [0, 0, 612, 792], '/Type': '/Page', '/u2pMat': [1, 0, 0, -1, 0, 792], '/xb1': 0, '/xb2': 612, '/xt1': 0, '/xt2': 612, '/yb1': 0, '/yb2': 792, '/yt1': 0, '/yt2': 792}\n",
      "57 {'/BleedBox': [0, 0, 612, 792], '/Contents': IndirectObject(271, 0, 137129270400800), '/CropBox': [0, 0, 612, 792], '/MediaBox': [0, 0, 612, 792], '/Parent': IndirectObject(1655, 0, 137129270400800), '/Resources': IndirectObject(1285, 0, 137129270400800), '/Rotate': 0, '/Thumb': IndirectObject(1144, 0, 137129270400800), '/TrimBox': [0, 0, 612, 792], '/Type': '/Page', '/u2pMat': [1, 0, 0, -1, 0, 792], '/xb1': 0, '/xb2': 612, '/xt1': 0, '/xt2': 612, '/yb1': 0, '/yb2': 792, '/yt1': 0, '/yt2': 792}\n",
      "58 {'/BleedBox': [0, 0, 612, 792], '/Contents': IndirectObject(275, 0, 137129270400800), '/CropBox': [0, 0, 612, 792], '/MediaBox': [0, 0, 612, 792], '/Parent': IndirectObject(1655, 0, 137129270400800), '/Resources': IndirectObject(1286, 0, 137129270400800), '/Rotate': 0, '/Thumb': IndirectObject(1145, 0, 137129270400800), '/TrimBox': [0, 0, 612, 792], '/Type': '/Page', '/u2pMat': [1, 0, 0, -1, 0, 792], '/xb1': 0, '/xb2': 612, '/xt1': 0, '/xt2': 612, '/yb1': 0, '/yb2': 792, '/yt1': 0, '/yt2': 792}\n",
      "59 {'/BleedBox': [0, 0, 612, 792], '/Contents': IndirectObject(278, 0, 137129270400800), '/CropBox': [0, 0, 612, 792], '/MediaBox': [0, 0, 612, 792], '/Parent': IndirectObject(1655, 0, 137129270400800), '/Resources': IndirectObject(1287, 0, 137129270400800), '/Rotate': 0, '/Thumb': IndirectObject(1146, 0, 137129270400800), '/TrimBox': [0, 0, 612, 792], '/Type': '/Page', '/u2pMat': [1, 0, 0, -1, 0, 792], '/xb1': 0, '/xb2': 612, '/xt1': 0, '/xt2': 612, '/yb1': 0, '/yb2': 792, '/yt1': 0, '/yt2': 792}\n",
      "60 {'/BleedBox': [0, 0, 612, 792], '/Contents': IndirectObject(282, 0, 137129270400800), '/CropBox': [0, 0, 612, 792], '/MediaBox': [0, 0, 612, 792], '/Parent': IndirectObject(1656, 0, 137129270400800), '/Resources': IndirectObject(1288, 0, 137129270400800), '/Rotate': 0, '/Thumb': IndirectObject(1147, 0, 137129270400800), '/TrimBox': [0, 0, 612, 792], '/Type': '/Page', '/u2pMat': [1, 0, 0, -1, 0, 792], '/xb1': 0, '/xb2': 612, '/xt1': 0, '/xt2': 612, '/yb1': 0, '/yb2': 792, '/yt1': 0, '/yt2': 792}\n",
      "61 {'/BleedBox': [0, 0, 612, 792], '/Contents': IndirectObject(285, 0, 137129270400800), '/CropBox': [0, 0, 612, 792], '/MediaBox': [0, 0, 612, 792], '/Parent': IndirectObject(1656, 0, 137129270400800), '/Resources': IndirectObject(1289, 0, 137129270400800), '/Rotate': 0, '/Thumb': IndirectObject(1148, 0, 137129270400800), '/TrimBox': [0, 0, 612, 792], '/Type': '/Page', '/u2pMat': [1, 0, 0, -1, 0, 792], '/xb1': 0, '/xb2': 612, '/xt1': 0, '/xt2': 612, '/yb1': 0, '/yb2': 792, '/yt1': 0, '/yt2': 792}\n",
      "62 {'/BleedBox': [0, 0, 612, 792], '/Contents': IndirectObject(291, 0, 137129270400800), '/CropBox': [0, 0, 612, 792], '/MediaBox': [0, 0, 612, 792], '/Parent': IndirectObject(1656, 0, 137129270400800), '/Resources': IndirectObject(1290, 0, 137129270400800), '/Rotate': 0, '/Thumb': IndirectObject(1149, 0, 137129270400800), '/TrimBox': [0, 0, 612, 792], '/Type': '/Page', '/u2pMat': [1, 0, 0, -1, 0, 792], '/xb1': 0, '/xb2': 612, '/xt1': 0, '/xt2': 612, '/yb1': 0, '/yb2': 792, '/yt1': 0, '/yt2': 792}\n",
      "63 {'/BleedBox': [0, 0, 612, 792], '/Contents': IndirectObject(298, 0, 137129270400800), '/CropBox': [0, 0, 612, 792], '/MediaBox': [0, 0, 612, 792], '/Parent': IndirectObject(1656, 0, 137129270400800), '/Resources': IndirectObject(1291, 0, 137129270400800), '/Rotate': 0, '/Thumb': IndirectObject(1150, 0, 137129270400800), '/TrimBox': [0, 0, 612, 792], '/Type': '/Page', '/u2pMat': [1, 0, 0, -1, 0, 792], '/xb1': 0, '/xb2': 612, '/xt1': 0, '/xt2': 612, '/yb1': 0, '/yb2': 792, '/yt1': 0, '/yt2': 792}\n",
      "64 {'/BleedBox': [0, 0, 612, 792], '/Contents': IndirectObject(304, 0, 137129270400800), '/CropBox': [0, 0, 612, 792], '/MediaBox': [0, 0, 612, 792], '/Parent': IndirectObject(1656, 0, 137129270400800), '/Resources': IndirectObject(1292, 0, 137129270400800), '/Rotate': 0, '/Thumb': IndirectObject(1151, 0, 137129270400800), '/TrimBox': [0, 0, 612, 792], '/Type': '/Page', '/u2pMat': [1, 0, 0, -1, 0, 792], '/xb1': 0, '/xb2': 612, '/xt1': 0, '/xt2': 612, '/yb1': 0, '/yb2': 792, '/yt1': 0, '/yt2': 792}\n",
      "65 {'/BleedBox': [0, 0, 612, 792], '/Contents': IndirectObject(308, 0, 137129270400800), '/CropBox': [0, 0, 612, 792], '/MediaBox': [0, 0, 612, 792], '/Parent': IndirectObject(1656, 0, 137129270400800), '/Resources': IndirectObject(1293, 0, 137129270400800), '/Rotate': 0, '/Thumb': IndirectObject(1152, 0, 137129270400800), '/TrimBox': [0, 0, 612, 792], '/Type': '/Page', '/u2pMat': [1, 0, 0, -1, 0, 792], '/xb1': 0, '/xb2': 612, '/xt1': 0, '/xt2': 612, '/yb1': 0, '/yb2': 792, '/yt1': 0, '/yt2': 792}\n",
      "66 {'/BleedBox': [0, 0, 612, 792], '/Contents': IndirectObject(312, 0, 137129270400800), '/CropBox': [0, 0, 612, 792], '/MediaBox': [0, 0, 612, 792], '/Parent': IndirectObject(1656, 0, 137129270400800), '/Resources': IndirectObject(1294, 0, 137129270400800), '/Rotate': 0, '/Thumb': IndirectObject(1153, 0, 137129270400800), '/TrimBox': [0, 0, 612, 792], '/Type': '/Page', '/u2pMat': [1, 0, 0, -1, 0, 792], '/xb1': 0, '/xb2': 612, '/xt1': 0, '/xt2': 612, '/yb1': 0, '/yb2': 792, '/yt1': 0, '/yt2': 792}\n",
      "67 {'/BleedBox': [0, 0, 612, 792], '/Contents': IndirectObject(317, 0, 137129270400800), '/CropBox': [0, 0, 612, 792], '/MediaBox': [0, 0, 612, 792], '/Parent': IndirectObject(1656, 0, 137129270400800), '/Resources': IndirectObject(1296, 0, 137129270400800), '/Rotate': 0, '/Thumb': IndirectObject(1154, 0, 137129270400800), '/TrimBox': [0, 0, 612, 792], '/Type': '/Page', '/u2pMat': [1, 0, 0, -1, 0, 792], '/xb1': 0, '/xb2': 612, '/xt1': 0, '/xt2': 612, '/yb1': 0, '/yb2': 792, '/yt1': 0, '/yt2': 792}\n",
      "68 {'/BleedBox': [0, 0, 612, 792], '/Contents': IndirectObject(338, 0, 137129270400800), '/CropBox': [0, 0, 612, 792], '/MediaBox': [0, 0, 612, 792], '/Parent': IndirectObject(1656, 0, 137129270400800), '/Resources': IndirectObject(1311, 0, 137129270400800), '/Rotate': 0, '/Thumb': IndirectObject(1155, 0, 137129270400800), '/TrimBox': [0, 0, 612, 792], '/Type': '/Page', '/u2pMat': [1, 0, 0, -1, 0, 792], '/xb1': 0, '/xb2': 612, '/xt1': 0, '/xt2': 612, '/yb1': 0, '/yb2': 792, '/yt1': 0, '/yt2': 792}\n",
      "69 {'/BleedBox': [0, 0, 612, 792], '/Contents': IndirectObject(1760, 0, 137129270400800), '/CropBox': [0, 0, 612, 792], '/MediaBox': [0, 0, 612, 792], '/Parent': IndirectObject(1656, 0, 137129270400800), '/Resources': {'/ExtGState': {'/GS0': IndirectObject(1707, 0, 137129270400800), '/GS1': IndirectObject(1706, 0, 137129270400800), '/GS2': IndirectObject(1708, 0, 137129270400800)}, '/Font': {'/T1_0': IndirectObject(1724, 0, 137129270400800), '/T1_1': IndirectObject(1715, 0, 137129270400800), '/T1_2': IndirectObject(1711, 0, 137129270400800), '/T1_3': IndirectObject(1439, 0, 137129270400800), '/T1_4': IndirectObject(1440, 0, 137129270400800), '/T1_5': IndirectObject(1428, 0, 137129270400800)}, '/ProcSet': ['/PDF', '/Text']}, '/Rotate': 0, '/Thumb': IndirectObject(1156, 0, 137129270400800), '/TrimBox': [0, 0, 612, 792], '/Type': '/Page', '/u2pMat': [1, 0, 0, -1, 0, 792], '/xb1': 0, '/xb2': 612, '/xt1': 0, '/xt2': 612, '/yb1': 0, '/yb2': 792, '/yt1': 0, '/yt2': 792}\n",
      "70 {'/BleedBox': [0, 0, 612, 792], '/Contents': IndirectObject(1759, 0, 137129270400800), '/CropBox': [0, 0, 612, 792], '/MediaBox': [0, 0, 612, 792], '/Parent': IndirectObject(1657, 0, 137129270400800), '/Resources': {'/ExtGState': {'/GS0': IndirectObject(1707, 0, 137129270400800), '/GS1': IndirectObject(1706, 0, 137129270400800), '/GS2': IndirectObject(1708, 0, 137129270400800)}, '/Font': {'/T1_0': IndirectObject(1724, 0, 137129270400800), '/T1_1': IndirectObject(1715, 0, 137129270400800), '/T1_2': IndirectObject(1439, 0, 137129270400800), '/T1_3': IndirectObject(1711, 0, 137129270400800), '/T1_4': IndirectObject(1428, 0, 137129270400800)}, '/ProcSet': ['/PDF', '/Text']}, '/Rotate': 0, '/Thumb': IndirectObject(1157, 0, 137129270400800), '/TrimBox': [0, 0, 612, 792], '/Type': '/Page', '/u2pMat': [1, 0, 0, -1, 0, 792], '/xb1': 0, '/xb2': 612, '/xt1': 0, '/xt2': 612, '/yb1': 0, '/yb2': 792, '/yt1': 0, '/yt2': 792}\n",
      "71 {'/BleedBox': [0, 0, 612, 792], '/Contents': IndirectObject(349, 0, 137129270400800), '/CropBox': [0, 0, 612, 792], '/MediaBox': [0, 0, 612, 792], '/Parent': IndirectObject(1657, 0, 137129270400800), '/Resources': IndirectObject(1315, 0, 137129270400800), '/Rotate': 0, '/Thumb': IndirectObject(1158, 0, 137129270400800), '/TrimBox': [0, 0, 612, 792], '/Type': '/Page', '/u2pMat': [1, 0, 0, -1, 0, 792], '/xb1': 0, '/xb2': 612, '/xt1': 0, '/xt2': 612, '/yb1': 0, '/yb2': 792, '/yt1': 0, '/yt2': 792}\n",
      "72 {'/BleedBox': [0, 0, 612, 792], '/Contents': IndirectObject(1758, 0, 137129270400800), '/CropBox': [0, 0, 612, 792], '/MediaBox': [0, 0, 612, 792], '/Parent': IndirectObject(1657, 0, 137129270400800), '/Resources': {'/ColorSpace': {'/CS0': IndirectObject(1443, 0, 137129270400800)}, '/ExtGState': {'/GS0': IndirectObject(1707, 0, 137129270400800), '/GS1': IndirectObject(1706, 0, 137129270400800), '/GS2': IndirectObject(1708, 0, 137129270400800)}, '/Font': {'/T1_0': IndirectObject(1724, 0, 137129270400800), '/T1_1': IndirectObject(1715, 0, 137129270400800), '/T1_2': IndirectObject(1428, 0, 137129270400800), '/T1_3': IndirectObject(1711, 0, 137129270400800), '/T1_4': IndirectObject(1441, 0, 137129270400800), '/T1_5': IndirectObject(1442, 0, 137129270400800)}, '/ProcSet': ['/PDF', '/Text']}, '/Rotate': 0, '/Thumb': IndirectObject(1159, 0, 137129270400800), '/TrimBox': [0, 0, 612, 792], '/Type': '/Page', '/u2pMat': [1, 0, 0, -1, 0, 792], '/xb1': 0, '/xb2': 612, '/xt1': 0, '/xt2': 612, '/yb1': 0, '/yb2': 792, '/yt1': 0, '/yt2': 792}\n",
      "73 {'/BleedBox': [0, 0, 612, 792], '/Contents': IndirectObject(360, 0, 137129270400800), '/CropBox': [0, 0, 612, 792], '/MediaBox': [0, 0, 612, 792], '/Parent': IndirectObject(1657, 0, 137129270400800), '/Resources': IndirectObject(1321, 0, 137129270400800), '/Rotate': 0, '/Thumb': IndirectObject(1160, 0, 137129270400800), '/TrimBox': [0, 0, 612, 792], '/Type': '/Page', '/u2pMat': [1, 0, 0, -1, 0, 792], '/xb1': 0, '/xb2': 612, '/xt1': 0, '/xt2': 612, '/yb1': 0, '/yb2': 792, '/yt1': 0, '/yt2': 792}\n",
      "74 {'/BleedBox': [0, 0, 612, 792], '/Contents': IndirectObject(1757, 0, 137129270400800), '/CropBox': [0, 0, 612, 792], '/MediaBox': [0, 0, 612, 792], '/Parent': IndirectObject(1657, 0, 137129270400800), '/Resources': {'/ColorSpace': {'/CS0': IndirectObject(1705, 0, 137129270400800)}, '/ExtGState': {'/GS0': IndirectObject(1707, 0, 137129270400800), '/GS1': IndirectObject(1706, 0, 137129270400800), '/GS2': IndirectObject(1708, 0, 137129270400800)}, '/Font': {'/T1_0': IndirectObject(1724, 0, 137129270400800), '/T1_1': IndirectObject(1732, 0, 137129270400800), '/T1_2': IndirectObject(1357, 0, 137129270400800), '/T1_3': IndirectObject(1387, 0, 137129270400800), '/T1_4': IndirectObject(1736, 0, 137129270400800), '/T1_5': IndirectObject(1718, 0, 137129270400800)}, '/ProcSet': ['/PDF', '/Text', '/ImageC'], '/XObject': {'/Im0': IndirectObject(1077, 0, 137129270400800)}}, '/Rotate': 0, '/Thumb': IndirectObject(1161, 0, 137129270400800), '/TrimBox': [0, 0, 612, 792], '/Type': '/Page', '/u2pMat': [1, 0, 0, -1, 0, 792], '/xb1': 0, '/xb2': 612, '/xt1': 0, '/xt2': 612, '/yb1': 0, '/yb2': 792, '/yt1': 0, '/yt2': 792}\n",
      "75 {'/BleedBox': [0, 0, 612, 792], '/Contents': IndirectObject(1756, 0, 137129270400800), '/CropBox': [0, 0, 612, 792], '/MediaBox': [0, 0, 612, 792], '/Parent': IndirectObject(1657, 0, 137129270400800), '/Resources': {'/ColorSpace': {'/CS0': IndirectObject(1705, 0, 137129270400800)}, '/ExtGState': {'/GS0': IndirectObject(1707, 0, 137129270400800), '/GS1': IndirectObject(1706, 0, 137129270400800), '/GS2': IndirectObject(1708, 0, 137129270400800)}, '/Font': {'/T1_0': IndirectObject(1724, 0, 137129270400800), '/T1_1': IndirectObject(1732, 0, 137129270400800), '/T1_2': IndirectObject(1357, 0, 137129270400800), '/T1_3': IndirectObject(1387, 0, 137129270400800), '/T1_4': IndirectObject(1736, 0, 137129270400800), '/T1_5': IndirectObject(1718, 0, 137129270400800)}, '/ProcSet': ['/PDF', '/Text', '/ImageC'], '/XObject': {'/Im0': IndirectObject(1077, 0, 137129270400800)}}, '/Rotate': 0, '/Thumb': IndirectObject(1162, 0, 137129270400800), '/TrimBox': [0, 0, 612, 792], '/Type': '/Page', '/u2pMat': [1, 0, 0, -1, 0, 792], '/xb1': 0, '/xb2': 612, '/xt1': 0, '/xt2': 612, '/yb1': 0, '/yb2': 792, '/yt1': 0, '/yt2': 792}\n",
      "76 {'/BleedBox': [0, 0, 612, 792], '/Contents': IndirectObject(1755, 0, 137129270400800), '/CropBox': [0, 0, 612, 792], '/MediaBox': [0, 0, 612, 792], '/Parent': IndirectObject(1657, 0, 137129270400800), '/Resources': {'/ColorSpace': {'/CS0': IndirectObject(1705, 0, 137129270400800)}, '/ExtGState': {'/GS0': IndirectObject(1707, 0, 137129270400800), '/GS1': IndirectObject(1706, 0, 137129270400800), '/GS2': IndirectObject(1708, 0, 137129270400800)}, '/Font': {'/T1_0': IndirectObject(1724, 0, 137129270400800), '/T1_1': IndirectObject(1732, 0, 137129270400800), '/T1_2': IndirectObject(1357, 0, 137129270400800), '/T1_3': IndirectObject(1387, 0, 137129270400800), '/T1_4': IndirectObject(1736, 0, 137129270400800), '/T1_5': IndirectObject(1720, 0, 137129270400800), '/T1_6': IndirectObject(1718, 0, 137129270400800)}, '/ProcSet': ['/PDF', '/Text', '/ImageC'], '/XObject': {'/Im0': IndirectObject(1077, 0, 137129270400800)}}, '/Rotate': 0, '/Thumb': IndirectObject(1163, 0, 137129270400800), '/TrimBox': [0, 0, 612, 792], '/Type': '/Page', '/u2pMat': [1, 0, 0, -1, 0, 792], '/xb1': 0, '/xb2': 612, '/xt1': 0, '/xt2': 612, '/yb1': 0, '/yb2': 792, '/yt1': 0, '/yt2': 792}\n",
      "77 {'/BleedBox': [0, 0, 612, 792], '/Contents': IndirectObject(1754, 0, 137129270400800), '/CropBox': [0, 0, 612, 792], '/MediaBox': [0, 0, 612, 792], '/Parent': IndirectObject(1657, 0, 137129270400800), '/Resources': {'/ColorSpace': {'/CS0': IndirectObject(1705, 0, 137129270400800)}, '/ExtGState': {'/GS0': IndirectObject(1707, 0, 137129270400800), '/GS1': IndirectObject(1706, 0, 137129270400800), '/GS2': IndirectObject(1708, 0, 137129270400800)}, '/Font': {'/T1_0': IndirectObject(1724, 0, 137129270400800), '/T1_1': IndirectObject(1732, 0, 137129270400800), '/T1_2': IndirectObject(1357, 0, 137129270400800), '/T1_3': IndirectObject(1387, 0, 137129270400800), '/T1_4': IndirectObject(1736, 0, 137129270400800), '/T1_5': IndirectObject(1718, 0, 137129270400800)}, '/ProcSet': ['/PDF', '/Text', '/ImageC'], '/XObject': {'/Im0': IndirectObject(1077, 0, 137129270400800)}}, '/Rotate': 0, '/Thumb': IndirectObject(1164, 0, 137129270400800), '/TrimBox': [0, 0, 612, 792], '/Type': '/Page', '/u2pMat': [1, 0, 0, -1, 0, 792], '/xb1': 0, '/xb2': 612, '/xt1': 0, '/xt2': 612, '/yb1': 0, '/yb2': 792, '/yt1': 0, '/yt2': 792}\n",
      "78 {'/BleedBox': [0, 0, 612, 792], '/Contents': IndirectObject(1746, 0, 137129270400800), '/CropBox': [0, 0, 612, 792], '/MediaBox': [0, 0, 612, 792], '/Parent': IndirectObject(1657, 0, 137129270400800), '/Resources': {'/ColorSpace': {'/CS0': IndirectObject(1705, 0, 137129270400800)}, '/ExtGState': {'/GS0': IndirectObject(1707, 0, 137129270400800), '/GS1': IndirectObject(1706, 0, 137129270400800), '/GS2': IndirectObject(1708, 0, 137129270400800)}, '/Font': {'/C0_0': IndirectObject(1742, 0, 137129270400800), '/T1_0': IndirectObject(1724, 0, 137129270400800), '/T1_1': IndirectObject(1732, 0, 137129270400800), '/T1_2': IndirectObject(1718, 0, 137129270400800)}, '/ProcSet': ['/PDF', '/Text', '/ImageC'], '/XObject': {'/Im0': IndirectObject(1077, 0, 137129270400800)}}, '/Rotate': 0, '/Thumb': IndirectObject(1165, 0, 137129270400800), '/TrimBox': [0, 0, 612, 792], '/Type': '/Page', '/u2pMat': [1, 0, 0, -1, 0, 792], '/xb1': 0, '/xb2': 612, '/xt1': 0, '/xt2': 612, '/yb1': 0, '/yb2': 792, '/yt1': 0, '/yt2': 792}\n",
      "79 {'/BleedBox': [0, 0, 612, 792], '/Contents': IndirectObject(1745, 0, 137129270400800), '/CropBox': [0, 0, 612, 792], '/MediaBox': [0, 0, 612, 792], '/Parent': IndirectObject(1657, 0, 137129270400800), '/Resources': {'/ColorSpace': {'/CS0': IndirectObject(1585, 0, 137129270400800), '/CS1': IndirectObject(1594, 0, 137129270400800), '/CS10': IndirectObject(1586, 0, 137129270400800), '/CS100': IndirectObject(1499, 0, 137129270400800), '/CS101': IndirectObject(1616, 0, 137129270400800), '/CS102': IndirectObject(1534, 0, 137129270400800), '/CS103': IndirectObject(1581, 0, 137129270400800), '/CS104': IndirectObject(1515, 0, 137129270400800), '/CS105': IndirectObject(1537, 0, 137129270400800), '/CS106': IndirectObject(1614, 0, 137129270400800), '/CS107': IndirectObject(1571, 0, 137129270400800), '/CS108': IndirectObject(1513, 0, 137129270400800), '/CS109': IndirectObject(1605, 0, 137129270400800), '/CS11': IndirectObject(1559, 0, 137129270400800), '/CS110': IndirectObject(1593, 0, 137129270400800), '/CS111': IndirectObject(1539, 0, 137129270400800), '/CS112': IndirectObject(1487, 0, 137129270400800), '/CS113': IndirectObject(1489, 0, 137129270400800), '/CS114': IndirectObject(1547, 0, 137129270400800), '/CS115': IndirectObject(1549, 0, 137129270400800), '/CS116': IndirectObject(1493, 0, 137129270400800), '/CS117': IndirectObject(1553, 0, 137129270400800), '/CS118': IndirectObject(1561, 0, 137129270400800), '/CS119': IndirectObject(1527, 0, 137129270400800), '/CS12': IndirectObject(1604, 0, 137129270400800), '/CS120': IndirectObject(1626, 0, 137129270400800), '/CS121': IndirectObject(1509, 0, 137129270400800), '/CS122': IndirectObject(1531, 0, 137129270400800), '/CS123': IndirectObject(1545, 0, 137129270400800), '/CS124': IndirectObject(1554, 0, 137129270400800), '/CS125': IndirectObject(1525, 0, 137129270400800), '/CS126': IndirectObject(1517, 0, 137129270400800), '/CS127': IndirectObject(1530, 0, 137129270400800), '/CS128': IndirectObject(1560, 0, 137129270400800), '/CS129': IndirectObject(1621, 0, 137129270400800), '/CS13': IndirectObject(1564, 0, 137129270400800), '/CS130': IndirectObject(1574, 0, 137129270400800), '/CS131': IndirectObject(1570, 0, 137129270400800), '/CS132': IndirectObject(1514, 0, 137129270400800), '/CS133': IndirectObject(1548, 0, 137129270400800), '/CS134': IndirectObject(1540, 0, 137129270400800), '/CS135': IndirectObject(1599, 0, 137129270400800), '/CS136': IndirectObject(1490, 0, 137129270400800), '/CS137': IndirectObject(1625, 0, 137129270400800), '/CS138': IndirectObject(1550, 0, 137129270400800), '/CS139': IndirectObject(1519, 0, 137129270400800), '/CS14': IndirectObject(1541, 0, 137129270400800), '/CS140': IndirectObject(1563, 0, 137129270400800), '/CS141': IndirectObject(1536, 0, 137129270400800), '/CS142': IndirectObject(1591, 0, 137129270400800), '/CS143': IndirectObject(1587, 0, 137129270400800), '/CS144': IndirectObject(1600, 0, 137129270400800), '/CS145': IndirectObject(1603, 0, 137129270400800), '/CS146': IndirectObject(1592, 0, 137129270400800), '/CS147': IndirectObject(1552, 0, 137129270400800), '/CS148': IndirectObject(1568, 0, 137129270400800), '/CS149': IndirectObject(1584, 0, 137129270400800), '/CS15': IndirectObject(1494, 0, 137129270400800), '/CS150': IndirectObject(1590, 0, 137129270400800), '/CS151': IndirectObject(1533, 0, 137129270400800), '/CS152': IndirectObject(1572, 0, 137129270400800), '/CS153': IndirectObject(1522, 0, 137129270400800), '/CS154': IndirectObject(1488, 0, 137129270400800), '/CS155': IndirectObject(1505, 0, 137129270400800), '/CS156': IndirectObject(1542, 0, 137129270400800), '/CS157': IndirectObject(1504, 0, 137129270400800), '/CS158': IndirectObject(1502, 0, 137129270400800), '/CS159': IndirectObject(1606, 0, 137129270400800), '/CS16': IndirectObject(1492, 0, 137129270400800), '/CS160': IndirectObject(1498, 0, 137129270400800), '/CS161': IndirectObject(1580, 0, 137129270400800), '/CS162': IndirectObject(1612, 0, 137129270400800), '/CS163': IndirectObject(1624, 0, 137129270400800), '/CS164': IndirectObject(1535, 0, 137129270400800), '/CS165': IndirectObject(1529, 0, 137129270400800), '/CS166': IndirectObject(1618, 0, 137129270400800), '/CS167': IndirectObject(1595, 0, 137129270400800), '/CS168': IndirectObject(1577, 0, 137129270400800), '/CS169': IndirectObject(1520, 0, 137129270400800), '/CS17': IndirectObject(1607, 0, 137129270400800), '/CS170': IndirectObject(1516, 0, 137129270400800), '/CS171': IndirectObject(1558, 0, 137129270400800), '/CS172': IndirectObject(1617, 0, 137129270400800), '/CS173': IndirectObject(1510, 0, 137129270400800), '/CS174': IndirectObject(1503, 0, 137129270400800), '/CS175': IndirectObject(1615, 0, 137129270400800), '/CS176': IndirectObject(1579, 0, 137129270400800), '/CS177': IndirectObject(1512, 0, 137129270400800), '/CS178': IndirectObject(1566, 0, 137129270400800), '/CS179': IndirectObject(1627, 0, 137129270400800), '/CS18': IndirectObject(1569, 0, 137129270400800), '/CS180': IndirectObject(1609, 0, 137129270400800), '/CS181': IndirectObject(1511, 0, 137129270400800), '/CS19': IndirectObject(1589, 0, 137129270400800), '/CS2': IndirectObject(1578, 0, 137129270400800), '/CS20': IndirectObject(1508, 0, 137129270400800), '/CS21': IndirectObject(1523, 0, 137129270400800), '/CS22': IndirectObject(1567, 0, 137129270400800), '/CS23': IndirectObject(1526, 0, 137129270400800), '/CS24': IndirectObject(1556, 0, 137129270400800), '/CS25': IndirectObject(1620, 0, 137129270400800), '/CS26': IndirectObject(1602, 0, 137129270400800), '/CS27': IndirectObject(1610, 0, 137129270400800), '/CS28': IndirectObject(1528, 0, 137129270400800), '/CS29': IndirectObject(1597, 0, 137129270400800), '/CS3': IndirectObject(1495, 0, 137129270400800), '/CS30': IndirectObject(1613, 0, 137129270400800), '/CS31': IndirectObject(1555, 0, 137129270400800), '/CS32': IndirectObject(1506, 0, 137129270400800), '/CS33': IndirectObject(1608, 0, 137129270400800), '/CS34': IndirectObject(1543, 0, 137129270400800), '/CS35': IndirectObject(1497, 0, 137129270400800), '/CS36': IndirectObject(1544, 0, 137129270400800), '/CS37': IndirectObject(1598, 0, 137129270400800), '/CS38': IndirectObject(1588, 0, 137129270400800), '/CS39': IndirectObject(1466, 0, 137129270400800), '/CS4': IndirectObject(1565, 0, 137129270400800), '/CS40': IndirectObject(1448, 0, 137129270400800), '/CS41': IndirectObject(1485, 0, 137129270400800), '/CS42': IndirectObject(1450, 0, 137129270400800), '/CS43': IndirectObject(1451, 0, 137129270400800), '/CS44': IndirectObject(1486, 0, 137129270400800), '/CS45': IndirectObject(1475, 0, 137129270400800), '/CS46': IndirectObject(1449, 0, 137129270400800), '/CS47': IndirectObject(1467, 0, 137129270400800), '/CS48': IndirectObject(1461, 0, 137129270400800), '/CS49': IndirectObject(1463, 0, 137129270400800), '/CS5': IndirectObject(1546, 0, 137129270400800), '/CS50': IndirectObject(1470, 0, 137129270400800), '/CS51': IndirectObject(1462, 0, 137129270400800), '/CS52': IndirectObject(1464, 0, 137129270400800), '/CS53': IndirectObject(1459, 0, 137129270400800), '/CS54': IndirectObject(1460, 0, 137129270400800), '/CS55': IndirectObject(1458, 0, 137129270400800), '/CS56': IndirectObject(1465, 0, 137129270400800), '/CS57': IndirectObject(1471, 0, 137129270400800), '/CS58': IndirectObject(1477, 0, 137129270400800), '/CS59': IndirectObject(1445, 0, 137129270400800), '/CS6': IndirectObject(1518, 0, 137129270400800), '/CS60': IndirectObject(1474, 0, 137129270400800), '/CS61': IndirectObject(1480, 0, 137129270400800), '/CS62': IndirectObject(1455, 0, 137129270400800), '/CS63': IndirectObject(1481, 0, 137129270400800), '/CS64': IndirectObject(1476, 0, 137129270400800), '/CS65': IndirectObject(1456, 0, 137129270400800), '/CS66': IndirectObject(1454, 0, 137129270400800), '/CS67': IndirectObject(1479, 0, 137129270400800), '/CS68': IndirectObject(1447, 0, 137129270400800), '/CS69': IndirectObject(1484, 0, 137129270400800), '/CS7': IndirectObject(1521, 0, 137129270400800), '/CS70': IndirectObject(1457, 0, 137129270400800), '/CS71': IndirectObject(1478, 0, 137129270400800), '/CS72': IndirectObject(1472, 0, 137129270400800), '/CS73': IndirectObject(1446, 0, 137129270400800), '/CS74': IndirectObject(1453, 0, 137129270400800), '/CS75': IndirectObject(1452, 0, 137129270400800), '/CS76': IndirectObject(1444, 0, 137129270400800), '/CS77': IndirectObject(1482, 0, 137129270400800), '/CS78': IndirectObject(1473, 0, 137129270400800), '/CS79': IndirectObject(1483, 0, 137129270400800), '/CS8': IndirectObject(1573, 0, 137129270400800), '/CS80': IndirectObject(1622, 0, 137129270400800), '/CS81': IndirectObject(1501, 0, 137129270400800), '/CS82': IndirectObject(1532, 0, 137129270400800), '/CS83': IndirectObject(1623, 0, 137129270400800), '/CS84': IndirectObject(1538, 0, 137129270400800), '/CS85': IndirectObject(1562, 0, 137129270400800), '/CS86': IndirectObject(1551, 0, 137129270400800), '/CS87': IndirectObject(1596, 0, 137129270400800), '/CS88': IndirectObject(1557, 0, 137129270400800), '/CS89': IndirectObject(1582, 0, 137129270400800), '/CS9': IndirectObject(1601, 0, 137129270400800), '/CS90': IndirectObject(1619, 0, 137129270400800), '/CS91': IndirectObject(1507, 0, 137129270400800), '/CS92': IndirectObject(1583, 0, 137129270400800), '/CS93': IndirectObject(1496, 0, 137129270400800), '/CS94': IndirectObject(1500, 0, 137129270400800), '/CS95': IndirectObject(1611, 0, 137129270400800), '/CS96': IndirectObject(1575, 0, 137129270400800), '/CS97': IndirectObject(1491, 0, 137129270400800), '/CS98': IndirectObject(1576, 0, 137129270400800), '/CS99': IndirectObject(1524, 0, 137129270400800)}, '/ExtGState': {'/GS0': IndirectObject(1707, 0, 137129270400800), '/GS1': IndirectObject(1706, 0, 137129270400800), '/GS2': IndirectObject(1708, 0, 137129270400800)}, '/Font': {'/T1_0': IndirectObject(1724, 0, 137129270400800), '/T1_1': IndirectObject(1468, 0, 137129270400800)}, '/ProcSet': ['/PDF', '/Text', '/ImageC', '/ImageI'], '/Properties': {'/MC0': IndirectObject(1332, 0, 137129270400800)}, '/XObject': {'/Im0': IndirectObject(566, 0, 137129270400800), '/Im1': IndirectObject(567, 0, 137129270400800), '/Im10': IndirectObject(576, 0, 137129270400800), '/Im100': IndirectObject(666, 0, 137129270400800), '/Im101': IndirectObject(667, 0, 137129270400800), '/Im102': IndirectObject(668, 0, 137129270400800), '/Im103': IndirectObject(669, 0, 137129270400800), '/Im104': IndirectObject(671, 0, 137129270400800), '/Im105': IndirectObject(672, 0, 137129270400800), '/Im106': IndirectObject(673, 0, 137129270400800), '/Im107': IndirectObject(674, 0, 137129270400800), '/Im108': IndirectObject(675, 0, 137129270400800), '/Im109': IndirectObject(670, 0, 137129270400800), '/Im11': IndirectObject(577, 0, 137129270400800), '/Im110': IndirectObject(676, 0, 137129270400800), '/Im111': IndirectObject(678, 0, 137129270400800), '/Im112': IndirectObject(679, 0, 137129270400800), '/Im113': IndirectObject(680, 0, 137129270400800), '/Im114': IndirectObject(677, 0, 137129270400800), '/Im115': IndirectObject(681, 0, 137129270400800), '/Im116': IndirectObject(682, 0, 137129270400800), '/Im117': IndirectObject(683, 0, 137129270400800), '/Im118': IndirectObject(684, 0, 137129270400800), '/Im119': IndirectObject(686, 0, 137129270400800), '/Im12': IndirectObject(578, 0, 137129270400800), '/Im120': IndirectObject(685, 0, 137129270400800), '/Im121': IndirectObject(687, 0, 137129270400800), '/Im122': IndirectObject(688, 0, 137129270400800), '/Im123': IndirectObject(690, 0, 137129270400800), '/Im124': IndirectObject(691, 0, 137129270400800), '/Im125': IndirectObject(692, 0, 137129270400800), '/Im126': IndirectObject(693, 0, 137129270400800), '/Im127': IndirectObject(694, 0, 137129270400800), '/Im128': IndirectObject(689, 0, 137129270400800), '/Im129': IndirectObject(695, 0, 137129270400800), '/Im13': IndirectObject(579, 0, 137129270400800), '/Im130': IndirectObject(696, 0, 137129270400800), '/Im131': IndirectObject(697, 0, 137129270400800), '/Im132': IndirectObject(698, 0, 137129270400800), '/Im133': IndirectObject(699, 0, 137129270400800), '/Im134': IndirectObject(701, 0, 137129270400800), '/Im135': IndirectObject(702, 0, 137129270400800), '/Im136': IndirectObject(700, 0, 137129270400800), '/Im137': IndirectObject(703, 0, 137129270400800), '/Im138': IndirectObject(705, 0, 137129270400800), '/Im139': IndirectObject(706, 0, 137129270400800), '/Im14': IndirectObject(580, 0, 137129270400800), '/Im140': IndirectObject(707, 0, 137129270400800), '/Im141': IndirectObject(708, 0, 137129270400800), '/Im142': IndirectObject(704, 0, 137129270400800), '/Im143': IndirectObject(709, 0, 137129270400800), '/Im144': IndirectObject(711, 0, 137129270400800), '/Im145': IndirectObject(710, 0, 137129270400800), '/Im146': IndirectObject(712, 0, 137129270400800), '/Im147': IndirectObject(714, 0, 137129270400800), '/Im148': IndirectObject(715, 0, 137129270400800), '/Im149': IndirectObject(716, 0, 137129270400800), '/Im15': IndirectObject(581, 0, 137129270400800), '/Im150': IndirectObject(717, 0, 137129270400800), '/Im151': IndirectObject(718, 0, 137129270400800), '/Im152': IndirectObject(713, 0, 137129270400800), '/Im153': IndirectObject(719, 0, 137129270400800), '/Im154': IndirectObject(721, 0, 137129270400800), '/Im155': IndirectObject(722, 0, 137129270400800), '/Im156': IndirectObject(720, 0, 137129270400800), '/Im157': IndirectObject(724, 0, 137129270400800), '/Im158': IndirectObject(723, 0, 137129270400800), '/Im159': IndirectObject(725, 0, 137129270400800), '/Im16': IndirectObject(582, 0, 137129270400800), '/Im160': IndirectObject(727, 0, 137129270400800), '/Im161': IndirectObject(728, 0, 137129270400800), '/Im162': IndirectObject(729, 0, 137129270400800), '/Im163': IndirectObject(730, 0, 137129270400800), '/Im164': IndirectObject(726, 0, 137129270400800), '/Im165': IndirectObject(731, 0, 137129270400800), '/Im166': IndirectObject(733, 0, 137129270400800), '/Im167': IndirectObject(732, 0, 137129270400800), '/Im168': IndirectObject(734, 0, 137129270400800), '/Im169': IndirectObject(736, 0, 137129270400800), '/Im17': IndirectObject(583, 0, 137129270400800), '/Im170': IndirectObject(737, 0, 137129270400800), '/Im171': IndirectObject(735, 0, 137129270400800), '/Im172': IndirectObject(739, 0, 137129270400800), '/Im173': IndirectObject(740, 0, 137129270400800), '/Im174': IndirectObject(738, 0, 137129270400800), '/Im175': IndirectObject(741, 0, 137129270400800), '/Im176': IndirectObject(743, 0, 137129270400800), '/Im177': IndirectObject(744, 0, 137129270400800), '/Im178': IndirectObject(742, 0, 137129270400800), '/Im179': IndirectObject(745, 0, 137129270400800), '/Im18': IndirectObject(584, 0, 137129270400800), '/Im180': IndirectObject(746, 0, 137129270400800), '/Im181': IndirectObject(748, 0, 137129270400800), '/Im182': IndirectObject(749, 0, 137129270400800), '/Im183': IndirectObject(750, 0, 137129270400800), '/Im184': IndirectObject(747, 0, 137129270400800), '/Im185': IndirectObject(751, 0, 137129270400800), '/Im186': IndirectObject(752, 0, 137129270400800), '/Im187': IndirectObject(753, 0, 137129270400800), '/Im188': IndirectObject(755, 0, 137129270400800), '/Im189': IndirectObject(756, 0, 137129270400800), '/Im19': IndirectObject(585, 0, 137129270400800), '/Im190': IndirectObject(757, 0, 137129270400800), '/Im191': IndirectObject(758, 0, 137129270400800), '/Im192': IndirectObject(754, 0, 137129270400800), '/Im193': IndirectObject(759, 0, 137129270400800), '/Im194': IndirectObject(760, 0, 137129270400800), '/Im195': IndirectObject(761, 0, 137129270400800), '/Im196': IndirectObject(762, 0, 137129270400800), '/Im197': IndirectObject(763, 0, 137129270400800), '/Im198': IndirectObject(765, 0, 137129270400800), '/Im199': IndirectObject(764, 0, 137129270400800), '/Im2': IndirectObject(568, 0, 137129270400800), '/Im20': IndirectObject(586, 0, 137129270400800), '/Im200': IndirectObject(766, 0, 137129270400800), '/Im201': IndirectObject(767, 0, 137129270400800), '/Im202': IndirectObject(768, 0, 137129270400800), '/Im203': IndirectObject(770, 0, 137129270400800), '/Im204': IndirectObject(771, 0, 137129270400800), '/Im205': IndirectObject(772, 0, 137129270400800), '/Im206': IndirectObject(773, 0, 137129270400800), '/Im207': IndirectObject(774, 0, 137129270400800), '/Im208': IndirectObject(775, 0, 137129270400800), '/Im209': IndirectObject(769, 0, 137129270400800), '/Im21': IndirectObject(588, 0, 137129270400800), '/Im210': IndirectObject(776, 0, 137129270400800), '/Im211': IndirectObject(777, 0, 137129270400800), '/Im212': IndirectObject(778, 0, 137129270400800), '/Im213': IndirectObject(779, 0, 137129270400800), '/Im214': IndirectObject(780, 0, 137129270400800), '/Im215': IndirectObject(782, 0, 137129270400800), '/Im216': IndirectObject(783, 0, 137129270400800), '/Im217': IndirectObject(781, 0, 137129270400800), '/Im218': IndirectObject(784, 0, 137129270400800), '/Im219': IndirectObject(785, 0, 137129270400800), '/Im22': IndirectObject(587, 0, 137129270400800), '/Im220': IndirectObject(786, 0, 137129270400800), '/Im221': IndirectObject(788, 0, 137129270400800), '/Im222': IndirectObject(789, 0, 137129270400800), '/Im223': IndirectObject(790, 0, 137129270400800), '/Im224': IndirectObject(791, 0, 137129270400800), '/Im225': IndirectObject(787, 0, 137129270400800), '/Im226': IndirectObject(792, 0, 137129270400800), '/Im227': IndirectObject(793, 0, 137129270400800), '/Im228': IndirectObject(794, 0, 137129270400800), '/Im229': IndirectObject(795, 0, 137129270400800), '/Im23': IndirectObject(589, 0, 137129270400800), '/Im230': IndirectObject(796, 0, 137129270400800), '/Im231': IndirectObject(798, 0, 137129270400800), '/Im232': IndirectObject(799, 0, 137129270400800), '/Im233': IndirectObject(800, 0, 137129270400800), '/Im234': IndirectObject(801, 0, 137129270400800), '/Im235': IndirectObject(802, 0, 137129270400800), '/Im236': IndirectObject(803, 0, 137129270400800), '/Im237': IndirectObject(797, 0, 137129270400800), '/Im238': IndirectObject(804, 0, 137129270400800), '/Im239': IndirectObject(806, 0, 137129270400800), '/Im24': IndirectObject(590, 0, 137129270400800), '/Im240': IndirectObject(805, 0, 137129270400800), '/Im241': IndirectObject(807, 0, 137129270400800), '/Im242': IndirectObject(808, 0, 137129270400800), '/Im243': IndirectObject(809, 0, 137129270400800), '/Im244': IndirectObject(810, 0, 137129270400800), '/Im245': IndirectObject(812, 0, 137129270400800), '/Im246': IndirectObject(813, 0, 137129270400800), '/Im247': IndirectObject(811, 0, 137129270400800), '/Im248': IndirectObject(814, 0, 137129270400800), '/Im249': IndirectObject(816, 0, 137129270400800), '/Im25': IndirectObject(591, 0, 137129270400800), '/Im250': IndirectObject(815, 0, 137129270400800), '/Im251': IndirectObject(817, 0, 137129270400800), '/Im252': IndirectObject(819, 0, 137129270400800), '/Im253': IndirectObject(820, 0, 137129270400800), '/Im254': IndirectObject(818, 0, 137129270400800), '/Im255': IndirectObject(821, 0, 137129270400800), '/Im256': IndirectObject(822, 0, 137129270400800), '/Im257': IndirectObject(823, 0, 137129270400800), '/Im258': IndirectObject(824, 0, 137129270400800), '/Im259': IndirectObject(825, 0, 137129270400800), '/Im26': IndirectObject(592, 0, 137129270400800), '/Im260': IndirectObject(826, 0, 137129270400800), '/Im261': IndirectObject(827, 0, 137129270400800), '/Im262': IndirectObject(828, 0, 137129270400800), '/Im263': IndirectObject(829, 0, 137129270400800), '/Im264': IndirectObject(830, 0, 137129270400800), '/Im265': IndirectObject(831, 0, 137129270400800), '/Im266': IndirectObject(832, 0, 137129270400800), '/Im267': IndirectObject(833, 0, 137129270400800), '/Im268': IndirectObject(834, 0, 137129270400800), '/Im269': IndirectObject(835, 0, 137129270400800), '/Im27': IndirectObject(593, 0, 137129270400800), '/Im270': IndirectObject(837, 0, 137129270400800), '/Im271': IndirectObject(836, 0, 137129270400800), '/Im272': IndirectObject(838, 0, 137129270400800), '/Im273': IndirectObject(840, 0, 137129270400800), '/Im274': IndirectObject(839, 0, 137129270400800), '/Im275': IndirectObject(841, 0, 137129270400800), '/Im276': IndirectObject(843, 0, 137129270400800), '/Im277': IndirectObject(844, 0, 137129270400800), '/Im278': IndirectObject(845, 0, 137129270400800), '/Im279': IndirectObject(846, 0, 137129270400800), '/Im28': IndirectObject(594, 0, 137129270400800), '/Im280': IndirectObject(847, 0, 137129270400800), '/Im281': IndirectObject(842, 0, 137129270400800), '/Im282': IndirectObject(848, 0, 137129270400800), '/Im283': IndirectObject(850, 0, 137129270400800), '/Im284': IndirectObject(851, 0, 137129270400800), '/Im285': IndirectObject(852, 0, 137129270400800), '/Im286': IndirectObject(849, 0, 137129270400800), '/Im287': IndirectObject(853, 0, 137129270400800), '/Im288': IndirectObject(855, 0, 137129270400800), '/Im289': IndirectObject(854, 0, 137129270400800), '/Im29': IndirectObject(595, 0, 137129270400800), '/Im290': IndirectObject(856, 0, 137129270400800), '/Im291': IndirectObject(858, 0, 137129270400800), '/Im292': IndirectObject(857, 0, 137129270400800), '/Im293': IndirectObject(859, 0, 137129270400800), '/Im294': IndirectObject(860, 0, 137129270400800), '/Im295': IndirectObject(861, 0, 137129270400800), '/Im296': IndirectObject(863, 0, 137129270400800), '/Im297': IndirectObject(862, 0, 137129270400800), '/Im298': IndirectObject(864, 0, 137129270400800), '/Im299': IndirectObject(866, 0, 137129270400800), '/Im3': IndirectObject(569, 0, 137129270400800), '/Im30': IndirectObject(596, 0, 137129270400800), '/Im300': IndirectObject(867, 0, 137129270400800), '/Im301': IndirectObject(865, 0, 137129270400800), '/Im302': IndirectObject(868, 0, 137129270400800), '/Im303': IndirectObject(870, 0, 137129270400800), '/Im304': IndirectObject(869, 0, 137129270400800), '/Im305': IndirectObject(872, 0, 137129270400800), '/Im306': IndirectObject(871, 0, 137129270400800), '/Im307': IndirectObject(873, 0, 137129270400800), '/Im308': IndirectObject(875, 0, 137129270400800), '/Im309': IndirectObject(874, 0, 137129270400800), '/Im31': IndirectObject(597, 0, 137129270400800), '/Im310': IndirectObject(876, 0, 137129270400800), '/Im311': IndirectObject(877, 0, 137129270400800), '/Im312': IndirectObject(878, 0, 137129270400800), '/Im313': IndirectObject(880, 0, 137129270400800), '/Im314': IndirectObject(881, 0, 137129270400800), '/Im315': IndirectObject(882, 0, 137129270400800), '/Im316': IndirectObject(883, 0, 137129270400800), '/Im317': IndirectObject(884, 0, 137129270400800), '/Im318': IndirectObject(885, 0, 137129270400800), '/Im319': IndirectObject(879, 0, 137129270400800), '/Im32': IndirectObject(598, 0, 137129270400800), '/Im320': IndirectObject(886, 0, 137129270400800), '/Im321': IndirectObject(887, 0, 137129270400800), '/Im322': IndirectObject(888, 0, 137129270400800), '/Im323': IndirectObject(890, 0, 137129270400800), '/Im324': IndirectObject(891, 0, 137129270400800), '/Im325': IndirectObject(892, 0, 137129270400800), '/Im326': IndirectObject(893, 0, 137129270400800), '/Im327': IndirectObject(894, 0, 137129270400800), '/Im328': IndirectObject(895, 0, 137129270400800), '/Im329': IndirectObject(896, 0, 137129270400800), '/Im33': IndirectObject(599, 0, 137129270400800), '/Im330': IndirectObject(889, 0, 137129270400800), '/Im331': IndirectObject(897, 0, 137129270400800), '/Im332': IndirectObject(899, 0, 137129270400800), '/Im333': IndirectObject(900, 0, 137129270400800), '/Im334': IndirectObject(901, 0, 137129270400800), '/Im335': IndirectObject(902, 0, 137129270400800), '/Im336': IndirectObject(898, 0, 137129270400800), '/Im337': IndirectObject(903, 0, 137129270400800), '/Im338': IndirectObject(904, 0, 137129270400800), '/Im339': IndirectObject(905, 0, 137129270400800), '/Im34': IndirectObject(600, 0, 137129270400800), '/Im340': IndirectObject(906, 0, 137129270400800), '/Im341': IndirectObject(907, 0, 137129270400800), '/Im342': IndirectObject(908, 0, 137129270400800), '/Im343': IndirectObject(909, 0, 137129270400800), '/Im344': IndirectObject(910, 0, 137129270400800), '/Im345': IndirectObject(911, 0, 137129270400800), '/Im346': IndirectObject(912, 0, 137129270400800), '/Im347': IndirectObject(913, 0, 137129270400800), '/Im348': IndirectObject(914, 0, 137129270400800), '/Im349': IndirectObject(915, 0, 137129270400800), '/Im35': IndirectObject(601, 0, 137129270400800), '/Im350': IndirectObject(916, 0, 137129270400800), '/Im351': IndirectObject(917, 0, 137129270400800), '/Im352': IndirectObject(918, 0, 137129270400800), '/Im353': IndirectObject(920, 0, 137129270400800), '/Im354': IndirectObject(921, 0, 137129270400800), '/Im355': IndirectObject(922, 0, 137129270400800), '/Im356': IndirectObject(919, 0, 137129270400800), '/Im357': IndirectObject(923, 0, 137129270400800), '/Im358': IndirectObject(924, 0, 137129270400800), '/Im359': IndirectObject(925, 0, 137129270400800), '/Im36': IndirectObject(602, 0, 137129270400800), '/Im360': IndirectObject(927, 0, 137129270400800), '/Im361': IndirectObject(926, 0, 137129270400800), '/Im362': IndirectObject(928, 0, 137129270400800), '/Im363': IndirectObject(930, 0, 137129270400800), '/Im364': IndirectObject(931, 0, 137129270400800), '/Im365': IndirectObject(932, 0, 137129270400800), '/Im366': IndirectObject(929, 0, 137129270400800), '/Im367': IndirectObject(933, 0, 137129270400800), '/Im368': IndirectObject(934, 0, 137129270400800), '/Im369': IndirectObject(935, 0, 137129270400800), '/Im37': IndirectObject(603, 0, 137129270400800), '/Im370': IndirectObject(937, 0, 137129270400800), '/Im371': IndirectObject(938, 0, 137129270400800), '/Im372': IndirectObject(939, 0, 137129270400800), '/Im373': IndirectObject(940, 0, 137129270400800), '/Im374': IndirectObject(941, 0, 137129270400800), '/Im375': IndirectObject(942, 0, 137129270400800), '/Im376': IndirectObject(943, 0, 137129270400800), '/Im377': IndirectObject(944, 0, 137129270400800), '/Im378': IndirectObject(945, 0, 137129270400800), '/Im379': IndirectObject(936, 0, 137129270400800), '/Im38': IndirectObject(604, 0, 137129270400800), '/Im380': IndirectObject(947, 0, 137129270400800), '/Im381': IndirectObject(946, 0, 137129270400800), '/Im382': IndirectObject(948, 0, 137129270400800), '/Im383': IndirectObject(949, 0, 137129270400800), '/Im384': IndirectObject(951, 0, 137129270400800), '/Im385': IndirectObject(952, 0, 137129270400800), '/Im386': IndirectObject(950, 0, 137129270400800), '/Im387': IndirectObject(953, 0, 137129270400800), '/Im388': IndirectObject(955, 0, 137129270400800), '/Im389': IndirectObject(956, 0, 137129270400800), '/Im39': IndirectObject(605, 0, 137129270400800), '/Im390': IndirectObject(957, 0, 137129270400800), '/Im391': IndirectObject(958, 0, 137129270400800), '/Im392': IndirectObject(959, 0, 137129270400800), '/Im393': IndirectObject(960, 0, 137129270400800), '/Im394': IndirectObject(954, 0, 137129270400800), '/Im395': IndirectObject(961, 0, 137129270400800), '/Im396': IndirectObject(963, 0, 137129270400800), '/Im397': IndirectObject(964, 0, 137129270400800), '/Im398': IndirectObject(965, 0, 137129270400800), '/Im399': IndirectObject(962, 0, 137129270400800), '/Im4': IndirectObject(570, 0, 137129270400800), '/Im40': IndirectObject(607, 0, 137129270400800), '/Im400': IndirectObject(966, 0, 137129270400800), '/Im401': IndirectObject(967, 0, 137129270400800), '/Im402': IndirectObject(968, 0, 137129270400800), '/Im403': IndirectObject(969, 0, 137129270400800), '/Im404': IndirectObject(970, 0, 137129270400800), '/Im405': IndirectObject(972, 0, 137129270400800), '/Im406': IndirectObject(973, 0, 137129270400800), '/Im407': IndirectObject(971, 0, 137129270400800), '/Im408': IndirectObject(974, 0, 137129270400800), '/Im409': IndirectObject(976, 0, 137129270400800), '/Im41': IndirectObject(606, 0, 137129270400800), '/Im410': IndirectObject(975, 0, 137129270400800), '/Im411': IndirectObject(977, 0, 137129270400800), '/Im412': IndirectObject(979, 0, 137129270400800), '/Im413': IndirectObject(980, 0, 137129270400800), '/Im414': IndirectObject(981, 0, 137129270400800), '/Im415': IndirectObject(978, 0, 137129270400800), '/Im416': IndirectObject(982, 0, 137129270400800), '/Im417': IndirectObject(983, 0, 137129270400800), '/Im418': IndirectObject(984, 0, 137129270400800), '/Im419': IndirectObject(985, 0, 137129270400800), '/Im42': IndirectObject(608, 0, 137129270400800), '/Im420': IndirectObject(986, 0, 137129270400800), '/Im421': IndirectObject(987, 0, 137129270400800), '/Im43': IndirectObject(609, 0, 137129270400800), '/Im44': IndirectObject(610, 0, 137129270400800), '/Im45': IndirectObject(611, 0, 137129270400800), '/Im46': IndirectObject(612, 0, 137129270400800), '/Im47': IndirectObject(613, 0, 137129270400800), '/Im48': IndirectObject(614, 0, 137129270400800), '/Im49': IndirectObject(616, 0, 137129270400800), '/Im5': IndirectObject(571, 0, 137129270400800), '/Im50': IndirectObject(615, 0, 137129270400800), '/Im51': IndirectObject(617, 0, 137129270400800), '/Im52': IndirectObject(618, 0, 137129270400800), '/Im53': IndirectObject(619, 0, 137129270400800), '/Im54': IndirectObject(621, 0, 137129270400800), '/Im55': IndirectObject(622, 0, 137129270400800), '/Im56': IndirectObject(620, 0, 137129270400800), '/Im57': IndirectObject(623, 0, 137129270400800), '/Im58': IndirectObject(624, 0, 137129270400800), '/Im59': IndirectObject(625, 0, 137129270400800), '/Im6': IndirectObject(572, 0, 137129270400800), '/Im60': IndirectObject(626, 0, 137129270400800), '/Im61': IndirectObject(627, 0, 137129270400800), '/Im62': IndirectObject(629, 0, 137129270400800), '/Im63': IndirectObject(628, 0, 137129270400800), '/Im64': IndirectObject(630, 0, 137129270400800), '/Im65': IndirectObject(631, 0, 137129270400800), '/Im66': IndirectObject(632, 0, 137129270400800), '/Im67': IndirectObject(633, 0, 137129270400800), '/Im68': IndirectObject(634, 0, 137129270400800), '/Im69': IndirectObject(635, 0, 137129270400800), '/Im7': IndirectObject(573, 0, 137129270400800), '/Im70': IndirectObject(636, 0, 137129270400800), '/Im71': IndirectObject(638, 0, 137129270400800), '/Im72': IndirectObject(637, 0, 137129270400800), '/Im73': IndirectObject(639, 0, 137129270400800), '/Im74': IndirectObject(641, 0, 137129270400800), '/Im75': IndirectObject(640, 0, 137129270400800), '/Im76': IndirectObject(642, 0, 137129270400800), '/Im77': IndirectObject(644, 0, 137129270400800), '/Im78': IndirectObject(645, 0, 137129270400800), '/Im79': IndirectObject(643, 0, 137129270400800), '/Im8': IndirectObject(574, 0, 137129270400800), '/Im80': IndirectObject(646, 0, 137129270400800), '/Im81': IndirectObject(648, 0, 137129270400800), '/Im82': IndirectObject(647, 0, 137129270400800), '/Im83': IndirectObject(649, 0, 137129270400800), '/Im84': IndirectObject(651, 0, 137129270400800), '/Im85': IndirectObject(650, 0, 137129270400800), '/Im86': IndirectObject(652, 0, 137129270400800), '/Im87': IndirectObject(653, 0, 137129270400800), '/Im88': IndirectObject(654, 0, 137129270400800), '/Im89': IndirectObject(655, 0, 137129270400800), '/Im9': IndirectObject(575, 0, 137129270400800), '/Im90': IndirectObject(656, 0, 137129270400800), '/Im91': IndirectObject(657, 0, 137129270400800), '/Im92': IndirectObject(658, 0, 137129270400800), '/Im93': IndirectObject(659, 0, 137129270400800), '/Im94': IndirectObject(660, 0, 137129270400800), '/Im95': IndirectObject(661, 0, 137129270400800), '/Im96': IndirectObject(662, 0, 137129270400800), '/Im97': IndirectObject(663, 0, 137129270400800), '/Im98': IndirectObject(664, 0, 137129270400800), '/Im99': IndirectObject(665, 0, 137129270400800)}}, '/Rotate': 0, '/Thumb': IndirectObject(1166, 0, 137129270400800), '/TrimBox': [0, 0, 612, 792], '/Type': '/Page', '/u2pMat': [1, 0, 0, -1, 0, 792], '/xb1': 0, '/xb2': 612, '/xt1': 0, '/xt2': 612, '/yb1': 0, '/yb2': 792, '/yt1': 0, '/yt2': 792}\n",
      "80 {'/BleedBox': [0, 0, 612, 792], '/Contents': IndirectObject(990, 0, 137129270400800), '/CropBox': [0, 0, 612, 792], '/MediaBox': [0, 0, 612, 792], '/Parent': IndirectObject(1658, 0, 137129270400800), '/Resources': IndirectObject(1333, 0, 137129270400800), '/Rotate': 0, '/Thumb': IndirectObject(1167, 0, 137129270400800), '/TrimBox': [0, 0, 612, 792], '/Type': '/Page', '/u2pMat': [1, 0, 0, -1, 0, 792], '/xb1': 0, '/xb2': 612, '/xt1': 0, '/xt2': 612, '/yb1': 0, '/yb2': 792, '/yt1': 0, '/yt2': 792}\n",
      "81 {'/BleedBox': [0, 0, 612, 792], '/Contents': IndirectObject(1001, 0, 137129270400800), '/CropBox': [0, 0, 612, 792], '/MediaBox': [0, 0, 612, 792], '/Parent': IndirectObject(1658, 0, 137129270400800), '/Resources': IndirectObject(1335, 0, 137129270400800), '/Rotate': 0, '/Thumb': IndirectObject(1168, 0, 137129270400800), '/TrimBox': [0, 0, 612, 792], '/Type': '/Page', '/u2pMat': [1, 0, 0, -1, 0, 792], '/xb1': 0, '/xb2': 612, '/xt1': 0, '/xt2': 612, '/yb1': 0, '/yb2': 792, '/yt1': 0, '/yt2': 792}\n",
      "82 {'/BleedBox': [0, 0, 612, 792], '/Contents': IndirectObject(1744, 0, 137129270400800), '/CropBox': [0, 0, 612, 792], '/MediaBox': [0, 0, 612, 792], '/Parent': IndirectObject(1658, 0, 137129270400800), '/Resources': {'/ExtGState': {'/GS0': IndirectObject(1707, 0, 137129270400800), '/GS1': IndirectObject(1706, 0, 137129270400800), '/GS2': IndirectObject(1708, 0, 137129270400800)}, '/Font': {'/T1_0': IndirectObject(1724, 0, 137129270400800), '/T1_1': IndirectObject(1718, 0, 137129270400800), '/T1_2': IndirectObject(1726, 0, 137129270400800), '/T1_3': IndirectObject(1640, 0, 137129270400800), '/T1_4': IndirectObject(1376, 0, 137129270400800)}, '/ProcSet': ['/PDF', '/Text'], '/Shading': {'/Sh0': IndirectObject(1639, 0, 137129270400800)}}, '/Rotate': 0, '/Thumb': IndirectObject(1169, 0, 137129270400800), '/TrimBox': [0, 0, 612, 792], '/Type': '/Page', '/u2pMat': [1, 0, 0, -1, 0, 792], '/xb1': 0, '/xb2': 612, '/xt1': 0, '/xt2': 612, '/yb1': 0, '/yb2': 792, '/yt1': 0, '/yt2': 792}\n",
      "83 {'/BleedBox': [0, 0, 612, 792], '/Contents': IndirectObject(1010, 0, 137129270400800), '/CropBox': [0, 0, 612, 792], '/MediaBox': [0, 0, 612, 792], '/Parent': IndirectObject(1658, 0, 137129270400800), '/Resources': IndirectObject(1340, 0, 137129270400800), '/Rotate': 0, '/Thumb': IndirectObject(1170, 0, 137129270400800), '/TrimBox': [0, 0, 612, 792], '/Type': '/Page', '/u2pMat': [1, 0, 0, -1, 0, 792], '/xb1': 0, '/xb2': 612, '/xt1': 0, '/xt2': 612, '/yb1': 0, '/yb2': 792, '/yt1': 0, '/yt2': 792}\n",
      "84 {'/BleedBox': [0, 0, 612, 792], '/Contents': IndirectObject(1013, 0, 137129270400800), '/CropBox': [0, 0, 612, 792], '/MediaBox': [0, 0, 612, 792], '/Parent': IndirectObject(1658, 0, 137129270400800), '/Resources': IndirectObject(1341, 0, 137129270400800), '/Rotate': 0, '/Thumb': IndirectObject(1171, 0, 137129270400800), '/TrimBox': [0, 0, 612, 792], '/Type': '/Page', '/u2pMat': [1, 0, 0, -1, 0, 792], '/xb1': 0, '/xb2': 612, '/xt1': 0, '/xt2': 612, '/yb1': 0, '/yb2': 792, '/yt1': 0, '/yt2': 792}\n",
      "85 {'/BleedBox': [0, 0, 612, 792], '/Contents': IndirectObject(1016, 0, 137129270400800), '/CropBox': [0, 0, 612, 792], '/MediaBox': [0, 0, 612, 792], '/Parent': IndirectObject(1658, 0, 137129270400800), '/Resources': {'/ExtGState': {'/GS0': IndirectObject(1707, 0, 137129270400800), '/GS1': IndirectObject(1706, 0, 137129270400800), '/GS2': IndirectObject(1708, 0, 137129270400800), '/GS3': IndirectObject(1342, 0, 137129270400800)}, '/Font': {'/C0_0': IndirectObject(1643, 0, 137129270400800), '/C2_0': IndirectObject(1396, 0, 137129270400800), '/T1_0': IndirectObject(1724, 0, 137129270400800), '/T1_1': IndirectObject(1730, 0, 137129270400800), '/T1_2': IndirectObject(1726, 0, 137129270400800), '/T1_3': IndirectObject(1640, 0, 137129270400800), '/T1_4': IndirectObject(1376, 0, 137129270400800), '/T1_5': IndirectObject(1718, 0, 137129270400800)}, '/ProcSet': ['/PDF', '/Text'], '/Shading': {'/Sh0': IndirectObject(1639, 0, 137129270400800)}}, '/Rotate': 0, '/Thumb': IndirectObject(1172, 0, 137129270400800), '/TrimBox': [0, 0, 612, 792], '/Type': '/Page', '/u2pMat': [1, 0, 0, -1, 0, 792], '/xb1': 0, '/xb2': 612, '/xt1': 0, '/xt2': 612, '/yb1': 0, '/yb2': 792, '/yt1': 0, '/yt2': 792}\n",
      "86 {'/BleedBox': [0, 0, 612, 792], '/Contents': IndirectObject(1022, 0, 137129270400800), '/CropBox': [0, 0, 612, 792], '/MediaBox': [0, 0, 612, 792], '/Parent': IndirectObject(1658, 0, 137129270400800), '/Resources': IndirectObject(1347, 0, 137129270400800), '/Rotate': 0, '/Thumb': IndirectObject(1173, 0, 137129270400800), '/TrimBox': [0, 0, 612, 792], '/Type': '/Page', '/u2pMat': [1, 0, 0, -1, 0, 792], '/xb1': 0, '/xb2': 612, '/xt1': 0, '/xt2': 612, '/yb1': 0, '/yb2': 792, '/yt1': 0, '/yt2': 792}\n",
      "87 {'/BleedBox': [0, 0, 612, 792], '/Contents': IndirectObject(1025, 0, 137129270400800), '/CropBox': [0, 0, 612, 792], '/MediaBox': [0, 0, 612, 792], '/Parent': IndirectObject(1658, 0, 137129270400800), '/Resources': {'/ExtGState': {'/GS0': IndirectObject(1707, 0, 137129270400800), '/GS1': IndirectObject(1706, 0, 137129270400800), '/GS2': IndirectObject(1708, 0, 137129270400800)}, '/Font': {'/T1_0': IndirectObject(1724, 0, 137129270400800), '/T1_1': IndirectObject(1730, 0, 137129270400800), '/T1_2': IndirectObject(1376, 0, 137129270400800), '/T1_3': IndirectObject(1726, 0, 137129270400800), '/T1_4': IndirectObject(1640, 0, 137129270400800), '/T1_5': IndirectObject(1718, 0, 137129270400800)}, '/ProcSet': ['/PDF', '/Text'], '/Shading': {'/Sh0': IndirectObject(1639, 0, 137129270400800)}}, '/Rotate': 0, '/Thumb': IndirectObject(1174, 0, 137129270400800), '/TrimBox': [0, 0, 612, 792], '/Type': '/Page', '/u2pMat': [1, 0, 0, -1, 0, 792], '/xb1': 0, '/xb2': 612, '/xt1': 0, '/xt2': 612, '/yb1': 0, '/yb2': 792, '/yt1': 0, '/yt2': 792}\n",
      "88 {'/BleedBox': [0, 0, 612, 792], '/Contents': IndirectObject(1027, 0, 137129270400800), '/CropBox': [0, 0, 612, 792], '/MediaBox': [0, 0, 612, 792], '/Parent': IndirectObject(1658, 0, 137129270400800), '/Resources': IndirectObject(1348, 0, 137129270400800), '/Rotate': 0, '/Thumb': IndirectObject(1175, 0, 137129270400800), '/TrimBox': [0, 0, 612, 792], '/Type': '/Page', '/u2pMat': [1, 0, 0, -1, 0, 792], '/xb1': 0, '/xb2': 612, '/xt1': 0, '/xt2': 612, '/yb1': 0, '/yb2': 792, '/yt1': 0, '/yt2': 792}\n",
      "89 {'/BleedBox': [0, 0, 612, 792], '/Contents': IndirectObject(1030, 0, 137129270400800), '/CropBox': [0, 0, 612, 792], '/MediaBox': [0, 0, 612, 792], '/Parent': IndirectObject(1658, 0, 137129270400800), '/Resources': IndirectObject(1349, 0, 137129270400800), '/Rotate': 0, '/Thumb': IndirectObject(1176, 0, 137129270400800), '/TrimBox': [0, 0, 612, 792], '/Type': '/Page', '/u2pMat': [1, 0, 0, -1, 0, 792], '/xb1': 0, '/xb2': 612, '/xt1': 0, '/xt2': 612, '/yb1': 0, '/yb2': 792, '/yt1': 0, '/yt2': 792}\n",
      "90 {'/BleedBox': [0, 0, 612, 792], '/Contents': IndirectObject(1033, 0, 137129270400800), '/CropBox': [0, 0, 612, 792], '/MediaBox': [0, 0, 612, 792], '/Parent': IndirectObject(1659, 0, 137129270400800), '/Resources': IndirectObject(1350, 0, 137129270400800), '/Rotate': 0, '/Thumb': IndirectObject(1177, 0, 137129270400800), '/TrimBox': [0, 0, 612, 792], '/Type': '/Page', '/u2pMat': [1, 0, 0, -1, 0, 792], '/xb1': 0, '/xb2': 612, '/xt1': 0, '/xt2': 612, '/yb1': 0, '/yb2': 792, '/yt1': 0, '/yt2': 792}\n",
      "91 {'/BleedBox': [0, 0, 612, 792], '/Contents': IndirectObject(1036, 0, 137129270400800), '/CropBox': [0, 0, 612, 792], '/MediaBox': [0, 0, 612, 792], '/Parent': IndirectObject(1659, 0, 137129270400800), '/Resources': IndirectObject(1351, 0, 137129270400800), '/Rotate': 0, '/Thumb': IndirectObject(1178, 0, 137129270400800), '/TrimBox': [0, 0, 612, 792], '/Type': '/Page', '/u2pMat': [1, 0, 0, -1, 0, 792], '/xb1': 0, '/xb2': 612, '/xt1': 0, '/xt2': 612, '/yb1': 0, '/yb2': 792, '/yt1': 0, '/yt2': 792}\n",
      "92 {'/BleedBox': [0, 0, 612, 792], '/Contents': IndirectObject(1039, 0, 137129270400800), '/CropBox': [0, 0, 612, 792], '/MediaBox': [0, 0, 612, 792], '/Parent': IndirectObject(1659, 0, 137129270400800), '/Resources': IndirectObject(1352, 0, 137129270400800), '/Rotate': 0, '/Thumb': IndirectObject(1179, 0, 137129270400800), '/TrimBox': [0, 0, 612, 792], '/Type': '/Page', '/u2pMat': [1, 0, 0, -1, 0, 792], '/xb1': 0, '/xb2': 612, '/xt1': 0, '/xt2': 612, '/yb1': 0, '/yb2': 792, '/yt1': 0, '/yt2': 792}\n",
      "93 {'/BleedBox': [0, 0, 612, 792], '/Contents': IndirectObject(1042, 0, 137129270400800), '/CropBox': [0, 0, 612, 792], '/MediaBox': [0, 0, 612, 792], '/Parent': IndirectObject(1659, 0, 137129270400800), '/Resources': IndirectObject(1353, 0, 137129270400800), '/Rotate': 0, '/Thumb': IndirectObject(1180, 0, 137129270400800), '/TrimBox': [0, 0, 612, 792], '/Type': '/Page', '/u2pMat': [1, 0, 0, -1, 0, 792], '/xb1': 0, '/xb2': 612, '/xt1': 0, '/xt2': 612, '/yb1': 0, '/yb2': 792, '/yt1': 0, '/yt2': 792}\n"
     ]
    }
   ],
   "source": [
    "import os\n",
    "import textract\n",
    "from PyPDF2 import PdfReader\n",
    "\n",
    "final_data = []\n",
    "\n",
    "path = f\"fpc-manual.pdf\"\n",
    "\n",
    "# loading pdf files, with page numbers as metadata.\n",
    "reader = PdfReader(path)\n",
    "for i, page in enumerate(reader.pages):\n",
    "\n",
    "    text = page.extract_text()\n",
    "    if text:\n",
    "        packet = create_data_packet(\n",
    "              file_name, file_type, page_number=int(i + 1), file_content=text\n",
    "        )\n",
    "\n",
    "        final_data.append(packet)\n"
   ]
  },
  {
   "cell_type": "code",
   "execution_count": 73,
   "id": "9_EMDy2oUJmn",
   "metadata": {
    "colab": {
     "base_uri": "https://localhost:8080/",
     "height": 206
    },
    "executionInfo": {
     "elapsed": 223,
     "status": "ok",
     "timestamp": 1713467222165,
     "user": {
      "displayName": "",
      "userId": ""
     },
     "user_tz": 240
    },
    "id": "9_EMDy2oUJmn",
    "outputId": "3ed01e3b-c377-4809-a970-397f1154d16e"
   },
   "outputs": [
    {
     "data": {
      "text/html": [
       "\n",
       "  <div id=\"df-24d02b8b-42e7-45c8-b3bb-0cd0f4e14552\" class=\"colab-df-container\">\n",
       "    <div>\n",
       "<style scoped>\n",
       "    .dataframe tbody tr th:only-of-type {\n",
       "        vertical-align: middle;\n",
       "    }\n",
       "\n",
       "    .dataframe tbody tr th {\n",
       "        vertical-align: top;\n",
       "    }\n",
       "\n",
       "    .dataframe thead th {\n",
       "        text-align: right;\n",
       "    }\n",
       "</style>\n",
       "<table border=\"1\" class=\"dataframe\">\n",
       "  <thead>\n",
       "    <tr style=\"text-align: right;\">\n",
       "      <th></th>\n",
       "      <th>page_number</th>\n",
       "      <th>content</th>\n",
       "    </tr>\n",
       "  </thead>\n",
       "  <tbody>\n",
       "    <tr>\n",
       "      <th>0</th>\n",
       "      <td>1</td>\n",
       "      <td>The Health Code\\nThese are regulations that we...</td>\n",
       "    </tr>\n",
       "    <tr>\n",
       "      <th>1</th>\n",
       "      <td>2</td>\n",
       "      <td>The United States has one of the\\nsafest food ...</td>\n",
       "    </tr>\n",
       "    <tr>\n",
       "      <th>2</th>\n",
       "      <td>3</td>\n",
       "      <td>What is Ready-To- Eat Food?\\nAny food product ...</td>\n",
       "    </tr>\n",
       "    <tr>\n",
       "      <th>3</th>\n",
       "      <td>4</td>\n",
       "      <td>Ice-Point Method\\n/H20321/H20321Fill a contain...</td>\n",
       "    </tr>\n",
       "    <tr>\n",
       "      <th>4</th>\n",
       "      <td>5</td>\n",
       "      <td>Fresh fish\\nThere is no inspection for fresh\\n...</td>\n",
       "    </tr>\n",
       "  </tbody>\n",
       "</table>\n",
       "</div>\n",
       "    <div class=\"colab-df-buttons\">\n",
       "\n",
       "  <div class=\"colab-df-container\">\n",
       "    <button class=\"colab-df-convert\" onclick=\"convertToInteractive('df-24d02b8b-42e7-45c8-b3bb-0cd0f4e14552')\"\n",
       "            title=\"Convert this dataframe to an interactive table.\"\n",
       "            style=\"display:none;\">\n",
       "\n",
       "  <svg xmlns=\"http://www.w3.org/2000/svg\" height=\"24px\" viewBox=\"0 -960 960 960\">\n",
       "    <path d=\"M120-120v-720h720v720H120Zm60-500h600v-160H180v160Zm220 220h160v-160H400v160Zm0 220h160v-160H400v160ZM180-400h160v-160H180v160Zm440 0h160v-160H620v160ZM180-180h160v-160H180v160Zm440 0h160v-160H620v160Z\"/>\n",
       "  </svg>\n",
       "    </button>\n",
       "\n",
       "  <style>\n",
       "    .colab-df-container {\n",
       "      display:flex;\n",
       "      gap: 12px;\n",
       "    }\n",
       "\n",
       "    .colab-df-convert {\n",
       "      background-color: #E8F0FE;\n",
       "      border: none;\n",
       "      border-radius: 50%;\n",
       "      cursor: pointer;\n",
       "      display: none;\n",
       "      fill: #1967D2;\n",
       "      height: 32px;\n",
       "      padding: 0 0 0 0;\n",
       "      width: 32px;\n",
       "    }\n",
       "\n",
       "    .colab-df-convert:hover {\n",
       "      background-color: #E2EBFA;\n",
       "      box-shadow: 0px 1px 2px rgba(60, 64, 67, 0.3), 0px 1px 3px 1px rgba(60, 64, 67, 0.15);\n",
       "      fill: #174EA6;\n",
       "    }\n",
       "\n",
       "    .colab-df-buttons div {\n",
       "      margin-bottom: 4px;\n",
       "    }\n",
       "\n",
       "    [theme=dark] .colab-df-convert {\n",
       "      background-color: #3B4455;\n",
       "      fill: #D2E3FC;\n",
       "    }\n",
       "\n",
       "    [theme=dark] .colab-df-convert:hover {\n",
       "      background-color: #434B5C;\n",
       "      box-shadow: 0px 1px 3px 1px rgba(0, 0, 0, 0.15);\n",
       "      filter: drop-shadow(0px 1px 2px rgba(0, 0, 0, 0.3));\n",
       "      fill: #FFFFFF;\n",
       "    }\n",
       "  </style>\n",
       "\n",
       "    <script>\n",
       "      const buttonEl =\n",
       "        document.querySelector('#df-24d02b8b-42e7-45c8-b3bb-0cd0f4e14552 button.colab-df-convert');\n",
       "      buttonEl.style.display =\n",
       "        google.colab.kernel.accessAllowed ? 'block' : 'none';\n",
       "\n",
       "      async function convertToInteractive(key) {\n",
       "        const element = document.querySelector('#df-24d02b8b-42e7-45c8-b3bb-0cd0f4e14552');\n",
       "        const dataTable =\n",
       "          await google.colab.kernel.invokeFunction('convertToInteractive',\n",
       "                                                    [key], {});\n",
       "        if (!dataTable) return;\n",
       "\n",
       "        const docLinkHtml = 'Like what you see? Visit the ' +\n",
       "          '<a target=\"_blank\" href=https://colab.research.google.com/notebooks/data_table.ipynb>data table notebook</a>'\n",
       "          + ' to learn more about interactive tables.';\n",
       "        element.innerHTML = '';\n",
       "        dataTable['output_type'] = 'display_data';\n",
       "        await google.colab.output.renderOutput(dataTable, element);\n",
       "        const docLink = document.createElement('div');\n",
       "        docLink.innerHTML = docLinkHtml;\n",
       "        element.appendChild(docLink);\n",
       "      }\n",
       "    </script>\n",
       "  </div>\n",
       "\n",
       "\n",
       "<div id=\"df-b07147cd-5ee3-4c5f-8cd5-0bee3b96ea24\">\n",
       "  <button class=\"colab-df-quickchart\" onclick=\"quickchart('df-b07147cd-5ee3-4c5f-8cd5-0bee3b96ea24')\"\n",
       "            title=\"Suggest charts\"\n",
       "            style=\"display:none;\">\n",
       "\n",
       "<svg xmlns=\"http://www.w3.org/2000/svg\" height=\"24px\"viewBox=\"0 0 24 24\"\n",
       "     width=\"24px\">\n",
       "    <g>\n",
       "        <path d=\"M19 3H5c-1.1 0-2 .9-2 2v14c0 1.1.9 2 2 2h14c1.1 0 2-.9 2-2V5c0-1.1-.9-2-2-2zM9 17H7v-7h2v7zm4 0h-2V7h2v10zm4 0h-2v-4h2v4z\"/>\n",
       "    </g>\n",
       "</svg>\n",
       "  </button>\n",
       "\n",
       "<style>\n",
       "  .colab-df-quickchart {\n",
       "      --bg-color: #E8F0FE;\n",
       "      --fill-color: #1967D2;\n",
       "      --hover-bg-color: #E2EBFA;\n",
       "      --hover-fill-color: #174EA6;\n",
       "      --disabled-fill-color: #AAA;\n",
       "      --disabled-bg-color: #DDD;\n",
       "  }\n",
       "\n",
       "  [theme=dark] .colab-df-quickchart {\n",
       "      --bg-color: #3B4455;\n",
       "      --fill-color: #D2E3FC;\n",
       "      --hover-bg-color: #434B5C;\n",
       "      --hover-fill-color: #FFFFFF;\n",
       "      --disabled-bg-color: #3B4455;\n",
       "      --disabled-fill-color: #666;\n",
       "  }\n",
       "\n",
       "  .colab-df-quickchart {\n",
       "    background-color: var(--bg-color);\n",
       "    border: none;\n",
       "    border-radius: 50%;\n",
       "    cursor: pointer;\n",
       "    display: none;\n",
       "    fill: var(--fill-color);\n",
       "    height: 32px;\n",
       "    padding: 0;\n",
       "    width: 32px;\n",
       "  }\n",
       "\n",
       "  .colab-df-quickchart:hover {\n",
       "    background-color: var(--hover-bg-color);\n",
       "    box-shadow: 0 1px 2px rgba(60, 64, 67, 0.3), 0 1px 3px 1px rgba(60, 64, 67, 0.15);\n",
       "    fill: var(--button-hover-fill-color);\n",
       "  }\n",
       "\n",
       "  .colab-df-quickchart-complete:disabled,\n",
       "  .colab-df-quickchart-complete:disabled:hover {\n",
       "    background-color: var(--disabled-bg-color);\n",
       "    fill: var(--disabled-fill-color);\n",
       "    box-shadow: none;\n",
       "  }\n",
       "\n",
       "  .colab-df-spinner {\n",
       "    border: 2px solid var(--fill-color);\n",
       "    border-color: transparent;\n",
       "    border-bottom-color: var(--fill-color);\n",
       "    animation:\n",
       "      spin 1s steps(1) infinite;\n",
       "  }\n",
       "\n",
       "  @keyframes spin {\n",
       "    0% {\n",
       "      border-color: transparent;\n",
       "      border-bottom-color: var(--fill-color);\n",
       "      border-left-color: var(--fill-color);\n",
       "    }\n",
       "    20% {\n",
       "      border-color: transparent;\n",
       "      border-left-color: var(--fill-color);\n",
       "      border-top-color: var(--fill-color);\n",
       "    }\n",
       "    30% {\n",
       "      border-color: transparent;\n",
       "      border-left-color: var(--fill-color);\n",
       "      border-top-color: var(--fill-color);\n",
       "      border-right-color: var(--fill-color);\n",
       "    }\n",
       "    40% {\n",
       "      border-color: transparent;\n",
       "      border-right-color: var(--fill-color);\n",
       "      border-top-color: var(--fill-color);\n",
       "    }\n",
       "    60% {\n",
       "      border-color: transparent;\n",
       "      border-right-color: var(--fill-color);\n",
       "    }\n",
       "    80% {\n",
       "      border-color: transparent;\n",
       "      border-right-color: var(--fill-color);\n",
       "      border-bottom-color: var(--fill-color);\n",
       "    }\n",
       "    90% {\n",
       "      border-color: transparent;\n",
       "      border-bottom-color: var(--fill-color);\n",
       "    }\n",
       "  }\n",
       "</style>\n",
       "\n",
       "  <script>\n",
       "    async function quickchart(key) {\n",
       "      const quickchartButtonEl =\n",
       "        document.querySelector('#' + key + ' button');\n",
       "      quickchartButtonEl.disabled = true;  // To prevent multiple clicks.\n",
       "      quickchartButtonEl.classList.add('colab-df-spinner');\n",
       "      try {\n",
       "        const charts = await google.colab.kernel.invokeFunction(\n",
       "            'suggestCharts', [key], {});\n",
       "      } catch (error) {\n",
       "        console.error('Error during call to suggestCharts:', error);\n",
       "      }\n",
       "      quickchartButtonEl.classList.remove('colab-df-spinner');\n",
       "      quickchartButtonEl.classList.add('colab-df-quickchart-complete');\n",
       "    }\n",
       "    (() => {\n",
       "      let quickchartButtonEl =\n",
       "        document.querySelector('#df-b07147cd-5ee3-4c5f-8cd5-0bee3b96ea24 button');\n",
       "      quickchartButtonEl.style.display =\n",
       "        google.colab.kernel.accessAllowed ? 'block' : 'none';\n",
       "    })();\n",
       "  </script>\n",
       "</div>\n",
       "    </div>\n",
       "  </div>\n"
      ],
      "text/plain": [
       "   page_number                                            content\n",
       "0            1  The Health Code\\nThese are regulations that we...\n",
       "1            2  The United States has one of the\\nsafest food ...\n",
       "2            3  What is Ready-To- Eat Food?\\nAny food product ...\n",
       "3            4  Ice-Point Method\\n/H20321/H20321Fill a contain...\n",
       "4            5  Fresh fish\\nThere is no inspection for fresh\\n..."
      ]
     },
     "execution_count": 73,
     "metadata": {},
     "output_type": "execute_result"
    }
   ],
   "source": [
    "# converting the data that has been read from GCS to Pandas DataFrame for easy readibility and downstream logic\n",
    "import pandas as pd\n",
    "pdf_data = pd.DataFrame.from_dict(final_data)\n",
    "pdf_data.reset_index(inplace=True, drop=True)\n",
    "pdf_data.head()"
   ]
  },
  {
   "cell_type": "code",
   "execution_count": 75,
   "id": "KjJT-zY5jiRA",
   "metadata": {
    "executionInfo": {
     "elapsed": 4942,
     "status": "ok",
     "timestamp": 1713467486262,
     "user": {
      "displayName": "",
      "userId": ""
     },
     "user_tz": 240
    },
    "id": "KjJT-zY5jiRA"
   },
   "outputs": [],
   "source": [
    "# init the vertexai package\n",
    "import vertexai\n",
    "\n",
    "vertexai.init(project=PROJECT_ID, location=LOCATION)"
   ]
  },
  {
   "cell_type": "code",
   "execution_count": 96,
   "id": "lUEx-Uq-nttb",
   "metadata": {
    "executionInfo": {
     "elapsed": 186,
     "status": "ok",
     "timestamp": 1713468684459,
     "user": {
      "displayName": "",
      "userId": ""
     },
     "user_tz": 240
    },
    "id": "lUEx-Uq-nttb"
   },
   "outputs": [],
   "source": [
    "# Load the text embeddings model\n",
    "from vertexai.preview.language_models import TextEmbeddingModel\n",
    "\n",
    "model = TextEmbeddingModel.from_pretrained(\"textembedding-gecko@002\")"
   ]
  },
  {
   "cell_type": "code",
   "execution_count": 97,
   "id": "4YNE_fIPoyHa",
   "metadata": {
    "executionInfo": {
     "elapsed": 231,
     "status": "ok",
     "timestamp": 1713468688831,
     "user": {
      "displayName": "",
      "userId": ""
     },
     "user_tz": 240
    },
    "id": "4YNE_fIPoyHa"
   },
   "outputs": [],
   "source": [
    "import time\n",
    "import tqdm  # to show a progress bar\n",
    "\n",
    "# get embeddings for a list of texts\n",
    "BATCH_SIZE = 5\n",
    "\n",
    "\n",
    "def get_embeddings_wrapper(texts):\n",
    "    embs = []\n",
    "    for i in tqdm.tqdm(range(0, len(texts), BATCH_SIZE)):\n",
    "        time.sleep(1)  # to avoid the quota error\n",
    "        result = model.get_embeddings(texts[i : i + BATCH_SIZE])\n",
    "        embs = embs + [e.values for e in result]\n",
    "    return embs\n"
   ]
  },
  {
   "cell_type": "code",
   "execution_count": 98,
   "id": "kPZWpy3wo2lC",
   "metadata": {
    "colab": {
     "base_uri": "https://localhost:8080/",
     "height": 224
    },
    "executionInfo": {
     "elapsed": 24026,
     "status": "ok",
     "timestamp": 1713468718400,
     "user": {
      "displayName": "",
      "userId": ""
     },
     "user_tz": 240
    },
    "id": "kPZWpy3wo2lC",
    "outputId": "cea604b6-82ff-455f-a978-43179e146602"
   },
   "outputs": [
    {
     "name": "stderr",
     "output_type": "stream",
     "text": [
      "100%|██████████| 19/19 [00:23<00:00,  1.25s/it]\n"
     ]
    },
    {
     "data": {
      "text/html": [
       "\n",
       "  <div id=\"df-4dac56bd-6596-45bc-8d47-ac4f55285bb5\" class=\"colab-df-container\">\n",
       "    <div>\n",
       "<style scoped>\n",
       "    .dataframe tbody tr th:only-of-type {\n",
       "        vertical-align: middle;\n",
       "    }\n",
       "\n",
       "    .dataframe tbody tr th {\n",
       "        vertical-align: top;\n",
       "    }\n",
       "\n",
       "    .dataframe thead th {\n",
       "        text-align: right;\n",
       "    }\n",
       "</style>\n",
       "<table border=\"1\" class=\"dataframe\">\n",
       "  <thead>\n",
       "    <tr style=\"text-align: right;\">\n",
       "      <th></th>\n",
       "      <th>page_number</th>\n",
       "      <th>content</th>\n",
       "      <th>embedding</th>\n",
       "    </tr>\n",
       "  </thead>\n",
       "  <tbody>\n",
       "    <tr>\n",
       "      <th>0</th>\n",
       "      <td>1</td>\n",
       "      <td>The Health Code\\nThese are regulations that we...</td>\n",
       "      <td>[-0.013569382950663567, -0.033456653356552124,...</td>\n",
       "    </tr>\n",
       "    <tr>\n",
       "      <th>1</th>\n",
       "      <td>2</td>\n",
       "      <td>The United States has one of the\\nsafest food ...</td>\n",
       "      <td>[-0.01585172675549984, -0.012489386834204197, ...</td>\n",
       "    </tr>\n",
       "    <tr>\n",
       "      <th>2</th>\n",
       "      <td>3</td>\n",
       "      <td>What is Ready-To- Eat Food?\\nAny food product ...</td>\n",
       "      <td>[-0.011286059394478798, -0.011021223850548267,...</td>\n",
       "    </tr>\n",
       "    <tr>\n",
       "      <th>3</th>\n",
       "      <td>4</td>\n",
       "      <td>Ice-Point Method\\n/H20321/H20321Fill a contain...</td>\n",
       "      <td>[-0.013480892404913902, -0.017172927036881447,...</td>\n",
       "    </tr>\n",
       "    <tr>\n",
       "      <th>4</th>\n",
       "      <td>5</td>\n",
       "      <td>Fresh fish\\nThere is no inspection for fresh\\n...</td>\n",
       "      <td>[0.0021019037812948227, -0.018236981704831123,...</td>\n",
       "    </tr>\n",
       "  </tbody>\n",
       "</table>\n",
       "</div>\n",
       "    <div class=\"colab-df-buttons\">\n",
       "\n",
       "  <div class=\"colab-df-container\">\n",
       "    <button class=\"colab-df-convert\" onclick=\"convertToInteractive('df-4dac56bd-6596-45bc-8d47-ac4f55285bb5')\"\n",
       "            title=\"Convert this dataframe to an interactive table.\"\n",
       "            style=\"display:none;\">\n",
       "\n",
       "  <svg xmlns=\"http://www.w3.org/2000/svg\" height=\"24px\" viewBox=\"0 -960 960 960\">\n",
       "    <path d=\"M120-120v-720h720v720H120Zm60-500h600v-160H180v160Zm220 220h160v-160H400v160Zm0 220h160v-160H400v160ZM180-400h160v-160H180v160Zm440 0h160v-160H620v160ZM180-180h160v-160H180v160Zm440 0h160v-160H620v160Z\"/>\n",
       "  </svg>\n",
       "    </button>\n",
       "\n",
       "  <style>\n",
       "    .colab-df-container {\n",
       "      display:flex;\n",
       "      gap: 12px;\n",
       "    }\n",
       "\n",
       "    .colab-df-convert {\n",
       "      background-color: #E8F0FE;\n",
       "      border: none;\n",
       "      border-radius: 50%;\n",
       "      cursor: pointer;\n",
       "      display: none;\n",
       "      fill: #1967D2;\n",
       "      height: 32px;\n",
       "      padding: 0 0 0 0;\n",
       "      width: 32px;\n",
       "    }\n",
       "\n",
       "    .colab-df-convert:hover {\n",
       "      background-color: #E2EBFA;\n",
       "      box-shadow: 0px 1px 2px rgba(60, 64, 67, 0.3), 0px 1px 3px 1px rgba(60, 64, 67, 0.15);\n",
       "      fill: #174EA6;\n",
       "    }\n",
       "\n",
       "    .colab-df-buttons div {\n",
       "      margin-bottom: 4px;\n",
       "    }\n",
       "\n",
       "    [theme=dark] .colab-df-convert {\n",
       "      background-color: #3B4455;\n",
       "      fill: #D2E3FC;\n",
       "    }\n",
       "\n",
       "    [theme=dark] .colab-df-convert:hover {\n",
       "      background-color: #434B5C;\n",
       "      box-shadow: 0px 1px 3px 1px rgba(0, 0, 0, 0.15);\n",
       "      filter: drop-shadow(0px 1px 2px rgba(0, 0, 0, 0.3));\n",
       "      fill: #FFFFFF;\n",
       "    }\n",
       "  </style>\n",
       "\n",
       "    <script>\n",
       "      const buttonEl =\n",
       "        document.querySelector('#df-4dac56bd-6596-45bc-8d47-ac4f55285bb5 button.colab-df-convert');\n",
       "      buttonEl.style.display =\n",
       "        google.colab.kernel.accessAllowed ? 'block' : 'none';\n",
       "\n",
       "      async function convertToInteractive(key) {\n",
       "        const element = document.querySelector('#df-4dac56bd-6596-45bc-8d47-ac4f55285bb5');\n",
       "        const dataTable =\n",
       "          await google.colab.kernel.invokeFunction('convertToInteractive',\n",
       "                                                    [key], {});\n",
       "        if (!dataTable) return;\n",
       "\n",
       "        const docLinkHtml = 'Like what you see? Visit the ' +\n",
       "          '<a target=\"_blank\" href=https://colab.research.google.com/notebooks/data_table.ipynb>data table notebook</a>'\n",
       "          + ' to learn more about interactive tables.';\n",
       "        element.innerHTML = '';\n",
       "        dataTable['output_type'] = 'display_data';\n",
       "        await google.colab.output.renderOutput(dataTable, element);\n",
       "        const docLink = document.createElement('div');\n",
       "        docLink.innerHTML = docLinkHtml;\n",
       "        element.appendChild(docLink);\n",
       "      }\n",
       "    </script>\n",
       "  </div>\n",
       "\n",
       "\n",
       "<div id=\"df-ef41bbb5-6d62-4284-9bc8-01dea08d12ae\">\n",
       "  <button class=\"colab-df-quickchart\" onclick=\"quickchart('df-ef41bbb5-6d62-4284-9bc8-01dea08d12ae')\"\n",
       "            title=\"Suggest charts\"\n",
       "            style=\"display:none;\">\n",
       "\n",
       "<svg xmlns=\"http://www.w3.org/2000/svg\" height=\"24px\"viewBox=\"0 0 24 24\"\n",
       "     width=\"24px\">\n",
       "    <g>\n",
       "        <path d=\"M19 3H5c-1.1 0-2 .9-2 2v14c0 1.1.9 2 2 2h14c1.1 0 2-.9 2-2V5c0-1.1-.9-2-2-2zM9 17H7v-7h2v7zm4 0h-2V7h2v10zm4 0h-2v-4h2v4z\"/>\n",
       "    </g>\n",
       "</svg>\n",
       "  </button>\n",
       "\n",
       "<style>\n",
       "  .colab-df-quickchart {\n",
       "      --bg-color: #E8F0FE;\n",
       "      --fill-color: #1967D2;\n",
       "      --hover-bg-color: #E2EBFA;\n",
       "      --hover-fill-color: #174EA6;\n",
       "      --disabled-fill-color: #AAA;\n",
       "      --disabled-bg-color: #DDD;\n",
       "  }\n",
       "\n",
       "  [theme=dark] .colab-df-quickchart {\n",
       "      --bg-color: #3B4455;\n",
       "      --fill-color: #D2E3FC;\n",
       "      --hover-bg-color: #434B5C;\n",
       "      --hover-fill-color: #FFFFFF;\n",
       "      --disabled-bg-color: #3B4455;\n",
       "      --disabled-fill-color: #666;\n",
       "  }\n",
       "\n",
       "  .colab-df-quickchart {\n",
       "    background-color: var(--bg-color);\n",
       "    border: none;\n",
       "    border-radius: 50%;\n",
       "    cursor: pointer;\n",
       "    display: none;\n",
       "    fill: var(--fill-color);\n",
       "    height: 32px;\n",
       "    padding: 0;\n",
       "    width: 32px;\n",
       "  }\n",
       "\n",
       "  .colab-df-quickchart:hover {\n",
       "    background-color: var(--hover-bg-color);\n",
       "    box-shadow: 0 1px 2px rgba(60, 64, 67, 0.3), 0 1px 3px 1px rgba(60, 64, 67, 0.15);\n",
       "    fill: var(--button-hover-fill-color);\n",
       "  }\n",
       "\n",
       "  .colab-df-quickchart-complete:disabled,\n",
       "  .colab-df-quickchart-complete:disabled:hover {\n",
       "    background-color: var(--disabled-bg-color);\n",
       "    fill: var(--disabled-fill-color);\n",
       "    box-shadow: none;\n",
       "  }\n",
       "\n",
       "  .colab-df-spinner {\n",
       "    border: 2px solid var(--fill-color);\n",
       "    border-color: transparent;\n",
       "    border-bottom-color: var(--fill-color);\n",
       "    animation:\n",
       "      spin 1s steps(1) infinite;\n",
       "  }\n",
       "\n",
       "  @keyframes spin {\n",
       "    0% {\n",
       "      border-color: transparent;\n",
       "      border-bottom-color: var(--fill-color);\n",
       "      border-left-color: var(--fill-color);\n",
       "    }\n",
       "    20% {\n",
       "      border-color: transparent;\n",
       "      border-left-color: var(--fill-color);\n",
       "      border-top-color: var(--fill-color);\n",
       "    }\n",
       "    30% {\n",
       "      border-color: transparent;\n",
       "      border-left-color: var(--fill-color);\n",
       "      border-top-color: var(--fill-color);\n",
       "      border-right-color: var(--fill-color);\n",
       "    }\n",
       "    40% {\n",
       "      border-color: transparent;\n",
       "      border-right-color: var(--fill-color);\n",
       "      border-top-color: var(--fill-color);\n",
       "    }\n",
       "    60% {\n",
       "      border-color: transparent;\n",
       "      border-right-color: var(--fill-color);\n",
       "    }\n",
       "    80% {\n",
       "      border-color: transparent;\n",
       "      border-right-color: var(--fill-color);\n",
       "      border-bottom-color: var(--fill-color);\n",
       "    }\n",
       "    90% {\n",
       "      border-color: transparent;\n",
       "      border-bottom-color: var(--fill-color);\n",
       "    }\n",
       "  }\n",
       "</style>\n",
       "\n",
       "  <script>\n",
       "    async function quickchart(key) {\n",
       "      const quickchartButtonEl =\n",
       "        document.querySelector('#' + key + ' button');\n",
       "      quickchartButtonEl.disabled = true;  // To prevent multiple clicks.\n",
       "      quickchartButtonEl.classList.add('colab-df-spinner');\n",
       "      try {\n",
       "        const charts = await google.colab.kernel.invokeFunction(\n",
       "            'suggestCharts', [key], {});\n",
       "      } catch (error) {\n",
       "        console.error('Error during call to suggestCharts:', error);\n",
       "      }\n",
       "      quickchartButtonEl.classList.remove('colab-df-spinner');\n",
       "      quickchartButtonEl.classList.add('colab-df-quickchart-complete');\n",
       "    }\n",
       "    (() => {\n",
       "      let quickchartButtonEl =\n",
       "        document.querySelector('#df-ef41bbb5-6d62-4284-9bc8-01dea08d12ae button');\n",
       "      quickchartButtonEl.style.display =\n",
       "        google.colab.kernel.accessAllowed ? 'block' : 'none';\n",
       "    })();\n",
       "  </script>\n",
       "</div>\n",
       "    </div>\n",
       "  </div>\n"
      ],
      "text/plain": [
       "   page_number                                            content  \\\n",
       "0            1  The Health Code\\nThese are regulations that we...   \n",
       "1            2  The United States has one of the\\nsafest food ...   \n",
       "2            3  What is Ready-To- Eat Food?\\nAny food product ...   \n",
       "3            4  Ice-Point Method\\n/H20321/H20321Fill a contain...   \n",
       "4            5  Fresh fish\\nThere is no inspection for fresh\\n...   \n",
       "\n",
       "                                           embedding  \n",
       "0  [-0.013569382950663567, -0.033456653356552124,...  \n",
       "1  [-0.01585172675549984, -0.012489386834204197, ...  \n",
       "2  [-0.011286059394478798, -0.011021223850548267,...  \n",
       "3  [-0.013480892404913902, -0.017172927036881447,...  \n",
       "4  [0.0021019037812948227, -0.018236981704831123,...  "
      ]
     },
     "execution_count": 98,
     "metadata": {},
     "output_type": "execute_result"
    }
   ],
   "source": [
    "# get embeddings for the question titles and add them as \"embedding\" column\n",
    "pdf_data = pdf_data.assign(embedding=get_embeddings_wrapper(list(pdf_data.content)))\n",
    "pdf_data.head()"
   ]
  },
  {
   "cell_type": "code",
   "execution_count": 101,
   "id": "jPQqv1NRoVlM",
   "metadata": {
    "executionInfo": {
     "elapsed": 23912,
     "status": "ok",
     "timestamp": 1713469335299,
     "user": {
      "displayName": "",
      "userId": ""
     },
     "user_tz": 240
    },
    "id": "jPQqv1NRoVlM"
   },
   "outputs": [],
   "source": [
    "import pandas as pd\n",
    "import firebase_admin\n",
    "from firebase_admin import firestore\n",
    "\n",
    "# Initialize the Firestore client\n",
    "#firebase_admin.initialize_app()\n",
    "db = firestore.client()\n",
    "\n",
    "# Get the PDF data\n",
    "#pdf_data = pd.read_csv(\"pdf_data.csv\", index_col=0)\n",
    "\n",
    "# Iterate over the rows in the PDF data\n",
    "for index, row in pdf_data.iterrows():\n",
    "    # Get the page number\n",
    "    page_number = row[\"page_number\"]\n",
    "\n",
    "    # Get the content and embedding\n",
    "    content = row[\"content\"]\n",
    "    embedding = row[\"embedding\"]\n",
    "\n",
    "    # Create a document reference\n",
    "    doc_ref = db.collection(\"pages\").document(str(page_number))\n",
    "\n",
    "    # Set the document data\n",
    "    doc_ref.set({\n",
    "        \"content\": content,\n",
    "        \"embedding\": embedding\n",
    "    })\n"
   ]
  },
  {
   "cell_type": "code",
   "execution_count": 102,
   "id": "aNcHUz7OnxTu",
   "metadata": {
    "executionInfo": {
     "elapsed": 206,
     "status": "ok",
     "timestamp": 1713469445729,
     "user": {
      "displayName": "",
      "userId": ""
     },
     "user_tz": 240
    },
    "id": "aNcHUz7OnxTu"
   },
   "outputs": [],
   "source": [
    "import pandas as pd\n",
    "import json\n",
    "\n",
    "# Get the PDF data\n",
    "#pdf_data = pd.read_csv(\"pdf_data.csv\", index_col=0)\n",
    "\n",
    "# Create a list of dictionaries, where each dictionary contains the page number and embedding\n",
    "embeddings = []\n",
    "for index, row in pdf_data.iterrows():\n",
    "    embeddings.append({\n",
    "        \"page_number\": row[\"page_number\"],\n",
    "        \"embedding\": row[\"embedding\"]\n",
    "    })\n",
    "\n",
    "# Convert the list of dictionaries to JSON-L format\n",
    "json_l = \"\\n\".join(json.dumps(embedding) for embedding in embeddings)\n",
    "\n",
    "# Write the JSON-L data to a file\n",
    "with open(\"embeddings.json\", \"w\") as f:\n",
    "    f.write(json_l)\n"
   ]
  },
  {
   "cell_type": "code",
   "execution_count": 103,
   "id": "e3R3mwzooTtr",
   "metadata": {
    "colab": {
     "base_uri": "https://localhost:8080/"
    },
    "executionInfo": {
     "elapsed": 386,
     "status": "ok",
     "timestamp": 1713469538191,
     "user": {
      "displayName": "",
      "userId": ""
     },
     "user_tz": 240
    },
    "id": "e3R3mwzooTtr",
    "outputId": "2111351a-4d80-4229-ac71-d41ce1603444"
   },
   "outputs": [
    {
     "name": "stdout",
     "output_type": "stream",
     "text": [
      "File uploaded successfully to Google Cloud Storage.\n"
     ]
    }
   ],
   "source": [
    "from google.cloud import storage\n",
    "\n",
    "# Create a storage client\n",
    "storage_client = storage.Client()\n",
    "\n",
    "# Get the bucket\n",
    "bucket = storage_client.bucket(\"qwiklabs-gcp-00-c908ca7e2977\")\n",
    "\n",
    "# Upload the file\n",
    "bucket.blob(\"embeddings.json\").upload_from_filename(\"embeddings.json\")\n",
    "\n",
    "# Print a success message\n",
    "print(\"File uploaded successfully to Google Cloud Storage.\")\n"
   ]
  },
  {
   "cell_type": "code",
   "execution_count": 124,
   "id": "sF9j2aXk3r2S",
   "metadata": {
    "executionInfo": {
     "elapsed": 232,
     "status": "ok",
     "timestamp": 1713472112238,
     "user": {
      "displayName": "",
      "userId": ""
     },
     "user_tz": 240
    },
    "id": "sF9j2aXk3r2S"
   },
   "outputs": [],
   "source": [
    "# init the aiplatform package\n",
    "from google.cloud import aiplatform\n",
    "\n",
    "aiplatform.init(project=PROJECT_ID, location=LOCATION)\n",
    "\n",
    "BUCKET_URI = \"gs://1qwiklabs-gcp-00-c908ca7e2977/embeddings.jsonl\""
   ]
  },
  {
   "cell_type": "code",
   "execution_count": 125,
   "id": "tDlJibNl3tJa",
   "metadata": {
    "colab": {
     "base_uri": "https://localhost:8080/"
    },
    "executionInfo": {
     "elapsed": 140700,
     "status": "ok",
     "timestamp": 1713472258010,
     "user": {
      "displayName": "",
      "userId": ""
     },
     "user_tz": 240
    },
    "id": "tDlJibNl3tJa",
    "outputId": "b6953da1-6cc0-41c1-f698-ba2692651a42"
   },
   "outputs": [
    {
     "name": "stderr",
     "output_type": "stream",
     "text": [
      "INFO:google.cloud.aiplatform.matching_engine.matching_engine_index:Creating MatchingEngineIndex\n",
      "INFO:google.cloud.aiplatform.matching_engine.matching_engine_index:Create MatchingEngineIndex backing LRO: projects/619606649119/locations/us-central1/indexes/2593884269365428224/operations/7604233996930646016\n",
      "INFO:google.cloud.aiplatform.matching_engine.matching_engine_index:MatchingEngineIndex created. Resource name: projects/619606649119/locations/us-central1/indexes/2593884269365428224\n",
      "INFO:google.cloud.aiplatform.matching_engine.matching_engine_index:To use this MatchingEngineIndex in another session:\n",
      "INFO:google.cloud.aiplatform.matching_engine.matching_engine_index:index = aiplatform.MatchingEngineIndex('projects/619606649119/locations/us-central1/indexes/2593884269365428224')\n"
     ]
    }
   ],
   "source": [
    "# create index\n",
    "my_index = aiplatform.MatchingEngineIndex.create_tree_ah_index(\n",
    "    display_name=f\"assessment-index-endpoint-{UID}\",\n",
    "    contents_delta_uri=BUCKET_URI,\n",
    "    dimensions=768,\n",
    "    approximate_neighbors_count=20,\n",
    "    distance_measure_type=\"DOT_PRODUCT_DISTANCE\",\n",
    ")"
   ]
  },
  {
   "cell_type": "code",
   "execution_count": 126,
   "id": "lwzYGO8x3_Ki",
   "metadata": {
    "colab": {
     "base_uri": "https://localhost:8080/"
    },
    "executionInfo": {
     "elapsed": 6979,
     "status": "ok",
     "timestamp": 1713472458566,
     "user": {
      "displayName": "",
      "userId": ""
     },
     "user_tz": 240
    },
    "id": "lwzYGO8x3_Ki",
    "outputId": "646ab357-0ceb-4ebe-cfad-1dbbf6c95734"
   },
   "outputs": [
    {
     "name": "stderr",
     "output_type": "stream",
     "text": [
      "INFO:google.cloud.aiplatform.matching_engine.matching_engine_index_endpoint:Creating MatchingEngineIndexEndpoint\n",
      "INFO:google.cloud.aiplatform.matching_engine.matching_engine_index_endpoint:Create MatchingEngineIndexEndpoint backing LRO: projects/619606649119/locations/us-central1/indexEndpoints/4094708845186646016/operations/2952015581856923648\n",
      "INFO:google.cloud.aiplatform.matching_engine.matching_engine_index_endpoint:MatchingEngineIndexEndpoint created. Resource name: projects/619606649119/locations/us-central1/indexEndpoints/4094708845186646016\n",
      "INFO:google.cloud.aiplatform.matching_engine.matching_engine_index_endpoint:To use this MatchingEngineIndexEndpoint in another session:\n",
      "INFO:google.cloud.aiplatform.matching_engine.matching_engine_index_endpoint:index_endpoint = aiplatform.MatchingEngineIndexEndpoint('projects/619606649119/locations/us-central1/indexEndpoints/4094708845186646016')\n"
     ]
    }
   ],
   "source": [
    "# create IndexEndpoint\n",
    "my_index_endpoint = aiplatform.MatchingEngineIndexEndpoint.create(\n",
    "    display_name=f\"assessment-index-endpoint-{UID}\",\n",
    "    public_endpoint_enabled=True,\n",
    ")"
   ]
  },
  {
   "cell_type": "code",
   "execution_count": 127,
   "id": "x_RaMCoc6yGE",
   "metadata": {
    "executionInfo": {
     "elapsed": 172,
     "status": "ok",
     "timestamp": 1713472485121,
     "user": {
      "displayName": "",
      "userId": ""
     },
     "user_tz": 240
    },
    "id": "x_RaMCoc6yGE"
   },
   "outputs": [],
   "source": [
    "DEPLOYED_INDEX_ID = f\"embvs_tutorial_deployed_{UID}\""
   ]
  },
  {
   "cell_type": "code",
   "execution_count": null,
   "id": "6oD33SlK6zQs",
   "metadata": {
    "colab": {
     "base_uri": "https://localhost:8080/"
    },
    "id": "6oD33SlK6zQs",
    "outputId": "182c295a-8828-405d-8371-94e8f01b814e"
   },
   "outputs": [
    {
     "name": "stderr",
     "output_type": "stream",
     "text": [
      "INFO:google.cloud.aiplatform.matching_engine.matching_engine_index_endpoint:Deploying index MatchingEngineIndexEndpoint index_endpoint: projects/619606649119/locations/us-central1/indexEndpoints/4094708845186646016\n",
      "INFO:google.cloud.aiplatform.matching_engine.matching_engine_index_endpoint:Deploy index MatchingEngineIndexEndpoint index_endpoint backing LRO: projects/619606649119/locations/us-central1/indexEndpoints/4094708845186646016/operations/9112939872099762176\n"
     ]
    }
   ],
   "source": [
    "# deploy the Index to the Index Endpoint\n",
    "my_index_endpoint.deploy_index(index=my_index, deployed_index_id=DEPLOYED_INDEX_ID)"
   ]
  },
  {
   "cell_type": "code",
   "execution_count": null,
   "id": "WP-1yknz64xc",
   "metadata": {
    "id": "WP-1yknz64xc"
   },
   "outputs": [],
   "source": [
    "test_embeddings = get_embeddings_wrapper([\"what are potentially dangerous foods for children?\"])"
   ]
  },
  {
   "cell_type": "code",
   "execution_count": null,
   "id": "R0YNowrf9Wde",
   "metadata": {
    "id": "R0YNowrf9Wde"
   },
   "outputs": [],
   "source": [
    "# Test query\n",
    "response = my_index_endpoint.find_neighbors(\n",
    "    deployed_index_id=DEPLOYED_INDEX_ID,\n",
    "    queries=test_embeddings,\n",
    "    num_neighbors=20,\n",
    ")\n",
    "\n",
    "# show the result\n",
    "import numpy as np\n",
    "\n",
    "for idx, neighbor in enumerate(response[0]):\n",
    "    id = np.int64(neighbor.id)\n",
    "    similar = df.query(\"id == @id\", engine=\"python\")\n",
    "    print(f\"{neighbor.distance:.4f} {similar.title.values[0]}\")"
   ]
  }
 ],
 "metadata": {
  "colab": {
   "name": "student-03-90062daa1fa9 (Apr 18, 2024, 12:44:46 PM)",
   "provenance": []
  },
  "kernelspec": {
   "display_name": "Python 3 (ipykernel)",
   "language": "python",
   "name": "python3"
  },
  "language_info": {
   "codemirror_mode": {
    "name": "ipython",
    "version": 3
   },
   "file_extension": ".py",
   "mimetype": "text/x-python",
   "name": "python",
   "nbconvert_exporter": "python",
   "pygments_lexer": "ipython3",
   "version": "3.7.4"
  }
 },
 "nbformat": 4,
 "nbformat_minor": 5
}
