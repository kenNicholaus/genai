{
  "cells": [
    {
      "cell_type": "markdown",
      "metadata": {
        "id": "PwFMpIMrTV_4"
      },
      "source": [
        "### Install Vertex AI SDK, other packages and their dependencies"
      ],
      "id": "PwFMpIMrTV_4"
    },
    {
      "cell_type": "code",
      "execution_count": null,
      "metadata": {
        "id": "WYUu8VMdJs3V"
      },
      "outputs": [],
      "source": [
        "!pip install google-cloud-aiplatform PyPDF2 ratelimit backoff --upgrade --quiet --user"
      ],
      "id": "WYUu8VMdJs3V"
    },
    {
      "cell_type": "code",
      "execution_count": null,
      "metadata": {
        "id": "XRvKdaPDTznN"
      },
      "outputs": [],
      "source": [
        "# # Automatically restart kernel after installs so that your environment can access the new packages\n",
        "import IPython\n",
        "\n",
        "app = IPython.Application.instance()\n",
        "app.kernel.do_shutdown(True)"
      ],
      "id": "XRvKdaPDTznN"
    },
    {
      "cell_type": "markdown",
      "metadata": {
        "id": "n5fXfvzhTkYN"
      },
      "source": [
        "### Import libraries"
      ],
      "id": "n5fXfvzhTkYN"
    },
    {
      "cell_type": "code",
      "execution_count": null,
      "metadata": {
        "id": "GjSsu6cmUdEx"
      },
      "outputs": [],
      "source": [
        "# get project ID\n",
        "PROJECT_ID = ! gcloud config get-value project\n",
        "PROJECT_ID = PROJECT_ID[0]\n",
        "LOCATION = \"us-central1\" # @param {type:\"string\"}\n",
        "\n",
        "# define project information manually if the above code didn't work\n",
        "if PROJECT_ID == \"(unset)\":\n",
        "  PROJECT_ID = \"[your-project-id]\" # @param {type:\"string\"}\n",
        "\n",
        "print(PROJECT_ID)"
      ],
      "id": "GjSsu6cmUdEx"
    },
    {
      "cell_type": "code",
      "execution_count": null,
      "metadata": {
        "id": "cRkcfnQMT9vD"
      },
      "outputs": [],
      "source": [
        "import re\n",
        "import urllib\n",
        "import warnings\n",
        "from pathlib import Path\n",
        "\n",
        "import backoff\n",
        "import pandas as pd\n",
        "import PyPDF2\n",
        "import ratelimit\n",
        "from google.api_core import exceptions\n",
        "from tqdm import tqdm\n",
        "from vertexai.language_models import TextGenerationModel\n",
        "\n",
        "warnings.filterwarnings(\"ignore\")"
      ],
      "id": "cRkcfnQMT9vD"
    },
    {
      "cell_type": "code",
      "execution_count": null,
      "metadata": {
        "id": "ITUmZiNZcMUW"
      },
      "outputs": [],
      "source": [
        "generation_model = TextGenerationModel.from_pretrained(\"text-bison@001\")"
      ],
      "id": "ITUmZiNZcMUW"
    },
    {
      "cell_type": "markdown",
      "metadata": {
        "id": "HZkLDRTjTcfm"
      },
      "source": [
        "### Preparing data files\n",
        "\n",
        "To begin, you will need to download a pdf file for the summarizing tasks below."
      ],
      "id": "HZkLDRTjTcfm"
    },
    {
      "cell_type": "code",
      "execution_count": null,
      "metadata": {
        "id": "7H0zINHpTaSu"
      },
      "outputs": [],
      "source": [
        "# Define a folder to store the files\n",
        "data_folder = \"data\"\n",
        "Path(data_folder).mkdir(parents=True, exist_ok=True)\n",
        "\n",
        "# Define a pdf link to download and place to store the download file\n",
        "pdf_url = \"https://services.google.com/fh/files/misc/practitioners_guide_to_mlops_whitepaper.pdf\"\n",
        "pdf_file = Path(data_folder, pdf_url.split(\"/\")[-1])\n",
        "\n",
        "# Download the file using `urllib` library\n",
        "urllib.request.urlretrieve(pdf_url, pdf_file)"
      ],
      "id": "7H0zINHpTaSu"
    },
    {
      "cell_type": "markdown",
      "metadata": {
        "id": "d_g1xzysoU18"
      },
      "source": [
        "Here you will take a peak at a few pages of the downloaded pdf file"
      ],
      "id": "d_g1xzysoU18"
    },
    {
      "cell_type": "code",
      "execution_count": null,
      "metadata": {
        "id": "hLtMd97SoTBE"
      },
      "outputs": [],
      "source": [
        "# Read the PDF file and create a list of pages\n",
        "reader = PyPDF2.PdfReader(pdf_file)\n",
        "pages = reader.pages\n",
        "\n",
        "# Print three pages from the pdf\n",
        "for i in range(2):\n",
        "    text = pages[i].extract_text().strip()\n",
        "    print(\"_____________________________\")\n",
        "    print(f\"Page {i}: {text} \\n\\n\")"
      ],
      "id": "hLtMd97SoTBE"
    },
    {
      "cell_type": "markdown",
      "metadata": {
        "id": "ZDVwBFSjZ7ws"
      },
      "source": [
        "## Method 1: Stuffing\n",
        "\n",
        "The simplest way to pass data to a language model is to \"stuff\" it all into the prompt as context. This means simply including all of the relevant information in the prompt, in the order that you want the model to process it.\n",
        "\n",
        "Here you will extract the text from all the pages in the pdf file."
      ],
      "id": "ZDVwBFSjZ7ws"
    },
    {
      "cell_type": "code",
      "execution_count": null,
      "metadata": {
        "id": "eH3Y3X8hJs3X"
      },
      "outputs": [],
      "source": [
        "# Read the PDF file and create a list of pages\n",
        "reader = PyPDF2.PdfReader(pdf_file)\n",
        "pages = reader.pages\n",
        "\n",
        "# Entry string to concatenate all the extacted texts\n",
        "concatenated_text = \"\"\n",
        "\n",
        "# Loop through the pages\n",
        "for page in tqdm(pages):\n",
        "    # Extract the text from the page and remove any leading or trailing whitespace\n",
        "    text = page.extract_text().strip()\n",
        "\n",
        "    # Concate the extracted text to the concatenated text\n",
        "    concatenated_text += text\n",
        "\n",
        "print(f\"There are {len(concatenated_text)} characters in the pdf\")"
      ],
      "id": "eH3Y3X8hJs3X"
    },
    {
      "cell_type": "markdown",
      "metadata": {
        "id": "fOMGiUAaiy3Y"
      },
      "source": [
        "You will now create a prompt template that can be used later in the notebook."
      ],
      "id": "fOMGiUAaiy3Y"
    },
    {
      "cell_type": "code",
      "execution_count": null,
      "metadata": {
        "id": "eDBlvprWizgW"
      },
      "outputs": [],
      "source": [
        "prompt_template = \"\"\"\n",
        "    Write a concise summary of the following text delimited by triple backquotes.\n",
        "    Return your response in bullet points which covers the key points of the text.\n",
        "\n",
        "    ```{text}```\n",
        "\n",
        "    BULLET POINT SUMMARY:\n",
        "\"\"\""
      ],
      "id": "eDBlvprWizgW"
    },
    {
      "cell_type": "markdown",
      "metadata": {
        "id": "x_xMwRLuyDrj"
      },
      "source": [
        "Here you will use LLM via the API to summarize the extracted texts. Please note that LLMs currently have input text limit and stuffing a large input text might not be accepted. You can read more about quotas and limits [here](https://cloud.google.com/vertex-ai/docs/quotas).\n",
        "\n",
        "The following code will cause **an exception**!"
      ],
      "id": "x_xMwRLuyDrj"
    },
    {
      "cell_type": "code",
      "execution_count": null,
      "metadata": {
        "id": "RtgemmBzkddX"
      },
      "outputs": [],
      "source": [
        "# Define the prompt using the prompt template\n",
        "prompt = prompt_template.format(text=concatenated_text)\n",
        "\n",
        "# Use the model to summarize the text using the prompt\n",
        "try:\n",
        "  summary = generation_model.predict(prompt=prompt, max_output_tokens=1024).text\n",
        "  print(summary)\n",
        "except Exception as e:\n",
        "  print(e)"
      ],
      "id": "RtgemmBzkddX"
    },
    {
      "cell_type": "markdown",
      "metadata": {
        "id": "N5aVrDWkJs3Y"
      },
      "source": [
        "#### Retrying\n",
        "\n",
        "The model responded with an error message: **400 Request contains an invalid argument** because the extracted text is too long for the generative model to process.\n",
        "\n",
        "To avoid this issue, you will only input a chunk of the extracted text (e.g. the first 20,000 characters)."
      ],
      "id": "N5aVrDWkJs3Y"
    },
    {
      "cell_type": "code",
      "execution_count": null,
      "metadata": {
        "id": "MmUwTIjMk58J"
      },
      "outputs": [],
      "source": [
        "# Define the prompt using the prompt template\n",
        "prompt = prompt_template.format(text=concatenated_text[:20000])\n",
        "\n",
        "#print(prompt)\n",
        "\n",
        "try:\n",
        "  summary = generation_model.predict(prompt=prompt, max_output_tokens=1024)\n",
        "  print(summary.text)\n",
        "except Exception as e:\n",
        "  print(e)\n"
      ],
      "id": "MmUwTIjMk58J"
    },
    {
      "cell_type": "markdown",
      "metadata": {
        "id": "Vtp21WX3T7d_"
      },
      "source": [
        "### Recap\n",
        "\n",
        "Although full text is too large for the model, you have managed to create a concise, bulleted list of the most important information from a portion of the PDF using the model. Thus, here are the pros and cons of using the stuffing method:\n",
        "\n",
        "**Pros:**\n",
        "- Only required a single call to the model.\n",
        "- When summarizing text, the model has access to all the data at once so that the result may be better.\n",
        "\n",
        "**Cons:**\n",
        "- Most models have a context length, and for large documents (or many documents) this will not work as it will result in a prompt larger than the context length.\n",
        "- This method only works on smaller pieces of data and not suitable to large documents most of the time.\n",
        "\n",
        "In the following session, you will explore approaches which designed to help deal with having longer text than context lengh limit of LLMs."
      ],
      "id": "Vtp21WX3T7d_"
    },
    {
      "cell_type": "markdown",
      "metadata": {
        "id": "wOY5LHl9Js3Y"
      },
      "source": [
        "### Adding rate limit to model calls\n",
        "\n",
        "When you use MapReduce or other similar methods, you will be making multiple API calls to the model in a short period of time. There is a limit on the number of API calls you can make per minute, so you will need to add a safety measure to your code to prevent exceeding the limit. This will help to ensure that your code runs smoothly and does not encounter any errors.\n",
        "\n",
        "For this method, here are a few specific things that you will do:\n",
        "1. You will make use of a Python library called [ratelimit](https://pypi.org/project/ratelimit/) to limit the number of API calls per minute\n",
        "2. You will make use of a Python library called [backoff](https://pypi.org/project/backoff/) to retry until the maximum time limit has reached\n",
        "\n",
        "The following function improves the API call process by limiting the number of calls to **20 per minute**. It also back offs and retries calling the API after encountering **Resource Exhausted** exception. The wait duration grows **exponentially until the 5-minute mark**, and then the function will give up on retrying."
      ],
      "id": "wOY5LHl9Js3Y"
    },
    {
      "cell_type": "code",
      "execution_count": null,
      "metadata": {
        "id": "0uziSPeEJs3Y"
      },
      "outputs": [],
      "source": [
        "CALL_LIMIT = 20  # Number of calls to allow within a period\n",
        "ONE_MINUTE = 60  # One minute in seconds\n",
        "FIVE_MINUTE = 5 * ONE_MINUTE\n",
        "\n",
        "\n",
        "# A function to print a message when the function is retrying\n",
        "def backoff_hdlr(details):\n",
        "    print(\n",
        "        \"Backing off {} seconds after {} tries\".format(\n",
        "            details[\"wait\"], details[\"tries\"]\n",
        "        )\n",
        "    )\n",
        "\n",
        "\n",
        "@backoff.on_exception(  # Retry with exponential backoff strategy when exceptions occur\n",
        "    backoff.expo,\n",
        "    (\n",
        "        exceptions.ResourceExhausted,\n",
        "        ratelimit.RateLimitException,\n",
        "    ),  # Exceptions to retry on\n",
        "    max_time=FIVE_MINUTE,\n",
        "    on_backoff=backoff_hdlr,  # Function to call when retrying\n",
        ")\n",
        "@ratelimit.limits(  # Limit the number of calls to the model per minute\n",
        "    calls=CALL_LIMIT, period=ONE_MINUTE\n",
        ")\n",
        "\n",
        "# This function will call the `generation_model.predict` function, but it will retry if defined exceptions occur.\n",
        "def model_with_limit_and_backoff(**kwargs):\n",
        "    return generation_model.predict(**kwargs)"
      ],
      "id": "0uziSPeEJs3Y"
    },
    {
      "cell_type": "markdown",
      "metadata": {
        "id": "RM3V1JARZ9-k"
      },
      "source": [
        "## Method 2: MapReduce\n",
        "\n",
        "This method works by first splitting the large data into chunks, then running a prompt on each chunk of text. For summarization tasks, the output from the initial prompt would be a summary of that chunk. Once all the initial outputs have been generated, a different prompt is run to combine them.\n",
        "\n",
        "This method is a bit more complex than the first method, but it can be more effective for large datasets. Here you will prepare two prompt templates: one for the initial summary step and another for the final combine step. You will be using these two templates later in this notebook."
      ],
      "id": "RM3V1JARZ9-k"
    },
    {
      "cell_type": "code",
      "execution_count": null,
      "metadata": {
        "id": "fs4rmcL-Js3Y"
      },
      "outputs": [],
      "source": [
        "initial_prompt_template = \"\"\"\n",
        "    Write a concise summary of the following text delimited by triple backquotes.\n",
        "\n",
        "    ```{text}```\n",
        "\n",
        "    CONCISE SUMMARY:\n",
        "\"\"\"\n",
        "\n",
        "final_prompt_template = \"\"\"\n",
        "    Write a concise summary of the following text delimited by triple backquotes.\n",
        "    Return your response in bullet points which covers the key points of the text.\n",
        "\n",
        "    ```{text}```\n",
        "\n",
        "    BULLET POINT SUMMARY:\n",
        "\"\"\""
      ],
      "id": "fs4rmcL-Js3Y"
    },
    {
      "cell_type": "markdown",
      "metadata": {
        "id": "eo5NkotOJs3Y"
      },
      "source": [
        "#### Map step\n",
        "\n",
        "In this section, you will read the PDF file again and use the model to summarize each page individually using the initial prompt template."
      ],
      "id": "eo5NkotOJs3Y"
    },
    {
      "cell_type": "code",
      "execution_count": null,
      "metadata": {
        "id": "aRub85PIJs3Y"
      },
      "outputs": [],
      "source": [
        "# Read the PDF file and create a list of pages\n",
        "reader = PyPDF2.PdfReader(pdf_file)\n",
        "pages = reader.pages\n",
        "\n",
        "# Create an empty list to store the summaries\n",
        "initial_summary = []\n",
        "\n",
        "# Iterate over the pages and generate a summary for each page\n",
        "for page in tqdm(pages):\n",
        "    # Extract the text from the page and remove any leading or trailing whitespace\n",
        "    text = page.extract_text().strip()\n",
        "\n",
        "    # Create a prompt for the model using the extracted text and a prompt template\n",
        "    prompt = initial_prompt_template.format(text=text)\n",
        "\n",
        "    # Generate a summary using the model and the prompt\n",
        "    summary = model_with_limit_and_backoff(prompt=prompt, max_output_tokens=1024).text\n",
        "\n",
        "    # Append the summary to the list of summaries\n",
        "    initial_summary.append(summary)"
      ],
      "id": "aRub85PIJs3Y"
    },
    {
      "cell_type": "markdown",
      "metadata": {
        "id": "pLLAUkuNDLbp"
      },
      "source": [
        "Take a look at the first few summaries of from the initial Map phrase."
      ],
      "id": "pLLAUkuNDLbp"
    },
    {
      "cell_type": "code",
      "execution_count": null,
      "metadata": {
        "id": "i3CpkQtgJs3Z"
      },
      "outputs": [],
      "source": [
        "print(\"\\n\\n\".join(initial_summary[:10]))"
      ],
      "id": "i3CpkQtgJs3Z"
    },
    {
      "cell_type": "markdown",
      "metadata": {
        "id": "KlPC414VJs3Z"
      },
      "source": [
        "Here you will count the number of characters in the initial summary to see if they are small enough to fit in a prompt."
      ],
      "id": "KlPC414VJs3Z"
    },
    {
      "cell_type": "code",
      "execution_count": null,
      "metadata": {
        "id": "GtetmxSRJs3Z"
      },
      "outputs": [],
      "source": [
        "len(\"\\n\".join(initial_summary))"
      ],
      "id": "GtetmxSRJs3Z"
    },
    {
      "cell_type": "markdown",
      "metadata": {
        "id": "TRAxL2PxJs3Z"
      },
      "source": [
        "As you managed to input 20,000 characters in a prompt previously, you can input this whole summary which has fewer characters to a prompt directly too. You will do that in the next step."
      ],
      "id": "TRAxL2PxJs3Z"
    },
    {
      "cell_type": "markdown",
      "metadata": {
        "id": "bdgZs93AJs3Z"
      },
      "source": [
        "#### Reduce step\n",
        "\n",
        "Here you will create a reduce function that concatenate the summaries from the inital summarization step (Map step) and use the final prompt template to summarize the summaries again."
      ],
      "id": "bdgZs93AJs3Z"
    },
    {
      "cell_type": "code",
      "execution_count": null,
      "metadata": {
        "id": "QS4caPjNJs3Z"
      },
      "outputs": [],
      "source": [
        "# Define a function to create a summary of the summaries\n",
        "def reduce(initial_summary, prompt_template):\n",
        "    # Concatenate the summaries from the inital step\n",
        "    concat_summary = \"\\n\".join(initial_summary)\n",
        "\n",
        "    # Create a prompt for the model using the concatenated text and a prompt template\n",
        "    prompt = prompt_template.format(text=concat_summary)\n",
        "\n",
        "    # Generate a summary using the model and the prompt\n",
        "    summary = model_with_limit_and_backoff(prompt=prompt, max_output_tokens=1024).text\n",
        "\n",
        "    return summary"
      ],
      "id": "QS4caPjNJs3Z"
    },
    {
      "cell_type": "markdown",
      "metadata": {
        "id": "9OxwetDgKoUg"
      },
      "source": [
        "You are ready to proceed on to the next step to combine all the summary into an even smaller summary using the final prompt template and the function that you created earlier."
      ],
      "id": "9OxwetDgKoUg"
    },
    {
      "cell_type": "code",
      "execution_count": null,
      "metadata": {
        "id": "uvd7MUrSKfu-"
      },
      "outputs": [],
      "source": [
        "# Use defined `reduce` function to summarize the summaries\n",
        "summary = reduce(initial_summary, final_prompt_template)\n",
        "\n",
        "print(summary)"
      ],
      "id": "uvd7MUrSKfu-"
    },
    {
      "cell_type": "markdown",
      "metadata": {
        "id": "AjkbEdTYJs3Z"
      },
      "source": [
        "#### Recap\n",
        "\n",
        "You just summarized the whole paper into a few bullet points using the MapReduce method. Here are the pros and cons of using such method:\n",
        "\n",
        "**Pros:**\n",
        "- Can summarize a large document\n",
        "- Can work well with parallel processing as the processes to summarize pages are independent to each other\n",
        "\n",
        "**Cons:**\n",
        "- Multiple calls to the model is needed\n",
        "- As the pages are summarized individually, the context between the pages could be loss\n",
        "\n",
        "\n",
        "In the next section, you will try another method which makes use of more than one chunk (page) per prompt to summarize."
      ],
      "id": "AjkbEdTYJs3Z"
    },
    {
      "cell_type": "markdown",
      "metadata": {
        "id": "rpQV6viOlUgH"
      },
      "source": [
        "## Method 3: MapReduce with Overlapping Chunks\n",
        "\n",
        "It is similar to MapReduce, but with one key difference: overlapping chunks. This means that a few pages will be summarized together, rather than each page being summarized separately. This helps to preserve more context or information between chunks, which can improve the accuracy of the results.\n",
        "\n",
        "It is important to note that combining chunks may sometimes exceed the token limit imposed by the model. If this occurs, you can either implement the chunk splitting method showor creatively solve the issue (e.g. removing a few initial chunks)."
      ],
      "id": "rpQV6viOlUgH"
    },
    {
      "cell_type": "markdown",
      "metadata": {
        "id": "SiPq5CqJJs3c"
      },
      "source": [
        "#### Map step\n",
        "\n",
        "In this section, you will read the PDF file again and use the model to summarize <b>a few pages</b> together using the initial prompt template that you defined earlier."
      ],
      "id": "SiPq5CqJJs3c"
    },
    {
      "cell_type": "code",
      "execution_count": null,
      "metadata": {
        "id": "ux6pPmPoJs3c"
      },
      "outputs": [],
      "source": [
        "# Read the PDF file and create a list of pages\n",
        "reader = PyPDF2.PdfReader(pdf_file)\n",
        "pages = reader.pages\n",
        "\n",
        "# Create an empty list to store the extracted text from the pages\n",
        "text_from_pages = []\n",
        "\n",
        "# Iterate over the pages and generate a summary for each page\n",
        "for page in tqdm(pages):\n",
        "    # Extract the text from the page and remove any leading or trailing whitespace\n",
        "    text = page.extract_text().strip()\n",
        "\n",
        "    # Append the extracted text to the list of extracted text\n",
        "    text_from_pages.append(text)"
      ],
      "id": "ux6pPmPoJs3c"
    },
    {
      "cell_type": "markdown",
      "metadata": {
        "id": "ZD7HMdQgXuP0"
      },
      "source": [
        "Here you will define the chunk size (number of pages to combine in this example) and summarize the chunks."
      ],
      "id": "ZD7HMdQgXuP0"
    },
    {
      "cell_type": "code",
      "execution_count": null,
      "metadata": {
        "id": "ZOA0Aq1nJs3c"
      },
      "outputs": [],
      "source": [
        "CHUNK_SIZE = 2  # number of overlapping pages\n",
        "\n",
        "# Read the PDF file and create a list of pages\n",
        "reader = PyPDF2.PdfReader(pdf_file)\n",
        "pages = reader.pages\n",
        "\n",
        "# Create an empty list to store the summaries\n",
        "initial_summary = []\n",
        "\n",
        "# Iterate over the pages and generate a summary for a few pages as one chunk based on `CHUNK_SIZE`\n",
        "for i in tqdm(range(len(pages))):\n",
        "    # Select a list of pages to merge as one chunk\n",
        "    pages_to_merge = [x for x in range(i, i + CHUNK_SIZE) if x < len(pages)]\n",
        "\n",
        "    extracted_texts = [text_from_pages[x] for x in pages_to_merge]\n",
        "\n",
        "    # Concatenate the\n",
        "    text = \"\\n\".join(extracted_texts)\n",
        "\n",
        "    # Create a prompt for the model using the concatenated text and a prompt template\n",
        "    prompt = initial_prompt_template.format(text=text)\n",
        "\n",
        "    # Generate a summary using the model and the prompt\n",
        "    summary = model_with_limit_and_backoff(prompt=prompt, max_output_tokens=1024).text\n",
        "\n",
        "    # Append the summary to the list of summaries\n",
        "    initial_summary.append(summary)\n",
        "\n",
        "    # If the last page is reached, break the loop\n",
        "    if pages_to_merge[-1] == len(reader.pages):\n",
        "        break"
      ],
      "id": "ZOA0Aq1nJs3c"
    },
    {
      "cell_type": "markdown",
      "metadata": {
        "id": "KVUVGBfbekfL"
      },
      "source": [
        "Take a look at the first few summaries of from the initial Map phrase."
      ],
      "id": "KVUVGBfbekfL"
    },
    {
      "cell_type": "code",
      "execution_count": null,
      "metadata": {
        "id": "uxgPKJ7BefyX"
      },
      "outputs": [],
      "source": [
        "print(\"\\n\\n\".join(initial_summary[:10]))"
      ],
      "id": "uxgPKJ7BefyX"
    },
    {
      "cell_type": "markdown",
      "metadata": {
        "id": "oL7aV6U2Js3d"
      },
      "source": [
        "#### Reduce step\n",
        "\n",
        "You are ready to proceed on to the next step to combine all the summary into an even smaller summary using the final prompt template and the function that you created earlier."
      ],
      "id": "oL7aV6U2Js3d"
    },
    {
      "cell_type": "code",
      "execution_count": null,
      "metadata": {
        "id": "AxqSucUgJs3d"
      },
      "outputs": [],
      "source": [
        "# Use defined `reduce` function to summarize the summaries\n",
        "summary = reduce(initial_summary, final_prompt_template)\n",
        "\n",
        "print(summary)"
      ],
      "id": "AxqSucUgJs3d"
    },
    {
      "cell_type": "markdown",
      "metadata": {
        "id": "V6UpRIozJs3d"
      },
      "source": [
        "#### Recap\n",
        "\n",
        "The model was able to summary the whole paper into a few bullet points using the MapReduce with Overlapping Chunks method. Here are the pros and cons of using such method:\n",
        "\n",
        "**Pros:**\n",
        "- Can summarize a large document\n",
        "- As the sequential pages are summarized together, the context between the pages are preserved\n",
        "- Can use parallel processing as the results are independent to each other\n",
        "\n",
        "**Cons:**\n",
        "- Multiple calls to the model is needed\n",
        "- Slightly slower than pure MapReduce method\n",
        "- Create larger input text\n",
        "\n",
        "\n",
        "In the next section, you will try a different approach that make use of a summary from the previous page instead of the entire text."
      ],
      "id": "V6UpRIozJs3d"
    },
    {
      "cell_type": "markdown",
      "metadata": {
        "id": "fFqa_qCmJs3d"
      },
      "source": [
        "## Method 4: MapReduce with Rolling Summary (Refine)\n",
        "\n",
        "On some occasions, combining a few pages might be too large to summarize. To resolve that issue, you will now a different approach that uses an initial summary from the previous step along with the next page to summarize each prompt. This helps to ensure that the summary is complete and accurate, as it takes into account the context of the previous page."
      ],
      "id": "fFqa_qCmJs3d"
    },
    {
      "cell_type": "code",
      "execution_count": null,
      "metadata": {
        "id": "zfK3SQMSJs3d"
      },
      "outputs": [],
      "source": [
        "initial_prompt_template = \"\"\"\n",
        "    Taking the following context delimited by triple backquotes into consideration:\n",
        "\n",
        "    ```{context}```\n",
        "\n",
        "    Write a concise summary of the following text delimited by triple backquotes.\n",
        "\n",
        "    ```{text}```\n",
        "\n",
        "    CONCISE SUMMARY:\n",
        "\"\"\""
      ],
      "id": "zfK3SQMSJs3d"
    },
    {
      "cell_type": "code",
      "execution_count": null,
      "metadata": {
        "id": "9sCN849gJs3d"
      },
      "outputs": [],
      "source": [
        "# Read the PDF file and create a list of pages.\n",
        "reader = PyPDF2.PdfReader(pdf_file)\n",
        "pages = reader.pages\n",
        "\n",
        "# Create an empty list to store the summaries.\n",
        "initial_summary = []\n",
        "\n",
        "# Iterate over the pages and generate a summary\n",
        "for idx, page in enumerate(tqdm(pages)):\n",
        "    # Extract the text from the page and remove any leading or trailing whitespace.\n",
        "    text = page.extract_text().strip()\n",
        "\n",
        "    if idx == 0:  # if current page is the first page, no previous context\n",
        "        prompt = initial_prompt_template.format(context=\"\", text=text)\n",
        "\n",
        "    else:  # if current page is not the first page, previous context is the summary of the previous page\n",
        "        prompt = initial_prompt_template.format(\n",
        "            context=initial_summary[idx - 1], text=text\n",
        "        )\n",
        "\n",
        "    # Generate a summary using the model and the prompt\n",
        "    summary = model_with_limit_and_backoff(prompt=prompt, max_output_tokens=1024).text\n",
        "\n",
        "    # Append the summary to the list of summaries\n",
        "    initial_summary.append(summary)"
      ],
      "id": "9sCN849gJs3d"
    },
    {
      "cell_type": "markdown",
      "metadata": {
        "id": "NJ3cOxWOJs3d"
      },
      "source": [
        "Here you will list out a few entries from the initial summary list."
      ],
      "id": "NJ3cOxWOJs3d"
    },
    {
      "cell_type": "code",
      "execution_count": null,
      "metadata": {
        "id": "L5yOZikVJs3d"
      },
      "outputs": [],
      "source": [
        "initial_summary[:10]"
      ],
      "id": "L5yOZikVJs3d"
    },
    {
      "cell_type": "markdown",
      "metadata": {
        "id": "OYYZM4QOJs3d"
      },
      "source": [
        "It is expected that there will be a few duplicate entries in the list, as you are rolling in context from previous pages to the next. You can easily remove these duplicates by using the set function."
      ],
      "id": "OYYZM4QOJs3d"
    },
    {
      "cell_type": "code",
      "execution_count": null,
      "metadata": {
        "id": "KxKpvvEzJs3d"
      },
      "outputs": [],
      "source": [
        "initial_summary = set(initial_summary)  # set() function removes duplicate items"
      ],
      "id": "KxKpvvEzJs3d"
    },
    {
      "cell_type": "markdown",
      "metadata": {
        "id": "9HczirNnJs3d"
      },
      "source": [
        "#### Reduce step\n",
        "You are ready to proceed on to the next step to combine all the summary into an even smaller summary using the final prompt template and the function that you created earlier."
      ],
      "id": "9HczirNnJs3d"
    },
    {
      "cell_type": "code",
      "execution_count": null,
      "metadata": {
        "id": "I8Mg8MaaJs3d"
      },
      "outputs": [],
      "source": [
        "# Use defined `reduce` function to summarize the summaries\n",
        "summary = reduce(initial_summary, final_prompt_template)\n",
        "\n",
        "print(summary)"
      ],
      "id": "I8Mg8MaaJs3d"
    },
    {
      "cell_type": "markdown",
      "metadata": {
        "id": "_5wFY2SLJs3d"
      },
      "source": [
        "#### Recap\n",
        "\n",
        "The model was able to summarize the whole paper into a few bullet points using the MapReduce with Rolling Summary method. Here are the pros and cons of using such method:\n",
        "\n",
        "**Pros:**\n",
        "- Can summarize a large document\n",
        "- As the sequential pages are summarized using the context from previous pages, the context between the pages are preserved\n",
        "\n",
        "**Cons:**\n",
        "- Multiple calls to the model is needed\n",
        "- Cannot work well with parallel processing as the processes to summarize pages are dependent to each other"
      ],
      "id": "_5wFY2SLJs3d"
    },
    {
      "cell_type": "markdown",
      "metadata": {
        "id": "LNyorWQgJs3d"
      },
      "source": [
        "## Conclusion\n",
        "\n",
        "You have successfully summarized a long document, even though it was initially impossible due to an input prompt limit. You have also learned several methods for summarizing long documents, along with their advantages and disadvantages.\n",
        "\n",
        "Summarizing a long document can be challenging. It requires you to identify the main points of the document, synthesize the information, and present it in a concise and coherent way. This can be especially difficult if the document is complex or technical. Additionally, summarizing a long document can be time-consuming, as you need to carefully read and analyze the text to ensure that the summary is accurate and complete.\n",
        "\n",
        "While these methods allow you to interact with LLMs and summarize long documents in a flexible way, you may sometimes want to speed up the process by using bootstrapping or pre-built methods. This is where libraries like LangChain come in. You can read more about LangChain support on Vertex AI [here](https://python.langchain.com/en/latest/modules/models/llms/integrations/google_vertex_ai_palm.html)."
      ],
      "id": "LNyorWQgJs3d"
    }
  ],
  "metadata": {
    "kernelspec": {
      "display_name": "Python 3",
      "language": "python",
      "name": "python3"
    },
    "language_info": {
      "codemirror_mode": {
        "name": "ipython",
        "version": 3
      },
      "file_extension": ".py",
      "mimetype": "text/x-python",
      "name": "python",
      "nbconvert_exporter": "python",
      "pygments_lexer": "ipython3",
      "version": "3.10.10"
    },
    "colab": {
      "provenance": []
    }
  },
  "nbformat": 4,
  "nbformat_minor": 5
}