{
  "nbformat": 4,
  "nbformat_minor": 0,
  "metadata": {
    "colab": {
      "provenance": []
    },
    "kernelspec": {
      "name": "python3",
      "display_name": "Python 3"
    },
    "language_info": {
      "name": "python"
    }
  },
  "cells": [
    {
      "cell_type": "code",
      "execution_count": null,
      "metadata": {
        "id": "ydanF3un3dP-"
      },
      "outputs": [],
      "source": [
        "!pip install \"shapely<2.0.0\"\n",
        "!pip install google-cloud-aiplatform --upgrade\n",
        "!pip install testbook pytest --upgrade"
      ]
    },
    {
      "cell_type": "code",
      "source": [
        "# Restart kernel after installs so that your environment can access the new packages\n",
        "import IPython\n",
        "\n",
        "app = IPython.Application.instance()\n",
        "app.kernel.do_shutdown(True)"
      ],
      "metadata": {
        "id": "h7fglXd_3nWV"
      },
      "execution_count": null,
      "outputs": []
    },
    {
      "cell_type": "code",
      "source": [
        "import vertexai\n",
        "from vertexai.language_models import TextGenerationModel\n",
        "\n",
        "PROJECT_ID = ! gcloud config get-value project\n",
        "PROJECT_ID = PROJECT_ID[0]\n",
        "LOCATION = \"us-central1\" # @param {type:\"string\"}\n",
        "\n",
        "# define project information manually if the above code didn't work\n",
        "if PROJECT_ID == \"(unset)\":\n",
        "  PROJECT_ID = \"[your-project-id]\" # @param {type:\"string\"}\n",
        "\n",
        "print(PROJECT_ID)\n",
        "\n",
        "vertexai.init(project=PROJECT_ID, location=LOCATION)\n",
        "parameters = {\n",
        "    \"candidate_count\": 1,\n",
        "    \"max_output_tokens\": 1024,\n",
        "    \"temperature\": 0.8,\n",
        "    \"top_p\": 0.8,\n",
        "    \"top_k\": 40\n",
        "}\n",
        "model = TextGenerationModel.from_pretrained(\"text-bison\")"
      ],
      "metadata": {
        "id": "B_SXp7GI3s0G"
      },
      "execution_count": null,
      "outputs": []
    },
    {
      "cell_type": "code",
      "source": [
        "def getPositiveOrNegative(prompt):\n",
        "  response = model.predict(\n",
        "    \"\"\"Context: You look at messages and categorize them as\n",
        "    positive, negative, or neutral.\n",
        "\n",
        "  Output only Positive, Negative, or Neutral.\n",
        "\n",
        "  Message: {0}.\n",
        "  Output: \"\"\".format(prompt),\n",
        "    **parameters\n",
        "    )\n",
        "\n",
        "  return response.text.strip()\n"
      ],
      "metadata": {
        "id": "91gD9LFP34LG"
      },
      "execution_count": null,
      "outputs": []
    },
    {
      "cell_type": "code",
      "source": [
        "print(getPositiveOrNegative(\"Dinner was at noon.\"))"
      ],
      "metadata": {
        "id": "bA_IsUNP4Zx9"
      },
      "execution_count": null,
      "outputs": []
    },
    {
      "cell_type": "code",
      "source": [
        "import unittest\n",
        "\n",
        "class TestPositiveOrNegative(unittest.TestCase):\n",
        "\n",
        "    def test_getPositiveOrNegative1(self):\n",
        "      response = getPositiveOrNegative(\"Dinner was Great\")\n",
        "      self.assertEqual(response, \"Positive\")\n",
        "\n",
        "    def test_getPositiveOrNegative2(self):\n",
        "      response = getPositiveOrNegative(\"That broccoli was undercooked and cold\")\n",
        "      self.assertEqual(response, \"Negative\")\n",
        "\n",
        "    def test_getPositiveOrNegative3(self):\n",
        "      response = getPositiveOrNegative(\"We went to the new italian place for dinner\")\n",
        "      self.assertEqual(response, \"Neutral\")\n",
        "\n",
        "unittest.main(argv=[''], verbosity=2, exit=False)"
      ],
      "metadata": {
        "id": "NKV1P4Q591Gm"
      },
      "execution_count": null,
      "outputs": []
    },
    {
      "cell_type": "code",
      "source": [
        "getPositiveOrNegative(\"We went to the new italian place for dinner\")"
      ],
      "metadata": {
        "id": "MQTsR4qeAhuc"
      },
      "execution_count": null,
      "outputs": []
    },
    {
      "cell_type": "code",
      "source": [
        "def writeTweet(prompt):\n",
        "  response = model.predict(\n",
        "    \"\"\"Context: You write Tweets for the Marketing Department at Luigi's Italian Cafe.\n",
        "\n",
        "    1. Keep your Tweets below 100 characters\n",
        "    2. Include the hashtag #EatAtLuigis at the end of every tweet\n",
        "\n",
        "  Input: Write me a for our All You Can eat Spaghetti Wednesdays deal.\n",
        "  Output: Spaghetti Wednesday is here! Come get all you can eat spaghetti and meatballs for only $9.99! #EatAtLuigis\n",
        "\n",
        "  Input: {0}\n",
        "  Output: \"\"\".format(prompt),\n",
        "    **parameters\n",
        "    )\n",
        "\n",
        "  return response.text.strip()"
      ],
      "metadata": {
        "id": "7YqK4MVaJDJ0"
      },
      "execution_count": null,
      "outputs": []
    },
    {
      "cell_type": "code",
      "source": [
        "def are_tweets_the_same(tweet1, tweet2):\n",
        "  response = model.predict(\n",
        "    \"\"\"Compare the following Tweets. Are they fundamentally the same?\n",
        "\n",
        "    Only return Yes or No\n",
        "\n",
        "    Tweet 1: {0}\n",
        "    Tweet 2: {1}\n",
        "    Output:\n",
        "\n",
        " \"\"\".format(tweet1, tweet2),\n",
        "    **parameters\n",
        "    )\n",
        "\n",
        "  return response.text.strip()"
      ],
      "metadata": {
        "id": "tOcDPsRjLUKp"
      },
      "execution_count": null,
      "outputs": []
    },
    {
      "cell_type": "code",
      "source": [
        "print(writeTweet(\"Write a tweet about our half-price bottles of wine every Thursday\"))"
      ],
      "metadata": {
        "id": "oZTMjxAUKJtt"
      },
      "execution_count": null,
      "outputs": []
    },
    {
      "cell_type": "code",
      "source": [
        "import unittest\n",
        "\n",
        "class TestTextGeneration(unittest.TestCase):\n",
        "\n",
        "    def test_tweet_results_1(self):\n",
        "      actual_result = writeTweet(\"Write a tweet about our half-price bottles of wine every Thursday\")\n",
        "      expected_result = \"\"\"Thirsty Thursday is here! Come enjoy half-price bottles of\n",
        "      wine every Thursday at Luigi's! #EatAtLuigis\"\"\"\n",
        "      same = are_tweets_the_same(actual_result, expected_result)\n",
        "      self.assertEqual(same, \"Yes\")\n",
        "\n",
        "    def test_tweet_results_Should_fail(self):\n",
        "      actual_result = writeTweet(\"Write a tweet about our half-price bottles of wine every Thursday\")\n",
        "      expected_result = \"\"\"Halloween party at the community center! Dress up and come out for a\n",
        "      night of fun, food, and games. #Halloween\"\"\"\n",
        "      same = are_tweets_the_same(actual_result, expected_result)\n",
        "      self.assertEqual(same, \"Yes\")\n",
        "\n",
        "\n",
        "unittest.main(argv=[''], verbosity=2, exit=False)"
      ],
      "metadata": {
        "id": "d2WwwLm_I1mS"
      },
      "execution_count": null,
      "outputs": []
    }
  ]
}