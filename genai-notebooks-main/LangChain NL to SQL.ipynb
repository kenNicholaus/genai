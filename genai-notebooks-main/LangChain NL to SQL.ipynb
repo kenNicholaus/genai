{
  "nbformat": 4,
  "nbformat_minor": 0,
  "metadata": {
    "colab": {
      "provenance": []
    },
    "kernelspec": {
      "name": "python3",
      "display_name": "Python 3"
    },
    "language_info": {
      "name": "python"
    }
  },
  "cells": [
    {
      "cell_type": "code",
      "execution_count": null,
      "metadata": {
        "id": "Uyp7dZgC2csY"
      },
      "outputs": [],
      "source": [
        "!pip install \"shapely<2.0.0\"\n",
        "!pip install google-cloud-aiplatform langchain --upgrade\n",
        "#! pip install google-cloud-aiplatform langchain==0.0.323 chromadb==0.3.26 pydantic==1.10.8 typing-inspect==0.8.0 typing_extensions==4.5.0 pandas datasets google-api-python-client pypdf faiss-cpu transformers config --upgrade --user\n"
      ]
    },
    {
      "cell_type": "code",
      "source": [
        "# Restart kernel after installs so that your environment can access the new packages\n",
        "import IPython\n",
        "\n",
        "app = IPython.Application.instance()\n",
        "app.kernel.do_shutdown(True)"
      ],
      "metadata": {
        "id": "jhaKH9nF2osz"
      },
      "execution_count": null,
      "outputs": []
    },
    {
      "cell_type": "markdown",
      "source": [
        "# LangChain"
      ],
      "metadata": {
        "id": "KuRs5JKJo1s3"
      }
    },
    {
      "cell_type": "code",
      "source": [
        "import vertexai\n",
        "import langchain\n",
        "from langchain.llms import VertexAI\n",
        "from google.cloud import aiplatform\n",
        "\n",
        "PROJECT_ID = ! gcloud config get-value project\n",
        "PROJECT_ID = PROJECT_ID[0]\n",
        "LOCATION = \"us-central1\" # @param {type:\"string\"}\n",
        "\n",
        "# define project information manually if the above code didn't work\n",
        "if PROJECT_ID == \"(unset)\":\n",
        "  PROJECT_ID = \"[your-project-id]\" # @param {type:\"string\"}\n",
        "\n",
        "print(PROJECT_ID)\n",
        "vertexai.init(project=PROJECT_ID, location=LOCATION)\n",
        "\n",
        "print(f\"LangChain version: {langchain.__version__}\")\n",
        "print(f\"Vertex AI SDK version: {aiplatform.__version__}\")"
      ],
      "metadata": {
        "id": "fhextIUkrf2n"
      },
      "execution_count": null,
      "outputs": []
    },
    {
      "cell_type": "code",
      "source": [
        "llm = VertexAI(\n",
        "    model_name=\"code-bison@002\",\n",
        "    max_output_tokens=256,\n",
        "    temperature=0.1,\n",
        "    top_p=0.8,\n",
        "    top_k=40,\n",
        "    verbose=True,\n",
        ")\n",
        "\n",
        "print(llm(\"\"\"Write me a function to reverse the bits of an\n",
        "             integer in Objective-C\n",
        "          \"\"\"))"
      ],
      "metadata": {
        "id": "DTt24fTh27sH"
      },
      "execution_count": null,
      "outputs": []
    },
    {
      "cell_type": "markdown",
      "source": [
        "# Prompt Templates"
      ],
      "metadata": {
        "id": "XtwB4EUwLKDa"
      }
    },
    {
      "cell_type": "code",
      "source": [
        "from langchain.prompts import PromptTemplate\n",
        "\n",
        "prompt_template = PromptTemplate.from_template(\n",
        "    \"\"\"\n",
        "    Context: You write SQL Queries based on natural language inputs.\n",
        "    Given the following database Schema: {schema}\n",
        "\n",
        "    Write a SQL SELECT query based on the following question: {question}.\n",
        "    Only return the SQL statement\n",
        "    Make sure you put semicolons after each line\n",
        "    \"\"\"\n",
        ")\n",
        "\n",
        "schema = \"\"\"\n",
        "TABLE Owners (\n",
        "  OwnerID STRING(36) NOT NULL,\n",
        "  OwnerName STRING(MAX) NOT NULL,\n",
        "  LastName STRING(MAX),\n",
        ") PRIMARY KEY(OwnerID);\n",
        "\n",
        "TABLE Pets (\n",
        "  OwnerID STRING(36) NOT NULL,\n",
        "  PetID STRING(MAX) NOT NULL,\n",
        "  PetType STRING(MAX) NOT NULL,\n",
        "  PetName STRING(MAX) NOT NULL,\n",
        "  Breed STRING(MAX) NOT NULL,\n",
        "  DOB DATE,\n",
        ") PRIMARY KEY(OwnerID, PetID),\n",
        "  INTERLEAVE IN PARENT Owners ON DELETE CASCADE;\n",
        "\"\"\""
      ],
      "metadata": {
        "id": "nl3KOi04Mer0"
      },
      "execution_count": null,
      "outputs": []
    },
    {
      "cell_type": "code",
      "source": [
        "print(llm(prompt_template.format(schema=schema,\n",
        "                                 question=\"How many owners are there\")))"
      ],
      "metadata": {
        "id": "HlM-VkKKayrk"
      },
      "execution_count": null,
      "outputs": []
    },
    {
      "cell_type": "code",
      "source": [
        "print(llm(prompt_template.format(schema=schema,\n",
        "                                 question=\"\"\"Show me the number of pets\n",
        "                                 for each owner. Include the name of each owner\"\"\")))"
      ],
      "metadata": {
        "id": "pYJOm5xjayot"
      },
      "execution_count": null,
      "outputs": []
    },
    {
      "cell_type": "code",
      "source": [
        "print(llm(prompt_template.format(schema=schema,\n",
        "                                 question=\"Show me the dogs sorted by age\")))"
      ],
      "metadata": {
        "id": "XI_HKTjEax5I"
      },
      "execution_count": null,
      "outputs": []
    },
    {
      "cell_type": "code",
      "source": [
        "print(llm(prompt_template.format(schema=schema,\n",
        "                                 question=\"\"\"Show me the average age of the pets by type.\n",
        "                                 Round the average age to the year\"\"\")))"
      ],
      "metadata": {
        "id": "c1io0oiEhd8s"
      },
      "execution_count": null,
      "outputs": []
    }
  ]
}