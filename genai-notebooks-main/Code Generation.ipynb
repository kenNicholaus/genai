{
  "nbformat": 4,
  "nbformat_minor": 0,
  "metadata": {
    "colab": {
      "provenance": []
    },
    "kernelspec": {
      "name": "python3",
      "display_name": "Python 3"
    },
    "language_info": {
      "name": "python"
    }
  },
  "cells": [
    {
      "cell_type": "code",
      "execution_count": null,
      "metadata": {
        "id": "Uyp7dZgC2csY"
      },
      "outputs": [],
      "source": [
        "!pip install google-cloud-aiplatform langchain --upgrade"
      ]
    },
    {
      "cell_type": "code",
      "source": [
        "# Restart kernel after installs so that your environment can access the new packages\n",
        "import IPython\n",
        "\n",
        "app = IPython.Application.instance()\n",
        "app.kernel.do_shutdown(True)"
      ],
      "metadata": {
        "id": "l_L4f9U5Cw2i"
      },
      "execution_count": null,
      "outputs": []
    },
    {
      "cell_type": "markdown",
      "source": [
        "# LangChain"
      ],
      "metadata": {
        "id": "KuRs5JKJo1s3"
      }
    },
    {
      "cell_type": "code",
      "source": [
        "import vertexai\n",
        "import langchain\n",
        "from langchain.llms import VertexAI\n",
        "from google.cloud import aiplatform\n",
        "\n",
        "PROJECT_ID = ! gcloud config get-value project\n",
        "PROJECT_ID = PROJECT_ID[0]\n",
        "LOCATION = \"us-central1\" # @param {type:\"string\"}\n",
        "\n",
        "# define project information manually if the above code didn't work\n",
        "if PROJECT_ID == \"(unset)\":\n",
        "  PROJECT_ID = \"[your-project-id]\" # @param {type:\"string\"}\n",
        "\n",
        "print(PROJECT_ID)\n",
        "vertexai.init(project=PROJECT_ID, location=LOCATION)\n",
        "\n",
        "print(f\"LangChain version: {langchain.__version__}\")\n",
        "print(f\"Vertex AI SDK version: {aiplatform.__version__}\")\n"
      ],
      "metadata": {
        "id": "fhextIUkrf2n"
      },
      "execution_count": null,
      "outputs": []
    },
    {
      "cell_type": "code",
      "source": [
        "llm = VertexAI(\n",
        "    model_name=\"code-bison@002\",\n",
        "    max_output_tokens=256,\n",
        "    temperature=0.1,\n",
        "    top_p=0.8,\n",
        "    top_k=40,\n",
        "    verbose=False,\n",
        ")\n",
        "\n",
        "print(llm(\"\"\"Write me a function to reverse the bits of an\n",
        "             integer in Objective-C\n",
        "          \"\"\"))"
      ],
      "metadata": {
        "id": "DTt24fTh27sH"
      },
      "execution_count": null,
      "outputs": []
    },
    {
      "cell_type": "markdown",
      "source": [
        "# Prompt Templates"
      ],
      "metadata": {
        "id": "XtwB4EUwLKDa"
      }
    },
    {
      "cell_type": "code",
      "source": [
        "from langchain.prompts import PromptTemplate\n",
        "\n",
        "prompt_template = PromptTemplate.from_template(\n",
        "    \"\"\"\n",
        "    Context: You write SQL Queries based on natural language inputs.\n",
        "    Given the following database Schema: {schema}\n",
        "\n",
        "    Write a SQL SELECT query based on the following question: {question}.\n",
        "    Only return the SQL statement\n",
        "    Make sure you put semicolons after each line\n",
        "    \"\"\"\n",
        ")\n",
        "\n",
        "schema = \"\"\"\n",
        "TABLE Owners (\n",
        "  OwnerID STRING(36) NOT NULL,\n",
        "  OwnerName STRING(MAX) NOT NULL,\n",
        "  LastName STRING(MAX),\n",
        ") PRIMARY KEY(OwnerID);\n",
        "\n",
        "TABLE Pets (\n",
        "  OwnerID STRING(36) NOT NULL,\n",
        "  PetID STRING(MAX) NOT NULL,\n",
        "  PetType STRING(MAX) NOT NULL,\n",
        "  PetName STRING(MAX) NOT NULL,\n",
        "  Breed STRING(MAX) NOT NULL,\n",
        "  DOB DATE,\n",
        ") PRIMARY KEY(OwnerID, PetID),\n",
        "  INTERLEAVE IN PARENT Owners ON DELETE CASCADE;\n",
        "\"\"\""
      ],
      "metadata": {
        "id": "nl3KOi04Mer0"
      },
      "execution_count": null,
      "outputs": []
    },
    {
      "cell_type": "code",
      "source": [
        "print(llm(prompt_template.format(schema=schema,\n",
        "                                 question=\"How many owners are there\")))"
      ],
      "metadata": {
        "id": "HlM-VkKKayrk"
      },
      "execution_count": null,
      "outputs": []
    },
    {
      "cell_type": "code",
      "source": [
        "print(llm(prompt_template.format(schema=schema,\n",
        "                                 question=\"\"\"Show me the number of pets\n",
        "                                 for each owner. Include the name of each owner\"\"\")))"
      ],
      "metadata": {
        "id": "pYJOm5xjayot"
      },
      "execution_count": null,
      "outputs": []
    },
    {
      "cell_type": "code",
      "source": [
        "print(llm(prompt_template.format(schema=schema,\n",
        "                                 question=\"Show me the dogs sorted by age\")))"
      ],
      "metadata": {
        "id": "XI_HKTjEax5I"
      },
      "execution_count": null,
      "outputs": []
    },
    {
      "cell_type": "code",
      "source": [
        "print(llm(prompt_template.format(schema=schema,\n",
        "                                 question=\"\"\"Show me the average age of the pets by type.\n",
        "                                 Round the average age to the year\"\"\")))"
      ],
      "metadata": {
        "id": "c1io0oiEhd8s"
      },
      "execution_count": null,
      "outputs": []
    },
    {
      "cell_type": "markdown",
      "source": [
        "# Code Generation Examples"
      ],
      "metadata": {
        "id": "xW34aT7QA29K"
      }
    },
    {
      "cell_type": "code",
      "source": [
        "import vertexai\n",
        "from vertexai.language_models import CodeChatModel\n",
        "\n",
        "vertexai.init(project=\"vertext-ai-dar\", location=\"us-central1\")\n",
        "chat_model = CodeChatModel.from_pretrained(\"codechat-bison\")\n",
        "parameters = {\n",
        "    \"candidate_count\": 1,\n",
        "    \"max_output_tokens\": 1024,\n",
        "    \"temperature\": 0.2\n",
        "}\n",
        "chat = chat_model.start_chat()\n"
      ],
      "metadata": {
        "id": "h-sBVdb8A2by"
      },
      "execution_count": null,
      "outputs": []
    },
    {
      "cell_type": "markdown",
      "source": [
        "## Create a Prompt template with instructions for the model"
      ],
      "metadata": {
        "id": "VUwCjeMHH-lQ"
      }
    },
    {
      "cell_type": "code",
      "source": [
        "prompt = '''\n",
        "Context: You are a Coding Chatbot. You answer coding questions.\n",
        "         You generate code in Python unless you are told otherwise.\n",
        "         You follow Python code best practices as defined by the\n",
        "         PEP 8 – Style Guide for Python Code\n",
        "\n",
        "Question: {0}\n",
        "Code:\n",
        "\n",
        "'''"
      ],
      "metadata": {
        "id": "sZ6xY9TTH6ta"
      },
      "execution_count": null,
      "outputs": []
    },
    {
      "cell_type": "markdown",
      "source": [
        "## Code Generation"
      ],
      "metadata": {
        "id": "1-crbXOuGl87"
      }
    },
    {
      "cell_type": "code",
      "source": [
        "question = \"Write a function that reverses the bits of an integer.\"\n",
        "\n",
        "response = chat.send_message(prompt.format(question), **parameters)\n",
        "print(response.text)"
      ],
      "metadata": {
        "id": "GjXG-p6dBSDg"
      },
      "execution_count": null,
      "outputs": []
    },
    {
      "cell_type": "code",
      "source": [
        "question = '''Write a Python class that can be used to convert Fahrenheit to Celsius\n",
        "              and visa versa\n",
        "'''\n",
        "\n",
        "response = chat.send_message(prompt.format(question), **parameters)\n",
        "print(response.text)"
      ],
      "metadata": {
        "id": "SMv3aO31Hw7t"
      },
      "execution_count": null,
      "outputs": []
    },
    {
      "cell_type": "markdown",
      "source": [
        "## Write test code"
      ],
      "metadata": {
        "id": "z1Q94m2bGtlO"
      }
    },
    {
      "cell_type": "code",
      "source": [
        "question = '''Write unit tests for the following function:\n",
        "\n",
        "def reverse_bits(n):\n",
        "  \"\"\"Reverses the bits of an integer.\n",
        "\n",
        "  Args:\n",
        "    n: The integer to reverse.\n",
        "\n",
        "  Returns:\n",
        "    The reversed integer.\n",
        "  \"\"\"\n",
        "\n",
        "  # Convert the integer to a binary string.\n",
        "  binary_string = bin(n)[2:]\n",
        "\n",
        "  # Reverse the binary string.\n",
        "  reversed_binary_string = binary_string[::-1]\n",
        "\n",
        "  # Convert the reversed binary string back to an integer.\n",
        "  reversed_integer = int(reversed_binary_string, 2)\n",
        "\n",
        "  return reversed_integer\n",
        "'''\n",
        "\n",
        "response = chat.send_message(prompt.format(question), **parameters)\n",
        "print(response.text)"
      ],
      "metadata": {
        "id": "eOZKTmVGEgHC"
      },
      "execution_count": null,
      "outputs": []
    },
    {
      "cell_type": "code",
      "source": [
        "question = '''Write a test fixture for the following class:\n",
        "\n",
        "class TemperatureConverter:\n",
        "  \"\"\"A class that can be used to convert Fahrenheit to Celsius\n",
        "              and visa versa.\"\"\"\n",
        "\n",
        "  def __init__(self):\n",
        "    self.fahrenheit_to_celsius_factor = 5 / 9\n",
        "    self.celsius_to_fahrenheit_factor = 9 / 5\n",
        "\n",
        "  def fahrenheit_to_celsius(self, fahrenheit):\n",
        "    \"\"\"Converts a temperature in Fahrenheit to Celsius.\"\"\"\n",
        "    return (fahrenheit - 32) * self.fahrenheit_to_celsius_factor\n",
        "\n",
        "  def celsius_to_fahrenheit(self, celsius):\n",
        "    \"\"\"Converts a temperature in Celsius to Fahrenheit.\"\"\"\n",
        "    return (celsius * self.celsius_to_fahrenheit_factor) + 32\n",
        "'''\n",
        "\n",
        "response = chat.send_message(prompt.format(question), **parameters)\n",
        "print(response.text)"
      ],
      "metadata": {
        "id": "9Xurg9NwIlje"
      },
      "execution_count": null,
      "outputs": []
    },
    {
      "cell_type": "markdown",
      "source": [
        "## Code explanations"
      ],
      "metadata": {
        "id": "8NxRj5DiG0OR"
      }
    },
    {
      "cell_type": "code",
      "source": [
        "question = \"\"\"\n",
        "Explain the following function:\n",
        "\n",
        "def rate_limit(max_per_minute):\n",
        "    period = 60 / max_per_minute\n",
        "    print(\"Waiting\")\n",
        "    while True:\n",
        "        before = time.time()\n",
        "        yield\n",
        "        after = time.time()\n",
        "        elapsed = after - before\n",
        "        sleep_time = max(0, period - elapsed)\n",
        "        if sleep_time > 0:\n",
        "            print(\".\", end=\"\")\n",
        "            time.sleep(sleep_time)\n",
        "\n",
        "\"\"\"\n",
        "\n",
        "response = chat.send_message(prompt.format(question), **parameters)\n",
        "print(response.text)"
      ],
      "metadata": {
        "id": "0kCjVRoJDjL5"
      },
      "execution_count": null,
      "outputs": []
    },
    {
      "cell_type": "markdown",
      "source": [],
      "metadata": {
        "id": "IHLp6Hjh3Ukg"
      }
    },
    {
      "cell_type": "markdown",
      "source": [
        "## Adding documentation and comments"
      ],
      "metadata": {
        "id": "fdBoG1SwHl5v"
      }
    },
    {
      "cell_type": "code",
      "source": [
        "question = \"\"\"\n",
        "Rewrite the following function with proper documentation:\n",
        "\n",
        "def rate_limit(max_per_minute):\n",
        "    period = 60 / max_per_minute\n",
        "    print(\"Waiting\")\n",
        "    while True:\n",
        "        before = time.time()\n",
        "        yield\n",
        "        after = time.time()\n",
        "        elapsed = after - before\n",
        "        sleep_time = max(0, period - elapsed)\n",
        "        if sleep_time > 0:\n",
        "            print(\".\", end=\"\")\n",
        "            time.sleep(sleep_time)\n",
        "\n",
        "\"\"\"\n",
        "\n",
        "response = chat.send_message(prompt.format(question), **parameters)\n",
        "print(response.text)"
      ],
      "metadata": {
        "id": "sP7YJQg0FvuF"
      },
      "execution_count": null,
      "outputs": []
    },
    {
      "cell_type": "code",
      "source": [
        "question = \"\"\"\n",
        "Rewrite the following function with comments:\n",
        "\n",
        "def reverse_bits(n):\n",
        "\n",
        "  binary_string = bin(n)[2:]\n",
        "  reversed_binary_string = binary_string[::-1]\n",
        "  reversed_integer = int(reversed_binary_string, 2)\n",
        "\n",
        "  return reversed_integer\n",
        "\"\"\"\n",
        "\n",
        "\n",
        "response = chat.send_message(prompt.format(question), **parameters)\n",
        "print(response.text)\n"
      ],
      "metadata": {
        "id": "3LOMDSj7HMtw"
      },
      "execution_count": null,
      "outputs": []
    },
    {
      "cell_type": "markdown",
      "source": [
        "## Code debugging"
      ],
      "metadata": {
        "id": "Cr9uzmfAJYdr"
      }
    },
    {
      "cell_type": "code",
      "source": [
        "question = '''\n",
        "The following function does not work.\n",
        "Debug it for me and explain what the problem is:\n",
        "\n",
        "def fahrenheit_to_celsius(fahrenheit):\n",
        "  \"\"\"Converts Fahrenheit to Celsius.\n",
        "\n",
        "  Args:\n",
        "    fahrenheit: A float representing the temperature in Fahrenheit.\n",
        "\n",
        "  Returns:\n",
        "    A float representing the temperature in Celsius.\n",
        "  \"\"\"\n",
        "\n",
        "  celsius = fahrenheit - 32 * 5 / 9\n",
        "  return celsius\n",
        "'''\n",
        "\n",
        "response = chat.send_message(prompt.format(question), **parameters)\n",
        "print(response.text)"
      ],
      "metadata": {
        "id": "wWyEw6cGE7Bm"
      },
      "execution_count": null,
      "outputs": []
    },
    {
      "cell_type": "markdown",
      "source": [
        "## Code Optimization"
      ],
      "metadata": {
        "id": "TQ0xjvBiLfqS"
      }
    },
    {
      "cell_type": "code",
      "source": [
        "question = '''\n",
        "The following function is slow,\n",
        "can you optimize it for me:\n",
        "\n",
        "def getpi():\n",
        "    k = 1\n",
        "    s = 0\n",
        "    for i in range(1000000):\n",
        "\t    # even index elements are positive\n",
        "        if i % 2 == 0:\n",
        "            s += 4/k\n",
        "        else:\n",
        "\t\t    # odd index elements are negative\n",
        "            s -= 4/k\n",
        "\t    # denominator is odd\n",
        "        k += 2\n",
        "\n",
        "    return s\n",
        "'''\n",
        "\n",
        "response = chat.send_message(prompt.format(question), **parameters)\n",
        "print(response.text)"
      ],
      "metadata": {
        "id": "CVynx4m5KxML"
      },
      "execution_count": null,
      "outputs": []
    },
    {
      "cell_type": "markdown",
      "source": [
        "## Code Conversion"
      ],
      "metadata": {
        "id": "lCfzwLu1ScS4"
      }
    },
    {
      "cell_type": "code",
      "source": [
        "question = '''\n",
        "Convert the following Python function to JavaScript:\n",
        "\n",
        "def reverse_bits(n):\n",
        "\n",
        "  binary_string = bin(n)[2:]\n",
        "  reversed_binary_string = binary_string[::-1]\n",
        "  reversed_integer = int(reversed_binary_string, 2)\n",
        "\n",
        "  return reversed_integer\n",
        "'''\n",
        "\n",
        "response = chat.send_message(prompt.format(question), **parameters)\n",
        "print(response.text)\n"
      ],
      "metadata": {
        "id": "odiFV1UHSbx1"
      },
      "execution_count": null,
      "outputs": []
    },
    {
      "cell_type": "markdown",
      "source": [
        "# Run BigQuery queries from natural language"
      ],
      "metadata": {
        "id": "AcgTK9-5L2Cf"
      }
    },
    {
      "cell_type": "code",
      "source": [
        "import vertexai\n",
        "from vertexai.language_models import CodeGenerationModel\n",
        "from vertexai.preview.language_models import CodeGenerationModel\n",
        "\n",
        "vertexai.init(project=\"vertext-ai-dar\", location=\"us-central1\")\n",
        "parameters = {\n",
        "    \"candidate_count\": 1,\n",
        "    \"max_output_tokens\": 1024,\n",
        "    \"temperature\": 0.2\n",
        "}\n",
        "model = CodeGenerationModel.from_pretrained(\"code-bison@001\")"
      ],
      "metadata": {
        "id": "3BgITt_ZSGid"
      },
      "execution_count": null,
      "outputs": []
    },
    {
      "cell_type": "code",
      "source": [
        "prompt = '''\n",
        "    Context: You write SQL Queries based on natural language inputs.\n",
        "    Your queries will run on BigQuery.\n",
        "    You should always generate Google Standard SQL.\n",
        "    Only return the SQL statement.\n",
        "    Make sure you put semicolons after each line.\n",
        "    Always include the project_id in the from clause.\n",
        "    Surround the full table name with back tics\n",
        "\n",
        "    Given the following database Schema:\n",
        "    {0}\n",
        "\n",
        "    Q: Write a SQL SELECT query based on the following question: How many customers are in Virginia.\n",
        "    A: SELECT COUNT(*) AS num_customers FROM `{1}.dataset_id.customers` WHERE country = 'USA' AND region = 'VA';\n",
        "\n",
        "    Q: Write a SQL SELECT query based on the following question: {2}.\n",
        "    A:\n",
        "    '''"
      ],
      "metadata": {
        "id": "kJUaa6yUkaDx"
      },
      "execution_count": null,
      "outputs": []
    },
    {
      "cell_type": "code",
      "source": [
        "data_project_id = \"joey-gagliardo\"\n",
        "dataset_id = \"northwind\"\n",
        "\n",
        "from google.cloud import bigquery\n",
        "\n",
        "client = bigquery.Client(project=PROJECT_ID)\n",
        "\n",
        "schema_query = \"\"\"SELECT\n",
        "  table_catalog AS project_id,\n",
        "  table_schema AS dataset_id,\n",
        "  table_name AS table_name,\n",
        "  ARRAY_AGG(STRUCT(\n",
        "      column_name AS name,\n",
        "      data_type AS type)\n",
        "  ORDER BY\n",
        "    ordinal_position) AS SCHEMA\n",
        "FROM\n",
        "  `{0}.{1}.INFORMATION_SCHEMA.COLUMNS`\n",
        "GROUP BY\n",
        "  table_catalog,table_schema,table_name\n",
        "  \"\"\".format(data_project_id, dataset_id)\n",
        "\n",
        "schema = list(client.query(schema_query).result())\n",
        "print(schema)"
      ],
      "metadata": {
        "id": "x6ZSggyqmtlG"
      },
      "execution_count": null,
      "outputs": []
    },
    {
      "cell_type": "code",
      "source": [
        "\n",
        "question = '''\n",
        "How many orders were placed each year?\n",
        "'''\n",
        "\n",
        "prompt.format(schema, data_project_id, question)"
      ],
      "metadata": {
        "id": "FahR-GBXV0Pr"
      },
      "execution_count": null,
      "outputs": []
    },
    {
      "cell_type": "code",
      "source": [
        "question = '''\n",
        "How many orders were placed each year?\n",
        "'''\n",
        "\n",
        "response = model.predict(\n",
        "    prefix = prompt.format(schema, data_project_id, question),\n",
        "    **parameters\n",
        ")\n",
        "\n",
        "generated_sql = response.text.strip()\n",
        "print(generated_sql)"
      ],
      "metadata": {
        "id": "hiBFFa8fSCrD"
      },
      "execution_count": null,
      "outputs": []
    },
    {
      "cell_type": "code",
      "source": [
        "from google.cloud import bigquery\n",
        "\n",
        "client = bigquery.Client(project=PROJECT_ID)\n",
        "results = client.query(generated_sql).to_dataframe()\n",
        "results\n"
      ],
      "metadata": {
        "id": "SoyBXv_KqEXB"
      },
      "execution_count": null,
      "outputs": []
    }
  ]
}