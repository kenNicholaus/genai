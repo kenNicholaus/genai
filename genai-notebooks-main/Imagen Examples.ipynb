{
  "cells": [
    {
      "cell_type": "code",
      "execution_count": null,
      "metadata": {
        "id": "Uyp7dZgC2csY"
      },
      "outputs": [],
      "source": [
        "!pip install \"shapely<2.0.0\"\n",
        "!pip install google-cloud-aiplatform --upgrade"
      ],
      "id": "Uyp7dZgC2csY"
    },
    {
      "cell_type": "code",
      "source": [
        "import vertexai\n",
        "\n",
        "from google.cloud import aiplatform\n",
        "PROJECT_ID = \"vertext-ai-dar\"  # @param {type:\"string\"}\n",
        "FILE_NAME=\"generated_image.png\" # @param {type:\"string\"}\n",
        "\n",
        "\n",
        "vertexai.init(project=PROJECT_ID, location=\"us-central1\")"
      ],
      "metadata": {
        "id": "g5PeB3tJJ8JN"
      },
      "execution_count": null,
      "outputs": [],
      "id": "g5PeB3tJJ8JN"
    },
    {
      "cell_type": "code",
      "source": [
        "from vertexai.preview.vision_models import ImageGenerationModel\n",
        "\n",
        "PROMPT=\"\"\"A black Schnouzer Poodle puppy wearing a Santa Clause hat sitting\n",
        "in front fo a Christmas Tree. Focus on the dog.\"\"\"\n",
        "\n",
        "model = ImageGenerationModel.from_pretrained(\"imagegeneration@002\")\n",
        "response = model.generate_images(\n",
        "    prompt=PROMPT,\n",
        "    # Optional:\n",
        "    number_of_images=1,\n",
        "    # Change the seed and get a different picture\n",
        "    seed=111,\n",
        ")\n",
        "response[0].show()\n",
        "response[0].save(FILE_NAME)\n"
      ],
      "metadata": {
        "id": "yVJmJpVeqTBg"
      },
      "execution_count": null,
      "outputs": [],
      "id": "yVJmJpVeqTBg"
    },
    {
      "cell_type": "code",
      "source": [
        "from vertexai.vision_models import ImageCaptioningModel, Image\n",
        "\n",
        "model = ImageCaptioningModel.from_pretrained(\"imagetext@001\")\n",
        "image = Image.load_from_file(FILE_NAME)\n",
        "captions = model.get_captions(\n",
        "    image=image,\n",
        "    number_of_results=3,\n",
        "    language=\"en\",\n",
        ")\n",
        "\n",
        "for cap in captions:\n",
        "  print(cap)"
      ],
      "metadata": {
        "id": "fhextIUkrf2n"
      },
      "execution_count": null,
      "outputs": [],
      "id": "fhextIUkrf2n"
    },
    {
      "cell_type": "code",
      "source": [
        "from vertexai.vision_models import ImageQnAModel, Image\n",
        "\n",
        "model = ImageQnAModel.from_pretrained(\"imagetext@001\")\n",
        "image = Image.load_from_file(FILE_NAME)\n",
        "answers = model.ask_question(\n",
        "    image=image,\n",
        "    question=\"Are there any animals in this piture, if so, what kind?\",\n",
        "    number_of_results=1,\n",
        ")\n",
        "\n",
        "for answer in answers:\n",
        "  print(answer)"
      ],
      "metadata": {
        "id": "mAN8MNSsMf8p"
      },
      "execution_count": null,
      "outputs": [],
      "id": "mAN8MNSsMf8p"
    },
    {
      "cell_type": "code",
      "source": [
        "from vertexai.vision_models import ImageQnAModel, Image\n",
        "\n",
        "model = ImageQnAModel.from_pretrained(\"imagetext@001\")\n",
        "image = Image.load_from_file(FILE_NAME)\n",
        "answers = model.ask_question(\n",
        "    image=image,\n",
        "    question=\"Are there people in this picture?\",\n",
        "    # Optional:\n",
        "    number_of_results=1,\n",
        ")\n",
        "\n",
        "print(answers)"
      ],
      "metadata": {
        "id": "vuNJZMzPNEbs"
      },
      "execution_count": null,
      "outputs": [],
      "id": "vuNJZMzPNEbs"
    },
    {
      "cell_type": "code",
      "source": [
        "from vertexai.vision_models import ImageQnAModel, Image\n",
        "\n",
        "model = ImageQnAModel.from_pretrained(\"imagetext@001\")\n",
        "image = Image.load_from_file(FILE_NAME)\n",
        "answers = model.ask_question(\n",
        "    image=image,\n",
        "    question=\"How would you describe this picture?\",\n",
        "    # Optional:\n",
        "    number_of_results=3,\n",
        ")\n",
        "\n",
        "print(answers)"
      ],
      "metadata": {
        "id": "gyZuG6eUNN8e"
      },
      "execution_count": null,
      "outputs": [],
      "id": "gyZuG6eUNN8e"
    },
    {
      "cell_type": "code",
      "source": [
        "from vertexai.vision_models import MultiModalEmbeddingModel, Image\n",
        "\n",
        "image = Image.load_from_file(FILE_NAME)\n",
        "embeddings_model = MultiModalEmbeddingModel.from_pretrained(\"multimodalembedding@001\")\n",
        "\n",
        "embeddings = embeddings_model.get_embeddings(\n",
        "    image=image,\n",
        "    contextual_text=PROMPT\n",
        ")\n",
        "print(len(embeddings.image_embedding))\n",
        "print(len(embeddings.text_embedding))\n",
        "print(embeddings.image_embedding)\n",
        "print(embeddings.text_embedding)"
      ],
      "metadata": {
        "id": "AqeTW0ZxNjfi"
      },
      "execution_count": null,
      "outputs": [],
      "id": "AqeTW0ZxNjfi"
    }
  ],
  "metadata": {
    "kernelspec": {
      "display_name": "Python 3",
      "language": "python",
      "name": "python3"
    },
    "language_info": {
      "codemirror_mode": {
        "name": "ipython",
        "version": 3
      },
      "file_extension": ".py",
      "mimetype": "text/x-python",
      "name": "python",
      "nbconvert_exporter": "python",
      "pygments_lexer": "ipython3",
      "version": "3.10.10"
    },
    "colab": {
      "provenance": []
    }
  },
  "nbformat": 4,
  "nbformat_minor": 5
}