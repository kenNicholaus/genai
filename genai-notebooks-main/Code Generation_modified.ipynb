{
  "nbformat": 4,
  "nbformat_minor": 0,
  "metadata": {
    "colab": {
      "provenance": [],
      "name": "Code Generation.ipynb"
    },
    "kernelspec": {
      "name": "python3",
      "display_name": "Python 3"
    },
    "language_info": {
      "name": "python"
    }
  },
  "cells": [
    {
      "cell_type": "code",
      "execution_count": 1,
      "metadata": {
        "id": "Uyp7dZgC2csY",
        "colab": {
          "base_uri": "https://localhost:8080/"
        },
        "executionInfo": {
          "status": "ok",
          "timestamp": 1712424515633,
          "user_tz": 240,
          "elapsed": 23179,
          "user": {
            "displayName": "",
            "userId": ""
          }
        },
        "outputId": "58963424-611a-4747-f3cf-5ef91dab2bda"
      },
      "outputs": [
        {
          "output_type": "stream",
          "name": "stdout",
          "text": [
            "Requirement already satisfied: google-cloud-aiplatform in /root/.local/lib/python3.10/site-packages (1.46.0)\n",
            "Requirement already satisfied: langchain in /root/.local/lib/python3.10/site-packages (0.1.14)\n",
            "Requirement already satisfied: google-api-core[grpc]!=2.0.*,!=2.1.*,!=2.2.*,!=2.3.*,!=2.4.*,!=2.5.*,!=2.6.*,!=2.7.*,<3.0.0dev,>=1.34.1 in /usr/local/lib/python3.10/dist-packages (from google-cloud-aiplatform) (2.11.1)\n",
            "Requirement already satisfied: google-auth<3.0.0dev,>=2.14.1 in /usr/local/lib/python3.10/dist-packages (from google-cloud-aiplatform) (2.27.0)\n",
            "Requirement already satisfied: proto-plus<2.0.0dev,>=1.22.0 in /usr/local/lib/python3.10/dist-packages (from google-cloud-aiplatform) (1.23.0)\n",
            "Requirement already satisfied: protobuf!=3.20.0,!=3.20.1,!=4.21.0,!=4.21.1,!=4.21.2,!=4.21.3,!=4.21.4,!=4.21.5,<5.0.0dev,>=3.19.5 in /usr/local/lib/python3.10/dist-packages (from google-cloud-aiplatform) (3.20.3)\n",
            "Requirement already satisfied: packaging>=14.3 in /root/.local/lib/python3.10/site-packages (from google-cloud-aiplatform) (23.2)\n",
            "Requirement already satisfied: google-cloud-storage<3.0.0dev,>=1.32.0 in /usr/local/lib/python3.10/dist-packages (from google-cloud-aiplatform) (2.8.0)\n",
            "Requirement already satisfied: google-cloud-bigquery!=3.20.0,<4.0.0dev,>=1.15.0 in /usr/local/lib/python3.10/dist-packages (from google-cloud-aiplatform) (3.12.0)\n",
            "Requirement already satisfied: google-cloud-resource-manager<3.0.0dev,>=1.3.3 in /usr/local/lib/python3.10/dist-packages (from google-cloud-aiplatform) (1.12.3)\n",
            "Requirement already satisfied: shapely<3.0.0dev in /usr/local/lib/python3.10/dist-packages (from google-cloud-aiplatform) (1.8.5.post1)\n",
            "Requirement already satisfied: pydantic<3 in /root/.local/lib/python3.10/site-packages (from google-cloud-aiplatform) (2.6.4)\n",
            "Requirement already satisfied: docstring-parser<1 in /root/.local/lib/python3.10/site-packages (from google-cloud-aiplatform) (0.16)\n",
            "Requirement already satisfied: PyYAML>=5.3 in /usr/local/lib/python3.10/dist-packages (from langchain) (6.0.1)\n",
            "Requirement already satisfied: SQLAlchemy<3,>=1.4 in /usr/local/lib/python3.10/dist-packages (from langchain) (2.0.29)\n",
            "Requirement already satisfied: aiohttp<4.0.0,>=3.8.3 in /usr/local/lib/python3.10/dist-packages (from langchain) (3.9.3)\n",
            "Requirement already satisfied: async-timeout<5.0.0,>=4.0.0 in /usr/local/lib/python3.10/dist-packages (from langchain) (4.0.3)\n",
            "Requirement already satisfied: dataclasses-json<0.7,>=0.5.7 in /root/.local/lib/python3.10/site-packages (from langchain) (0.6.4)\n",
            "Requirement already satisfied: jsonpatch<2.0,>=1.33 in /root/.local/lib/python3.10/site-packages (from langchain) (1.33)\n",
            "Requirement already satisfied: langchain-community<0.1,>=0.0.30 in /root/.local/lib/python3.10/site-packages (from langchain) (0.0.31)\n",
            "Requirement already satisfied: langchain-core<0.2.0,>=0.1.37 in /root/.local/lib/python3.10/site-packages (from langchain) (0.1.40)\n",
            "Requirement already satisfied: langchain-text-splitters<0.1,>=0.0.1 in /root/.local/lib/python3.10/site-packages (from langchain) (0.0.1)\n",
            "Requirement already satisfied: langsmith<0.2.0,>=0.1.17 in /root/.local/lib/python3.10/site-packages (from langchain) (0.1.40)\n",
            "Requirement already satisfied: numpy<2,>=1 in /usr/local/lib/python3.10/dist-packages (from langchain) (1.25.2)\n",
            "Requirement already satisfied: requests<3,>=2 in /usr/local/lib/python3.10/dist-packages (from langchain) (2.31.0)\n",
            "Requirement already satisfied: tenacity<9.0.0,>=8.1.0 in /usr/local/lib/python3.10/dist-packages (from langchain) (8.2.3)\n",
            "Requirement already satisfied: aiosignal>=1.1.2 in /usr/local/lib/python3.10/dist-packages (from aiohttp<4.0.0,>=3.8.3->langchain) (1.3.1)\n",
            "Requirement already satisfied: attrs>=17.3.0 in /usr/local/lib/python3.10/dist-packages (from aiohttp<4.0.0,>=3.8.3->langchain) (23.2.0)\n",
            "Requirement already satisfied: frozenlist>=1.1.1 in /usr/local/lib/python3.10/dist-packages (from aiohttp<4.0.0,>=3.8.3->langchain) (1.4.1)\n",
            "Requirement already satisfied: multidict<7.0,>=4.5 in /usr/local/lib/python3.10/dist-packages (from aiohttp<4.0.0,>=3.8.3->langchain) (6.0.5)\n",
            "Requirement already satisfied: yarl<2.0,>=1.0 in /usr/local/lib/python3.10/dist-packages (from aiohttp<4.0.0,>=3.8.3->langchain) (1.9.4)\n",
            "Requirement already satisfied: marshmallow<4.0.0,>=3.18.0 in /root/.local/lib/python3.10/site-packages (from dataclasses-json<0.7,>=0.5.7->langchain) (3.21.1)\n",
            "Requirement already satisfied: typing-inspect<1,>=0.4.0 in /root/.local/lib/python3.10/site-packages (from dataclasses-json<0.7,>=0.5.7->langchain) (0.9.0)\n",
            "Requirement already satisfied: googleapis-common-protos<2.0.dev0,>=1.56.2 in /usr/local/lib/python3.10/dist-packages (from google-api-core[grpc]!=2.0.*,!=2.1.*,!=2.2.*,!=2.3.*,!=2.4.*,!=2.5.*,!=2.6.*,!=2.7.*,<3.0.0dev,>=1.34.1->google-cloud-aiplatform) (1.63.0)\n",
            "Requirement already satisfied: grpcio<2.0dev,>=1.33.2 in /usr/local/lib/python3.10/dist-packages (from google-api-core[grpc]!=2.0.*,!=2.1.*,!=2.2.*,!=2.3.*,!=2.4.*,!=2.5.*,!=2.6.*,!=2.7.*,<3.0.0dev,>=1.34.1->google-cloud-aiplatform) (1.62.1)\n",
            "Requirement already satisfied: grpcio-status<2.0.dev0,>=1.33.2 in /usr/local/lib/python3.10/dist-packages (from google-api-core[grpc]!=2.0.*,!=2.1.*,!=2.2.*,!=2.3.*,!=2.4.*,!=2.5.*,!=2.6.*,!=2.7.*,<3.0.0dev,>=1.34.1->google-cloud-aiplatform) (1.48.2)\n",
            "Requirement already satisfied: cachetools<6.0,>=2.0.0 in /usr/local/lib/python3.10/dist-packages (from google-auth<3.0.0dev,>=2.14.1->google-cloud-aiplatform) (5.3.3)\n",
            "Requirement already satisfied: pyasn1-modules>=0.2.1 in /usr/local/lib/python3.10/dist-packages (from google-auth<3.0.0dev,>=2.14.1->google-cloud-aiplatform) (0.3.0)\n",
            "Requirement already satisfied: rsa<5,>=3.1.4 in /usr/local/lib/python3.10/dist-packages (from google-auth<3.0.0dev,>=2.14.1->google-cloud-aiplatform) (4.9)\n",
            "Requirement already satisfied: google-cloud-core<3.0.0dev,>=1.6.0 in /usr/local/lib/python3.10/dist-packages (from google-cloud-bigquery!=3.20.0,<4.0.0dev,>=1.15.0->google-cloud-aiplatform) (2.3.3)\n",
            "Requirement already satisfied: google-resumable-media<3.0dev,>=0.6.0 in /usr/local/lib/python3.10/dist-packages (from google-cloud-bigquery!=3.20.0,<4.0.0dev,>=1.15.0->google-cloud-aiplatform) (2.7.0)\n",
            "Requirement already satisfied: python-dateutil<3.0dev,>=2.7.2 in /usr/local/lib/python3.10/dist-packages (from google-cloud-bigquery!=3.20.0,<4.0.0dev,>=1.15.0->google-cloud-aiplatform) (2.8.2)\n",
            "Requirement already satisfied: grpc-google-iam-v1<1.0.0dev,>=0.12.4 in /usr/local/lib/python3.10/dist-packages (from google-cloud-resource-manager<3.0.0dev,>=1.3.3->google-cloud-aiplatform) (0.13.0)\n",
            "Requirement already satisfied: jsonpointer>=1.9 in /root/.local/lib/python3.10/site-packages (from jsonpatch<2.0,>=1.33->langchain) (2.4)\n",
            "Requirement already satisfied: orjson<4.0.0,>=3.9.14 in /root/.local/lib/python3.10/site-packages (from langsmith<0.2.0,>=0.1.17->langchain) (3.10.0)\n",
            "Requirement already satisfied: annotated-types>=0.4.0 in /usr/local/lib/python3.10/dist-packages (from pydantic<3->google-cloud-aiplatform) (0.6.0)\n",
            "Requirement already satisfied: pydantic-core==2.16.3 in /usr/local/lib/python3.10/dist-packages (from pydantic<3->google-cloud-aiplatform) (2.16.3)\n",
            "Requirement already satisfied: typing-extensions>=4.6.1 in /root/.local/lib/python3.10/site-packages (from pydantic<3->google-cloud-aiplatform) (4.11.0)\n",
            "Requirement already satisfied: charset-normalizer<4,>=2 in /usr/local/lib/python3.10/dist-packages (from requests<3,>=2->langchain) (3.3.2)\n",
            "Requirement already satisfied: idna<4,>=2.5 in /usr/local/lib/python3.10/dist-packages (from requests<3,>=2->langchain) (3.6)\n",
            "Requirement already satisfied: urllib3<3,>=1.21.1 in /usr/local/lib/python3.10/dist-packages (from requests<3,>=2->langchain) (2.0.7)\n",
            "Requirement already satisfied: certifi>=2017.4.17 in /usr/local/lib/python3.10/dist-packages (from requests<3,>=2->langchain) (2024.2.2)\n",
            "Requirement already satisfied: greenlet!=0.4.17 in /usr/local/lib/python3.10/dist-packages (from SQLAlchemy<3,>=1.4->langchain) (3.0.3)\n",
            "Requirement already satisfied: google-crc32c<2.0dev,>=1.0 in /usr/local/lib/python3.10/dist-packages (from google-resumable-media<3.0dev,>=0.6.0->google-cloud-bigquery!=3.20.0,<4.0.0dev,>=1.15.0->google-cloud-aiplatform) (1.5.0)\n",
            "Requirement already satisfied: pyasn1<0.6.0,>=0.4.6 in /usr/local/lib/python3.10/dist-packages (from pyasn1-modules>=0.2.1->google-auth<3.0.0dev,>=2.14.1->google-cloud-aiplatform) (0.5.1)\n",
            "Requirement already satisfied: six>=1.5 in /usr/local/lib/python3.10/dist-packages (from python-dateutil<3.0dev,>=2.7.2->google-cloud-bigquery!=3.20.0,<4.0.0dev,>=1.15.0->google-cloud-aiplatform) (1.16.0)\n",
            "Requirement already satisfied: mypy-extensions>=0.3.0 in /root/.local/lib/python3.10/site-packages (from typing-inspect<1,>=0.4.0->dataclasses-json<0.7,>=0.5.7->langchain) (1.0.0)\n"
          ]
        }
      ],
      "source": [
        "!pip install google-cloud-aiplatform langchain --upgrade"
      ]
    },
    {
      "cell_type": "code",
      "source": [
        "# Restart kernel after installs so that your environment can access the new packages\n",
        "import IPython\n",
        "\n",
        "app = IPython.Application.instance()\n",
        "app.kernel.do_shutdown(True)"
      ],
      "metadata": {
        "id": "l_L4f9U5Cw2i",
        "colab": {
          "base_uri": "https://localhost:8080/"
        },
        "executionInfo": {
          "status": "ok",
          "timestamp": 1712424526492,
          "user_tz": 240,
          "elapsed": 220,
          "user": {
            "displayName": "",
            "userId": ""
          }
        },
        "outputId": "82415651-52a3-4994-a04e-2f92e9216bdd"
      },
      "execution_count": 2,
      "outputs": [
        {
          "output_type": "execute_result",
          "data": {
            "text/plain": [
              "{'status': 'ok', 'restart': True}"
            ]
          },
          "metadata": {},
          "execution_count": 2
        }
      ]
    },
    {
      "cell_type": "markdown",
      "source": [
        "# LangChain"
      ],
      "metadata": {
        "id": "KuRs5JKJo1s3"
      }
    },
    {
      "cell_type": "code",
      "source": [
        "import vertexai\n",
        "import langchain\n",
        "from langchain.llms import VertexAI\n",
        "from google.cloud import aiplatform\n",
        "\n",
        "PROJECT_ID = ! gcloud config get-value project\n",
        "PROJECT_ID = PROJECT_ID[0]\n",
        "LOCATION = \"us-central1\" # @param {type:\"string\"}\n",
        "\n",
        "# define project information manually if the above code didn't work\n",
        "if PROJECT_ID == \"(unset)\":\n",
        "  PROJECT_ID = \"qwiklabs-gcp-01-552593a7017b\" # @param {type:\"string\"}\n",
        "\n",
        "print(PROJECT_ID)\n",
        "vertexai.init(project=PROJECT_ID, location=LOCATION)\n",
        "\n",
        "print(f\"LangChain version: {langchain.__version__}\")\n",
        "print(f\"Vertex AI SDK version: {aiplatform.__version__}\")\n"
      ],
      "metadata": {
        "id": "fhextIUkrf2n",
        "colab": {
          "base_uri": "https://localhost:8080/"
        },
        "executionInfo": {
          "status": "ok",
          "timestamp": 1712424543258,
          "user_tz": 240,
          "elapsed": 6982,
          "user": {
            "displayName": "",
            "userId": ""
          }
        },
        "outputId": "7496370d-7633-43be-d9d5-077c69dc31b9"
      },
      "execution_count": 1,
      "outputs": [
        {
          "output_type": "stream",
          "name": "stdout",
          "text": [
            "qwiklabs-gcp-01-552593a7017b\n",
            "LangChain version: 0.1.14\n",
            "Vertex AI SDK version: 1.46.0\n"
          ]
        }
      ]
    },
    {
      "cell_type": "code",
      "source": [
        "llm = VertexAI(\n",
        "    model_name=\"code-bison@002\",\n",
        "    max_output_tokens=256,\n",
        "    temperature=0.1,\n",
        "    top_p=0.8,\n",
        "    top_k=40,\n",
        "    verbose=False,\n",
        ")\n",
        "\n",
        "print(llm(\"\"\"Write me a function to reverse the bits of an\n",
        "             integer in Objective-C\n",
        "          \"\"\"))"
      ],
      "metadata": {
        "id": "DTt24fTh27sH",
        "colab": {
          "base_uri": "https://localhost:8080/"
        },
        "executionInfo": {
          "status": "ok",
          "timestamp": 1712424560171,
          "user_tz": 240,
          "elapsed": 1351,
          "user": {
            "displayName": "",
            "userId": ""
          }
        },
        "outputId": "ade1dc7f-60c6-4929-fd6d-ecb151ad8494"
      },
      "execution_count": 2,
      "outputs": [
        {
          "output_type": "stream",
          "name": "stderr",
          "text": [
            "/root/.local/lib/python3.10/site-packages/langchain_core/_api/deprecation.py:117: LangChainDeprecationWarning: The class `langchain_community.llms.vertexai.VertexAI` was deprecated in langchain-community 0.0.12 and will be removed in 0.2.0. An updated version of the class exists in the langchain-google-vertexai package and should be used instead. To use it run `pip install -U langchain-google-vertexai` and import as `from langchain_google_vertexai import VertexAI`.\n",
            "  warn_deprecated(\n",
            "/root/.local/lib/python3.10/site-packages/langchain_core/_api/deprecation.py:117: LangChainDeprecationWarning: The function `__call__` was deprecated in LangChain 0.1.7 and will be removed in 0.2.0. Use invoke instead.\n",
            "  warn_deprecated(\n"
          ]
        },
        {
          "output_type": "stream",
          "name": "stdout",
          "text": [
            "```objective-c\n",
            "// Function to reverse the bits of an integer\n",
            "int reverseBits(int n) {\n",
            "    int reversed = 0;\n",
            "    for (int i = 0; i < 32; i++) {\n",
            "        if ((n & (1 << i)) != 0) {\n",
            "            reversed |= (1 << (31 - i));\n",
            "        }\n",
            "    }\n",
            "    return reversed;\n",
            "}\n",
            "```\n"
          ]
        }
      ]
    },
    {
      "cell_type": "markdown",
      "source": [
        "# Prompt Templates"
      ],
      "metadata": {
        "id": "XtwB4EUwLKDa"
      }
    },
    {
      "cell_type": "code",
      "source": [
        "from langchain.prompts import PromptTemplate\n",
        "\n",
        "prompt_template = PromptTemplate.from_template(\n",
        "    \"\"\"\n",
        "    Context: You write SQL Queries based on natural language inputs.\n",
        "    Given the following database Schema: {schema}\n",
        "\n",
        "    Write a SQL SELECT query based on the following question: {question}.\n",
        "    Only return the SQL statement\n",
        "    Make sure you put semicolons after each line\n",
        "    \"\"\"\n",
        ")\n",
        "\n",
        "schema = \"\"\"\n",
        "TABLE Owners (\n",
        "  OwnerID STRING(36) NOT NULL,\n",
        "  OwnerName STRING(MAX) NOT NULL,\n",
        "  LastName STRING(MAX),\n",
        ") PRIMARY KEY(OwnerID);\n",
        "\n",
        "TABLE Pets (\n",
        "  OwnerID STRING(36) NOT NULL,\n",
        "  PetID STRING(MAX) NOT NULL,\n",
        "  PetType STRING(MAX) NOT NULL,\n",
        "  PetName STRING(MAX) NOT NULL,\n",
        "  Breed STRING(MAX) NOT NULL,\n",
        "  DOB DATE,\n",
        ") PRIMARY KEY(OwnerID, PetID),\n",
        "  INTERLEAVE IN PARENT Owners ON DELETE CASCADE;\n",
        "\"\"\""
      ],
      "metadata": {
        "id": "nl3KOi04Mer0",
        "executionInfo": {
          "status": "ok",
          "timestamp": 1712424918018,
          "user_tz": 240,
          "elapsed": 428,
          "user": {
            "displayName": "",
            "userId": ""
          }
        }
      },
      "execution_count": 3,
      "outputs": []
    },
    {
      "cell_type": "code",
      "source": [
        "print(llm(prompt_template.format(schema=schema,\n",
        "                                 question=\"How many owners are there\")))"
      ],
      "metadata": {
        "id": "HlM-VkKKayrk",
        "colab": {
          "base_uri": "https://localhost:8080/"
        },
        "executionInfo": {
          "status": "ok",
          "timestamp": 1712424929641,
          "user_tz": 240,
          "elapsed": 702,
          "user": {
            "displayName": "",
            "userId": ""
          }
        },
        "outputId": "3cb84149-48ad-481d-c786-56ca09033cc4"
      },
      "execution_count": 4,
      "outputs": [
        {
          "output_type": "stream",
          "name": "stdout",
          "text": [
            "```sql\n",
            "SELECT COUNT(DISTINCT OwnerID) AS total_owners\n",
            "FROM Owners;\n",
            "```\n"
          ]
        }
      ]
    },
    {
      "cell_type": "code",
      "source": [
        "print(llm(prompt_template.format(schema=schema,\n",
        "                                 question=\"\"\"Show me the number of pets\n",
        "                                 for each owner. Include the name of each owner\"\"\")))"
      ],
      "metadata": {
        "id": "pYJOm5xjayot",
        "colab": {
          "base_uri": "https://localhost:8080/"
        },
        "executionInfo": {
          "status": "ok",
          "timestamp": 1712424947197,
          "user_tz": 240,
          "elapsed": 832,
          "user": {
            "displayName": "",
            "userId": ""
          }
        },
        "outputId": "b8ccba25-11c6-4a21-fe76-92687481a1be"
      },
      "execution_count": 5,
      "outputs": [
        {
          "output_type": "stream",
          "name": "stdout",
          "text": [
            "```sql\n",
            "SELECT Owners.OwnerName, COUNT(Pets.PetID) AS NumberOfPets\n",
            "FROM Owners\n",
            "LEFT JOIN Pets ON Owners.OwnerID = Pets.OwnerID\n",
            "GROUP BY Owners.OwnerName;\n",
            "```\n"
          ]
        }
      ]
    },
    {
      "cell_type": "code",
      "source": [
        "print(llm(prompt_template.format(schema=schema,\n",
        "                                 question=\"Show me the dogs sorted by age\")))"
      ],
      "metadata": {
        "id": "XI_HKTjEax5I",
        "colab": {
          "base_uri": "https://localhost:8080/"
        },
        "executionInfo": {
          "status": "ok",
          "timestamp": 1712424966341,
          "user_tz": 240,
          "elapsed": 683,
          "user": {
            "displayName": "",
            "userId": ""
          }
        },
        "outputId": "c7fc0c90-7bce-49f2-c6a3-056832345f60"
      },
      "execution_count": 6,
      "outputs": [
        {
          "output_type": "stream",
          "name": "stdout",
          "text": [
            "```sql\n",
            "SELECT *\n",
            "FROM Pets\n",
            "WHERE PetType = 'Dog'\n",
            "ORDER BY DOB;\n",
            "```\n"
          ]
        }
      ]
    },
    {
      "cell_type": "code",
      "source": [
        "print(llm(prompt_template.format(schema=schema,\n",
        "                                 question=\"\"\"Show me the average age of the pets by type.\n",
        "                                 Round the average age to the year\"\"\")))"
      ],
      "metadata": {
        "id": "c1io0oiEhd8s",
        "colab": {
          "base_uri": "https://localhost:8080/"
        },
        "executionInfo": {
          "status": "ok",
          "timestamp": 1712424975308,
          "user_tz": 240,
          "elapsed": 894,
          "user": {
            "displayName": "",
            "userId": ""
          }
        },
        "outputId": "2fc1acbe-945f-4c75-c9ca-87027aea3d53"
      },
      "execution_count": 7,
      "outputs": [
        {
          "output_type": "stream",
          "name": "stdout",
          "text": [
            "```sql\n",
            "SELECT\n",
            "    PetType,\n",
            "    ROUND(AVG(CAST(strftime('%Y', 'now') AS INTEGER) - CAST(strftime('%Y', DOB) AS INTEGER))) AS AverageAgeInYears\n",
            "FROM\n",
            "    Pets\n",
            "GROUP BY\n",
            "    PetType;\n",
            "```\n"
          ]
        }
      ]
    },
    {
      "cell_type": "markdown",
      "source": [
        "# Code Generation Examples"
      ],
      "metadata": {
        "id": "xW34aT7QA29K"
      }
    },
    {
      "cell_type": "code",
      "source": [
        "import vertexai\n",
        "from vertexai.language_models import CodeChatModel\n",
        "\n",
        "vertexai.init(project=\"qwiklabs-gcp-01-552593a7017b\", location=\"us-central1\")\n",
        "chat_model = CodeChatModel.from_pretrained(\"codechat-bison\")\n",
        "parameters = {\n",
        "    \"candidate_count\": 1,\n",
        "    \"max_output_tokens\": 1024,\n",
        "    \"temperature\": 0.2\n",
        "}\n",
        "chat = chat_model.start_chat()\n"
      ],
      "metadata": {
        "id": "h-sBVdb8A2by",
        "executionInfo": {
          "status": "ok",
          "timestamp": 1712425096719,
          "user_tz": 240,
          "elapsed": 179,
          "user": {
            "displayName": "",
            "userId": ""
          }
        }
      },
      "execution_count": 8,
      "outputs": []
    },
    {
      "cell_type": "markdown",
      "source": [
        "## Create a Prompt template with instructions for the model"
      ],
      "metadata": {
        "id": "VUwCjeMHH-lQ"
      }
    },
    {
      "cell_type": "code",
      "source": [
        "prompt = '''\n",
        "Context: You are a Coding Chatbot. You answer coding questions.\n",
        "         You generate code in Python unless you are told otherwise.\n",
        "         You follow Python code best practices as defined by the\n",
        "         PEP 8 – Style Guide for Python Code\n",
        "\n",
        "Question: {0}\n",
        "Code:\n",
        "\n",
        "'''"
      ],
      "metadata": {
        "id": "sZ6xY9TTH6ta",
        "executionInfo": {
          "status": "ok",
          "timestamp": 1712425173585,
          "user_tz": 240,
          "elapsed": 225,
          "user": {
            "displayName": "",
            "userId": ""
          }
        }
      },
      "execution_count": 9,
      "outputs": []
    },
    {
      "cell_type": "markdown",
      "source": [
        "## Code Generation"
      ],
      "metadata": {
        "id": "1-crbXOuGl87"
      }
    },
    {
      "cell_type": "code",
      "source": [
        "question = \"write python codes to download daily stock prices of S&P 500.\"\n",
        "\n",
        "response = chat.send_message(prompt.format(question), **parameters)\n",
        "print(response.text)"
      ],
      "metadata": {
        "id": "GjXG-p6dBSDg",
        "colab": {
          "base_uri": "https://localhost:8080/"
        },
        "executionInfo": {
          "status": "ok",
          "timestamp": 1712425227332,
          "user_tz": 240,
          "elapsed": 1314,
          "user": {
            "displayName": "",
            "userId": ""
          }
        },
        "outputId": "e4c043a7-8692-42ce-bd75-03c17285ec72"
      },
      "execution_count": 10,
      "outputs": [
        {
          "output_type": "stream",
          "name": "stdout",
          "text": [
            " ```python\n",
            "import yfinance as yf\n",
            "import pandas as pd\n",
            "\n",
            "# Get the list of S&P 500 tickers\n",
            "tickers = yf.Tickers('^GSPC').tickers\n",
            "\n",
            "# Download daily stock prices for each ticker\n",
            "for ticker in tickers:\n",
            "    df = yf.download(ticker, period=\"1d\", interval=\"1m\")\n",
            "    df.to_csv(f'{ticker}.csv')\n",
            "```\n"
          ]
        }
      ]
    },
    {
      "cell_type": "code",
      "source": [
        "# ! pip install yfinance\n",
        "# ! pip install pandas\n",
        "import yfinance as yf\n",
        "import pandas as pd\n",
        "\n",
        "# Get the list of S&P 500 tickers\n",
        "tickers = yf.Tickers('^GSPC').tickers\n",
        "print(tickers)\n",
        "\n",
        "# Download daily stock prices for each ticker\n",
        "for ticker in tickers:\n",
        "    df = yf.download(ticker, period=\"1d\", interval=\"1m\")\n",
        "    print(df)"
      ],
      "metadata": {
        "colab": {
          "base_uri": "https://localhost:8080/"
        },
        "id": "g78S5geQf70k",
        "executionInfo": {
          "status": "ok",
          "timestamp": 1712425524281,
          "user_tz": 240,
          "elapsed": 1027,
          "user": {
            "displayName": "",
            "userId": ""
          }
        },
        "outputId": "72a05e29-7c80-4d65-a1c7-84a2e6da08cc"
      },
      "execution_count": 14,
      "outputs": [
        {
          "output_type": "stream",
          "name": "stdout",
          "text": [
            "{'^GSPC': yfinance.Ticker object <^GSPC>}\n"
          ]
        },
        {
          "output_type": "stream",
          "name": "stderr",
          "text": [
            "\r[*********************100%%**********************]  1 of 1 completed"
          ]
        },
        {
          "output_type": "stream",
          "name": "stdout",
          "text": [
            "                                  Open         High          Low        Close  \\\n",
            "Datetime                                                                        \n",
            "2024-04-05 09:30:00-04:00  5158.950195  5160.470215  5157.209961  5159.580078   \n",
            "2024-04-05 09:31:00-04:00  5160.060059  5164.660156  5159.689941  5164.250000   \n",
            "2024-04-05 09:32:00-04:00  5164.589844  5168.080078  5164.350098  5166.339844   \n",
            "2024-04-05 09:33:00-04:00  5166.279785  5166.430176  5163.250000  5164.930176   \n",
            "2024-04-05 09:34:00-04:00  5164.779785  5166.089844  5164.419922  5164.930176   \n",
            "...                                ...          ...          ...          ...   \n",
            "2024-04-05 15:55:00-04:00  5209.830078  5211.060059  5208.589844  5209.149902   \n",
            "2024-04-05 15:56:00-04:00  5208.770020  5208.830078  5205.979980  5205.979980   \n",
            "2024-04-05 15:57:00-04:00  5205.970215  5206.410156  5205.729980  5206.100098   \n",
            "2024-04-05 15:58:00-04:00  5206.250000  5206.470215  5204.669922  5204.709961   \n",
            "2024-04-05 15:59:00-04:00  5204.649902  5206.509766  5203.810059  5204.799805   \n",
            "\n",
            "                             Adj Close    Volume  \n",
            "Datetime                                          \n",
            "2024-04-05 09:30:00-04:00  5159.580078         0  \n",
            "2024-04-05 09:31:00-04:00  5164.250000   8887304  \n",
            "2024-04-05 09:32:00-04:00  5166.339844   7325227  \n",
            "2024-04-05 09:33:00-04:00  5164.930176   7359418  \n",
            "2024-04-05 09:34:00-04:00  5164.930176   7467130  \n",
            "...                                ...       ...  \n",
            "2024-04-05 15:55:00-04:00  5209.149902  18483000  \n",
            "2024-04-05 15:56:00-04:00  5205.979980  18260000  \n",
            "2024-04-05 15:57:00-04:00  5206.100098  18587000  \n",
            "2024-04-05 15:58:00-04:00  5204.709961  26765000  \n",
            "2024-04-05 15:59:00-04:00  5204.799805  51124000  \n",
            "\n",
            "[390 rows x 6 columns]\n"
          ]
        },
        {
          "output_type": "stream",
          "name": "stderr",
          "text": [
            "\n"
          ]
        }
      ]
    },
    {
      "cell_type": "code",
      "source": [
        "question = \"write python codes to download stock tickers in S&P 500 and then download daily stock prices.\"\n",
        "\n",
        "response = chat.send_message(prompt.format(question), **parameters)\n",
        "print(response.text)"
      ],
      "metadata": {
        "colab": {
          "base_uri": "https://localhost:8080/"
        },
        "id": "7__AgaVYhSpN",
        "executionInfo": {
          "status": "ok",
          "timestamp": 1712425649647,
          "user_tz": 240,
          "elapsed": 1035,
          "user": {
            "displayName": "",
            "userId": ""
          }
        },
        "outputId": "241d9815-5082-4d35-b516-7b71b2bbfcfe"
      },
      "execution_count": 15,
      "outputs": [
        {
          "output_type": "stream",
          "name": "stdout",
          "text": [
            " ```python\n",
            "import yfinance as yf\n",
            "import pandas as pd\n",
            "\n",
            "# Get the list of S&P 500 tickers\n",
            "tickers = yf.Tickers('^GSPC').tickers\n",
            "\n",
            "# Download daily stock prices for each ticker\n",
            "for ticker in tickers:\n",
            "    df = yf.download(ticker, period=\"1d\", interval=\"1m\")\n",
            "    df.to_csv(f'{ticker}.csv')\n",
            "```\n"
          ]
        }
      ]
    },
    {
      "cell_type": "code",
      "source": [
        "import yfinance as yf\n",
        "import pandas as pd\n",
        "\n",
        "# Get the list of S&P 500 tickers\n",
        "tickers = yf.Tickers('^GSPC').tickers\n",
        "\n",
        "# Download daily stock prices for each ticker\n",
        "for ticker in tickers:\n",
        "    print(ticker)\n",
        "    df = yf.download(ticker, period=\"1d\", interval=\"1m\")\n",
        "    df.to_csv(f'{ticker}.csv')"
      ],
      "metadata": {
        "colab": {
          "base_uri": "https://localhost:8080/"
        },
        "id": "wA2mbMVbhi3z",
        "executionInfo": {
          "status": "ok",
          "timestamp": 1712425717710,
          "user_tz": 240,
          "elapsed": 535,
          "user": {
            "displayName": "",
            "userId": ""
          }
        },
        "outputId": "f382e56f-936c-4aa6-9b60-69ee6ed1e566"
      },
      "execution_count": 16,
      "outputs": [
        {
          "output_type": "stream",
          "name": "stdout",
          "text": [
            "^GSPC\n"
          ]
        },
        {
          "output_type": "stream",
          "name": "stderr",
          "text": [
            "\r[*********************100%%**********************]  1 of 1 completed\n"
          ]
        }
      ]
    },
    {
      "cell_type": "code",
      "source": [
        "question = \"write python codes to download stock tickers in S&P 500 and create a python list of stock tickers.\"\n",
        "\n",
        "response = chat.send_message(prompt.format(question), **parameters)\n",
        "print(response.text)"
      ],
      "metadata": {
        "colab": {
          "base_uri": "https://localhost:8080/"
        },
        "id": "iG8hHV2bhx2j",
        "executionInfo": {
          "status": "ok",
          "timestamp": 1712425802617,
          "user_tz": 240,
          "elapsed": 928,
          "user": {
            "displayName": "",
            "userId": ""
          }
        },
        "outputId": "f70f024d-3978-4258-99f3-97c6aa238b22"
      },
      "execution_count": 17,
      "outputs": [
        {
          "output_type": "stream",
          "name": "stdout",
          "text": [
            " ```python\n",
            "import yfinance as yf\n",
            "\n",
            "# Get the list of S&P 500 tickers\n",
            "tickers = yf.Tickers('^GSPC').tickers\n",
            "\n",
            "# Create a Python list of stock tickers\n",
            "ticker_list = []\n",
            "for ticker in tickers:\n",
            "    ticker_list.append(ticker)\n",
            "```\n"
          ]
        }
      ]
    },
    {
      "cell_type": "code",
      "source": [
        "import yfinance as yf\n",
        "\n",
        "# Get the list of S&P 500 tickers\n",
        "tickers = yf.Tickers('^GSPC').tickers\n",
        "\n",
        "# Create a Python list of stock tickers\n",
        "ticker_list = []\n",
        "for ticker in tickers:\n",
        "    ticker_list.append(ticker)\n",
        "\n",
        "print(ticker_list)"
      ],
      "metadata": {
        "colab": {
          "base_uri": "https://localhost:8080/"
        },
        "id": "hU4mSGv3iFfr",
        "executionInfo": {
          "status": "ok",
          "timestamp": 1712425852677,
          "user_tz": 240,
          "elapsed": 552,
          "user": {
            "displayName": "",
            "userId": ""
          }
        },
        "outputId": "d74a0084-f93c-40ab-e272-73994e60d818"
      },
      "execution_count": 18,
      "outputs": [
        {
          "output_type": "stream",
          "name": "stdout",
          "text": [
            "['^GSPC']\n"
          ]
        }
      ]
    },
    {
      "cell_type": "code",
      "source": [
        "question = \"write python codes to download individuals stock tickers that is made up in  S&P 500. dont use ^GSPC. remove\\n after every ticker and create a python list. also create another list with stock tickers and the exchange in which it is traded. print the total number of tickers in the list\"\n",
        "\n",
        "response = chat.send_message(prompt.format(question), **parameters)\n",
        "print(response.text)"
      ],
      "metadata": {
        "colab": {
          "base_uri": "https://localhost:8080/"
        },
        "id": "mJOjfIjLiUiC",
        "executionInfo": {
          "status": "ok",
          "timestamp": 1712426122951,
          "user_tz": 240,
          "elapsed": 1781,
          "user": {
            "displayName": "",
            "userId": ""
          }
        },
        "outputId": "9ccae593-ce0e-4d2b-8639-138b9d4b1cc5"
      },
      "execution_count": 22,
      "outputs": [
        {
          "output_type": "stream",
          "name": "stdout",
          "text": [
            " ```python\n",
            "import requests\n",
            "from bs4 import BeautifulSoup\n",
            "\n",
            "# Get the HTML content of the S&P 500 Wikipedia page\n",
            "url = 'https://en.wikipedia.org/wiki/List_of_S%26P_500_companies'\n",
            "response = requests.get(url)\n",
            "html_content = response.text\n",
            "\n",
            "# Parse the HTML content to extract the stock tickers\n",
            "soup = BeautifulSoup(html_content, 'html.parser')\n",
            "table = soup.find('table', {'class': 'wikitable sortable'})\n",
            "tickers = []\n",
            "for row in table.find_all('tr')[1:]:\n",
            "    ticker = row.find('td').text\n",
            "    ticker = ticker.replace('^', '')\n",
            "    tickers.append(ticker)\n",
            "\n",
            "# Create a Python list of individual stock tickers\n",
            "ticker_list = []\n",
            "for ticker in tickers:\n",
            "    ticker_list.append(ticker)\n",
            "\n",
            "# Print the total number of tickers in the list\n",
            "print(f'Total number of tickers: {len(ticker_list)}')\n",
            "```\n"
          ]
        }
      ]
    },
    {
      "cell_type": "code",
      "source": [
        "import requests\n",
        "from bs4 import BeautifulSoup\n",
        "\n",
        "# Get the HTML content of the S&P 500 Wikipedia page\n",
        "url = 'https://en.wikipedia.org/wiki/List_of_S%26P_500_companies'\n",
        "response = requests.get(url)\n",
        "html_content = response.text\n",
        "\n",
        "# Parse the HTML content to extract the stock tickers\n",
        "soup = BeautifulSoup(html_content, 'html.parser')\n",
        "table = soup.find('table', {'class': 'wikitable sortable'})\n",
        "tickers = []\n",
        "for row in table.find_all('tr')[1:]:\n",
        "    ticker = row.find('td').text\n",
        "    ticker = ticker.replace('^', '')\n",
        "    tickers.append(ticker)\n",
        "\n",
        "# Create a Python list of individual stock tickers\n",
        "ticker_list = []\n",
        "for ticker in tickers:\n",
        "    ticker_list.append(ticker)\n",
        "\n",
        "# Print the total number of tickers in the list\n",
        "print(f'Total number of tickers: {len(ticker_list)}')"
      ],
      "metadata": {
        "colab": {
          "base_uri": "https://localhost:8080/"
        },
        "id": "UbOlW4QZjWQS",
        "executionInfo": {
          "status": "ok",
          "timestamp": 1712426157264,
          "user_tz": 240,
          "elapsed": 1755,
          "user": {
            "displayName": "",
            "userId": ""
          }
        },
        "outputId": "40fd3d50-1f89-46a3-9bc0-b657ec9c2944"
      },
      "execution_count": 23,
      "outputs": [
        {
          "output_type": "stream",
          "name": "stdout",
          "text": [
            "Total number of tickers: 503\n"
          ]
        }
      ]
    },
    {
      "cell_type": "code",
      "source": [
        "import requests\n",
        "from bs4 import BeautifulSoup\n",
        "\n",
        "# Get the HTML content of the S&P 500 Wikipedia page\n",
        "url = 'https://en.wikipedia.org/wiki/List_of_S%26P_500_companies'\n",
        "response = requests.get(url)\n",
        "html_content = response.text\n",
        "\n",
        "# Parse the HTML content to extract the stock tickers\n",
        "soup = BeautifulSoup(html_content, 'html.parser')\n",
        "table = soup.find('table', {'class': 'wikitable sortable'})\n",
        "tickers = []\n",
        "for row in table.find_all('tr')[1:]:\n",
        "    ticker = row.find('td').text\n",
        "    tickers.append(ticker)\n",
        "\n",
        "# Create a Python list of individual stock tickers\n",
        "ticker_list = []\n",
        "for ticker in tickers:\n",
        "    ticker_list.append(ticker)\n",
        "print(ticker_list)"
      ],
      "metadata": {
        "colab": {
          "base_uri": "https://localhost:8080/"
        },
        "id": "LH7BKb2jiwaq",
        "executionInfo": {
          "status": "ok",
          "timestamp": 1712426023806,
          "user_tz": 240,
          "elapsed": 1399,
          "user": {
            "displayName": "",
            "userId": ""
          }
        },
        "outputId": "54532e6f-b7e5-4626-dc9a-5204c66a049d"
      },
      "execution_count": 21,
      "outputs": [
        {
          "output_type": "stream",
          "name": "stdout",
          "text": [
            "['MMM\\n', 'AOS\\n', 'ABT\\n', 'ABBV\\n', 'ACN\\n', 'ADBE\\n', 'AMD\\n', 'AES\\n', 'AFL\\n', 'A\\n', 'APD\\n', 'ABNB\\n', 'AKAM\\n', 'ALB\\n', 'ARE\\n', 'ALGN\\n', 'ALLE\\n', 'LNT\\n', 'ALL\\n', 'GOOGL\\n', 'GOOG\\n', 'MO\\n', 'AMZN\\n', 'AMCR\\n', 'AEE\\n', 'AAL\\n', 'AEP\\n', 'AXP\\n', 'AIG\\n', 'AMT\\n', 'AWK\\n', 'AMP\\n', 'AME\\n', 'AMGN\\n', 'APH\\n', 'ADI\\n', 'ANSS\\n', 'AON\\n', 'APA\\n', 'AAPL\\n', 'AMAT\\n', 'APTV\\n', 'ACGL\\n', 'ADM\\n', 'ANET\\n', 'AJG\\n', 'AIZ\\n', 'T\\n', 'ATO\\n', 'ADSK\\n', 'ADP\\n', 'AZO\\n', 'AVB\\n', 'AVY\\n', 'AXON\\n', 'BKR\\n', 'BALL\\n', 'BAC\\n', 'BK\\n', 'BBWI\\n', 'BAX\\n', 'BDX\\n', 'BRK.B\\n', 'BBY\\n', 'BIO\\n', 'TECH\\n', 'BIIB\\n', 'BLK\\n', 'BX\\n', 'BA\\n', 'BKNG\\n', 'BWA\\n', 'BXP\\n', 'BSX\\n', 'BMY\\n', 'AVGO\\n', 'BR\\n', 'BRO\\n', 'BF.B\\n', 'BLDR\\n', 'BG\\n', 'CDNS\\n', 'CZR\\n', 'CPT\\n', 'CPB\\n', 'COF\\n', 'CAH\\n', 'KMX\\n', 'CCL\\n', 'CARR\\n', 'CTLT\\n', 'CAT\\n', 'CBOE\\n', 'CBRE\\n', 'CDW\\n', 'CE\\n', 'COR\\n', 'CNC\\n', 'CNP\\n', 'CF\\n', 'CHRW\\n', 'CRL\\n', 'SCHW\\n', 'CHTR\\n', 'CVX\\n', 'CMG\\n', 'CB\\n', 'CHD\\n', 'CI\\n', 'CINF\\n', 'CTAS\\n', 'CSCO\\n', 'C\\n', 'CFG\\n', 'CLX\\n', 'CME\\n', 'CMS\\n', 'KO\\n', 'CTSH\\n', 'CL\\n', 'CMCSA\\n', 'CMA\\n', 'CAG\\n', 'COP\\n', 'ED\\n', 'STZ\\n', 'CEG\\n', 'COO\\n', 'CPRT\\n', 'GLW\\n', 'CPAY\\n', 'CTVA\\n', 'CSGP\\n', 'COST\\n', 'CTRA\\n', 'CCI\\n', 'CSX\\n', 'CMI\\n', 'CVS\\n', 'DHR\\n', 'DRI\\n', 'DVA\\n', 'DAY\\n', 'DECK\\n', 'DE\\n', 'DAL\\n', 'DVN\\n', 'DXCM\\n', 'FANG\\n', 'DLR\\n', 'DFS\\n', 'DG\\n', 'DLTR\\n', 'D\\n', 'DPZ\\n', 'DOV\\n', 'DOW\\n', 'DHI\\n', 'DTE\\n', 'DUK\\n', 'DD\\n', 'EMN\\n', 'ETN\\n', 'EBAY\\n', 'ECL\\n', 'EIX\\n', 'EW\\n', 'EA\\n', 'ELV\\n', 'LLY\\n', 'EMR\\n', 'ENPH\\n', 'ETR\\n', 'EOG\\n', 'EPAM\\n', 'EQT\\n', 'EFX\\n', 'EQIX\\n', 'EQR\\n', 'ESS\\n', 'EL\\n', 'ETSY\\n', 'EG\\n', 'EVRG\\n', 'ES\\n', 'EXC\\n', 'EXPE\\n', 'EXPD\\n', 'EXR\\n', 'XOM\\n', 'FFIV\\n', 'FDS\\n', 'FICO\\n', 'FAST\\n', 'FRT\\n', 'FDX\\n', 'FIS\\n', 'FITB\\n', 'FSLR\\n', 'FE\\n', 'FI\\n', 'FMC\\n', 'F\\n', 'FTNT\\n', 'FTV\\n', 'FOXA\\n', 'FOX\\n', 'BEN\\n', 'FCX\\n', 'GRMN\\n', 'IT\\n', 'GE\\n', 'GEHC\\n', 'GEV\\n', 'GEN\\n', 'GNRC\\n', 'GD\\n', 'GIS\\n', 'GM\\n', 'GPC\\n', 'GILD\\n', 'GPN\\n', 'GL\\n', 'GS\\n', 'HAL\\n', 'HIG\\n', 'HAS\\n', 'HCA\\n', 'DOC\\n', 'HSIC\\n', 'HSY\\n', 'HES\\n', 'HPE\\n', 'HLT\\n', 'HOLX\\n', 'HD\\n', 'HON\\n', 'HRL\\n', 'HST\\n', 'HWM\\n', 'HPQ\\n', 'HUBB\\n', 'HUM\\n', 'HBAN\\n', 'HII\\n', 'IBM\\n', 'IEX\\n', 'IDXX\\n', 'ITW\\n', 'ILMN\\n', 'INCY\\n', 'IR\\n', 'PODD\\n', 'INTC\\n', 'ICE\\n', 'IFF\\n', 'IP\\n', 'IPG\\n', 'INTU\\n', 'ISRG\\n', 'IVZ\\n', 'INVH\\n', 'IQV\\n', 'IRM\\n', 'JBHT\\n', 'JBL\\n', 'JKHY\\n', 'J\\n', 'JNJ\\n', 'JCI\\n', 'JPM\\n', 'JNPR\\n', 'K\\n', 'KVUE\\n', 'KDP\\n', 'KEY\\n', 'KEYS\\n', 'KMB\\n', 'KIM\\n', 'KMI\\n', 'KLAC\\n', 'KHC\\n', 'KR\\n', 'LHX\\n', 'LH\\n', 'LRCX\\n', 'LW\\n', 'LVS\\n', 'LDOS\\n', 'LEN\\n', 'LIN\\n', 'LYV\\n', 'LKQ\\n', 'LMT\\n', 'L\\n', 'LOW\\n', 'LULU\\n', 'LYB\\n', 'MTB\\n', 'MRO\\n', 'MPC\\n', 'MKTX\\n', 'MAR\\n', 'MMC\\n', 'MLM\\n', 'MAS\\n', 'MA\\n', 'MTCH\\n', 'MKC\\n', 'MCD\\n', 'MCK\\n', 'MDT\\n', 'MRK\\n', 'META\\n', 'MET\\n', 'MTD\\n', 'MGM\\n', 'MCHP\\n', 'MU\\n', 'MSFT\\n', 'MAA\\n', 'MRNA\\n', 'MHK\\n', 'MOH\\n', 'TAP\\n', 'MDLZ\\n', 'MPWR\\n', 'MNST\\n', 'MCO\\n', 'MS\\n', 'MOS\\n', 'MSI\\n', 'MSCI\\n', 'NDAQ\\n', 'NTAP\\n', 'NFLX\\n', 'NEM\\n', 'NWSA\\n', 'NWS\\n', 'NEE\\n', 'NKE\\n', 'NI\\n', 'NDSN\\n', 'NSC\\n', 'NTRS\\n', 'NOC\\n', 'NCLH\\n', 'NRG\\n', 'NUE\\n', 'NVDA\\n', 'NVR\\n', 'NXPI\\n', 'ORLY\\n', 'OXY\\n', 'ODFL\\n', 'OMC\\n', 'ON\\n', 'OKE\\n', 'ORCL\\n', 'OTIS\\n', 'PCAR\\n', 'PKG\\n', 'PANW\\n', 'PARA\\n', 'PH\\n', 'PAYX\\n', 'PAYC\\n', 'PYPL\\n', 'PNR\\n', 'PEP\\n', 'PFE\\n', 'PCG\\n', 'PM\\n', 'PSX\\n', 'PNW\\n', 'PXD\\n', 'PNC\\n', 'POOL\\n', 'PPG\\n', 'PPL\\n', 'PFG\\n', 'PG\\n', 'PGR\\n', 'PLD\\n', 'PRU\\n', 'PEG\\n', 'PTC\\n', 'PSA\\n', 'PHM\\n', 'QRVO\\n', 'PWR\\n', 'QCOM\\n', 'DGX\\n', 'RL\\n', 'RJF\\n', 'RTX\\n', 'O\\n', 'REG\\n', 'REGN\\n', 'RF\\n', 'RSG\\n', 'RMD\\n', 'RVTY\\n', 'RHI\\n', 'ROK\\n', 'ROL\\n', 'ROP\\n', 'ROST\\n', 'RCL\\n', 'SPGI\\n', 'CRM\\n', 'SBAC\\n', 'SLB\\n', 'STX\\n', 'SRE\\n', 'NOW\\n', 'SHW\\n', 'SPG\\n', 'SWKS\\n', 'SJM\\n', 'SNA\\n', 'SOLV\\n', 'SO\\n', 'LUV\\n', 'SWK\\n', 'SBUX\\n', 'STT\\n', 'STLD\\n', 'STE\\n', 'SYK\\n', 'SMCI\\n', 'SYF\\n', 'SNPS\\n', 'SYY\\n', 'TMUS\\n', 'TROW\\n', 'TTWO\\n', 'TPR\\n', 'TRGP\\n', 'TGT\\n', 'TEL\\n', 'TDY\\n', 'TFX\\n', 'TER\\n', 'TSLA\\n', 'TXN\\n', 'TXT\\n', 'TMO\\n', 'TJX\\n', 'TSCO\\n', 'TT\\n', 'TDG\\n', 'TRV\\n', 'TRMB\\n', 'TFC\\n', 'TYL\\n', 'TSN\\n', 'USB\\n', 'UBER\\n', 'UDR\\n', 'ULTA\\n', 'UNP\\n', 'UAL\\n', 'UPS\\n', 'URI\\n', 'UNH\\n', 'UHS\\n', 'VLO\\n', 'VTR\\n', 'VLTO\\n', 'VRSN\\n', 'VRSK\\n', 'VZ\\n', 'VRTX\\n', 'VTRS\\n', 'VICI\\n', 'V\\n', 'VMC\\n', 'WRB\\n', 'WAB\\n', 'WBA\\n', 'WMT\\n', 'DIS\\n', 'WBD\\n', 'WM\\n', 'WAT\\n', 'WEC\\n', 'WFC\\n', 'WELL\\n', 'WST\\n', 'WDC\\n', 'WRK\\n', 'WY\\n', 'WMB\\n', 'WTW\\n', 'GWW\\n', 'WYNN\\n', 'XEL\\n', 'XYL\\n', 'YUM\\n', 'ZBRA\\n', 'ZBH\\n', 'ZTS\\n']\n"
          ]
        }
      ]
    },
    {
      "cell_type": "code",
      "source": [
        "question = \"write python codes to download individuals stock tickers that is made up in  S&P 500. dont use ^GSPC. remove\\n after every ticker and create a python list. also create another list with stock tickers and the stock exchange code in which it is traded. print the total number of tickers in the list\"\n",
        "\n",
        "response = chat.send_message(prompt.format(question), **parameters)\n",
        "print(response.text)"
      ],
      "metadata": {
        "colab": {
          "base_uri": "https://localhost:8080/"
        },
        "id": "eV1SgyhtjsLm",
        "executionInfo": {
          "status": "ok",
          "timestamp": 1712426373280,
          "user_tz": 240,
          "elapsed": 2302,
          "user": {
            "displayName": "",
            "userId": ""
          }
        },
        "outputId": "11cca981-1e9f-40bd-86ea-dabc5eebdaf4"
      },
      "execution_count": 27,
      "outputs": [
        {
          "output_type": "stream",
          "name": "stdout",
          "text": [
            " ```python\n",
            "import requests\n",
            "from bs4 import BeautifulSoup\n",
            "\n",
            "# Get the HTML content of the S&P 500 Wikipedia page\n",
            "url = 'https://en.wikipedia.org/wiki/List_of_S%26P_500_companies'\n",
            "response = requests.get(url)\n",
            "html_content = response.text\n",
            "\n",
            "# Parse the HTML content to extract the stock tickers and stock exchange codes\n",
            "soup = BeautifulSoup(html_content, 'html.parser')\n",
            "table = soup.find('table', {'class': 'wikitable sortable'})\n",
            "tickers = []\n",
            "stock_exchange_codes = []\n",
            "for row in table.find_all('tr')[1:]:\n",
            "    ticker = row.find('td').text\n",
            "    ticker = ticker.replace('^', '')\n",
            "    tickers.append(ticker)\n",
            "    stock_exchange_code = row.find_all('td')[2].text\n",
            "    stock_exchange_codes.append(stock_exchange_code)\n",
            "\n",
            "# Create a Python list of individual stock tickers\n",
            "ticker_list = []\n",
            "for ticker in tickers:\n",
            "    ticker_list.append(ticker)\n",
            "\n",
            "# Create a Python list of stock tickers and stock exchange codes\n",
            "ticker_stock_exchange_code_list = []\n",
            "for i in range(len(tickers)):\n",
            "    ticker_stock_exchange_code_list.append((tickers[i], stock_exchange_codes[i]))\n",
            "\n",
            "# Print the total number of tickers in the list\n",
            "print(f'Total number of tickers: {len(ticker_list)}')\n",
            "```\n"
          ]
        }
      ]
    },
    {
      "cell_type": "code",
      "source": [
        "question = '''Write a Python class that can be used to convert Fahrenheit to Celsius\n",
        "              and visa versa\n",
        "'''\n",
        "\n",
        "response = chat.send_message(prompt.format(question), **parameters)\n",
        "print(response.text)"
      ],
      "metadata": {
        "id": "SMv3aO31Hw7t"
      },
      "execution_count": null,
      "outputs": []
    },
    {
      "cell_type": "code",
      "source": [
        "import requests\n",
        "from bs4 import BeautifulSoup\n",
        "\n",
        "# Get the HTML content of the S&P 500 Wikipedia page\n",
        "url = 'https://en.wikipedia.org/wiki/List_of_S%26P_500_companies'\n",
        "response = requests.get(url)\n",
        "html_content = response.text\n",
        "\n",
        "# Parse the HTML content to extract the stock tickers and exchanges\n",
        "soup = BeautifulSoup(html_content, 'html.parser')\n",
        "table = soup.find('table', {'class': 'wikitable sortable'})\n",
        "tickers = []\n",
        "exchanges = []\n",
        "for row in table.find_all('tr')[1:]:\n",
        "    ticker = row.find('td').text\n",
        "    ticker = ticker.replace('^', '')\n",
        "    tickers.append(ticker)\n",
        "    exchange = row.find_all('td')[1].text\n",
        "    exchanges.append(exchange)\n",
        "\n",
        "# Create a Python list of individual stock tickers\n",
        "ticker_list = []\n",
        "for ticker in tickers:\n",
        "    ticker_list.append(ticker)\n",
        "print(ticker_list)\n",
        "\n",
        "# Create a Python list of stock tickers and exchanges\n",
        "ticker_exchange_list = []\n",
        "for i in range(len(tickers)):\n",
        "    ticker_exchange_list.append((tickers[i], exchanges[i]))\n",
        "print(ticker_exchange_list)\n",
        "\n",
        "# Print the total number of tickers in the list\n",
        "print(f'Total number of tickers: {len(ticker_list)}')"
      ],
      "metadata": {
        "colab": {
          "base_uri": "https://localhost:8080/"
        },
        "id": "C2mQfBT0j1ba",
        "executionInfo": {
          "status": "ok",
          "timestamp": 1712426329618,
          "user_tz": 240,
          "elapsed": 1822,
          "user": {
            "displayName": "",
            "userId": ""
          }
        },
        "outputId": "c845dfd3-2d82-4514-f255-5d0a98caea98"
      },
      "execution_count": 26,
      "outputs": [
        {
          "output_type": "stream",
          "name": "stdout",
          "text": [
            "['MMM\\n', 'AOS\\n', 'ABT\\n', 'ABBV\\n', 'ACN\\n', 'ADBE\\n', 'AMD\\n', 'AES\\n', 'AFL\\n', 'A\\n', 'APD\\n', 'ABNB\\n', 'AKAM\\n', 'ALB\\n', 'ARE\\n', 'ALGN\\n', 'ALLE\\n', 'LNT\\n', 'ALL\\n', 'GOOGL\\n', 'GOOG\\n', 'MO\\n', 'AMZN\\n', 'AMCR\\n', 'AEE\\n', 'AAL\\n', 'AEP\\n', 'AXP\\n', 'AIG\\n', 'AMT\\n', 'AWK\\n', 'AMP\\n', 'AME\\n', 'AMGN\\n', 'APH\\n', 'ADI\\n', 'ANSS\\n', 'AON\\n', 'APA\\n', 'AAPL\\n', 'AMAT\\n', 'APTV\\n', 'ACGL\\n', 'ADM\\n', 'ANET\\n', 'AJG\\n', 'AIZ\\n', 'T\\n', 'ATO\\n', 'ADSK\\n', 'ADP\\n', 'AZO\\n', 'AVB\\n', 'AVY\\n', 'AXON\\n', 'BKR\\n', 'BALL\\n', 'BAC\\n', 'BK\\n', 'BBWI\\n', 'BAX\\n', 'BDX\\n', 'BRK.B\\n', 'BBY\\n', 'BIO\\n', 'TECH\\n', 'BIIB\\n', 'BLK\\n', 'BX\\n', 'BA\\n', 'BKNG\\n', 'BWA\\n', 'BXP\\n', 'BSX\\n', 'BMY\\n', 'AVGO\\n', 'BR\\n', 'BRO\\n', 'BF.B\\n', 'BLDR\\n', 'BG\\n', 'CDNS\\n', 'CZR\\n', 'CPT\\n', 'CPB\\n', 'COF\\n', 'CAH\\n', 'KMX\\n', 'CCL\\n', 'CARR\\n', 'CTLT\\n', 'CAT\\n', 'CBOE\\n', 'CBRE\\n', 'CDW\\n', 'CE\\n', 'COR\\n', 'CNC\\n', 'CNP\\n', 'CF\\n', 'CHRW\\n', 'CRL\\n', 'SCHW\\n', 'CHTR\\n', 'CVX\\n', 'CMG\\n', 'CB\\n', 'CHD\\n', 'CI\\n', 'CINF\\n', 'CTAS\\n', 'CSCO\\n', 'C\\n', 'CFG\\n', 'CLX\\n', 'CME\\n', 'CMS\\n', 'KO\\n', 'CTSH\\n', 'CL\\n', 'CMCSA\\n', 'CMA\\n', 'CAG\\n', 'COP\\n', 'ED\\n', 'STZ\\n', 'CEG\\n', 'COO\\n', 'CPRT\\n', 'GLW\\n', 'CPAY\\n', 'CTVA\\n', 'CSGP\\n', 'COST\\n', 'CTRA\\n', 'CCI\\n', 'CSX\\n', 'CMI\\n', 'CVS\\n', 'DHR\\n', 'DRI\\n', 'DVA\\n', 'DAY\\n', 'DECK\\n', 'DE\\n', 'DAL\\n', 'DVN\\n', 'DXCM\\n', 'FANG\\n', 'DLR\\n', 'DFS\\n', 'DG\\n', 'DLTR\\n', 'D\\n', 'DPZ\\n', 'DOV\\n', 'DOW\\n', 'DHI\\n', 'DTE\\n', 'DUK\\n', 'DD\\n', 'EMN\\n', 'ETN\\n', 'EBAY\\n', 'ECL\\n', 'EIX\\n', 'EW\\n', 'EA\\n', 'ELV\\n', 'LLY\\n', 'EMR\\n', 'ENPH\\n', 'ETR\\n', 'EOG\\n', 'EPAM\\n', 'EQT\\n', 'EFX\\n', 'EQIX\\n', 'EQR\\n', 'ESS\\n', 'EL\\n', 'ETSY\\n', 'EG\\n', 'EVRG\\n', 'ES\\n', 'EXC\\n', 'EXPE\\n', 'EXPD\\n', 'EXR\\n', 'XOM\\n', 'FFIV\\n', 'FDS\\n', 'FICO\\n', 'FAST\\n', 'FRT\\n', 'FDX\\n', 'FIS\\n', 'FITB\\n', 'FSLR\\n', 'FE\\n', 'FI\\n', 'FMC\\n', 'F\\n', 'FTNT\\n', 'FTV\\n', 'FOXA\\n', 'FOX\\n', 'BEN\\n', 'FCX\\n', 'GRMN\\n', 'IT\\n', 'GE\\n', 'GEHC\\n', 'GEV\\n', 'GEN\\n', 'GNRC\\n', 'GD\\n', 'GIS\\n', 'GM\\n', 'GPC\\n', 'GILD\\n', 'GPN\\n', 'GL\\n', 'GS\\n', 'HAL\\n', 'HIG\\n', 'HAS\\n', 'HCA\\n', 'DOC\\n', 'HSIC\\n', 'HSY\\n', 'HES\\n', 'HPE\\n', 'HLT\\n', 'HOLX\\n', 'HD\\n', 'HON\\n', 'HRL\\n', 'HST\\n', 'HWM\\n', 'HPQ\\n', 'HUBB\\n', 'HUM\\n', 'HBAN\\n', 'HII\\n', 'IBM\\n', 'IEX\\n', 'IDXX\\n', 'ITW\\n', 'ILMN\\n', 'INCY\\n', 'IR\\n', 'PODD\\n', 'INTC\\n', 'ICE\\n', 'IFF\\n', 'IP\\n', 'IPG\\n', 'INTU\\n', 'ISRG\\n', 'IVZ\\n', 'INVH\\n', 'IQV\\n', 'IRM\\n', 'JBHT\\n', 'JBL\\n', 'JKHY\\n', 'J\\n', 'JNJ\\n', 'JCI\\n', 'JPM\\n', 'JNPR\\n', 'K\\n', 'KVUE\\n', 'KDP\\n', 'KEY\\n', 'KEYS\\n', 'KMB\\n', 'KIM\\n', 'KMI\\n', 'KLAC\\n', 'KHC\\n', 'KR\\n', 'LHX\\n', 'LH\\n', 'LRCX\\n', 'LW\\n', 'LVS\\n', 'LDOS\\n', 'LEN\\n', 'LIN\\n', 'LYV\\n', 'LKQ\\n', 'LMT\\n', 'L\\n', 'LOW\\n', 'LULU\\n', 'LYB\\n', 'MTB\\n', 'MRO\\n', 'MPC\\n', 'MKTX\\n', 'MAR\\n', 'MMC\\n', 'MLM\\n', 'MAS\\n', 'MA\\n', 'MTCH\\n', 'MKC\\n', 'MCD\\n', 'MCK\\n', 'MDT\\n', 'MRK\\n', 'META\\n', 'MET\\n', 'MTD\\n', 'MGM\\n', 'MCHP\\n', 'MU\\n', 'MSFT\\n', 'MAA\\n', 'MRNA\\n', 'MHK\\n', 'MOH\\n', 'TAP\\n', 'MDLZ\\n', 'MPWR\\n', 'MNST\\n', 'MCO\\n', 'MS\\n', 'MOS\\n', 'MSI\\n', 'MSCI\\n', 'NDAQ\\n', 'NTAP\\n', 'NFLX\\n', 'NEM\\n', 'NWSA\\n', 'NWS\\n', 'NEE\\n', 'NKE\\n', 'NI\\n', 'NDSN\\n', 'NSC\\n', 'NTRS\\n', 'NOC\\n', 'NCLH\\n', 'NRG\\n', 'NUE\\n', 'NVDA\\n', 'NVR\\n', 'NXPI\\n', 'ORLY\\n', 'OXY\\n', 'ODFL\\n', 'OMC\\n', 'ON\\n', 'OKE\\n', 'ORCL\\n', 'OTIS\\n', 'PCAR\\n', 'PKG\\n', 'PANW\\n', 'PARA\\n', 'PH\\n', 'PAYX\\n', 'PAYC\\n', 'PYPL\\n', 'PNR\\n', 'PEP\\n', 'PFE\\n', 'PCG\\n', 'PM\\n', 'PSX\\n', 'PNW\\n', 'PXD\\n', 'PNC\\n', 'POOL\\n', 'PPG\\n', 'PPL\\n', 'PFG\\n', 'PG\\n', 'PGR\\n', 'PLD\\n', 'PRU\\n', 'PEG\\n', 'PTC\\n', 'PSA\\n', 'PHM\\n', 'QRVO\\n', 'PWR\\n', 'QCOM\\n', 'DGX\\n', 'RL\\n', 'RJF\\n', 'RTX\\n', 'O\\n', 'REG\\n', 'REGN\\n', 'RF\\n', 'RSG\\n', 'RMD\\n', 'RVTY\\n', 'RHI\\n', 'ROK\\n', 'ROL\\n', 'ROP\\n', 'ROST\\n', 'RCL\\n', 'SPGI\\n', 'CRM\\n', 'SBAC\\n', 'SLB\\n', 'STX\\n', 'SRE\\n', 'NOW\\n', 'SHW\\n', 'SPG\\n', 'SWKS\\n', 'SJM\\n', 'SNA\\n', 'SOLV\\n', 'SO\\n', 'LUV\\n', 'SWK\\n', 'SBUX\\n', 'STT\\n', 'STLD\\n', 'STE\\n', 'SYK\\n', 'SMCI\\n', 'SYF\\n', 'SNPS\\n', 'SYY\\n', 'TMUS\\n', 'TROW\\n', 'TTWO\\n', 'TPR\\n', 'TRGP\\n', 'TGT\\n', 'TEL\\n', 'TDY\\n', 'TFX\\n', 'TER\\n', 'TSLA\\n', 'TXN\\n', 'TXT\\n', 'TMO\\n', 'TJX\\n', 'TSCO\\n', 'TT\\n', 'TDG\\n', 'TRV\\n', 'TRMB\\n', 'TFC\\n', 'TYL\\n', 'TSN\\n', 'USB\\n', 'UBER\\n', 'UDR\\n', 'ULTA\\n', 'UNP\\n', 'UAL\\n', 'UPS\\n', 'URI\\n', 'UNH\\n', 'UHS\\n', 'VLO\\n', 'VTR\\n', 'VLTO\\n', 'VRSN\\n', 'VRSK\\n', 'VZ\\n', 'VRTX\\n', 'VTRS\\n', 'VICI\\n', 'V\\n', 'VMC\\n', 'WRB\\n', 'WAB\\n', 'WBA\\n', 'WMT\\n', 'DIS\\n', 'WBD\\n', 'WM\\n', 'WAT\\n', 'WEC\\n', 'WFC\\n', 'WELL\\n', 'WST\\n', 'WDC\\n', 'WRK\\n', 'WY\\n', 'WMB\\n', 'WTW\\n', 'GWW\\n', 'WYNN\\n', 'XEL\\n', 'XYL\\n', 'YUM\\n', 'ZBRA\\n', 'ZBH\\n', 'ZTS\\n']\n",
            "[('MMM\\n', '3M'), ('AOS\\n', 'A. O. Smith'), ('ABT\\n', 'Abbott'), ('ABBV\\n', 'AbbVie'), ('ACN\\n', 'Accenture'), ('ADBE\\n', 'Adobe Inc.'), ('AMD\\n', 'Advanced Micro Devices'), ('AES\\n', 'AES Corporation'), ('AFL\\n', 'Aflac'), ('A\\n', 'Agilent Technologies'), ('APD\\n', 'Air Products and Chemicals'), ('ABNB\\n', 'Airbnb'), ('AKAM\\n', 'Akamai'), ('ALB\\n', 'Albemarle Corporation'), ('ARE\\n', 'Alexandria Real Estate Equities'), ('ALGN\\n', 'Align Technology'), ('ALLE\\n', 'Allegion'), ('LNT\\n', 'Alliant Energy'), ('ALL\\n', 'Allstate'), ('GOOGL\\n', 'Alphabet Inc. (Class A)'), ('GOOG\\n', 'Alphabet Inc. (Class C)'), ('MO\\n', 'Altria'), ('AMZN\\n', 'Amazon'), ('AMCR\\n', 'Amcor'), ('AEE\\n', 'Ameren'), ('AAL\\n', 'American Airlines Group'), ('AEP\\n', 'American Electric Power'), ('AXP\\n', 'American Express'), ('AIG\\n', 'American International Group'), ('AMT\\n', 'American Tower'), ('AWK\\n', 'American Water Works'), ('AMP\\n', 'Ameriprise Financial'), ('AME\\n', 'Ametek'), ('AMGN\\n', 'Amgen'), ('APH\\n', 'Amphenol'), ('ADI\\n', 'Analog Devices'), ('ANSS\\n', 'Ansys'), ('AON\\n', 'Aon'), ('APA\\n', 'APA Corporation'), ('AAPL\\n', 'Apple Inc.'), ('AMAT\\n', 'Applied Materials'), ('APTV\\n', 'Aptiv'), ('ACGL\\n', 'Arch Capital Group'), ('ADM\\n', 'Archer-Daniels-Midland'), ('ANET\\n', 'Arista Networks'), ('AJG\\n', 'Arthur J. Gallagher & Co.'), ('AIZ\\n', 'Assurant'), ('T\\n', 'AT&T'), ('ATO\\n', 'Atmos Energy'), ('ADSK\\n', 'Autodesk'), ('ADP\\n', 'Automatic Data Processing'), ('AZO\\n', 'AutoZone'), ('AVB\\n', 'AvalonBay Communities'), ('AVY\\n', 'Avery Dennison'), ('AXON\\n', 'Axon Enterprise'), ('BKR\\n', 'Baker Hughes'), ('BALL\\n', 'Ball Corporation'), ('BAC\\n', 'Bank of America'), ('BK\\n', 'Bank of New York Mellon'), ('BBWI\\n', 'Bath & Body Works, Inc.'), ('BAX\\n', 'Baxter International'), ('BDX\\n', 'Becton Dickinson'), ('BRK.B\\n', 'Berkshire Hathaway'), ('BBY\\n', 'Best Buy'), ('BIO\\n', 'Bio-Rad'), ('TECH\\n', 'Bio-Techne'), ('BIIB\\n', 'Biogen'), ('BLK\\n', 'BlackRock'), ('BX\\n', 'Blackstone'), ('BA\\n', 'Boeing'), ('BKNG\\n', 'Booking Holdings'), ('BWA\\n', 'BorgWarner'), ('BXP\\n', 'Boston Properties'), ('BSX\\n', 'Boston Scientific'), ('BMY\\n', 'Bristol Myers Squibb'), ('AVGO\\n', 'Broadcom Inc.'), ('BR\\n', 'Broadridge Financial Solutions'), ('BRO\\n', 'Brown & Brown'), ('BF.B\\n', 'Brown–Forman'), ('BLDR\\n', 'Builders FirstSource'), ('BG\\n', 'Bunge Global SA'), ('CDNS\\n', 'Cadence Design Systems'), ('CZR\\n', 'Caesars Entertainment'), ('CPT\\n', 'Camden Property Trust'), ('CPB\\n', 'Campbell Soup Company'), ('COF\\n', 'Capital One'), ('CAH\\n', 'Cardinal Health'), ('KMX\\n', 'CarMax'), ('CCL\\n', 'Carnival'), ('CARR\\n', 'Carrier Global'), ('CTLT\\n', 'Catalent'), ('CAT\\n', 'Caterpillar Inc.'), ('CBOE\\n', 'Cboe Global Markets'), ('CBRE\\n', 'CBRE Group'), ('CDW\\n', 'CDW'), ('CE\\n', 'Celanese'), ('COR\\n', 'Cencora'), ('CNC\\n', 'Centene Corporation'), ('CNP\\n', 'CenterPoint Energy'), ('CF\\n', 'CF Industries'), ('CHRW\\n', 'CH Robinson'), ('CRL\\n', 'Charles River Laboratories'), ('SCHW\\n', 'Charles Schwab Corporation'), ('CHTR\\n', 'Charter Communications'), ('CVX\\n', 'Chevron Corporation'), ('CMG\\n', 'Chipotle Mexican Grill'), ('CB\\n', 'Chubb Limited'), ('CHD\\n', 'Church & Dwight'), ('CI\\n', 'Cigna'), ('CINF\\n', 'Cincinnati Financial'), ('CTAS\\n', 'Cintas'), ('CSCO\\n', 'Cisco'), ('C\\n', 'Citigroup'), ('CFG\\n', 'Citizens Financial Group'), ('CLX\\n', 'Clorox'), ('CME\\n', 'CME Group'), ('CMS\\n', 'CMS Energy'), ('KO\\n', 'Coca-Cola Company (The)'), ('CTSH\\n', 'Cognizant'), ('CL\\n', 'Colgate-Palmolive'), ('CMCSA\\n', 'Comcast'), ('CMA\\n', 'Comerica'), ('CAG\\n', 'Conagra Brands'), ('COP\\n', 'ConocoPhillips'), ('ED\\n', 'Consolidated Edison'), ('STZ\\n', 'Constellation Brands'), ('CEG\\n', 'Constellation Energy'), ('COO\\n', 'CooperCompanies'), ('CPRT\\n', 'Copart'), ('GLW\\n', 'Corning Inc.'), ('CPAY\\n', 'Corpay'), ('CTVA\\n', 'Corteva'), ('CSGP\\n', 'CoStar Group'), ('COST\\n', 'Costco'), ('CTRA\\n', 'Coterra'), ('CCI\\n', 'Crown Castle'), ('CSX\\n', 'CSX'), ('CMI\\n', 'Cummins'), ('CVS\\n', 'CVS Health'), ('DHR\\n', 'Danaher Corporation'), ('DRI\\n', 'Darden Restaurants'), ('DVA\\n', 'DaVita Inc.'), ('DAY\\n', 'Dayforce'), ('DECK\\n', 'Deckers Brands'), ('DE\\n', 'John Deere'), ('DAL\\n', 'Delta Air Lines'), ('DVN\\n', 'Devon Energy'), ('DXCM\\n', 'Dexcom'), ('FANG\\n', 'Diamondback Energy'), ('DLR\\n', 'Digital Realty'), ('DFS\\n', 'Discover Financial'), ('DG\\n', 'Dollar General'), ('DLTR\\n', 'Dollar Tree'), ('D\\n', 'Dominion Energy'), ('DPZ\\n', \"Domino's\"), ('DOV\\n', 'Dover Corporation'), ('DOW\\n', 'Dow Inc.'), ('DHI\\n', 'DR Horton'), ('DTE\\n', 'DTE Energy'), ('DUK\\n', 'Duke Energy'), ('DD\\n', 'DuPont'), ('EMN\\n', 'Eastman Chemical Company'), ('ETN\\n', 'Eaton Corporation'), ('EBAY\\n', 'eBay'), ('ECL\\n', 'Ecolab'), ('EIX\\n', 'Edison International'), ('EW\\n', 'Edwards Lifesciences'), ('EA\\n', 'Electronic Arts'), ('ELV\\n', 'Elevance Health'), ('LLY\\n', 'Eli Lilly and Company'), ('EMR\\n', 'Emerson Electric'), ('ENPH\\n', 'Enphase'), ('ETR\\n', 'Entergy'), ('EOG\\n', 'EOG Resources'), ('EPAM\\n', 'EPAM Systems'), ('EQT\\n', 'EQT'), ('EFX\\n', 'Equifax'), ('EQIX\\n', 'Equinix'), ('EQR\\n', 'Equity Residential'), ('ESS\\n', 'Essex Property Trust'), ('EL\\n', 'Estée Lauder Companies (The)'), ('ETSY\\n', 'Etsy'), ('EG\\n', 'Everest Re'), ('EVRG\\n', 'Evergy'), ('ES\\n', 'Eversource'), ('EXC\\n', 'Exelon'), ('EXPE\\n', 'Expedia Group'), ('EXPD\\n', 'Expeditors International'), ('EXR\\n', 'Extra Space Storage'), ('XOM\\n', 'ExxonMobil'), ('FFIV\\n', 'F5, Inc.'), ('FDS\\n', 'FactSet'), ('FICO\\n', 'Fair Isaac'), ('FAST\\n', 'Fastenal'), ('FRT\\n', 'Federal Realty'), ('FDX\\n', 'FedEx'), ('FIS\\n', 'Fidelity National Information Services'), ('FITB\\n', 'Fifth Third Bank'), ('FSLR\\n', 'First Solar'), ('FE\\n', 'FirstEnergy'), ('FI\\n', 'Fiserv'), ('FMC\\n', 'FMC Corporation'), ('F\\n', 'Ford Motor Company'), ('FTNT\\n', 'Fortinet'), ('FTV\\n', 'Fortive'), ('FOXA\\n', 'Fox Corporation (Class A)'), ('FOX\\n', 'Fox Corporation (Class B)'), ('BEN\\n', 'Franklin Templeton'), ('FCX\\n', 'Freeport-McMoRan'), ('GRMN\\n', 'Garmin'), ('IT\\n', 'Gartner'), ('GE\\n', 'GE Aerospace'), ('GEHC\\n', 'GE HealthCare'), ('GEV\\n', 'GE Vernova'), ('GEN\\n', 'Gen Digital'), ('GNRC\\n', 'Generac'), ('GD\\n', 'General Dynamics'), ('GIS\\n', 'General Mills'), ('GM\\n', 'General Motors'), ('GPC\\n', 'Genuine Parts Company'), ('GILD\\n', 'Gilead Sciences'), ('GPN\\n', 'Global Payments'), ('GL\\n', 'Globe Life'), ('GS\\n', 'Goldman Sachs'), ('HAL\\n', 'Halliburton'), ('HIG\\n', 'Hartford (The)'), ('HAS\\n', 'Hasbro'), ('HCA\\n', 'HCA Healthcare'), ('DOC\\n', 'Healthpeak'), ('HSIC\\n', 'Henry Schein'), ('HSY\\n', \"Hershey's\"), ('HES\\n', 'Hess Corporation'), ('HPE\\n', 'Hewlett Packard Enterprise'), ('HLT\\n', 'Hilton Worldwide'), ('HOLX\\n', 'Hologic'), ('HD\\n', 'Home Depot (The)'), ('HON\\n', 'Honeywell'), ('HRL\\n', 'Hormel Foods'), ('HST\\n', 'Host Hotels & Resorts'), ('HWM\\n', 'Howmet Aerospace'), ('HPQ\\n', 'HP Inc.'), ('HUBB\\n', 'Hubbell Incorporated'), ('HUM\\n', 'Humana'), ('HBAN\\n', 'Huntington Bancshares'), ('HII\\n', 'Huntington Ingalls Industries'), ('IBM\\n', 'IBM'), ('IEX\\n', 'IDEX Corporation'), ('IDXX\\n', 'Idexx Laboratories'), ('ITW\\n', 'Illinois Tool Works'), ('ILMN\\n', 'Illumina'), ('INCY\\n', 'Incyte'), ('IR\\n', 'Ingersoll Rand'), ('PODD\\n', 'Insulet'), ('INTC\\n', 'Intel'), ('ICE\\n', 'Intercontinental Exchange'), ('IFF\\n', 'International Flavors & Fragrances'), ('IP\\n', 'International Paper'), ('IPG\\n', 'Interpublic Group of Companies (The)'), ('INTU\\n', 'Intuit'), ('ISRG\\n', 'Intuitive Surgical'), ('IVZ\\n', 'Invesco'), ('INVH\\n', 'Invitation Homes'), ('IQV\\n', 'IQVIA'), ('IRM\\n', 'Iron Mountain'), ('JBHT\\n', 'J.B. Hunt'), ('JBL\\n', 'Jabil'), ('JKHY\\n', 'Jack Henry & Associates'), ('J\\n', 'Jacobs Solutions'), ('JNJ\\n', 'Johnson & Johnson'), ('JCI\\n', 'Johnson Controls'), ('JPM\\n', 'JPMorgan Chase'), ('JNPR\\n', 'Juniper Networks'), ('K\\n', 'Kellanova'), ('KVUE\\n', 'Kenvue'), ('KDP\\n', 'Keurig Dr Pepper'), ('KEY\\n', 'KeyCorp'), ('KEYS\\n', 'Keysight'), ('KMB\\n', 'Kimberly-Clark'), ('KIM\\n', 'Kimco Realty'), ('KMI\\n', 'Kinder Morgan'), ('KLAC\\n', 'KLA Corporation'), ('KHC\\n', 'Kraft Heinz'), ('KR\\n', 'Kroger'), ('LHX\\n', 'L3Harris'), ('LH\\n', 'LabCorp'), ('LRCX\\n', 'Lam Research'), ('LW\\n', 'Lamb Weston'), ('LVS\\n', 'Las Vegas Sands'), ('LDOS\\n', 'Leidos'), ('LEN\\n', 'Lennar'), ('LIN\\n', 'Linde plc'), ('LYV\\n', 'Live Nation Entertainment'), ('LKQ\\n', 'LKQ Corporation'), ('LMT\\n', 'Lockheed Martin'), ('L\\n', 'Loews Corporation'), ('LOW\\n', \"Lowe's\"), ('LULU\\n', 'Lululemon Athletica'), ('LYB\\n', 'LyondellBasell'), ('MTB\\n', 'M&T Bank'), ('MRO\\n', 'Marathon Oil'), ('MPC\\n', 'Marathon Petroleum'), ('MKTX\\n', 'MarketAxess'), ('MAR\\n', 'Marriott International'), ('MMC\\n', 'Marsh McLennan'), ('MLM\\n', 'Martin Marietta Materials'), ('MAS\\n', 'Masco'), ('MA\\n', 'Mastercard'), ('MTCH\\n', 'Match Group'), ('MKC\\n', 'McCormick & Company'), ('MCD\\n', \"McDonald's\"), ('MCK\\n', 'McKesson'), ('MDT\\n', 'Medtronic'), ('MRK\\n', 'Merck & Co.'), ('META\\n', 'Meta Platforms'), ('MET\\n', 'MetLife'), ('MTD\\n', 'Mettler Toledo'), ('MGM\\n', 'MGM Resorts'), ('MCHP\\n', 'Microchip Technology'), ('MU\\n', 'Micron Technology'), ('MSFT\\n', 'Microsoft'), ('MAA\\n', 'Mid-America Apartment Communities'), ('MRNA\\n', 'Moderna'), ('MHK\\n', 'Mohawk Industries'), ('MOH\\n', 'Molina Healthcare'), ('TAP\\n', 'Molson Coors Beverage Company'), ('MDLZ\\n', 'Mondelez International'), ('MPWR\\n', 'Monolithic Power Systems'), ('MNST\\n', 'Monster Beverage'), ('MCO\\n', \"Moody's Corporation\"), ('MS\\n', 'Morgan Stanley'), ('MOS\\n', 'Mosaic Company (The)'), ('MSI\\n', 'Motorola Solutions'), ('MSCI\\n', 'MSCI'), ('NDAQ\\n', 'Nasdaq, Inc.'), ('NTAP\\n', 'NetApp'), ('NFLX\\n', 'Netflix'), ('NEM\\n', 'Newmont'), ('NWSA\\n', 'News Corp (Class A)'), ('NWS\\n', 'News Corp (Class B)'), ('NEE\\n', 'NextEra Energy'), ('NKE\\n', 'Nike, Inc.'), ('NI\\n', 'NiSource'), ('NDSN\\n', 'Nordson Corporation'), ('NSC\\n', 'Norfolk Southern Railway'), ('NTRS\\n', 'Northern Trust'), ('NOC\\n', 'Northrop Grumman'), ('NCLH\\n', 'Norwegian Cruise Line Holdings'), ('NRG\\n', 'NRG Energy'), ('NUE\\n', 'Nucor'), ('NVDA\\n', 'Nvidia'), ('NVR\\n', 'NVR, Inc.'), ('NXPI\\n', 'NXP Semiconductors'), ('ORLY\\n', \"O'Reilly Auto Parts\"), ('OXY\\n', 'Occidental Petroleum'), ('ODFL\\n', 'Old Dominion'), ('OMC\\n', 'Omnicom Group'), ('ON\\n', 'ON Semiconductor'), ('OKE\\n', 'ONEOK'), ('ORCL\\n', 'Oracle Corporation'), ('OTIS\\n', 'Otis Worldwide'), ('PCAR\\n', 'Paccar'), ('PKG\\n', 'Packaging Corporation of America'), ('PANW\\n', 'Palo Alto Networks'), ('PARA\\n', 'Paramount Global'), ('PH\\n', 'Parker Hannifin'), ('PAYX\\n', 'Paychex'), ('PAYC\\n', 'Paycom'), ('PYPL\\n', 'PayPal'), ('PNR\\n', 'Pentair'), ('PEP\\n', 'PepsiCo'), ('PFE\\n', 'Pfizer'), ('PCG\\n', 'PG&E Corporation'), ('PM\\n', 'Philip Morris International'), ('PSX\\n', 'Phillips 66'), ('PNW\\n', 'Pinnacle West'), ('PXD\\n', 'Pioneer Natural Resources'), ('PNC\\n', 'PNC Financial Services'), ('POOL\\n', 'Pool Corporation'), ('PPG\\n', 'PPG Industries'), ('PPL\\n', 'PPL Corporation'), ('PFG\\n', 'Principal Financial Group'), ('PG\\n', 'Procter & Gamble'), ('PGR\\n', 'Progressive Corporation'), ('PLD\\n', 'Prologis'), ('PRU\\n', 'Prudential Financial'), ('PEG\\n', 'Public Service Enterprise Group'), ('PTC\\n', 'PTC'), ('PSA\\n', 'Public Storage'), ('PHM\\n', 'PulteGroup'), ('QRVO\\n', 'Qorvo'), ('PWR\\n', 'Quanta Services'), ('QCOM\\n', 'Qualcomm'), ('DGX\\n', 'Quest Diagnostics'), ('RL\\n', 'Ralph Lauren Corporation'), ('RJF\\n', 'Raymond James'), ('RTX\\n', 'RTX Corporation'), ('O\\n', 'Realty Income'), ('REG\\n', 'Regency Centers'), ('REGN\\n', 'Regeneron'), ('RF\\n', 'Regions Financial Corporation'), ('RSG\\n', 'Republic Services'), ('RMD\\n', 'ResMed'), ('RVTY\\n', 'Revvity'), ('RHI\\n', 'Robert Half'), ('ROK\\n', 'Rockwell Automation'), ('ROL\\n', 'Rollins, Inc.'), ('ROP\\n', 'Roper Technologies'), ('ROST\\n', 'Ross Stores'), ('RCL\\n', 'Royal Caribbean Group'), ('SPGI\\n', 'S&P Global'), ('CRM\\n', 'Salesforce'), ('SBAC\\n', 'SBA Communications'), ('SLB\\n', 'Schlumberger'), ('STX\\n', 'Seagate Technology'), ('SRE\\n', 'Sempra Energy'), ('NOW\\n', 'ServiceNow'), ('SHW\\n', 'Sherwin-Williams'), ('SPG\\n', 'Simon Property Group'), ('SWKS\\n', 'Skyworks Solutions'), ('SJM\\n', 'J.M. Smucker Company (The)'), ('SNA\\n', 'Snap-on'), ('SOLV\\n', 'Solventum'), ('SO\\n', 'Southern Company'), ('LUV\\n', 'Southwest Airlines'), ('SWK\\n', 'Stanley Black & Decker'), ('SBUX\\n', 'Starbucks'), ('STT\\n', 'State Street Corporation'), ('STLD\\n', 'Steel Dynamics'), ('STE\\n', 'Steris'), ('SYK\\n', 'Stryker Corporation'), ('SMCI\\n', 'Supermicro'), ('SYF\\n', 'Synchrony Financial'), ('SNPS\\n', 'Synopsys'), ('SYY\\n', 'Sysco'), ('TMUS\\n', 'T-Mobile US'), ('TROW\\n', 'T. Rowe Price'), ('TTWO\\n', 'Take-Two Interactive'), ('TPR\\n', 'Tapestry, Inc.'), ('TRGP\\n', 'Targa Resources'), ('TGT\\n', 'Target Corporation'), ('TEL\\n', 'TE Connectivity'), ('TDY\\n', 'Teledyne Technologies'), ('TFX\\n', 'Teleflex'), ('TER\\n', 'Teradyne'), ('TSLA\\n', 'Tesla, Inc.'), ('TXN\\n', 'Texas Instruments'), ('TXT\\n', 'Textron'), ('TMO\\n', 'Thermo Fisher Scientific'), ('TJX\\n', 'TJX Companies'), ('TSCO\\n', 'Tractor Supply'), ('TT\\n', 'Trane Technologies'), ('TDG\\n', 'TransDigm Group'), ('TRV\\n', 'Travelers Companies (The)'), ('TRMB\\n', 'Trimble Inc.'), ('TFC\\n', 'Truist'), ('TYL\\n', 'Tyler Technologies'), ('TSN\\n', 'Tyson Foods'), ('USB\\n', 'U.S. Bank'), ('UBER\\n', 'Uber'), ('UDR\\n', 'UDR, Inc.'), ('ULTA\\n', 'Ulta Beauty'), ('UNP\\n', 'Union Pacific Corporation'), ('UAL\\n', 'United Airlines Holdings'), ('UPS\\n', 'United Parcel Service'), ('URI\\n', 'United Rentals'), ('UNH\\n', 'UnitedHealth Group'), ('UHS\\n', 'Universal Health Services'), ('VLO\\n', 'Valero Energy'), ('VTR\\n', 'Ventas'), ('VLTO\\n', 'Veralto'), ('VRSN\\n', 'Verisign'), ('VRSK\\n', 'Verisk'), ('VZ\\n', 'Verizon'), ('VRTX\\n', 'Vertex Pharmaceuticals'), ('VTRS\\n', 'Viatris'), ('VICI\\n', 'Vici Properties'), ('V\\n', 'Visa Inc.'), ('VMC\\n', 'Vulcan Materials Company'), ('WRB\\n', 'Berkley'), ('WAB\\n', 'Wabtec'), ('WBA\\n', 'Walgreens Boots Alliance'), ('WMT\\n', 'Walmart'), ('DIS\\n', 'Walt Disney'), ('WBD\\n', 'Warner Bros. Discovery'), ('WM\\n', 'Waste Management'), ('WAT\\n', 'Waters Corporation'), ('WEC\\n', 'WEC Energy Group'), ('WFC\\n', 'Wells Fargo'), ('WELL\\n', 'Welltower'), ('WST\\n', 'West Pharmaceutical Services'), ('WDC\\n', 'Western Digital'), ('WRK\\n', 'WestRock'), ('WY\\n', 'Weyerhaeuser'), ('WMB\\n', 'Williams Companies'), ('WTW\\n', 'Willis Towers Watson'), ('GWW\\n', 'W. W. Grainger'), ('WYNN\\n', 'Wynn Resorts'), ('XEL\\n', 'Xcel Energy'), ('XYL\\n', 'Xylem Inc.'), ('YUM\\n', 'Yum! Brands'), ('ZBRA\\n', 'Zebra Technologies'), ('ZBH\\n', 'Zimmer Biomet'), ('ZTS\\n', 'Zoetis')]\n",
            "Total number of tickers: 503\n"
          ]
        }
      ]
    },
    {
      "cell_type": "code",
      "source": [
        "question = \"write python codes to download individuals stock tickers that is made up in  S&P 500. dont use ^GSPC. remove\\n after every ticker and create a python list. also create another list with stock tickers and the stock exchange code in which it is traded. print the total number of tickers in the list. make sure you remove \\n after each ticker\"\n",
        "\n",
        "response = chat.send_message(prompt.format(question), **parameters)\n",
        "print(response.text)"
      ],
      "metadata": {
        "colab": {
          "base_uri": "https://localhost:8080/"
        },
        "id": "e1pje9Hnj1E6",
        "executionInfo": {
          "status": "ok",
          "timestamp": 1712426563945,
          "user_tz": 240,
          "elapsed": 2629,
          "user": {
            "displayName": "",
            "userId": ""
          }
        },
        "outputId": "f8826ce0-849e-4a73-b3f7-8e2783d2ea3e"
      },
      "execution_count": 30,
      "outputs": [
        {
          "output_type": "stream",
          "name": "stdout",
          "text": [
            " ```python\n",
            "import requests\n",
            "from bs4 import BeautifulSoup\n",
            "\n",
            "# Get the HTML content of the S&P 500 Wikipedia page\n",
            "url = 'https://en.wikipedia.org/wiki/List_of_S%26P_500_companies'\n",
            "response = requests.get(url)\n",
            "html_content = response.text\n",
            "\n",
            "# Parse the HTML content to extract the stock tickers and stock exchange codes\n",
            "soup = BeautifulSoup(html_content, 'html.parser')\n",
            "table = soup.find('table', {'class': 'wikitable sortable'})\n",
            "tickers = []\n",
            "stock_exchange_codes = []\n",
            "for row in table.find_all('tr')[1:]:\n",
            "    ticker = row.find('td').text\n",
            "    ticker = ticker.replace('^', '')\n",
            "    ticker = ticker.replace(' ', '')\n",
            "    tickers.append(ticker)\n",
            "    stock_exchange_code = row.find_all('td')[2].text\n",
            "    stock_exchange_codes.append(stock_exchange_code)\n",
            "\n",
            "# Create a Python list of individual stock tickers\n",
            "ticker_list = []\n",
            "for ticker in tickers:\n",
            "    ticker_list.append(ticker)\n",
            "\n",
            "# Create a Python list of stock tickers and stock exchange codes\n",
            "ticker_stock_exchange_code_list = []\n",
            "for i in range(len(tickers)):\n",
            "    ticker_stock_exchange_code_list.append((tickers[i], stock_exchange_codes[i]))\n",
            "\n",
            "# Print the total number of tickers in the list\n",
            "print(f'Total number of tickers: {len(ticker_list)}')\n",
            "```\n"
          ]
        }
      ]
    },
    {
      "cell_type": "code",
      "source": [
        "import requests\n",
        "from bs4 import BeautifulSoup\n",
        "\n",
        "# Get the HTML content of the S&P 500 Wikipedia page\n",
        "url = 'https://en.wikipedia.org/wiki/List_of_S%26P_500_companies'\n",
        "response = requests.get(url)\n",
        "html_content = response.text\n",
        "\n",
        "# Parse the HTML content to extract the stock tickers and stock exchange codes\n",
        "soup = BeautifulSoup(html_content, 'html.parser')\n",
        "table = soup.find('table', {'class': 'wikitable sortable'})\n",
        "tickers = []\n",
        "stock_exchange_codes = []\n",
        "for row in table.find_all('tr')[1:]:\n",
        "    ticker = row.find('td').text\n",
        "    ticker = ticker.replace('^', '')\n",
        "    ticker = ticker.replace(' ', '')\n",
        "    tickers.append(ticker)\n",
        "    stock_exchange_code = row.find_all('td')[2].text\n",
        "    stock_exchange_codes.append(stock_exchange_code)\n",
        "\n",
        "# Create a Python list of individual stock tickers\n",
        "ticker_list = []\n",
        "for ticker in tickers:\n",
        "    ticker_list.append(ticker)\n",
        "print(ticker_list)\n",
        "\n",
        "# Create a Python list of stock tickers and stock exchange codes\n",
        "ticker_stock_exchange_code_list = []\n",
        "for i in range(len(tickers)):\n",
        "    ticker_stock_exchange_code_list.append((tickers[i], stock_exchange_codes[i]))\n",
        "print(ticker_stock_exchange_code_list)\n",
        "# Print the total number of tickers in the list\n",
        "print(f'Total number of tickers: {len(ticker_list)}')"
      ],
      "metadata": {
        "colab": {
          "base_uri": "https://localhost:8080/"
        },
        "id": "WiHaVswFk_0U",
        "executionInfo": {
          "status": "ok",
          "timestamp": 1712426614072,
          "user_tz": 240,
          "elapsed": 1823,
          "user": {
            "displayName": "",
            "userId": ""
          }
        },
        "outputId": "02e607a6-16aa-4271-ab81-cab805601523"
      },
      "execution_count": 31,
      "outputs": [
        {
          "output_type": "stream",
          "name": "stdout",
          "text": [
            "['MMM\\n', 'AOS\\n', 'ABT\\n', 'ABBV\\n', 'ACN\\n', 'ADBE\\n', 'AMD\\n', 'AES\\n', 'AFL\\n', 'A\\n', 'APD\\n', 'ABNB\\n', 'AKAM\\n', 'ALB\\n', 'ARE\\n', 'ALGN\\n', 'ALLE\\n', 'LNT\\n', 'ALL\\n', 'GOOGL\\n', 'GOOG\\n', 'MO\\n', 'AMZN\\n', 'AMCR\\n', 'AEE\\n', 'AAL\\n', 'AEP\\n', 'AXP\\n', 'AIG\\n', 'AMT\\n', 'AWK\\n', 'AMP\\n', 'AME\\n', 'AMGN\\n', 'APH\\n', 'ADI\\n', 'ANSS\\n', 'AON\\n', 'APA\\n', 'AAPL\\n', 'AMAT\\n', 'APTV\\n', 'ACGL\\n', 'ADM\\n', 'ANET\\n', 'AJG\\n', 'AIZ\\n', 'T\\n', 'ATO\\n', 'ADSK\\n', 'ADP\\n', 'AZO\\n', 'AVB\\n', 'AVY\\n', 'AXON\\n', 'BKR\\n', 'BALL\\n', 'BAC\\n', 'BK\\n', 'BBWI\\n', 'BAX\\n', 'BDX\\n', 'BRK.B\\n', 'BBY\\n', 'BIO\\n', 'TECH\\n', 'BIIB\\n', 'BLK\\n', 'BX\\n', 'BA\\n', 'BKNG\\n', 'BWA\\n', 'BXP\\n', 'BSX\\n', 'BMY\\n', 'AVGO\\n', 'BR\\n', 'BRO\\n', 'BF.B\\n', 'BLDR\\n', 'BG\\n', 'CDNS\\n', 'CZR\\n', 'CPT\\n', 'CPB\\n', 'COF\\n', 'CAH\\n', 'KMX\\n', 'CCL\\n', 'CARR\\n', 'CTLT\\n', 'CAT\\n', 'CBOE\\n', 'CBRE\\n', 'CDW\\n', 'CE\\n', 'COR\\n', 'CNC\\n', 'CNP\\n', 'CF\\n', 'CHRW\\n', 'CRL\\n', 'SCHW\\n', 'CHTR\\n', 'CVX\\n', 'CMG\\n', 'CB\\n', 'CHD\\n', 'CI\\n', 'CINF\\n', 'CTAS\\n', 'CSCO\\n', 'C\\n', 'CFG\\n', 'CLX\\n', 'CME\\n', 'CMS\\n', 'KO\\n', 'CTSH\\n', 'CL\\n', 'CMCSA\\n', 'CMA\\n', 'CAG\\n', 'COP\\n', 'ED\\n', 'STZ\\n', 'CEG\\n', 'COO\\n', 'CPRT\\n', 'GLW\\n', 'CPAY\\n', 'CTVA\\n', 'CSGP\\n', 'COST\\n', 'CTRA\\n', 'CCI\\n', 'CSX\\n', 'CMI\\n', 'CVS\\n', 'DHR\\n', 'DRI\\n', 'DVA\\n', 'DAY\\n', 'DECK\\n', 'DE\\n', 'DAL\\n', 'DVN\\n', 'DXCM\\n', 'FANG\\n', 'DLR\\n', 'DFS\\n', 'DG\\n', 'DLTR\\n', 'D\\n', 'DPZ\\n', 'DOV\\n', 'DOW\\n', 'DHI\\n', 'DTE\\n', 'DUK\\n', 'DD\\n', 'EMN\\n', 'ETN\\n', 'EBAY\\n', 'ECL\\n', 'EIX\\n', 'EW\\n', 'EA\\n', 'ELV\\n', 'LLY\\n', 'EMR\\n', 'ENPH\\n', 'ETR\\n', 'EOG\\n', 'EPAM\\n', 'EQT\\n', 'EFX\\n', 'EQIX\\n', 'EQR\\n', 'ESS\\n', 'EL\\n', 'ETSY\\n', 'EG\\n', 'EVRG\\n', 'ES\\n', 'EXC\\n', 'EXPE\\n', 'EXPD\\n', 'EXR\\n', 'XOM\\n', 'FFIV\\n', 'FDS\\n', 'FICO\\n', 'FAST\\n', 'FRT\\n', 'FDX\\n', 'FIS\\n', 'FITB\\n', 'FSLR\\n', 'FE\\n', 'FI\\n', 'FMC\\n', 'F\\n', 'FTNT\\n', 'FTV\\n', 'FOXA\\n', 'FOX\\n', 'BEN\\n', 'FCX\\n', 'GRMN\\n', 'IT\\n', 'GE\\n', 'GEHC\\n', 'GEV\\n', 'GEN\\n', 'GNRC\\n', 'GD\\n', 'GIS\\n', 'GM\\n', 'GPC\\n', 'GILD\\n', 'GPN\\n', 'GL\\n', 'GS\\n', 'HAL\\n', 'HIG\\n', 'HAS\\n', 'HCA\\n', 'DOC\\n', 'HSIC\\n', 'HSY\\n', 'HES\\n', 'HPE\\n', 'HLT\\n', 'HOLX\\n', 'HD\\n', 'HON\\n', 'HRL\\n', 'HST\\n', 'HWM\\n', 'HPQ\\n', 'HUBB\\n', 'HUM\\n', 'HBAN\\n', 'HII\\n', 'IBM\\n', 'IEX\\n', 'IDXX\\n', 'ITW\\n', 'ILMN\\n', 'INCY\\n', 'IR\\n', 'PODD\\n', 'INTC\\n', 'ICE\\n', 'IFF\\n', 'IP\\n', 'IPG\\n', 'INTU\\n', 'ISRG\\n', 'IVZ\\n', 'INVH\\n', 'IQV\\n', 'IRM\\n', 'JBHT\\n', 'JBL\\n', 'JKHY\\n', 'J\\n', 'JNJ\\n', 'JCI\\n', 'JPM\\n', 'JNPR\\n', 'K\\n', 'KVUE\\n', 'KDP\\n', 'KEY\\n', 'KEYS\\n', 'KMB\\n', 'KIM\\n', 'KMI\\n', 'KLAC\\n', 'KHC\\n', 'KR\\n', 'LHX\\n', 'LH\\n', 'LRCX\\n', 'LW\\n', 'LVS\\n', 'LDOS\\n', 'LEN\\n', 'LIN\\n', 'LYV\\n', 'LKQ\\n', 'LMT\\n', 'L\\n', 'LOW\\n', 'LULU\\n', 'LYB\\n', 'MTB\\n', 'MRO\\n', 'MPC\\n', 'MKTX\\n', 'MAR\\n', 'MMC\\n', 'MLM\\n', 'MAS\\n', 'MA\\n', 'MTCH\\n', 'MKC\\n', 'MCD\\n', 'MCK\\n', 'MDT\\n', 'MRK\\n', 'META\\n', 'MET\\n', 'MTD\\n', 'MGM\\n', 'MCHP\\n', 'MU\\n', 'MSFT\\n', 'MAA\\n', 'MRNA\\n', 'MHK\\n', 'MOH\\n', 'TAP\\n', 'MDLZ\\n', 'MPWR\\n', 'MNST\\n', 'MCO\\n', 'MS\\n', 'MOS\\n', 'MSI\\n', 'MSCI\\n', 'NDAQ\\n', 'NTAP\\n', 'NFLX\\n', 'NEM\\n', 'NWSA\\n', 'NWS\\n', 'NEE\\n', 'NKE\\n', 'NI\\n', 'NDSN\\n', 'NSC\\n', 'NTRS\\n', 'NOC\\n', 'NCLH\\n', 'NRG\\n', 'NUE\\n', 'NVDA\\n', 'NVR\\n', 'NXPI\\n', 'ORLY\\n', 'OXY\\n', 'ODFL\\n', 'OMC\\n', 'ON\\n', 'OKE\\n', 'ORCL\\n', 'OTIS\\n', 'PCAR\\n', 'PKG\\n', 'PANW\\n', 'PARA\\n', 'PH\\n', 'PAYX\\n', 'PAYC\\n', 'PYPL\\n', 'PNR\\n', 'PEP\\n', 'PFE\\n', 'PCG\\n', 'PM\\n', 'PSX\\n', 'PNW\\n', 'PXD\\n', 'PNC\\n', 'POOL\\n', 'PPG\\n', 'PPL\\n', 'PFG\\n', 'PG\\n', 'PGR\\n', 'PLD\\n', 'PRU\\n', 'PEG\\n', 'PTC\\n', 'PSA\\n', 'PHM\\n', 'QRVO\\n', 'PWR\\n', 'QCOM\\n', 'DGX\\n', 'RL\\n', 'RJF\\n', 'RTX\\n', 'O\\n', 'REG\\n', 'REGN\\n', 'RF\\n', 'RSG\\n', 'RMD\\n', 'RVTY\\n', 'RHI\\n', 'ROK\\n', 'ROL\\n', 'ROP\\n', 'ROST\\n', 'RCL\\n', 'SPGI\\n', 'CRM\\n', 'SBAC\\n', 'SLB\\n', 'STX\\n', 'SRE\\n', 'NOW\\n', 'SHW\\n', 'SPG\\n', 'SWKS\\n', 'SJM\\n', 'SNA\\n', 'SOLV\\n', 'SO\\n', 'LUV\\n', 'SWK\\n', 'SBUX\\n', 'STT\\n', 'STLD\\n', 'STE\\n', 'SYK\\n', 'SMCI\\n', 'SYF\\n', 'SNPS\\n', 'SYY\\n', 'TMUS\\n', 'TROW\\n', 'TTWO\\n', 'TPR\\n', 'TRGP\\n', 'TGT\\n', 'TEL\\n', 'TDY\\n', 'TFX\\n', 'TER\\n', 'TSLA\\n', 'TXN\\n', 'TXT\\n', 'TMO\\n', 'TJX\\n', 'TSCO\\n', 'TT\\n', 'TDG\\n', 'TRV\\n', 'TRMB\\n', 'TFC\\n', 'TYL\\n', 'TSN\\n', 'USB\\n', 'UBER\\n', 'UDR\\n', 'ULTA\\n', 'UNP\\n', 'UAL\\n', 'UPS\\n', 'URI\\n', 'UNH\\n', 'UHS\\n', 'VLO\\n', 'VTR\\n', 'VLTO\\n', 'VRSN\\n', 'VRSK\\n', 'VZ\\n', 'VRTX\\n', 'VTRS\\n', 'VICI\\n', 'V\\n', 'VMC\\n', 'WRB\\n', 'WAB\\n', 'WBA\\n', 'WMT\\n', 'DIS\\n', 'WBD\\n', 'WM\\n', 'WAT\\n', 'WEC\\n', 'WFC\\n', 'WELL\\n', 'WST\\n', 'WDC\\n', 'WRK\\n', 'WY\\n', 'WMB\\n', 'WTW\\n', 'GWW\\n', 'WYNN\\n', 'XEL\\n', 'XYL\\n', 'YUM\\n', 'ZBRA\\n', 'ZBH\\n', 'ZTS\\n']\n",
            "[('MMM\\n', 'Industrials'), ('AOS\\n', 'Industrials'), ('ABT\\n', 'Health Care'), ('ABBV\\n', 'Health Care'), ('ACN\\n', 'Information Technology'), ('ADBE\\n', 'Information Technology'), ('AMD\\n', 'Information Technology'), ('AES\\n', 'Utilities'), ('AFL\\n', 'Financials'), ('A\\n', 'Health Care'), ('APD\\n', 'Materials'), ('ABNB\\n', 'Consumer Discretionary'), ('AKAM\\n', 'Information Technology'), ('ALB\\n', 'Materials'), ('ARE\\n', 'Real Estate'), ('ALGN\\n', 'Health Care'), ('ALLE\\n', 'Industrials'), ('LNT\\n', 'Utilities'), ('ALL\\n', 'Financials'), ('GOOGL\\n', 'Communication Services'), ('GOOG\\n', 'Communication Services'), ('MO\\n', 'Consumer Staples'), ('AMZN\\n', 'Consumer Discretionary'), ('AMCR\\n', 'Materials'), ('AEE\\n', 'Utilities'), ('AAL\\n', 'Industrials'), ('AEP\\n', 'Utilities'), ('AXP\\n', 'Financials'), ('AIG\\n', 'Financials'), ('AMT\\n', 'Real Estate'), ('AWK\\n', 'Utilities'), ('AMP\\n', 'Financials'), ('AME\\n', 'Industrials'), ('AMGN\\n', 'Health Care'), ('APH\\n', 'Information Technology'), ('ADI\\n', 'Information Technology'), ('ANSS\\n', 'Information Technology'), ('AON\\n', 'Financials'), ('APA\\n', 'Energy'), ('AAPL\\n', 'Information Technology'), ('AMAT\\n', 'Information Technology'), ('APTV\\n', 'Consumer Discretionary'), ('ACGL\\n', 'Financials'), ('ADM\\n', 'Consumer Staples'), ('ANET\\n', 'Information Technology'), ('AJG\\n', 'Financials'), ('AIZ\\n', 'Financials'), ('T\\n', 'Communication Services'), ('ATO\\n', 'Utilities'), ('ADSK\\n', 'Information Technology'), ('ADP\\n', 'Industrials'), ('AZO\\n', 'Consumer Discretionary'), ('AVB\\n', 'Real Estate'), ('AVY\\n', 'Materials'), ('AXON\\n', 'Industrials'), ('BKR\\n', 'Energy'), ('BALL\\n', 'Materials'), ('BAC\\n', 'Financials'), ('BK\\n', 'Financials'), ('BBWI\\n', 'Consumer Discretionary'), ('BAX\\n', 'Health Care'), ('BDX\\n', 'Health Care'), ('BRK.B\\n', 'Financials'), ('BBY\\n', 'Consumer Discretionary'), ('BIO\\n', 'Health Care'), ('TECH\\n', 'Health Care'), ('BIIB\\n', 'Health Care'), ('BLK\\n', 'Financials'), ('BX\\n', 'Financials'), ('BA\\n', 'Industrials'), ('BKNG\\n', 'Consumer Discretionary'), ('BWA\\n', 'Consumer Discretionary'), ('BXP\\n', 'Real Estate'), ('BSX\\n', 'Health Care'), ('BMY\\n', 'Health Care'), ('AVGO\\n', 'Information Technology'), ('BR\\n', 'Industrials'), ('BRO\\n', 'Financials'), ('BF.B\\n', 'Consumer Staples'), ('BLDR\\n', 'Industrials'), ('BG\\n', 'Consumer Staples'), ('CDNS\\n', 'Information Technology'), ('CZR\\n', 'Consumer Discretionary'), ('CPT\\n', 'Real Estate'), ('CPB\\n', 'Consumer Staples'), ('COF\\n', 'Financials'), ('CAH\\n', 'Health Care'), ('KMX\\n', 'Consumer Discretionary'), ('CCL\\n', 'Consumer Discretionary'), ('CARR\\n', 'Industrials'), ('CTLT\\n', 'Health Care'), ('CAT\\n', 'Industrials'), ('CBOE\\n', 'Financials'), ('CBRE\\n', 'Real Estate'), ('CDW\\n', 'Information Technology'), ('CE\\n', 'Materials'), ('COR\\n', 'Health Care'), ('CNC\\n', 'Health Care'), ('CNP\\n', 'Utilities'), ('CF\\n', 'Materials'), ('CHRW\\n', 'Industrials'), ('CRL\\n', 'Health Care'), ('SCHW\\n', 'Financials'), ('CHTR\\n', 'Communication Services'), ('CVX\\n', 'Energy'), ('CMG\\n', 'Consumer Discretionary'), ('CB\\n', 'Financials'), ('CHD\\n', 'Consumer Staples'), ('CI\\n', 'Health Care'), ('CINF\\n', 'Financials'), ('CTAS\\n', 'Industrials'), ('CSCO\\n', 'Information Technology'), ('C\\n', 'Financials'), ('CFG\\n', 'Financials'), ('CLX\\n', 'Consumer Staples'), ('CME\\n', 'Financials'), ('CMS\\n', 'Utilities'), ('KO\\n', 'Consumer Staples'), ('CTSH\\n', 'Information Technology'), ('CL\\n', 'Consumer Staples'), ('CMCSA\\n', 'Communication Services'), ('CMA\\n', 'Financials'), ('CAG\\n', 'Consumer Staples'), ('COP\\n', 'Energy'), ('ED\\n', 'Utilities'), ('STZ\\n', 'Consumer Staples'), ('CEG\\n', 'Utilities'), ('COO\\n', 'Health Care'), ('CPRT\\n', 'Industrials'), ('GLW\\n', 'Information Technology'), ('CPAY\\n', 'Financials'), ('CTVA\\n', 'Materials'), ('CSGP\\n', 'Real Estate'), ('COST\\n', 'Consumer Staples'), ('CTRA\\n', 'Energy'), ('CCI\\n', 'Real Estate'), ('CSX\\n', 'Industrials'), ('CMI\\n', 'Industrials'), ('CVS\\n', 'Health Care'), ('DHR\\n', 'Health Care'), ('DRI\\n', 'Consumer Discretionary'), ('DVA\\n', 'Health Care'), ('DAY\\n', 'Industrials'), ('DECK\\n', 'Consumer Discretionary'), ('DE\\n', 'Industrials'), ('DAL\\n', 'Industrials'), ('DVN\\n', 'Energy'), ('DXCM\\n', 'Health Care'), ('FANG\\n', 'Energy'), ('DLR\\n', 'Real Estate'), ('DFS\\n', 'Financials'), ('DG\\n', 'Consumer Staples'), ('DLTR\\n', 'Consumer Staples'), ('D\\n', 'Utilities'), ('DPZ\\n', 'Consumer Discretionary'), ('DOV\\n', 'Industrials'), ('DOW\\n', 'Materials'), ('DHI\\n', 'Consumer Discretionary'), ('DTE\\n', 'Utilities'), ('DUK\\n', 'Utilities'), ('DD\\n', 'Materials'), ('EMN\\n', 'Materials'), ('ETN\\n', 'Industrials'), ('EBAY\\n', 'Consumer Discretionary'), ('ECL\\n', 'Materials'), ('EIX\\n', 'Utilities'), ('EW\\n', 'Health Care'), ('EA\\n', 'Communication Services'), ('ELV\\n', 'Health Care'), ('LLY\\n', 'Health Care'), ('EMR\\n', 'Industrials'), ('ENPH\\n', 'Information Technology'), ('ETR\\n', 'Utilities'), ('EOG\\n', 'Energy'), ('EPAM\\n', 'Information Technology'), ('EQT\\n', 'Energy'), ('EFX\\n', 'Industrials'), ('EQIX\\n', 'Real Estate'), ('EQR\\n', 'Real Estate'), ('ESS\\n', 'Real Estate'), ('EL\\n', 'Consumer Staples'), ('ETSY\\n', 'Consumer Discretionary'), ('EG\\n', 'Financials'), ('EVRG\\n', 'Utilities'), ('ES\\n', 'Utilities'), ('EXC\\n', 'Utilities'), ('EXPE\\n', 'Consumer Discretionary'), ('EXPD\\n', 'Industrials'), ('EXR\\n', 'Real Estate'), ('XOM\\n', 'Energy'), ('FFIV\\n', 'Information Technology'), ('FDS\\n', 'Financials'), ('FICO\\n', 'Information Technology'), ('FAST\\n', 'Industrials'), ('FRT\\n', 'Real Estate'), ('FDX\\n', 'Industrials'), ('FIS\\n', 'Financials'), ('FITB\\n', 'Financials'), ('FSLR\\n', 'Information Technology'), ('FE\\n', 'Utilities'), ('FI\\n', 'Financials'), ('FMC\\n', 'Materials'), ('F\\n', 'Consumer Discretionary'), ('FTNT\\n', 'Information Technology'), ('FTV\\n', 'Industrials'), ('FOXA\\n', 'Communication Services'), ('FOX\\n', 'Communication Services'), ('BEN\\n', 'Financials'), ('FCX\\n', 'Materials'), ('GRMN\\n', 'Consumer Discretionary'), ('IT\\n', 'Information Technology'), ('GE\\n', 'Industrials'), ('GEHC\\n', 'Health Care'), ('GEV\\n', 'Industrials'), ('GEN\\n', 'Information Technology'), ('GNRC\\n', 'Industrials'), ('GD\\n', 'Industrials'), ('GIS\\n', 'Consumer Staples'), ('GM\\n', 'Consumer Discretionary'), ('GPC\\n', 'Consumer Discretionary'), ('GILD\\n', 'Health Care'), ('GPN\\n', 'Financials'), ('GL\\n', 'Financials'), ('GS\\n', 'Financials'), ('HAL\\n', 'Energy'), ('HIG\\n', 'Financials'), ('HAS\\n', 'Consumer Discretionary'), ('HCA\\n', 'Health Care'), ('DOC\\n', 'Real Estate'), ('HSIC\\n', 'Health Care'), ('HSY\\n', 'Consumer Staples'), ('HES\\n', 'Energy'), ('HPE\\n', 'Information Technology'), ('HLT\\n', 'Consumer Discretionary'), ('HOLX\\n', 'Health Care'), ('HD\\n', 'Consumer Discretionary'), ('HON\\n', 'Industrials'), ('HRL\\n', 'Consumer Staples'), ('HST\\n', 'Real Estate'), ('HWM\\n', 'Industrials'), ('HPQ\\n', 'Information Technology'), ('HUBB\\n', 'Industrials'), ('HUM\\n', 'Health Care'), ('HBAN\\n', 'Financials'), ('HII\\n', 'Industrials'), ('IBM\\n', 'Information Technology'), ('IEX\\n', 'Industrials'), ('IDXX\\n', 'Health Care'), ('ITW\\n', 'Industrials'), ('ILMN\\n', 'Health Care'), ('INCY\\n', 'Health Care'), ('IR\\n', 'Industrials'), ('PODD\\n', 'Health Care'), ('INTC\\n', 'Information Technology'), ('ICE\\n', 'Financials'), ('IFF\\n', 'Materials'), ('IP\\n', 'Materials'), ('IPG\\n', 'Communication Services'), ('INTU\\n', 'Information Technology'), ('ISRG\\n', 'Health Care'), ('IVZ\\n', 'Financials'), ('INVH\\n', 'Real Estate'), ('IQV\\n', 'Health Care'), ('IRM\\n', 'Real Estate'), ('JBHT\\n', 'Industrials'), ('JBL\\n', 'Information Technology'), ('JKHY\\n', 'Financials'), ('J\\n', 'Industrials'), ('JNJ\\n', 'Health Care'), ('JCI\\n', 'Industrials'), ('JPM\\n', 'Financials'), ('JNPR\\n', 'Information Technology'), ('K\\n', 'Consumer Staples'), ('KVUE\\n', 'Consumer Staples'), ('KDP\\n', 'Consumer Staples'), ('KEY\\n', 'Financials'), ('KEYS\\n', 'Information Technology'), ('KMB\\n', 'Consumer Staples'), ('KIM\\n', 'Real Estate'), ('KMI\\n', 'Energy'), ('KLAC\\n', 'Information Technology'), ('KHC\\n', 'Consumer Staples'), ('KR\\n', 'Consumer Staples'), ('LHX\\n', 'Industrials'), ('LH\\n', 'Health Care'), ('LRCX\\n', 'Information Technology'), ('LW\\n', 'Consumer Staples'), ('LVS\\n', 'Consumer Discretionary'), ('LDOS\\n', 'Industrials'), ('LEN\\n', 'Consumer Discretionary'), ('LIN\\n', 'Materials'), ('LYV\\n', 'Communication Services'), ('LKQ\\n', 'Consumer Discretionary'), ('LMT\\n', 'Industrials'), ('L\\n', 'Financials'), ('LOW\\n', 'Consumer Discretionary'), ('LULU\\n', 'Consumer Discretionary'), ('LYB\\n', 'Materials'), ('MTB\\n', 'Financials'), ('MRO\\n', 'Energy'), ('MPC\\n', 'Energy'), ('MKTX\\n', 'Financials'), ('MAR\\n', 'Consumer Discretionary'), ('MMC\\n', 'Financials'), ('MLM\\n', 'Materials'), ('MAS\\n', 'Industrials'), ('MA\\n', 'Financials'), ('MTCH\\n', 'Communication Services'), ('MKC\\n', 'Consumer Staples'), ('MCD\\n', 'Consumer Discretionary'), ('MCK\\n', 'Health Care'), ('MDT\\n', 'Health Care'), ('MRK\\n', 'Health Care'), ('META\\n', 'Communication Services'), ('MET\\n', 'Financials'), ('MTD\\n', 'Health Care'), ('MGM\\n', 'Consumer Discretionary'), ('MCHP\\n', 'Information Technology'), ('MU\\n', 'Information Technology'), ('MSFT\\n', 'Information Technology'), ('MAA\\n', 'Real Estate'), ('MRNA\\n', 'Health Care'), ('MHK\\n', 'Consumer Discretionary'), ('MOH\\n', 'Health Care'), ('TAP\\n', 'Consumer Staples'), ('MDLZ\\n', 'Consumer Staples'), ('MPWR\\n', 'Information Technology'), ('MNST\\n', 'Consumer Staples'), ('MCO\\n', 'Financials'), ('MS\\n', 'Financials'), ('MOS\\n', 'Materials'), ('MSI\\n', 'Information Technology'), ('MSCI\\n', 'Financials'), ('NDAQ\\n', 'Financials'), ('NTAP\\n', 'Information Technology'), ('NFLX\\n', 'Communication Services'), ('NEM\\n', 'Materials'), ('NWSA\\n', 'Communication Services'), ('NWS\\n', 'Communication Services'), ('NEE\\n', 'Utilities'), ('NKE\\n', 'Consumer Discretionary'), ('NI\\n', 'Utilities'), ('NDSN\\n', 'Industrials'), ('NSC\\n', 'Industrials'), ('NTRS\\n', 'Financials'), ('NOC\\n', 'Industrials'), ('NCLH\\n', 'Consumer Discretionary'), ('NRG\\n', 'Utilities'), ('NUE\\n', 'Materials'), ('NVDA\\n', 'Information Technology'), ('NVR\\n', 'Consumer Discretionary'), ('NXPI\\n', 'Information Technology'), ('ORLY\\n', 'Consumer Discretionary'), ('OXY\\n', 'Energy'), ('ODFL\\n', 'Industrials'), ('OMC\\n', 'Communication Services'), ('ON\\n', 'Information Technology'), ('OKE\\n', 'Energy'), ('ORCL\\n', 'Information Technology'), ('OTIS\\n', 'Industrials'), ('PCAR\\n', 'Industrials'), ('PKG\\n', 'Materials'), ('PANW\\n', 'Information Technology'), ('PARA\\n', 'Communication Services'), ('PH\\n', 'Industrials'), ('PAYX\\n', 'Industrials'), ('PAYC\\n', 'Industrials'), ('PYPL\\n', 'Financials'), ('PNR\\n', 'Industrials'), ('PEP\\n', 'Consumer Staples'), ('PFE\\n', 'Health Care'), ('PCG\\n', 'Utilities'), ('PM\\n', 'Consumer Staples'), ('PSX\\n', 'Energy'), ('PNW\\n', 'Utilities'), ('PXD\\n', 'Energy'), ('PNC\\n', 'Financials'), ('POOL\\n', 'Consumer Discretionary'), ('PPG\\n', 'Materials'), ('PPL\\n', 'Utilities'), ('PFG\\n', 'Financials'), ('PG\\n', 'Consumer Staples'), ('PGR\\n', 'Financials'), ('PLD\\n', 'Real Estate'), ('PRU\\n', 'Financials'), ('PEG\\n', 'Utilities'), ('PTC\\n', 'Information Technology'), ('PSA\\n', 'Real Estate'), ('PHM\\n', 'Consumer Discretionary'), ('QRVO\\n', 'Information Technology'), ('PWR\\n', 'Industrials'), ('QCOM\\n', 'Information Technology'), ('DGX\\n', 'Health Care'), ('RL\\n', 'Consumer Discretionary'), ('RJF\\n', 'Financials'), ('RTX\\n', 'Industrials'), ('O\\n', 'Real Estate'), ('REG\\n', 'Real Estate'), ('REGN\\n', 'Health Care'), ('RF\\n', 'Financials'), ('RSG\\n', 'Industrials'), ('RMD\\n', 'Health Care'), ('RVTY\\n', 'Health Care'), ('RHI\\n', 'Industrials'), ('ROK\\n', 'Industrials'), ('ROL\\n', 'Industrials'), ('ROP\\n', 'Information Technology'), ('ROST\\n', 'Consumer Discretionary'), ('RCL\\n', 'Consumer Discretionary'), ('SPGI\\n', 'Financials'), ('CRM\\n', 'Information Technology'), ('SBAC\\n', 'Real Estate'), ('SLB\\n', 'Energy'), ('STX\\n', 'Information Technology'), ('SRE\\n', 'Utilities'), ('NOW\\n', 'Information Technology'), ('SHW\\n', 'Materials'), ('SPG\\n', 'Real Estate'), ('SWKS\\n', 'Information Technology'), ('SJM\\n', 'Consumer Staples'), ('SNA\\n', 'Industrials'), ('SOLV\\n', 'Health Care'), ('SO\\n', 'Utilities'), ('LUV\\n', 'Industrials'), ('SWK\\n', 'Industrials'), ('SBUX\\n', 'Consumer Discretionary'), ('STT\\n', 'Financials'), ('STLD\\n', 'Materials'), ('STE\\n', 'Health Care'), ('SYK\\n', 'Health Care'), ('SMCI\\n', 'Information Technology'), ('SYF\\n', 'Financials'), ('SNPS\\n', 'Information Technology'), ('SYY\\n', 'Consumer Staples'), ('TMUS\\n', 'Communication Services'), ('TROW\\n', 'Financials'), ('TTWO\\n', 'Communication Services'), ('TPR\\n', 'Consumer Discretionary'), ('TRGP\\n', 'Energy'), ('TGT\\n', 'Consumer Staples'), ('TEL\\n', 'Information Technology'), ('TDY\\n', 'Information Technology'), ('TFX\\n', 'Health Care'), ('TER\\n', 'Information Technology'), ('TSLA\\n', 'Consumer Discretionary'), ('TXN\\n', 'Information Technology'), ('TXT\\n', 'Industrials'), ('TMO\\n', 'Health Care'), ('TJX\\n', 'Consumer Discretionary'), ('TSCO\\n', 'Consumer Discretionary'), ('TT\\n', 'Industrials'), ('TDG\\n', 'Industrials'), ('TRV\\n', 'Financials'), ('TRMB\\n', 'Information Technology'), ('TFC\\n', 'Financials'), ('TYL\\n', 'Information Technology'), ('TSN\\n', 'Consumer Staples'), ('USB\\n', 'Financials'), ('UBER\\n', 'Industrials'), ('UDR\\n', 'Real Estate'), ('ULTA\\n', 'Consumer Discretionary'), ('UNP\\n', 'Industrials'), ('UAL\\n', 'Industrials'), ('UPS\\n', 'Industrials'), ('URI\\n', 'Industrials'), ('UNH\\n', 'Health Care'), ('UHS\\n', 'Health Care'), ('VLO\\n', 'Energy'), ('VTR\\n', 'Real Estate'), ('VLTO\\n', 'Industrials'), ('VRSN\\n', 'Information Technology'), ('VRSK\\n', 'Industrials'), ('VZ\\n', 'Communication Services'), ('VRTX\\n', 'Health Care'), ('VTRS\\n', 'Health Care'), ('VICI\\n', 'Real Estate'), ('V\\n', 'Financials'), ('VMC\\n', 'Materials'), ('WRB\\n', 'Financials'), ('WAB\\n', 'Industrials'), ('WBA\\n', 'Consumer Staples'), ('WMT\\n', 'Consumer Staples'), ('DIS\\n', 'Communication Services'), ('WBD\\n', 'Communication Services'), ('WM\\n', 'Industrials'), ('WAT\\n', 'Health Care'), ('WEC\\n', 'Utilities'), ('WFC\\n', 'Financials'), ('WELL\\n', 'Real Estate'), ('WST\\n', 'Health Care'), ('WDC\\n', 'Information Technology'), ('WRK\\n', 'Materials'), ('WY\\n', 'Real Estate'), ('WMB\\n', 'Energy'), ('WTW\\n', 'Financials'), ('GWW\\n', 'Industrials'), ('WYNN\\n', 'Consumer Discretionary'), ('XEL\\n', 'Utilities'), ('XYL\\n', 'Industrials'), ('YUM\\n', 'Consumer Discretionary'), ('ZBRA\\n', 'Information Technology'), ('ZBH\\n', 'Health Care'), ('ZTS\\n', 'Health Care')]\n",
            "Total number of tickers: 503\n"
          ]
        }
      ]
    },
    {
      "cell_type": "markdown",
      "source": [
        "## Write test code"
      ],
      "metadata": {
        "id": "z1Q94m2bGtlO"
      }
    },
    {
      "cell_type": "code",
      "source": [
        "question = '''Write unit tests for the following function:\n",
        "\n",
        "def reverse_bits(n):\n",
        "  \"\"\"Reverses the bits of an integer.\n",
        "\n",
        "  Args:\n",
        "    n: The integer to reverse.\n",
        "\n",
        "  Returns:\n",
        "    The reversed integer.\n",
        "  \"\"\"\n",
        "\n",
        "  # Convert the integer to a binary string.\n",
        "  binary_string = bin(n)[2:]\n",
        "\n",
        "  # Reverse the binary string.\n",
        "  reversed_binary_string = binary_string[::-1]\n",
        "\n",
        "  # Convert the reversed binary string back to an integer.\n",
        "  reversed_integer = int(reversed_binary_string, 2)\n",
        "\n",
        "  return reversed_integer\n",
        "'''\n",
        "\n",
        "response = chat.send_message(prompt.format(question), **parameters)\n",
        "print(response.text)"
      ],
      "metadata": {
        "id": "eOZKTmVGEgHC",
        "colab": {
          "base_uri": "https://localhost:8080/"
        },
        "executionInfo": {
          "status": "ok",
          "timestamp": 1712426777274,
          "user_tz": 240,
          "elapsed": 2111,
          "user": {
            "displayName": "",
            "userId": ""
          }
        },
        "outputId": "09399601-5989-4cd0-f474-fdd1f437998f"
      },
      "execution_count": 32,
      "outputs": [
        {
          "output_type": "stream",
          "name": "stdout",
          "text": [
            " ```python\n",
            "import unittest\n",
            "\n",
            "class TestReverseBits(unittest.TestCase):\n",
            "\n",
            "    def test_reverse_bits(self):\n",
            "        # Test case 1: Positive integer\n",
            "        self.assertEqual(reverse_bits(10), 5)\n",
            "\n",
            "        # Test case 2: Negative integer\n",
            "        self.assertEqual(reverse_bits(-10), -5)\n",
            "\n",
            "        # Test case 3: Zero\n",
            "        self.assertEqual(reverse_bits(0), 0)\n",
            "\n",
            "        # Test case 4: Maximum positive integer\n",
            "        self.assertEqual(reverse_bits(2**31 - 1), 1)\n",
            "\n",
            "        # Test case 5: Minimum negative integer\n",
            "        self.assertEqual(reverse_bits(-2**31), -1)\n",
            "\n",
            "if __name__ == '__main__':\n",
            "    unittest.main()\n",
            "```\n"
          ]
        }
      ]
    },
    {
      "cell_type": "code",
      "source": [
        "question = '''Write a test fixture for the following class:\n",
        "\n",
        "class TemperatureConverter:\n",
        "  \"\"\"A class that can be used to convert Fahrenheit to Celsius\n",
        "              and visa versa.\"\"\"\n",
        "\n",
        "  def __init__(self):\n",
        "    self.fahrenheit_to_celsius_factor = 5 / 9\n",
        "    self.celsius_to_fahrenheit_factor = 9 / 5\n",
        "\n",
        "  def fahrenheit_to_celsius(self, fahrenheit):\n",
        "    \"\"\"Converts a temperature in Fahrenheit to Celsius.\"\"\"\n",
        "    return (fahrenheit - 32) * self.fahrenheit_to_celsius_factor\n",
        "\n",
        "  def celsius_to_fahrenheit(self, celsius):\n",
        "    \"\"\"Converts a temperature in Celsius to Fahrenheit.\"\"\"\n",
        "    return (celsius * self.celsius_to_fahrenheit_factor) + 32\n",
        "'''\n",
        "\n",
        "response = chat.send_message(prompt.format(question), **parameters)\n",
        "print(response.text)"
      ],
      "metadata": {
        "id": "9Xurg9NwIlje",
        "colab": {
          "base_uri": "https://localhost:8080/"
        },
        "executionInfo": {
          "status": "ok",
          "timestamp": 1712426832043,
          "user_tz": 240,
          "elapsed": 2606,
          "user": {
            "displayName": "",
            "userId": ""
          }
        },
        "outputId": "7edc10cf-0ffb-4136-cf26-b4093c8bbb76"
      },
      "execution_count": 33,
      "outputs": [
        {
          "output_type": "stream",
          "name": "stdout",
          "text": [
            " ```python\n",
            "import unittest\n",
            "\n",
            "class TestTemperatureConverter(unittest.TestCase):\n",
            "\n",
            "    def setUp(self):\n",
            "        self.converter = TemperatureConverter()\n",
            "\n",
            "    def test_fahrenheit_to_celsius(self):\n",
            "        # Test case 1: Freezing point of water\n",
            "        self.assertEqual(self.converter.fahrenheit_to_celsius(32), 0)\n",
            "\n",
            "        # Test case 2: Room temperature\n",
            "        self.assertEqual(self.converter.fahrenheit_to_celsius(72), 22.22)\n",
            "\n",
            "        # Test case 3: Boiling point of water\n",
            "        self.assertEqual(self.converter.fahrenheit_to_celsius(212), 100)\n",
            "\n",
            "    def test_celsius_to_fahrenheit(self):\n",
            "        # Test case 1: Freezing point of water\n",
            "        self.assertEqual(self.converter.celsius_to_fahrenheit(0), 32)\n",
            "\n",
            "        # Test case 2: Room temperature\n",
            "        self.assertEqual(self.converter.celsius_to_fahrenheit(22.22), 72)\n",
            "\n",
            "        # Test case 3: Boiling point of water\n",
            "        self.assertEqual(self.converter.celsius_to_fahrenheit(100), 212)\n",
            "\n",
            "if __name__ == '__main__':\n",
            "    unittest.main()\n",
            "```\n"
          ]
        }
      ]
    },
    {
      "cell_type": "markdown",
      "source": [
        "## Code explanations"
      ],
      "metadata": {
        "id": "8NxRj5DiG0OR"
      }
    },
    {
      "cell_type": "code",
      "source": [
        "question = \"\"\"\n",
        "Explain the following function:\n",
        "\n",
        "def rate_limit(max_per_minute):\n",
        "    period = 60 / max_per_minute\n",
        "    print(\"Waiting\")\n",
        "    while True:\n",
        "        before = time.time()\n",
        "        yield\n",
        "        after = time.time()\n",
        "        elapsed = after - before\n",
        "        sleep_time = max(0, period - elapsed)\n",
        "        if sleep_time > 0:\n",
        "            print(\".\", end=\"\")\n",
        "            time.sleep(sleep_time)\n",
        "\n",
        "\"\"\"\n",
        "\n",
        "response = chat.send_message(prompt.format(question), **parameters)\n",
        "print(response.text)"
      ],
      "metadata": {
        "id": "0kCjVRoJDjL5",
        "colab": {
          "base_uri": "https://localhost:8080/"
        },
        "executionInfo": {
          "status": "ok",
          "timestamp": 1712426848343,
          "user_tz": 240,
          "elapsed": 2636,
          "user": {
            "displayName": "",
            "userId": ""
          }
        },
        "outputId": "5e640535-aa01-426c-8ea5-267afd238491"
      },
      "execution_count": 34,
      "outputs": [
        {
          "output_type": "stream",
          "name": "stdout",
          "text": [
            " The `rate_limit` function is a decorator that can be used to limit the number of times a function can be called within a given time period.\n",
            "The function takes a single argument, `max_per_minute`, which specifies the maximum number of times the decorated function can be called per minute.\n",
            "The function works by using a generator to yield control back to the caller after each call to the decorated function.\n",
            "The function then calculates the time elapsed since the last call to the decorated function and sleeps for the remaining time in the current minute, if necessary.\n",
            "This ensures that the decorated function is not called more than `max_per_minute` times per minute.\n",
            "The function also prints a message to the console each time it sleeps, so that the user can see that the function is being rate limited.\n"
          ]
        }
      ]
    },
    {
      "cell_type": "markdown",
      "source": [],
      "metadata": {
        "id": "IHLp6Hjh3Ukg"
      }
    },
    {
      "cell_type": "markdown",
      "source": [
        "## Adding documentation and comments"
      ],
      "metadata": {
        "id": "fdBoG1SwHl5v"
      }
    },
    {
      "cell_type": "code",
      "source": [
        "question = \"\"\"\n",
        "Rewrite the following function with proper documentation:\n",
        "\n",
        "def rate_limit(max_per_minute):\n",
        "    period = 60 / max_per_minute\n",
        "    print(\"Waiting\")\n",
        "    while True:\n",
        "        before = time.time()\n",
        "        yield\n",
        "        after = time.time()\n",
        "        elapsed = after - before\n",
        "        sleep_time = max(0, period - elapsed)\n",
        "        if sleep_time > 0:\n",
        "            print(\".\", end=\"\")\n",
        "            time.sleep(sleep_time)\n",
        "\n",
        "\"\"\"\n",
        "\n",
        "response = chat.send_message(prompt.format(question), **parameters)\n",
        "print(response.text)"
      ],
      "metadata": {
        "id": "sP7YJQg0FvuF",
        "colab": {
          "base_uri": "https://localhost:8080/"
        },
        "executionInfo": {
          "status": "ok",
          "timestamp": 1712426868244,
          "user_tz": 240,
          "elapsed": 2999,
          "user": {
            "displayName": "",
            "userId": ""
          }
        },
        "outputId": "7651f47f-07ac-4294-f634-f88599763d96"
      },
      "execution_count": 35,
      "outputs": [
        {
          "output_type": "stream",
          "name": "stdout",
          "text": [
            " ```python\n",
            "def rate_limit(max_per_minute):\n",
            "\n",
            "    \"\"\"A decorator that limits the number of times a function can be called within a given time period.\n",
            "\n",
            "    Args:\n",
            "        max_per_minute: The maximum number of times the decorated function can be called per minute.\n",
            "\n",
            "    Returns:\n",
            "        A decorator function that applies the rate limit to the decorated function.\n",
            "    \"\"\"\n",
            "\n",
            "    period = 60 / max_per_minute\n",
            "\n",
            "    def decorator(func):\n",
            "\n",
            "        def wrapper(*args, **kwargs):\n",
            "            print(\"Waiting\")\n",
            "            while True:\n",
            "                before = time.time()\n",
            "                yield\n",
            "                after = time.time()\n",
            "                elapsed = after - before\n",
            "                sleep_time = max(0, period - elapsed)\n",
            "                if sleep_time > 0:\n",
            "                    print(\".\", end=\"\")\n",
            "                    time.sleep(sleep_time)\n",
            "\n",
            "        return wrapper\n",
            "\n",
            "    return decorator\n",
            "```\n"
          ]
        }
      ]
    },
    {
      "cell_type": "code",
      "source": [
        "question = \"\"\"\n",
        "Rewrite the following function with comments:\n",
        "\n",
        "def reverse_bits(n):\n",
        "\n",
        "  binary_string = bin(n)[2:]\n",
        "  reversed_binary_string = binary_string[::-1]\n",
        "  reversed_integer = int(reversed_binary_string, 2)\n",
        "\n",
        "  return reversed_integer\n",
        "\"\"\"\n",
        "\n",
        "\n",
        "response = chat.send_message(prompt.format(question), **parameters)\n",
        "print(response.text)\n"
      ],
      "metadata": {
        "id": "3LOMDSj7HMtw",
        "colab": {
          "base_uri": "https://localhost:8080/"
        },
        "executionInfo": {
          "status": "ok",
          "timestamp": 1712426879294,
          "user_tz": 240,
          "elapsed": 2128,
          "user": {
            "displayName": "",
            "userId": ""
          }
        },
        "outputId": "f7513ba2-f03c-42a2-d9de-396173347ae4"
      },
      "execution_count": 36,
      "outputs": [
        {
          "output_type": "stream",
          "name": "stdout",
          "text": [
            " ```python\n",
            "def reverse_bits(n):\n",
            "\n",
            "  \"\"\"Reverses the bits of an integer.\n",
            "\n",
            "  Args:\n",
            "    n: The integer to reverse.\n",
            "\n",
            "  Returns:\n",
            "    The reversed integer.\n",
            "  \"\"\"\n",
            "\n",
            "  # Convert the integer to a binary string.\n",
            "  binary_string = bin(n)[2:]\n",
            "\n",
            "  # Reverse the binary string.\n",
            "  reversed_binary_string = binary_string[::-1]\n",
            "\n",
            "  # Convert the reversed binary string back to an integer.\n",
            "  reversed_integer = int(reversed_binary_string, 2)\n",
            "\n",
            "  return reversed_integer\n",
            "```\n"
          ]
        }
      ]
    },
    {
      "cell_type": "markdown",
      "source": [
        "## Code debugging"
      ],
      "metadata": {
        "id": "Cr9uzmfAJYdr"
      }
    },
    {
      "cell_type": "code",
      "source": [
        "question = '''\n",
        "The following function does not work.\n",
        "Debug it for me and explain what the problem is:\n",
        "\n",
        "def fahrenheit_to_celsius(fahrenheit):\n",
        "  \"\"\"Converts Fahrenheit to Celsius.\n",
        "\n",
        "  Args:\n",
        "    fahrenheit: A float representing the temperature in Fahrenheit.\n",
        "\n",
        "  Returns:\n",
        "    A float representing the temperature in Celsius.\n",
        "  \"\"\"\n",
        "\n",
        "  celsius = fahrenheit - 32 * 5 / 9\n",
        "  return celsius\n",
        "'''\n",
        "\n",
        "response = chat.send_message(prompt.format(question), **parameters)\n",
        "print(response.text)"
      ],
      "metadata": {
        "id": "wWyEw6cGE7Bm",
        "colab": {
          "base_uri": "https://localhost:8080/"
        },
        "executionInfo": {
          "status": "ok",
          "timestamp": 1712426900212,
          "user_tz": 240,
          "elapsed": 2611,
          "user": {
            "displayName": "",
            "userId": ""
          }
        },
        "outputId": "eed73a97-e6b5-45a5-ee81-9488473a9786"
      },
      "execution_count": 37,
      "outputs": [
        {
          "output_type": "stream",
          "name": "stdout",
          "text": [
            " The problem with the code is that the multiplication and division operations are not performed in the correct order.\n",
            "The correct formula for converting Fahrenheit to Celsius is `celsius = (fahrenheit - 32) * 5 / 9`.\n",
            "Here is the corrected code:\n",
            "\n",
            "```python\n",
            "def fahrenheit_to_celsius(fahrenheit):\n",
            "  \"\"\"Converts Fahrenheit to Celsius.\n",
            "\n",
            "  Args:\n",
            "    fahrenheit: A float representing the temperature in Fahrenheit.\n",
            "\n",
            "  Returns:\n",
            "    A float representing the temperature in Celsius.\n",
            "  \"\"\"\n",
            "\n",
            "  celsius = (fahrenheit - 32) * 5 / 9\n",
            "  return celsius\n",
            "```\n"
          ]
        }
      ]
    },
    {
      "cell_type": "markdown",
      "source": [
        "## Code Optimization"
      ],
      "metadata": {
        "id": "TQ0xjvBiLfqS"
      }
    },
    {
      "cell_type": "code",
      "source": [
        "question = '''\n",
        "The following function is slow,\n",
        "can you optimize it for me:\n",
        "\n",
        "def getpi():\n",
        "    k = 1\n",
        "    s = 0\n",
        "    for i in range(1000000):\n",
        "\t    # even index elements are positive\n",
        "        if i % 2 == 0:\n",
        "            s += 4/k\n",
        "        else:\n",
        "\t\t    # odd index elements are negative\n",
        "            s -= 4/k\n",
        "\t    # denominator is odd\n",
        "        k += 2\n",
        "\n",
        "    return s\n",
        "'''\n",
        "\n",
        "response = chat.send_message(prompt.format(question), **parameters)\n",
        "print(response.text)"
      ],
      "metadata": {
        "id": "CVynx4m5KxML",
        "colab": {
          "base_uri": "https://localhost:8080/"
        },
        "executionInfo": {
          "status": "ok",
          "timestamp": 1712426924392,
          "user_tz": 240,
          "elapsed": 2377,
          "user": {
            "displayName": "",
            "userId": ""
          }
        },
        "outputId": "76bf59ff-6de3-4bc1-9ed3-5c4f0c38f796"
      },
      "execution_count": 38,
      "outputs": [
        {
          "output_type": "stream",
          "name": "stdout",
          "text": [
            " The function can be optimized by using the sum() function and a list comprehension.\n",
            "Here is the optimized code:\n",
            "\n",
            "```python\n",
            "def getpi():\n",
            "    k = 1\n",
            "    s = sum([4/k if i % 2 == 0 else -4/k for i in range(1000000)])\n",
            "    return s\n",
            "```\n"
          ]
        }
      ]
    },
    {
      "cell_type": "markdown",
      "source": [
        "## Code Conversion"
      ],
      "metadata": {
        "id": "lCfzwLu1ScS4"
      }
    },
    {
      "cell_type": "code",
      "source": [
        "question = '''\n",
        "Convert the following Python function to JavaScript:\n",
        "\n",
        "def reverse_bits(n):\n",
        "\n",
        "  binary_string = bin(n)[2:]\n",
        "  reversed_binary_string = binary_string[::-1]\n",
        "  reversed_integer = int(reversed_binary_string, 2)\n",
        "\n",
        "  return reversed_integer\n",
        "'''\n",
        "\n",
        "response = chat.send_message(prompt.format(question), **parameters)\n",
        "print(response.text)\n"
      ],
      "metadata": {
        "id": "odiFV1UHSbx1",
        "colab": {
          "base_uri": "https://localhost:8080/"
        },
        "executionInfo": {
          "status": "ok",
          "timestamp": 1712426945408,
          "user_tz": 240,
          "elapsed": 2436,
          "user": {
            "displayName": "",
            "userId": ""
          }
        },
        "outputId": "20348edd-b3e0-4310-c55a-286c13f9a3a2"
      },
      "execution_count": 39,
      "outputs": [
        {
          "output_type": "stream",
          "name": "stdout",
          "text": [
            " ```javascript\n",
            "function reverseBits(n) {\n",
            "  // Convert the integer to a binary string.\n",
            "  let binaryString = n.toString(2);\n",
            "\n",
            "  // Reverse the binary string.\n",
            "  let reversedBinaryString = binaryString.split(\"\").reverse().join(\"\");\n",
            "\n",
            "  // Convert the reversed binary string back to an integer.\n",
            "  let reversedInteger = parseInt(reversedBinaryString, 2);\n",
            "\n",
            "  return reversedInteger;\n",
            "}\n",
            "```\n"
          ]
        }
      ]
    },
    {
      "cell_type": "markdown",
      "source": [
        "# Run BigQuery queries from natural language"
      ],
      "metadata": {
        "id": "AcgTK9-5L2Cf"
      }
    },
    {
      "cell_type": "code",
      "source": [
        "import vertexai\n",
        "from vertexai.language_models import CodeGenerationModel\n",
        "from vertexai.preview.language_models import CodeGenerationModel\n",
        "\n",
        "vertexai.init(project=\"qwiklabs-gcp-01-552593a7017b\", location=\"us-central1\")\n",
        "parameters = {\n",
        "    \"candidate_count\": 1,\n",
        "    \"max_output_tokens\": 1024,\n",
        "    \"temperature\": 0.2\n",
        "}\n",
        "model = CodeGenerationModel.from_pretrained(\"code-bison@001\")"
      ],
      "metadata": {
        "id": "3BgITt_ZSGid",
        "executionInfo": {
          "status": "ok",
          "timestamp": 1712426978979,
          "user_tz": 240,
          "elapsed": 10,
          "user": {
            "displayName": "",
            "userId": ""
          }
        }
      },
      "execution_count": 40,
      "outputs": []
    },
    {
      "cell_type": "code",
      "source": [
        "prompt = '''\n",
        "    Context: You write SQL Queries based on natural language inputs.\n",
        "    Your queries will run on BigQuery.\n",
        "    You should always generate Google Standard SQL.\n",
        "    Only return the SQL statement.\n",
        "    Make sure you put semicolons after each line.\n",
        "    Always include the project_id in the from clause.\n",
        "    Surround the full table name with back tics\n",
        "\n",
        "    Given the following database Schema:\n",
        "    {0}\n",
        "\n",
        "    Q: Write a SQL SELECT query based on the following question: How many customers are in Virginia.\n",
        "    A: SELECT COUNT(*) AS num_customers FROM `{1}.dataset_id.customers` WHERE country = 'USA' AND region = 'VA';\n",
        "\n",
        "    Q: Write a SQL SELECT query based on the following question: {2}.\n",
        "    A:\n",
        "    '''"
      ],
      "metadata": {
        "id": "kJUaa6yUkaDx",
        "executionInfo": {
          "status": "ok",
          "timestamp": 1712427134240,
          "user_tz": 240,
          "elapsed": 177,
          "user": {
            "displayName": "",
            "userId": ""
          }
        }
      },
      "execution_count": 41,
      "outputs": []
    },
    {
      "cell_type": "code",
      "source": [
        "data_project_id = \"joey-gagliardo\"\n",
        "dataset_id = \"northwind\"\n",
        "\n",
        "from google.cloud import bigquery\n",
        "\n",
        "client = bigquery.Client(project=PROJECT_ID)\n",
        "\n",
        "schema_query = \"\"\"SELECT\n",
        "  table_catalog AS project_id,\n",
        "  table_schema AS dataset_id,\n",
        "  table_name AS table_name,\n",
        "  ARRAY_AGG(STRUCT(\n",
        "      column_name AS name,\n",
        "      data_type AS type)\n",
        "  ORDER BY\n",
        "    ordinal_position) AS SCHEMA\n",
        "FROM\n",
        "  `{0}.{1}.INFORMATION_SCHEMA.COLUMNS`\n",
        "GROUP BY\n",
        "  table_catalog,table_schema,table_name\n",
        "  \"\"\".format(data_project_id, dataset_id)\n",
        "\n",
        "schema = list(client.query(schema_query).result())\n",
        "print(schema)"
      ],
      "metadata": {
        "id": "x6ZSggyqmtlG",
        "colab": {
          "base_uri": "https://localhost:8080/"
        },
        "executionInfo": {
          "status": "ok",
          "timestamp": 1712427143140,
          "user_tz": 240,
          "elapsed": 1788,
          "user": {
            "displayName": "",
            "userId": ""
          }
        },
        "outputId": "b03f912d-fb87-40a5-e0bb-e47d097c8129"
      },
      "execution_count": 42,
      "outputs": [
        {
          "output_type": "stream",
          "name": "stdout",
          "text": [
            "[Row(('joey-gagliardo', 'northwind', 'usstates', [{'name': 'state_id', 'type': 'INT64'}, {'name': 'state_name', 'type': 'STRING(100)'}, {'name': 'state_abbr', 'type': 'STRING(2)'}, {'name': 'state_region', 'type': 'STRING(50)'}]), {'project_id': 0, 'dataset_id': 1, 'table_name': 2, 'SCHEMA': 3}), Row(('joey-gagliardo', 'northwind', 'order_details', [{'name': 'order_id', 'type': 'INT64'}, {'name': 'product_id', 'type': 'INT64'}, {'name': 'unit_price', 'type': 'FLOAT64'}, {'name': 'quantity', 'type': 'INT64'}, {'name': 'discount', 'type': 'FLOAT64'}]), {'project_id': 0, 'dataset_id': 1, 'table_name': 2, 'SCHEMA': 3}), Row(('joey-gagliardo', 'northwind', 'products', [{'name': 'product_id', 'type': 'INT64'}, {'name': 'product_name', 'type': 'STRING(40)'}, {'name': 'supplier_id', 'type': 'INT64'}, {'name': 'category_id', 'type': 'INT64'}, {'name': 'quantity_per_unit', 'type': 'STRING(20)'}, {'name': 'unit_price', 'type': 'FLOAT64'}, {'name': 'units_in_stock', 'type': 'INT64'}, {'name': 'units_on_order', 'type': 'INT64'}, {'name': 'reorder_level', 'type': 'INT64'}, {'name': 'discontinued', 'type': 'BOOL'}]), {'project_id': 0, 'dataset_id': 1, 'table_name': 2, 'SCHEMA': 3}), Row(('joey-gagliardo', 'northwind', 'suppliers', [{'name': 'supplier_id', 'type': 'INT64'}, {'name': 'company_name', 'type': 'STRING(40)'}, {'name': 'contact_name', 'type': 'STRING(30)'}, {'name': 'contact_title', 'type': 'STRING(30)'}, {'name': 'address', 'type': 'STRING(60)'}, {'name': 'city', 'type': 'STRING(15)'}, {'name': 'region', 'type': 'STRING(15)'}, {'name': 'postal_code', 'type': 'STRING(10)'}, {'name': 'country', 'type': 'STRING(15)'}, {'name': 'phone', 'type': 'STRING(24)'}, {'name': 'fax', 'type': 'STRING(24)'}, {'name': 'home_page', 'type': 'STRING'}]), {'project_id': 0, 'dataset_id': 1, 'table_name': 2, 'SCHEMA': 3}), Row(('joey-gagliardo', 'northwind', 'employees', [{'name': 'employee_id', 'type': 'INT64'}, {'name': 'last_name', 'type': 'STRING(20)'}, {'name': 'first_name', 'type': 'STRING(10)'}, {'name': 'title', 'type': 'STRING(30)'}, {'name': 'title_of_courtesy', 'type': 'STRING(25)'}, {'name': 'birth_date', 'type': 'DATETIME'}, {'name': 'hire_date', 'type': 'DATETIME'}, {'name': 'address', 'type': 'STRING(60)'}, {'name': 'city', 'type': 'STRING(15)'}, {'name': 'region', 'type': 'STRING(15)'}, {'name': 'postal_code', 'type': 'STRING(10)'}, {'name': 'country', 'type': 'STRING(15)'}, {'name': 'home_phone', 'type': 'STRING(24)'}, {'name': 'extension', 'type': 'STRING(4)'}, {'name': 'photo', 'type': 'BYTES'}, {'name': 'notes', 'type': 'STRING'}, {'name': 'reports_to', 'type': 'INT64'}, {'name': 'photo_path', 'type': 'STRING(255)'}]), {'project_id': 0, 'dataset_id': 1, 'table_name': 2, 'SCHEMA': 3}), Row(('joey-gagliardo', 'northwind', 'employee_territories', [{'name': 'employee_id', 'type': 'INT64'}, {'name': 'territory_id', 'type': 'STRING(20)'}]), {'project_id': 0, 'dataset_id': 1, 'table_name': 2, 'SCHEMA': 3}), Row(('joey-gagliardo', 'northwind', 'orders', [{'name': 'order_id', 'type': 'INT64'}, {'name': 'customer_id', 'type': 'STRING(5)'}, {'name': 'employee_id', 'type': 'INT64'}, {'name': 'order_date', 'type': 'DATETIME'}, {'name': 'required_date', 'type': 'DATETIME'}, {'name': 'shipped_date', 'type': 'DATETIME'}, {'name': 'ship_via', 'type': 'INT64'}, {'name': 'freight', 'type': 'FLOAT64'}, {'name': 'ship_name', 'type': 'STRING(40)'}, {'name': 'ship_address', 'type': 'STRING(60)'}, {'name': 'ship_city', 'type': 'STRING(15)'}, {'name': 'ship_region', 'type': 'STRING(15)'}, {'name': 'ship_postal_code', 'type': 'STRING(10)'}, {'name': 'ship_country', 'type': 'STRING(15)'}]), {'project_id': 0, 'dataset_id': 1, 'table_name': 2, 'SCHEMA': 3}), Row(('joey-gagliardo', 'northwind', 'regions', [{'name': 'region_id', 'type': 'INT64'}, {'name': 'region_name', 'type': 'STRING'}]), {'project_id': 0, 'dataset_id': 1, 'table_name': 2, 'SCHEMA': 3}), Row(('joey-gagliardo', 'northwind', 'territories', [{'name': 'territory_id', 'type': 'STRING(20)'}, {'name': 'territory_name', 'type': 'STRING'}, {'name': 'region_id', 'type': 'INT64'}]), {'project_id': 0, 'dataset_id': 1, 'table_name': 2, 'SCHEMA': 3}), Row(('joey-gagliardo', 'northwind', 'categories', [{'name': 'category_id', 'type': 'INT64'}, {'name': 'category_name', 'type': 'STRING(15)'}, {'name': 'description', 'type': 'STRING'}]), {'project_id': 0, 'dataset_id': 1, 'table_name': 2, 'SCHEMA': 3}), Row(('joey-gagliardo', 'northwind', 'shippers', [{'name': 'shipper_id', 'type': 'INT64'}, {'name': 'company_name', 'type': 'STRING(40)'}, {'name': 'phone', 'type': 'STRING(24)'}]), {'project_id': 0, 'dataset_id': 1, 'table_name': 2, 'SCHEMA': 3}), Row(('joey-gagliardo', 'northwind', 'customers', [{'name': 'customer_id', 'type': 'STRING(5)'}, {'name': 'company_name', 'type': 'STRING(40)'}, {'name': 'contact_name', 'type': 'STRING(30)'}, {'name': 'contact_title', 'type': 'STRING(30)'}, {'name': 'address', 'type': 'STRING(60)'}, {'name': 'city', 'type': 'STRING(15)'}, {'name': 'region', 'type': 'STRING(15)'}, {'name': 'postal_code', 'type': 'STRING(10)'}, {'name': 'country', 'type': 'STRING(15)'}, {'name': 'phone', 'type': 'STRING(24)'}, {'name': 'fax', 'type': 'STRING(24)'}]), {'project_id': 0, 'dataset_id': 1, 'table_name': 2, 'SCHEMA': 3})]\n"
          ]
        }
      ]
    },
    {
      "cell_type": "code",
      "source": [
        "\n",
        "question = '''\n",
        "How many orders were placed each year?\n",
        "'''\n",
        "\n",
        "prompt.format(schema, data_project_id, question)"
      ],
      "metadata": {
        "id": "FahR-GBXV0Pr",
        "colab": {
          "base_uri": "https://localhost:8080/",
          "height": 122
        },
        "executionInfo": {
          "status": "ok",
          "timestamp": 1712427148795,
          "user_tz": 240,
          "elapsed": 211,
          "user": {
            "displayName": "",
            "userId": ""
          }
        },
        "outputId": "32703d66-d4b7-45e8-aae5-5f607c30e793"
      },
      "execution_count": 43,
      "outputs": [
        {
          "output_type": "execute_result",
          "data": {
            "text/plain": [
              "\"\\n    Context: You write SQL Queries based on natural language inputs.\\n    Your queries will run on BigQuery.\\n    You should always generate Google Standard SQL.\\n    Only return the SQL statement.\\n    Make sure you put semicolons after each line.\\n    Always include the project_id in the from clause.\\n    Surround the full table name with back tics\\n\\n    Given the following database Schema:\\n    [Row(('joey-gagliardo', 'northwind', 'usstates', [{'name': 'state_id', 'type': 'INT64'}, {'name': 'state_name', 'type': 'STRING(100)'}, {'name': 'state_abbr', 'type': 'STRING(2)'}, {'name': 'state_region', 'type': 'STRING(50)'}]), {'project_id': 0, 'dataset_id': 1, 'table_name': 2, 'SCHEMA': 3}), Row(('joey-gagliardo', 'northwind', 'order_details', [{'name': 'order_id', 'type': 'INT64'}, {'name': 'product_id', 'type': 'INT64'}, {'name': 'unit_price', 'type': 'FLOAT64'}, {'name': 'quantity', 'type': 'INT64'}, {'name': 'discount', 'type': 'FLOAT64'}]), {'project_id': 0, 'dataset_id': 1, 'table_name': 2, 'SCHEMA': 3}), Row(('joey-gagliardo', 'northwind', 'products', [{'name': 'product_id', 'type': 'INT64'}, {'name': 'product_name', 'type': 'STRING(40)'}, {'name': 'supplier_id', 'type': 'INT64'}, {'name': 'category_id', 'type': 'INT64'}, {'name': 'quantity_per_unit', 'type': 'STRING(20)'}, {'name': 'unit_price', 'type': 'FLOAT64'}, {'name': 'units_in_stock', 'type': 'INT64'}, {'name': 'units_on_order', 'type': 'INT64'}, {'name': 'reorder_level', 'type': 'INT64'}, {'name': 'discontinued', 'type': 'BOOL'}]), {'project_id': 0, 'dataset_id': 1, 'table_name': 2, 'SCHEMA': 3}), Row(('joey-gagliardo', 'northwind', 'suppliers', [{'name': 'supplier_id', 'type': 'INT64'}, {'name': 'company_name', 'type': 'STRING(40)'}, {'name': 'contact_name', 'type': 'STRING(30)'}, {'name': 'contact_title', 'type': 'STRING(30)'}, {'name': 'address', 'type': 'STRING(60)'}, {'name': 'city', 'type': 'STRING(15)'}, {'name': 'region', 'type': 'STRING(15)'}, {'name': 'postal_code', 'type': 'STRING(10)'}, {'name': 'country', 'type': 'STRING(15)'}, {'name': 'phone', 'type': 'STRING(24)'}, {'name': 'fax', 'type': 'STRING(24)'}, {'name': 'home_page', 'type': 'STRING'}]), {'project_id': 0, 'dataset_id': 1, 'table_name': 2, 'SCHEMA': 3}), Row(('joey-gagliardo', 'northwind', 'employees', [{'name': 'employee_id', 'type': 'INT64'}, {'name': 'last_name', 'type': 'STRING(20)'}, {'name': 'first_name', 'type': 'STRING(10)'}, {'name': 'title', 'type': 'STRING(30)'}, {'name': 'title_of_courtesy', 'type': 'STRING(25)'}, {'name': 'birth_date', 'type': 'DATETIME'}, {'name': 'hire_date', 'type': 'DATETIME'}, {'name': 'address', 'type': 'STRING(60)'}, {'name': 'city', 'type': 'STRING(15)'}, {'name': 'region', 'type': 'STRING(15)'}, {'name': 'postal_code', 'type': 'STRING(10)'}, {'name': 'country', 'type': 'STRING(15)'}, {'name': 'home_phone', 'type': 'STRING(24)'}, {'name': 'extension', 'type': 'STRING(4)'}, {'name': 'photo', 'type': 'BYTES'}, {'name': 'notes', 'type': 'STRING'}, {'name': 'reports_to', 'type': 'INT64'}, {'name': 'photo_path', 'type': 'STRING(255)'}]), {'project_id': 0, 'dataset_id': 1, 'table_name': 2, 'SCHEMA': 3}), Row(('joey-gagliardo', 'northwind', 'employee_territories', [{'name': 'employee_id', 'type': 'INT64'}, {'name': 'territory_id', 'type': 'STRING(20)'}]), {'project_id': 0, 'dataset_id': 1, 'table_name': 2, 'SCHEMA': 3}), Row(('joey-gagliardo', 'northwind', 'orders', [{'name': 'order_id', 'type': 'INT64'}, {'name': 'customer_id', 'type': 'STRING(5)'}, {'name': 'employee_id', 'type': 'INT64'}, {'name': 'order_date', 'type': 'DATETIME'}, {'name': 'required_date', 'type': 'DATETIME'}, {'name': 'shipped_date', 'type': 'DATETIME'}, {'name': 'ship_via', 'type': 'INT64'}, {'name': 'freight', 'type': 'FLOAT64'}, {'name': 'ship_name', 'type': 'STRING(40)'}, {'name': 'ship_address', 'type': 'STRING(60)'}, {'name': 'ship_city', 'type': 'STRING(15)'}, {'name': 'ship_region', 'type': 'STRING(15)'}, {'name': 'ship_postal_code', 'type': 'STRING(10)'}, {'name': 'ship_country', 'type': 'STRING(15)'}]), {'project_id': 0, 'dataset_id': 1, 'table_name': 2, 'SCHEMA': 3}), Row(('joey-gagliardo', 'northwind', 'regions', [{'name': 'region_id', 'type': 'INT64'}, {'name': 'region_name', 'type': 'STRING'}]), {'project_id': 0, 'dataset_id': 1, 'table_name': 2, 'SCHEMA': 3}), Row(('joey-gagliardo', 'northwind', 'territories', [{'name': 'territory_id', 'type': 'STRING(20)'}, {'name': 'territory_name', 'type': 'STRING'}, {'name': 'region_id', 'type': 'INT64'}]), {'project_id': 0, 'dataset_id': 1, 'table_name': 2, 'SCHEMA': 3}), Row(('joey-gagliardo', 'northwind', 'categories', [{'name': 'category_id', 'type': 'INT64'}, {'name': 'category_name', 'type': 'STRING(15)'}, {'name': 'description', 'type': 'STRING'}]), {'project_id': 0, 'dataset_id': 1, 'table_name': 2, 'SCHEMA': 3}), Row(('joey-gagliardo', 'northwind', 'shippers', [{'name': 'shipper_id', 'type': 'INT64'}, {'name': 'company_name', 'type': 'STRING(40)'}, {'name': 'phone', 'type': 'STRING(24)'}]), {'project_id': 0, 'dataset_id': 1, 'table_name': 2, 'SCHEMA': 3}), Row(('joey-gagliardo', 'northwind', 'customers', [{'name': 'customer_id', 'type': 'STRING(5)'}, {'name': 'company_name', 'type': 'STRING(40)'}, {'name': 'contact_name', 'type': 'STRING(30)'}, {'name': 'contact_title', 'type': 'STRING(30)'}, {'name': 'address', 'type': 'STRING(60)'}, {'name': 'city', 'type': 'STRING(15)'}, {'name': 'region', 'type': 'STRING(15)'}, {'name': 'postal_code', 'type': 'STRING(10)'}, {'name': 'country', 'type': 'STRING(15)'}, {'name': 'phone', 'type': 'STRING(24)'}, {'name': 'fax', 'type': 'STRING(24)'}]), {'project_id': 0, 'dataset_id': 1, 'table_name': 2, 'SCHEMA': 3})]\\n\\n    Q: Write a SQL SELECT query based on the following question: How many customers are in Virginia.\\n    A: SELECT COUNT(*) AS num_customers FROM `joey-gagliardo.dataset_id.customers` WHERE country = 'USA' AND region = 'VA';\\n\\n    Q: Write a SQL SELECT query based on the following question: \\nHow many orders were placed each year?\\n.\\n    A:\\n    \""
            ],
            "application/vnd.google.colaboratory.intrinsic+json": {
              "type": "string"
            }
          },
          "metadata": {},
          "execution_count": 43
        }
      ]
    },
    {
      "cell_type": "code",
      "source": [
        "question = '''\n",
        "How many orders were placed each year?\n",
        "'''\n",
        "\n",
        "response = model.predict(\n",
        "    prefix = prompt.format(schema, data_project_id, question),\n",
        "    **parameters\n",
        ")\n",
        "\n",
        "generated_sql = response.text.strip()\n",
        "print(generated_sql)"
      ],
      "metadata": {
        "id": "hiBFFa8fSCrD",
        "colab": {
          "base_uri": "https://localhost:8080/"
        },
        "executionInfo": {
          "status": "ok",
          "timestamp": 1712427161273,
          "user_tz": 240,
          "elapsed": 985,
          "user": {
            "displayName": "",
            "userId": ""
          }
        },
        "outputId": "cc601a16-5c76-4f81-d12b-baee2b4746f1"
      },
      "execution_count": 44,
      "outputs": [
        {
          "output_type": "stream",
          "name": "stdout",
          "text": [
            "SELECT YEAR(order_date) AS year, COUNT(*) AS num_orders\n",
            "FROM `joey-gagliardo.dataset_id.orders`\n",
            "GROUP BY year;\n"
          ]
        }
      ]
    },
    {
      "cell_type": "code",
      "source": [
        "from google.cloud import bigquery\n",
        "\n",
        "client = bigquery.Client(project=PROJECT_ID)\n",
        "results = client.query(generated_sql).to_dataframe()\n",
        "results\n"
      ],
      "metadata": {
        "id": "SoyBXv_KqEXB",
        "colab": {
          "base_uri": "https://localhost:8080/",
          "height": 442
        },
        "executionInfo": {
          "status": "error",
          "timestamp": 1712427170625,
          "user_tz": 240,
          "elapsed": 672,
          "user": {
            "displayName": "",
            "userId": ""
          }
        },
        "outputId": "ae208d0c-c9e2-48b0-c83d-7c8eab187b70"
      },
      "execution_count": 45,
      "outputs": [
        {
          "output_type": "error",
          "ename": "Forbidden",
          "evalue": "403 Access Denied: Table joey-gagliardo:dataset_id.orders: User does not have permission to query table joey-gagliardo:dataset_id.orders, or perhaps it does not exist in location US.\n\nLocation: US\nJob ID: 2b074d78-5754-44d2-a351-fefe846b768b\n",
          "traceback": [
            "\u001b[0;31m---------------------------------------------------------------------------\u001b[0m",
            "\u001b[0;31mForbidden\u001b[0m                                 Traceback (most recent call last)",
            "\u001b[0;32m<ipython-input-45-bc9c0ab3f07a>\u001b[0m in \u001b[0;36m<cell line: 4>\u001b[0;34m()\u001b[0m\n\u001b[1;32m      2\u001b[0m \u001b[0;34m\u001b[0m\u001b[0m\n\u001b[1;32m      3\u001b[0m \u001b[0mclient\u001b[0m \u001b[0;34m=\u001b[0m \u001b[0mbigquery\u001b[0m\u001b[0;34m.\u001b[0m\u001b[0mClient\u001b[0m\u001b[0;34m(\u001b[0m\u001b[0mproject\u001b[0m\u001b[0;34m=\u001b[0m\u001b[0mPROJECT_ID\u001b[0m\u001b[0;34m)\u001b[0m\u001b[0;34m\u001b[0m\u001b[0;34m\u001b[0m\u001b[0m\n\u001b[0;32m----> 4\u001b[0;31m \u001b[0mresults\u001b[0m \u001b[0;34m=\u001b[0m \u001b[0mclient\u001b[0m\u001b[0;34m.\u001b[0m\u001b[0mquery\u001b[0m\u001b[0;34m(\u001b[0m\u001b[0mgenerated_sql\u001b[0m\u001b[0;34m)\u001b[0m\u001b[0;34m.\u001b[0m\u001b[0mto_dataframe\u001b[0m\u001b[0;34m(\u001b[0m\u001b[0;34m)\u001b[0m\u001b[0;34m\u001b[0m\u001b[0;34m\u001b[0m\u001b[0m\n\u001b[0m\u001b[1;32m      5\u001b[0m \u001b[0mresults\u001b[0m\u001b[0;34m\u001b[0m\u001b[0;34m\u001b[0m\u001b[0m\n",
            "\u001b[0;32m/usr/local/lib/python3.10/dist-packages/google/cloud/bigquery/job/query.py\u001b[0m in \u001b[0;36mto_dataframe\u001b[0;34m(self, bqstorage_client, dtypes, progress_bar_type, create_bqstorage_client, max_results, geography_as_object, bool_dtype, int_dtype, float_dtype, string_dtype, date_dtype, datetime_dtype, time_dtype, timestamp_dtype)\u001b[0m\n\u001b[1;32m   1858\u001b[0m                 \u001b[0;34m:\u001b[0m\u001b[0mmod\u001b[0m\u001b[0;34m:\u001b[0m\u001b[0;31m`\u001b[0m\u001b[0mshapely\u001b[0m\u001b[0;31m`\u001b[0m \u001b[0mlibrary\u001b[0m \u001b[0mcannot\u001b[0m \u001b[0mbe\u001b[0m \u001b[0mimported\u001b[0m\u001b[0;34m.\u001b[0m\u001b[0;34m\u001b[0m\u001b[0;34m\u001b[0m\u001b[0m\n\u001b[1;32m   1859\u001b[0m         \"\"\"\n\u001b[0;32m-> 1860\u001b[0;31m         \u001b[0mquery_result\u001b[0m \u001b[0;34m=\u001b[0m \u001b[0mwait_for_query\u001b[0m\u001b[0;34m(\u001b[0m\u001b[0mself\u001b[0m\u001b[0;34m,\u001b[0m \u001b[0mprogress_bar_type\u001b[0m\u001b[0;34m,\u001b[0m \u001b[0mmax_results\u001b[0m\u001b[0;34m=\u001b[0m\u001b[0mmax_results\u001b[0m\u001b[0;34m)\u001b[0m\u001b[0;34m\u001b[0m\u001b[0;34m\u001b[0m\u001b[0m\n\u001b[0m\u001b[1;32m   1861\u001b[0m         return query_result.to_dataframe(\n\u001b[1;32m   1862\u001b[0m             \u001b[0mbqstorage_client\u001b[0m\u001b[0;34m=\u001b[0m\u001b[0mbqstorage_client\u001b[0m\u001b[0;34m,\u001b[0m\u001b[0;34m\u001b[0m\u001b[0;34m\u001b[0m\u001b[0m\n",
            "\u001b[0;32m/usr/local/lib/python3.10/dist-packages/google/cloud/bigquery/_tqdm_helpers.py\u001b[0m in \u001b[0;36mwait_for_query\u001b[0;34m(query_job, progress_bar_type, max_results)\u001b[0m\n\u001b[1;32m    102\u001b[0m     )\n\u001b[1;32m    103\u001b[0m     \u001b[0;32mif\u001b[0m \u001b[0mprogress_bar\u001b[0m \u001b[0;32mis\u001b[0m \u001b[0;32mNone\u001b[0m\u001b[0;34m:\u001b[0m\u001b[0;34m\u001b[0m\u001b[0;34m\u001b[0m\u001b[0m\n\u001b[0;32m--> 104\u001b[0;31m         \u001b[0;32mreturn\u001b[0m \u001b[0mquery_job\u001b[0m\u001b[0;34m.\u001b[0m\u001b[0mresult\u001b[0m\u001b[0;34m(\u001b[0m\u001b[0mmax_results\u001b[0m\u001b[0;34m=\u001b[0m\u001b[0mmax_results\u001b[0m\u001b[0;34m)\u001b[0m\u001b[0;34m\u001b[0m\u001b[0;34m\u001b[0m\u001b[0m\n\u001b[0m\u001b[1;32m    105\u001b[0m \u001b[0;34m\u001b[0m\u001b[0m\n\u001b[1;32m    106\u001b[0m     \u001b[0mi\u001b[0m \u001b[0;34m=\u001b[0m \u001b[0;36m0\u001b[0m\u001b[0;34m\u001b[0m\u001b[0;34m\u001b[0m\u001b[0m\n",
            "\u001b[0;32m/usr/local/lib/python3.10/dist-packages/google/cloud/bigquery/job/query.py\u001b[0m in \u001b[0;36mresult\u001b[0;34m(self, page_size, max_results, retry, timeout, start_index, job_retry)\u001b[0m\n\u001b[1;32m   1579\u001b[0m                 \u001b[0mdo_get_result\u001b[0m \u001b[0;34m=\u001b[0m \u001b[0mjob_retry\u001b[0m\u001b[0;34m(\u001b[0m\u001b[0mdo_get_result\u001b[0m\u001b[0;34m)\u001b[0m\u001b[0;34m\u001b[0m\u001b[0;34m\u001b[0m\u001b[0m\n\u001b[1;32m   1580\u001b[0m \u001b[0;34m\u001b[0m\u001b[0m\n\u001b[0;32m-> 1581\u001b[0;31m             \u001b[0mdo_get_result\u001b[0m\u001b[0;34m(\u001b[0m\u001b[0;34m)\u001b[0m\u001b[0;34m\u001b[0m\u001b[0;34m\u001b[0m\u001b[0m\n\u001b[0m\u001b[1;32m   1582\u001b[0m \u001b[0;34m\u001b[0m\u001b[0m\n\u001b[1;32m   1583\u001b[0m         \u001b[0;32mexcept\u001b[0m \u001b[0mexceptions\u001b[0m\u001b[0;34m.\u001b[0m\u001b[0mGoogleAPICallError\u001b[0m \u001b[0;32mas\u001b[0m \u001b[0mexc\u001b[0m\u001b[0;34m:\u001b[0m\u001b[0;34m\u001b[0m\u001b[0;34m\u001b[0m\u001b[0m\n",
            "\u001b[0;32m/usr/local/lib/python3.10/dist-packages/google/api_core/retry.py\u001b[0m in \u001b[0;36mretry_wrapped_func\u001b[0;34m(*args, **kwargs)\u001b[0m\n\u001b[1;32m    347\u001b[0m                 \u001b[0mself\u001b[0m\u001b[0;34m.\u001b[0m\u001b[0m_initial\u001b[0m\u001b[0;34m,\u001b[0m \u001b[0mself\u001b[0m\u001b[0;34m.\u001b[0m\u001b[0m_maximum\u001b[0m\u001b[0;34m,\u001b[0m \u001b[0mmultiplier\u001b[0m\u001b[0;34m=\u001b[0m\u001b[0mself\u001b[0m\u001b[0;34m.\u001b[0m\u001b[0m_multiplier\u001b[0m\u001b[0;34m\u001b[0m\u001b[0;34m\u001b[0m\u001b[0m\n\u001b[1;32m    348\u001b[0m             )\n\u001b[0;32m--> 349\u001b[0;31m             return retry_target(\n\u001b[0m\u001b[1;32m    350\u001b[0m                 \u001b[0mtarget\u001b[0m\u001b[0;34m,\u001b[0m\u001b[0;34m\u001b[0m\u001b[0;34m\u001b[0m\u001b[0m\n\u001b[1;32m    351\u001b[0m                 \u001b[0mself\u001b[0m\u001b[0;34m.\u001b[0m\u001b[0m_predicate\u001b[0m\u001b[0;34m,\u001b[0m\u001b[0;34m\u001b[0m\u001b[0;34m\u001b[0m\u001b[0m\n",
            "\u001b[0;32m/usr/local/lib/python3.10/dist-packages/google/api_core/retry.py\u001b[0m in \u001b[0;36mretry_target\u001b[0;34m(target, predicate, sleep_generator, timeout, on_error, **kwargs)\u001b[0m\n\u001b[1;32m    189\u001b[0m     \u001b[0;32mfor\u001b[0m \u001b[0msleep\u001b[0m \u001b[0;32min\u001b[0m \u001b[0msleep_generator\u001b[0m\u001b[0;34m:\u001b[0m\u001b[0;34m\u001b[0m\u001b[0;34m\u001b[0m\u001b[0m\n\u001b[1;32m    190\u001b[0m         \u001b[0;32mtry\u001b[0m\u001b[0;34m:\u001b[0m\u001b[0;34m\u001b[0m\u001b[0;34m\u001b[0m\u001b[0m\n\u001b[0;32m--> 191\u001b[0;31m             \u001b[0;32mreturn\u001b[0m \u001b[0mtarget\u001b[0m\u001b[0;34m(\u001b[0m\u001b[0;34m)\u001b[0m\u001b[0;34m\u001b[0m\u001b[0;34m\u001b[0m\u001b[0m\n\u001b[0m\u001b[1;32m    192\u001b[0m \u001b[0;34m\u001b[0m\u001b[0m\n\u001b[1;32m    193\u001b[0m         \u001b[0;31m# pylint: disable=broad-except\u001b[0m\u001b[0;34m\u001b[0m\u001b[0;34m\u001b[0m\u001b[0m\n",
            "\u001b[0;32m/usr/local/lib/python3.10/dist-packages/google/cloud/bigquery/job/query.py\u001b[0m in \u001b[0;36mdo_get_result\u001b[0;34m()\u001b[0m\n\u001b[1;32m   1569\u001b[0m                     \u001b[0mself\u001b[0m\u001b[0;34m.\u001b[0m\u001b[0m_job_retry\u001b[0m \u001b[0;34m=\u001b[0m \u001b[0mjob_retry\u001b[0m\u001b[0;34m\u001b[0m\u001b[0;34m\u001b[0m\u001b[0m\n\u001b[1;32m   1570\u001b[0m \u001b[0;34m\u001b[0m\u001b[0m\n\u001b[0;32m-> 1571\u001b[0;31m                 \u001b[0msuper\u001b[0m\u001b[0;34m(\u001b[0m\u001b[0mQueryJob\u001b[0m\u001b[0;34m,\u001b[0m \u001b[0mself\u001b[0m\u001b[0;34m)\u001b[0m\u001b[0;34m.\u001b[0m\u001b[0mresult\u001b[0m\u001b[0;34m(\u001b[0m\u001b[0mretry\u001b[0m\u001b[0;34m=\u001b[0m\u001b[0mretry\u001b[0m\u001b[0;34m,\u001b[0m \u001b[0mtimeout\u001b[0m\u001b[0;34m=\u001b[0m\u001b[0mtimeout\u001b[0m\u001b[0;34m)\u001b[0m\u001b[0;34m\u001b[0m\u001b[0;34m\u001b[0m\u001b[0m\n\u001b[0m\u001b[1;32m   1572\u001b[0m \u001b[0;34m\u001b[0m\u001b[0m\n\u001b[1;32m   1573\u001b[0m                 \u001b[0;31m# Since the job could already be \"done\" (e.g. got a finished job\u001b[0m\u001b[0;34m\u001b[0m\u001b[0;34m\u001b[0m\u001b[0m\n",
            "\u001b[0;32m/usr/local/lib/python3.10/dist-packages/google/cloud/bigquery/job/base.py\u001b[0m in \u001b[0;36mresult\u001b[0;34m(self, retry, timeout)\u001b[0m\n\u001b[1;32m    920\u001b[0m \u001b[0;34m\u001b[0m\u001b[0m\n\u001b[1;32m    921\u001b[0m         \u001b[0mkwargs\u001b[0m \u001b[0;34m=\u001b[0m \u001b[0;34m{\u001b[0m\u001b[0;34m}\u001b[0m \u001b[0;32mif\u001b[0m \u001b[0mretry\u001b[0m \u001b[0;32mis\u001b[0m \u001b[0mDEFAULT_RETRY\u001b[0m \u001b[0;32melse\u001b[0m \u001b[0;34m{\u001b[0m\u001b[0;34m\"retry\"\u001b[0m\u001b[0;34m:\u001b[0m \u001b[0mretry\u001b[0m\u001b[0;34m}\u001b[0m\u001b[0;34m\u001b[0m\u001b[0;34m\u001b[0m\u001b[0m\n\u001b[0;32m--> 922\u001b[0;31m         \u001b[0;32mreturn\u001b[0m \u001b[0msuper\u001b[0m\u001b[0;34m(\u001b[0m\u001b[0m_AsyncJob\u001b[0m\u001b[0;34m,\u001b[0m \u001b[0mself\u001b[0m\u001b[0;34m)\u001b[0m\u001b[0;34m.\u001b[0m\u001b[0mresult\u001b[0m\u001b[0;34m(\u001b[0m\u001b[0mtimeout\u001b[0m\u001b[0;34m=\u001b[0m\u001b[0mtimeout\u001b[0m\u001b[0;34m,\u001b[0m \u001b[0;34m**\u001b[0m\u001b[0mkwargs\u001b[0m\u001b[0;34m)\u001b[0m\u001b[0;34m\u001b[0m\u001b[0;34m\u001b[0m\u001b[0m\n\u001b[0m\u001b[1;32m    923\u001b[0m \u001b[0;34m\u001b[0m\u001b[0m\n\u001b[1;32m    924\u001b[0m     \u001b[0;32mdef\u001b[0m \u001b[0mcancelled\u001b[0m\u001b[0;34m(\u001b[0m\u001b[0mself\u001b[0m\u001b[0;34m)\u001b[0m\u001b[0;34m:\u001b[0m\u001b[0;34m\u001b[0m\u001b[0;34m\u001b[0m\u001b[0m\n",
            "\u001b[0;32m/usr/local/lib/python3.10/dist-packages/google/api_core/future/polling.py\u001b[0m in \u001b[0;36mresult\u001b[0;34m(self, timeout, retry, polling)\u001b[0m\n\u001b[1;32m    259\u001b[0m             \u001b[0;31m# pylint: disable=raising-bad-type\u001b[0m\u001b[0;34m\u001b[0m\u001b[0;34m\u001b[0m\u001b[0m\n\u001b[1;32m    260\u001b[0m             \u001b[0;31m# Pylint doesn't recognize that this is valid in this case.\u001b[0m\u001b[0;34m\u001b[0m\u001b[0;34m\u001b[0m\u001b[0m\n\u001b[0;32m--> 261\u001b[0;31m             \u001b[0;32mraise\u001b[0m \u001b[0mself\u001b[0m\u001b[0;34m.\u001b[0m\u001b[0m_exception\u001b[0m\u001b[0;34m\u001b[0m\u001b[0;34m\u001b[0m\u001b[0m\n\u001b[0m\u001b[1;32m    262\u001b[0m \u001b[0;34m\u001b[0m\u001b[0m\n\u001b[1;32m    263\u001b[0m         \u001b[0;32mreturn\u001b[0m \u001b[0mself\u001b[0m\u001b[0;34m.\u001b[0m\u001b[0m_result\u001b[0m\u001b[0;34m\u001b[0m\u001b[0;34m\u001b[0m\u001b[0m\n",
            "\u001b[0;31mForbidden\u001b[0m: 403 Access Denied: Table joey-gagliardo:dataset_id.orders: User does not have permission to query table joey-gagliardo:dataset_id.orders, or perhaps it does not exist in location US.\n\nLocation: US\nJob ID: 2b074d78-5754-44d2-a351-fefe846b768b\n"
          ]
        }
      ]
    },
    {
      "cell_type": "code",
      "source": [],
      "metadata": {
        "id": "A-cz2eijnPcR"
      },
      "execution_count": null,
      "outputs": []
    }
  ]
}