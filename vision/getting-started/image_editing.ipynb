{
 "cells": [
  {
   "cell_type": "code",
   "execution_count": null,
   "metadata": {
    "id": "uxCkB_DXTHzf"
   },
   "outputs": [],
   "source": [
    "# Copyright 2024 Google LLC\n",
    "#\n",
    "# Licensed under the Apache License, Version 2.0 (the \"License\");\n",
    "# you may not use this file except in compliance with the License.\n",
    "# You may obtain a copy of the License at\n",
    "#\n",
    "#     https://www.apache.org/licenses/LICENSE-2.0\n",
    "#\n",
    "# Unless required by applicable law or agreed to in writing, software\n",
    "# distributed under the License is distributed on an \"AS IS\" BASIS,\n",
    "# WITHOUT WARRANTIES OR CONDITIONS OF ANY KIND, either express or implied.\n",
    "# See the License for the specific language governing permissions and\n",
    "# limitations under the License."
   ]
  },
  {
   "cell_type": "markdown",
   "metadata": {
    "id": "Hny4I-ODTIS6"
   },
   "source": [
    "# Editing with Imagen 2 on Vertex AI\n",
    "\n",
    "\n",
    "<table align=\"left\">\n",
    "  <td style=\"text-align: center\">\n",
    "    <a href=\"https://colab.research.google.com/github/GoogleCloudPlatform/generative-ai/blob/main/vision/getting-started/image_generation.ipynb\">\n",
    "      <img src=\"https://cloud.google.com/ml-engine/images/colab-logo-32px.png\" alt=\"Google Colaboratory logo\"><br> Open in Colab\n",
    "    </a>\n",
    "  </td>\n",
    "  <td style=\"text-align: center\">\n",
    "    <a href=\"https://console.cloud.google.com/vertex-ai/colab/import/https:%2F%2Fraw.githubusercontent.com%2FGoogleCloudPlatform%2Fgenerative-ai%2Fmain%2Fvision%2Fgetting-started%2Fimage_generation.ipynb\">\n",
    "      <img width=\"32px\" src=\"https://lh3.googleusercontent.com/JmcxdQi-qOpctIvWKgPtrzZdJJK-J3sWE1RsfjZNwshCFgE_9fULcNpuXYTilIR2hjwN\" alt=\"Google Cloud Colab Enterprise logo\"><br> Open in Colab Enterprise\n",
    "    </a>\n",
    "  </td>    \n",
    "  <td style=\"text-align: center\">\n",
    "    <a href=\"https://console.cloud.google.com/vertex-ai/workbench/deploy-notebook?download_url=https://raw.githubusercontent.com/GoogleCloudPlatform/generative-ai/main/vision/getting-started/image_generation.ipynb\">\n",
    "      <img src=\"https://lh3.googleusercontent.com/UiNooY4LUgW_oTvpsNhPpQzsstV5W8F7rYgxgGBD85cWJoLmrOzhVs_ksK_vgx40SHs7jCqkTkCk=e14-rj-sc0xffffff-h130-w32\" alt=\"Vertex AI logo\"><br> Open in Workbench\n",
    "    </a>\n",
    "  </td>\n",
    "  <td style=\"text-align: center\">\n",
    "    <a href=\"https://github.com/GoogleCloudPlatform/generative-ai/blob/main/vision/getting-started/image_generation.ipynb\">\n",
    "      <img src=\"https://cloud.google.com/ml-engine/images/github-logo-32px.png\" alt=\"GitHub logo\"><br> View on GitHub\n",
    "    </a>\n",
    "  </td>\n",
    "</table>"
   ]
  },
  {
   "cell_type": "markdown",
   "metadata": {
    "id": "-nLS57E2TO5y"
   },
   "source": [
    "## Overview\n",
    "\n",
    "[Imagen 2 on Vertex AI](https://cloud.google.com/vertex-ai/docs/generative-ai/image/overview) brings Google's state of the art generative AI capabilities to application developers. With Imagen 2 on Vertex AI, application developers can build next-generation AI products that edit images.\n",
    "\n",
    "With Imagen 2, you can not only generate an image, but edit an image using a mask you provide or with mask-free editing.\n",
    "\n",
    "This notebook focuses on **image editing** only. You can read more about image generation feature from Imagen [here](https://cloud.google.com/vertex-ai/generative-ai/docs/image/edit-images).\n"
   ]
  },
  {
   "cell_type": "markdown",
   "metadata": {
    "id": "iXsvgIuwTPZw"
   },
   "source": [
    "### Objectives\n",
    "\n",
    "In this notebook, you will be exploring the image editing features of Imagen using the Vertex AI Python SDK. You will\n",
    "\n",
    "- Edit an entire uploaded or generated image with a text prompt.\n",
    "- Define specific objects in an image to edit.\n",
    "- Edit the background of an image.\n",
    "- Edit the foreground of an image.\n",
    "- Remove the background or foreground of an image\n",
    "- Experiment with different parameters, such as:\n",
    "    - reducing the dilation of a mask for thin objects\n",
    "    - influencing the edited output image using negative prompts\n"
   ]
  },
  {
   "cell_type": "markdown",
   "metadata": {
    "id": "skXAu__iqks_"
   },
   "source": [
    "### Costs\n",
    "\n",
    "- This notebook uses billable components of Google Cloud:\n",
    "  - Vertex AI (Imagen)\n",
    "\n",
    "- Learn about [Vertex AI pricing](https://cloud.google.com/vertex-ai/pricing) and use the [Pricing Calculator](https://cloud.google.com/products/calculator/) to generate a cost estimate based on your projected usage."
   ]
  },
  {
   "cell_type": "markdown",
   "metadata": {
    "id": "mvKl-BtQTRiQ"
   },
   "source": [
    "## Getting Started"
   ]
  },
  {
   "cell_type": "markdown",
   "metadata": {
    "id": "PwFMpIMrTV_4"
   },
   "source": [
    "### Install Vertex AI SDK for Python"
   ]
  },
  {
   "cell_type": "code",
   "execution_count": null,
   "metadata": {
    "id": "WYUu8VMdJs3V"
   },
   "outputs": [],
   "source": [
    "! pip install --quiet --upgrade --user google-cloud-aiplatform"
   ]
  },
  {
   "cell_type": "markdown",
   "metadata": {
    "id": "R5Xep4W9lq-Z"
   },
   "source": [
    "### Restart current runtime\n",
    "\n",
    "To use the newly installed packages in this Jupyter runtime, it is recommended to restart the runtime. Run the following cell to restart the current kernel.\n",
    "\n",
    "The restart process might take a minute or so."
   ]
  },
  {
   "cell_type": "code",
   "execution_count": null,
   "metadata": {
    "id": "XRvKdaPDTznN"
   },
   "outputs": [],
   "source": [
    "import IPython\n",
    "\n",
    "app = IPython.Application.instance()\n",
    "app.kernel.do_shutdown(True)"
   ]
  },
  {
   "cell_type": "markdown",
   "metadata": {
    "id": "YIvVfyyhTPKi"
   },
   "source": [
    "After the restart is complete, continue to the next step.\n"
   ]
  },
  {
   "cell_type": "markdown",
   "metadata": {
    "id": "SbmM4z7FOBpM"
   },
   "source": [
    "<div class=\"alert alert-block alert-warning\">\n",
    "<b>⚠️ The kernel is going to restart. Please wait until it is finished before continuing to the next step. ⚠️</b>\n",
    "</div>"
   ]
  },
  {
   "cell_type": "markdown",
   "metadata": {
    "id": "opUxT_k5TdgP"
   },
   "source": [
    "### Authenticate your notebook environment (Colab only)\n",
    "\n",
    "If you are running this notebook on Google Colab, run the following cell to authenticate your environment. This step is not required if you are using [Vertex AI Workbench](https://cloud.google.com/vertex-ai-workbench)."
   ]
  },
  {
   "cell_type": "code",
   "execution_count": null,
   "metadata": {
    "id": "vbNgv4q1T2Mi"
   },
   "outputs": [],
   "source": [
    "import sys\n",
    "\n",
    "# Addtional authentication is required for Google Colab\n",
    "if \"google.colab\" in sys.modules:\n",
    "    # Authenticate user to Google Cloud\n",
    "    from google.colab import auth\n",
    "\n",
    "    auth.authenticate_user()"
   ]
  },
  {
   "cell_type": "markdown",
   "metadata": {
    "id": "ybBXSukZkgjg"
   },
   "source": [
    "### Set Google Cloud project information and initialize Vertex AI SDK\n",
    "\n",
    "To get started using Vertex AI, you must have an existing Google Cloud project and enable the Vertex AI API.\n",
    "\n",
    "Learn more about setting up a project and a development environment."
   ]
  },
  {
   "cell_type": "code",
   "execution_count": null,
   "metadata": {
    "id": "5gUjJ42Nh5kf"
   },
   "outputs": [],
   "source": [
    "PROJECT_ID = \"[your-project-id]\"  # @param {type:\"string\"}\n",
    "LOCATION = \"us-central1\"  # @param {type:\"string\"}\n",
    "\n",
    "\n",
    "import vertexai\n",
    "\n",
    "vertexai.init(project=PROJECT_ID, location=LOCATION)"
   ]
  },
  {
   "cell_type": "markdown",
   "metadata": {
    "id": "F8E1d7wP2J5x"
   },
   "source": [
    "### Import libraries\n",
    "\n",
    "Import libraries and define utility functions. You will also load the imagegeneration@006 model from the Vertex SDK.\n",
    "\n",
    "Learn more about [editing with the Imagen models](https://cloud.google.com/vertex-ai/generative-ai/docs/image/edit-images).\n"
   ]
  },
  {
   "cell_type": "code",
   "execution_count": null,
   "metadata": {
    "id": "Ju_PctW22NUl"
   },
   "outputs": [],
   "source": [
    "import math\n",
    "from typing import List\n",
    "\n",
    "import matplotlib.pyplot as plt\n",
    "from vertexai.preview.vision_models import (\n",
    "    GeneratedImage,\n",
    "    ImageGenerationModel,\n",
    "    ImageGenerationResponse,\n",
    ")\n",
    "\n",
    "\n",
    "# Displays images in a grid below the cell\n",
    "def display_images_in_grid(images: List[GeneratedImage]) -> None:\n",
    "    \"\"\"Displays the provided images in a grid format. 4 images per row.\n",
    "\n",
    "    Args:\n",
    "        images: A list of GeneratedImage objects representing the images to display.\n",
    "    \"\"\"\n",
    "\n",
    "    # Determine the number of rows and columns for the grid layout.\n",
    "    nrows: int = math.ceil(len(images) / 4)  # Display at most 4 images per row\n",
    "    ncols: int = min(len(images) + 1, 4)  # Adjust columns based on the number of images\n",
    "\n",
    "    # Create a figure and axes for the grid layout.\n",
    "    fig, axes = plt.subplots(nrows=nrows, ncols=ncols, figsize=(12, 6))\n",
    "\n",
    "    for i, ax in enumerate(axes.flat):\n",
    "        if i < len(images):\n",
    "            # Display the image in the current axis.\n",
    "            ax.imshow(images[i]._pil_image)\n",
    "\n",
    "            # Adjust the axis aspect ratio to maintain image proportions.\n",
    "            ax.set_aspect(\"equal\")\n",
    "\n",
    "            # Disable axis ticks for a cleaner appearance.\n",
    "            ax.set_xticks([])\n",
    "            ax.set_yticks([])\n",
    "        else:\n",
    "            # Hide empty subplots to avoid displaying blank axes.\n",
    "            ax.axis(\"off\")\n",
    "\n",
    "    # Adjust the layout to minimize whitespace between subplots.\n",
    "    plt.tight_layout()\n",
    "\n",
    "    # Display the figure with the arranged images.\n",
    "    plt.show()\n",
    "\n",
    "\n",
    "IMAGE_GENERATION_MODEL = \"imagegeneration@006\"\n",
    "generation_model = ImageGenerationModel.from_pretrained(IMAGE_GENERATION_MODEL)"
   ]
  },
  {
   "cell_type": "markdown",
   "metadata": {
    "id": "R45VRKWInfQQ"
   },
   "source": [
    "## Set the image to edit"
   ]
  },
  {
   "cell_type": "markdown",
   "metadata": {
    "id": "pqUv45zZ8UiZ"
   },
   "source": [
    "### Generate with Imagen\n",
    "Use the `generate_images` function with Imagen. All you need is a text prompt."
   ]
  },
  {
   "cell_type": "code",
   "execution_count": null,
   "metadata": {
    "id": "0GYBwQuciCco"
   },
   "outputs": [],
   "source": [
    "PROMPT = \"a deer in a field looking at the camera\"\n",
    "\n",
    "response: ImageGenerationResponse = generation_model.generate_images(\n",
    "    prompt=PROMPT,\n",
    ")\n",
    "\n",
    "INPUT_IMAGE = response.images[0]\n",
    "display_images_in_grid(response.images)"
   ]
  },
  {
   "cell_type": "markdown",
   "metadata": {
    "id": "fU32286ooc8Q"
   },
   "source": [
    "## Edit images using MaskMode\n",
    "\n",
    "Now you can edit images without providing your own mask. Configure the `mask_mode` field `edit_image` request to automatically generate a mask on the input image.\n",
    "\n",
    "MaskMode provides the following modes:\n",
    "* **Background**: Edit the background of an image\n",
    "* **Foreground**: Edit the foreground of an image\n",
    "* **Semantic**: Edit specified objects in an image. You can edit 1 to 5 objects in an image using semantic segmentation classes.\n",
    "\n",
    "The `semantic` maskMode option requires you to set **Segmentation classes**. You must set 1 to 5 classes using the desired class ID. The full table of available classes is listed in the `Appendix` section at the end of this Colab."
   ]
  },
  {
   "cell_type": "markdown",
   "metadata": {
    "id": "mBLJtICO8iMQ"
   },
   "source": [
    "### Explore different MaskMode options\n",
    "\n",
    "This section will explores how to edit images using different `edit_mode` and `mask_mode` parameter options."
   ]
  },
  {
   "cell_type": "code",
   "execution_count": null,
   "metadata": {
    "id": "ZRXg5vk-p3GN"
   },
   "outputs": [],
   "source": [
    "# Set the edit mode. Choose from [\"inpainting-insert\", \"inpainting-remove\", \"outpainting\"].\n",
    "EDIT_MODE = \"inpainting-insert\"\n",
    "# Set how the mask should be generated. Choose from [\"background\", \"foreground\", \"semantic\"].\n",
    "MASK_MODE = \"foreground\"\n",
    "# Specify an object to edit using a segmentation class. Only valid for `semantic` maskMode.\n",
    "SEGMENTATION_CLASS = 16\n",
    "\n",
    "# Set a text prompt to influence how the masked part of the image will be edited.\n",
    "PROMPT = \"a cow looking at the camera\"\n",
    "# [Optional] Set a negative prompt to define what you don't want to see.\n",
    "NEGATIVE_PROMPT = \"\"\n",
    "\n",
    "classes = None\n",
    "if MASK_MODE == \"semantic\":\n",
    "    classes = [SEGMENTATION_CLASS]\n",
    "\n",
    "response: ImageGenerationResponse = generation_model.edit_image(\n",
    "    prompt=PROMPT,\n",
    "    base_image=INPUT_IMAGE,\n",
    "    negative_prompt=NEGATIVE_PROMPT,\n",
    "    number_of_images=4,\n",
    "    edit_mode=EDIT_MODE,\n",
    "    mask_mode=MASK_MODE,\n",
    "    segmentation_classes=classes,\n",
    ")\n",
    "\n",
    "display_images_in_grid(response.images)"
   ]
  },
  {
   "cell_type": "markdown",
   "metadata": {
    "id": "--7rofOb95hT"
   },
   "source": [
    "### Inpainting-insert with Background maskMode\n",
    "\n",
    "Edit the background of an image using a text prompt."
   ]
  },
  {
   "cell_type": "code",
   "execution_count": null,
   "metadata": {
    "id": "BBY_5JWlxojZ"
   },
   "outputs": [],
   "source": [
    "EDIT_MODE = \"inpainting-insert\"\n",
    "MASK_MODE = \"background\"\n",
    "# The background will be edited to adhere to the text prompt below.\n",
    "PROMPT = \"sandy desert oasis\"\n",
    "# [Optional] Set a negative prompt to define what you don't want to see.\n",
    "NEGATIVE_PROMPT = \"\"\n",
    "\n",
    "response: ImageGenerationResponse = generation_model.edit_image(\n",
    "    prompt=PROMPT,\n",
    "    base_image=INPUT_IMAGE,\n",
    "    negative_prompt=NEGATIVE_PROMPT,\n",
    "    edit_mode=EDIT_MODE,\n",
    "    mask_mode=MASK_MODE,\n",
    "    segmentation_classes=classes,\n",
    ")\n",
    "\n",
    "display_images_in_grid(response.images)"
   ]
  },
  {
   "cell_type": "markdown",
   "metadata": {
    "id": "m4YrxGDE-OY9"
   },
   "source": [
    "### Inpainting-insert with Foreground maskMode"
   ]
  },
  {
   "cell_type": "code",
   "execution_count": null,
   "metadata": {
    "id": "atoD2gTKycAp"
   },
   "outputs": [],
   "source": [
    "EDIT_MODE = \"inpainting-insert\"\n",
    "MASK_MODE = \"foreground\"\n",
    "\n",
    "# The foreground of the object will be edited according to the text prompt below.\n",
    "PROMPT = \"a bear looking at the camera\"\n",
    "# [Optional] Set a negative prompt to define what you don't want to see.\n",
    "NEGATIVE_PROMPT = \"\"\n",
    "\n",
    "response: ImageGenerationResponse = generation_model.edit_image(\n",
    "    prompt=PROMPT,\n",
    "    base_image=INPUT_IMAGE,\n",
    "    negative_prompt=NEGATIVE_PROMPT,\n",
    "    edit_mode=EDIT_MODE,\n",
    "    mask_mode=MASK_MODE,\n",
    "    segmentation_classes=classes,\n",
    ")\n",
    "\n",
    "display_images_in_grid(response.images)"
   ]
  },
  {
   "cell_type": "markdown",
   "metadata": {
    "id": "_XXCDNGz-ew2"
   },
   "source": [
    "### Inpainting-insert with Semantic maskMode\n",
    "\n",
    "Edit a specified object or multiple objects in an image using Semantic maskMode.\n",
    "You must set between 1 and 5 IDs in the `segmentation_classes` field. The full\n",
    "list of available segmentation classes is listed in the Appendix section at the bottom of this Colab."
   ]
  },
  {
   "cell_type": "code",
   "execution_count": null,
   "metadata": {
    "id": "FFL0Hh_9ycXj"
   },
   "outputs": [],
   "source": [
    "EDIT_MODE = \"inpainting-insert\"\n",
    "MASK_MODE = \"semantic\"\n",
    "\n",
    "# Set the specified object(s) to edit in an image using a segmentation class.\n",
    "SEGMENTATION_CLASS = 16\n",
    "\n",
    "PROMPT = \"A cow looking at the camera\"\n",
    "# [Optional] Set a negative prompt to define what you don't want to see.\n",
    "NEGATIVE_PROMPT = \"\"\n",
    "\n",
    "response: ImageGenerationResponse = generation_model.edit_image(\n",
    "    prompt=PROMPT,\n",
    "    base_image=INPUT_IMAGE,\n",
    "    negative_prompt=NEGATIVE_PROMPT,\n",
    "    edit_mode=EDIT_MODE,\n",
    "    mask_mode=MASK_MODE,\n",
    "    segmentation_classes=[SEGMENTATION_CLASS],\n",
    ")\n",
    "\n",
    "display_images_in_grid(response.images)"
   ]
  },
  {
   "cell_type": "markdown",
   "metadata": {
    "id": "lbbpshyY_Hey"
   },
   "source": [
    "### Inpainting-remove with foreground maskMode\n",
    "\n",
    "Remove the foreground object of an image."
   ]
  },
  {
   "cell_type": "code",
   "execution_count": null,
   "metadata": {
    "id": "f_I2QlwQz0I2"
   },
   "outputs": [],
   "source": [
    "EDIT_MODE = \"inpainting-remove\"\n",
    "MASK_MODE = \"foreground\"\n",
    "PROMPT = \"Background, landscape photo\"\n",
    "# [Optional] Set a negative prompt to define what you don't want to see.\n",
    "NEGATIVE_PROMPT = \"\"\n",
    "\n",
    "response: ImageGenerationResponse = generation_model.edit_image(\n",
    "    prompt=PROMPT,\n",
    "    base_image=INPUT_IMAGE,\n",
    "    edit_mode=EDIT_MODE,\n",
    "    mask_mode=MASK_MODE,\n",
    "    segmentation_classes=classes,\n",
    ")\n",
    "\n",
    "display_images_in_grid(response.images)"
   ]
  },
  {
   "cell_type": "markdown",
   "metadata": {
    "id": "PixKFo0h_SZj"
   },
   "source": [
    "### Inpainting-remove with Semantic maskMode\n",
    "\n",
    "Remove the specified object(s) in an image using a segmentation class."
   ]
  },
  {
   "cell_type": "code",
   "execution_count": null,
   "metadata": {
    "id": "W9ZV33281192"
   },
   "outputs": [],
   "source": [
    "EDIT_MODE = \"inpainting-remove\"\n",
    "MASK_MODE = \"semantic\"\n",
    "# Set the object that will be removed according to its segmentation class ID.\n",
    "SEGMENTATION_CLASS = 125\n",
    "\n",
    "# Set a text prompt to guide the edited image.\n",
    "PROMPT = \"Background, landscape photo\"\n",
    "# Set a negative prompt to define what you don't want to see.\n",
    "NEGATIVE_PROMPT = \"\"\n",
    "\n",
    "response: ImageGenerationResponse = generation_model.edit_image(\n",
    "    prompt=PROMPT,\n",
    "    base_image=INPUT_IMAGE,\n",
    "    negative_prompt=NEGATIVE_PROMPT,\n",
    "    edit_mode=EDIT_MODE,\n",
    "    mask_mode=MASK_MODE,\n",
    "    segmentation_classes=[SEGMENTATION_CLASS],\n",
    ")\n",
    "\n",
    "display_images_in_grid(response.images)"
   ]
  },
  {
   "cell_type": "markdown",
   "metadata": {
    "id": "sk0eXjQ1nR4F"
   },
   "source": [
    "## Conclusion\n",
    "\n",
    "You have explored the Imagen's image editing features through the Vertex AI Python SDK, including the additional parameters that influence image generation.\n",
    "\n",
    "Check out the Vertex AI reference to learn more about how to [Edit image prompts](https://cloud.google.com/vertex-ai/generative-ai/docs/image/img-gen-prompt-guide#edit-prompts)."
   ]
  },
  {
   "cell_type": "markdown",
   "metadata": {
    "id": "UuaLTarf-hvO"
   },
   "source": [
    "## Appendix"
   ]
  },
  {
   "cell_type": "markdown",
   "metadata": {
    "id": "7ZzRAwQ0dIjT"
   },
   "source": [
    "### Semantic segmentation classes\n",
    "| Class ID | Instance Type | Class ID | Instance Type | Class ID | Instance Type | Class ID | Instance Type |\n",
    "|---|---|---|---|---|---|---|---|\n",
    "|\t0\t|\tbackpack\t|\t50\t|\tcarrot\t|\t100\t|\tsidewalk_pavement\t|\t150\t|\tskis\t|\n",
    "|\t1\t|\tumbrella\t|\t51\t|\thot_dog\t|\t101\t|\trunway\t|\t151\t|\tsnowboard\t|\n",
    "|\t2\t|\tbag\t|\t52\t|\tpizza\t|\t102\t|\tterrain\t|\t152\t|\tsports_ball\t|\n",
    "|\t3\t|\ttie\t|\t53\t|\tdonut\t|\t103\t|\tbook\t|\t153\t|\tkite\t|\n",
    "|\t4\t|\tsuitcase\t|\t54\t|\tcake\t|\t104\t|\tbox\t|\t154\t|\tbaseball_bat\t|\n",
    "|\t5\t|\tcase\t|\t55\t|\tfruit_other\t|\t105\t|\tclock\t|\t155\t|\tbaseball_glove\t|\n",
    "|\t6\t|\tbird\t|\t56\t|\tfood_other\t|\t106\t|\tvase\t|\t156\t|\tskateboard\t|\n",
    "|\t7\t|\tcat\t|\t57\t|\tchair_other\t|\t107\t|\tscissors\t|\t157\t|\tsurfboard\t|\n",
    "|\t8\t|\tdog\t|\t58\t|\tarmchair\t|\t108\t|\tplaything_other\t|\t158\t|\ttennis_racket\t|\n",
    "|\t9\t|\thorse\t|\t59\t|\tswivel_chair\t|\t109\t|\tteddy_bear\t|\t159\t|\tnet\t|\n",
    "|\t10\t|\tsheep\t|\t60\t|\tstool\t|\t110\t|\thair_dryer\t|\t160\t|\tbase\t|\n",
    "|\t11\t|\tcow\t|\t61\t|\tseat\t|\t111\t|\ttoothbrush\t|\t161\t|\tsculpture\t|\n",
    "|\t12\t|\telephant\t|\t62\t|\tcouch\t|\t112\t|\tpainting\t|\t162\t|\tcolumn\t|\n",
    "|\t13\t|\tbear\t|\t63\t|\ttrash_can\t|\t113\t|\tposter\t|\t163\t|\tfountain\t|\n",
    "|\t14\t|\tzebra\t|\t64\t|\tpotted_plant\t|\t114\t|\tbulletin_board\t|\t164\t|\tawning\t|\n",
    "|\t15\t|\tgiraffe\t|\t65\t|\tnightstand\t|\t115\t|\tbottle\t|\t165\t|\tapparel\t|\n",
    "|\t16\t|\tanimal_other\t|\t66\t|\tbed\t|\t116\t|\tcup\t|\t166\t|\tbanner\t|\n",
    "|\t17\t|\tmicrowave\t|\t67\t|\ttable\t|\t117\t|\twine_glass\t|\t167\t|\tflag\t|\n",
    "|\t18\t|\tradiator\t|\t68\t|\tpool_table\t|\t118\t|\tknife\t|\t168\t|\tblanket\t|\n",
    "|\t19\t|\toven\t|\t69\t|\tbarrel\t|\t119\t|\tfork\t|\t169\t|\tcurtain_other\t|\n",
    "|\t20\t|\ttoaster\t|\t70\t|\tdesk\t|\t120\t|\tspoon\t|\t170\t|\tshower_curtain\t|\n",
    "|\t21\t|\tstorage_tank\t|\t71\t|\tottoman\t|\t121\t|\tbowl\t|\t171\t|\tpillow\t|\n",
    "|\t22\t|\tconveyor_belt\t|\t72\t|\twardrobe\t|\t122\t|\ttray\t|\t172\t|\ttowel\t|\n",
    "|\t23\t|\tsink\t|\t73\t|\tcrib\t|\t123\t|\trange_hood\t|\t173\t|\trug_floormat\t|\n",
    "|\t24\t|\trefrigerator\t|\t74\t|\tbasket\t|\t124\t|\tplate\t|\t174\t|\tvegetation\t|\n",
    "|\t25\t|\twasher_dryer\t|\t75\t|\tchest_of_drawers\t|\t125\t|\tperson\t|\t175\t|\tbicycle\t|\n",
    "|\t26\t|\tfan\t|\t76\t|\tbookshelf\t|\t126\t|\trider_other\t|\t176\t|\tcar\t|\n",
    "|\t27\t|\tdishwasher\t|\t77\t|\tcounter_other\t|\t127\t|\tbicyclist\t|\t177\t|\tautorickshaw\t|\n",
    "|\t28\t|\ttoilet\t|\t78\t|\tbathroom_counter\t|\t128\t|\tmotorcyclist\t|\t178\t|\tmotorcycle\t|\n",
    "|\t29\t|\tbathtub\t|\t79\t|\tkitchen_island\t|\t129\t|\tpaper\t|\t179\t|\tairplane\t|\n",
    "|\t30\t|\tshower\t|\t80\t|\tdoor\t|\t130\t|\tstreetlight\t|\t180\t|\tbus\t|\n",
    "|\t31\t|\ttunnel\t|\t81\t|\tlight_other\t|\t131\t|\troad_barrier\t|\t181\t|\ttrain\t|\n",
    "|\t32\t|\tbridge\t|\t82\t|\tlamp\t|\t132\t|\tmailbox\t|\t182\t|\ttruck\t|\n",
    "|\t33\t|\tpier_wharf\t|\t83\t|\tsconce\t|\t133\t|\tcctv_camera\t|\t183\t|\ttrailer\t|\n",
    "|\t34\t|\ttent\t|\t84\t|\tchandelier\t|\t134\t|\tjunction_box\t|\t184\t|\tboat_ship\t|\n",
    "|\t35\t|\tbuilding\t|\t85\t|\tmirror\t|\t135\t|\ttraffic_sign\t|\t185\t|\tslow_wheeled_object\t|\n",
    "|\t36\t|\tceiling\t|\t86\t|\twhiteboard\t|\t136\t|\ttraffic_light\t|\t186\t|\triver_lake\t|\n",
    "|\t37\t|\tlaptop\t|\t87\t|\tshelf\t|\t137\t|\tfire_hydrant\t|\t187\t|\tsea\t|\n",
    "|\t38\t|\tkeyboard\t|\t88\t|\tstairs\t|\t138\t|\tparking_meter\t|\t188\t|\twater_other\t|\n",
    "|\t39\t|\tmouse\t|\t89\t|\tescalator\t|\t139\t|\tbench\t|\t189\t|\tswimming_pool\t|\n",
    "|\t40\t|\tremote\t|\t90\t|\tcabinet\t|\t140\t|\tbike_rack\t|\t190\t|\twaterfall\t|\n",
    "|\t41\t|\tcell phone\t|\t91\t|\tfireplace\t|\t141\t|\tbillboard\t|\t191\t|\twall\t|\n",
    "|\t42\t|\ttelevision\t|\t92\t|\tstove\t|\t142\t|\tsky\t|\t192\t|\twindow\t|\n",
    "|\t43\t|\tfloor\t|\t93\t|\tarcade_machine\t|\t143\t|\tpole\t|\t193\t|\twindow_blind\t|\n",
    "|\t44\t|\tstage\t|\t94\t|\tgravel\t|\t144\t|\tfence\t|\n",
    "|\t45\t|\tbanana\t|\t95\t|\tplatform\t|\t145\t|\trailing_banister\t|\n",
    "|\t46\t|\tapple\t|\t96\t|\tplayingfield\t|\t146\t|\tguard_rail\t|\n",
    "|\t47\t|\tsandwich\t|\t97\t|\trailroad\t|\t147\t|\tmountain_hill\t|\n",
    "|\t48\t|\torange\t|\t98\t|\troad\t|\t148\t|\trock\t|\n",
    "|\t49\t|\tbroccoli\t|\t99\t|\tsnow\t|\t149\t|\tfrisbee\t|\n"
   ]
  }
 ],
 "metadata": {
  "colab": {
   "name": "image_editing.ipynb",
   "toc_visible": true
  },
  "kernelspec": {
   "display_name": "Python 3",
   "name": "python3"
  }
 },
 "nbformat": 4,
 "nbformat_minor": 0
}
